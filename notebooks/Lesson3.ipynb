{
  "cells": [
    {
      "cell_type": "markdown",
      "metadata": {
        "id": "view-in-github",
        "colab_type": "text"
      },
      "source": [
        "<a href=\"https://colab.research.google.com/github/FedericoMilanesio/Unito-NeuralNetworks/blob/main/notebooks/Lesson3.ipynb\" target=\"_parent\"><img src=\"https://colab.research.google.com/assets/colab-badge.svg\" alt=\"Open In Colab\"/></a>"
      ]
    },
    {
      "cell_type": "markdown",
      "metadata": {
        "id": "zQ0IpFJB60EP"
      },
      "source": [
        "# Convolutional Neural Networks"
      ]
    },
    {
      "cell_type": "markdown",
      "metadata": {
        "id": "R-2ZHKKLCRBU"
      },
      "source": [
        "*Tutors*:\n",
        "-- Federico Milanesio: federico.milanesio@unito.it\n",
        "-- Davide Pirovano: davide.pirovano@unito.it"
      ]
    },
    {
      "cell_type": "markdown",
      "metadata": {
        "id": "SE9IFwPwRBEV"
      },
      "source": [
        "<div>\n",
        "<img src=\"https://imgs.xkcd.com/comics/compiling.png\" width=\"400\"/>\n",
        "</div>"
      ]
    },
    {
      "cell_type": "markdown",
      "metadata": {
        "id": "rLT38zkq_Ox9"
      },
      "source": [
        "We already introduced torchvision last lesson, and it contains many things we will use this lesson"
      ]
    },
    {
      "cell_type": "code",
      "execution_count": 1,
      "metadata": {
        "id": "Q_RuXJ1k9W9v"
      },
      "outputs": [],
      "source": [
        "import torch\n",
        "from torch import nn\n",
        "from torch import optim\n",
        "import matplotlib.pyplot as plt\n",
        "import matplotlib.ticker as mtick\n",
        "import torchvision                    # <-- here it is"
      ]
    },
    {
      "cell_type": "markdown",
      "metadata": {
        "id": "sQBP3-KgOMVb"
      },
      "source": [
        "# Using GPUs"
      ]
    },
    {
      "cell_type": "markdown",
      "metadata": {
        "id": "ZboHmuOrPZj1"
      },
      "source": [
        "GPUs, or **Graphics Processing Units**, are specialized hardware components designed primarily for handling complex graphics and parallel computations. Originally developed for rendering graphics in video games and visual applications, GPUs have evolved to become powerful processors used in a wide range of computational tasks beyond graphics rendering. Luckily, Colab provides **free access to GPUs** that can be used to accelerate computations, particularly in tasks like training deep learning models."
      ]
    },
    {
      "cell_type": "markdown",
      "metadata": {
        "id": "qVULklJEOSiP"
      },
      "source": [
        "First of all, let's check if there are GPUs available.\n",
        "\n",
        "If they aren't, then got to `Edit` -> `Notebooks settings` -> `Hardware accelerator` and select `T4 GPU`"
      ]
    },
    {
      "cell_type": "code",
      "execution_count": 2,
      "metadata": {
        "colab": {
          "base_uri": "https://localhost:8080/"
        },
        "id": "xI4fQR3xN3TY",
        "outputId": "85093cf8-341a-4532-e364-4232a9899046"
      },
      "outputs": [
        {
          "output_type": "execute_result",
          "data": {
            "text/plain": [
              "True"
            ]
          },
          "metadata": {},
          "execution_count": 2
        }
      ],
      "source": [
        "torch.cuda.is_available()                           # Are GPU accessible"
      ]
    },
    {
      "cell_type": "code",
      "execution_count": 3,
      "metadata": {
        "colab": {
          "base_uri": "https://localhost:8080/"
        },
        "id": "1LPJe8nSO29j",
        "outputId": "381bdf14-17d0-43b1-f327-b44c734e09df"
      },
      "outputs": [
        {
          "output_type": "execute_result",
          "data": {
            "text/plain": [
              "1"
            ]
          },
          "metadata": {},
          "execution_count": 3
        }
      ],
      "source": [
        "torch.cuda.device_count()                           # How many GPUs do we have?"
      ]
    },
    {
      "cell_type": "markdown",
      "metadata": {
        "id": "W39zy3u9RYUr"
      },
      "source": [
        "Let's see how to load our data in the GPU:"
      ]
    },
    {
      "cell_type": "code",
      "execution_count": 4,
      "metadata": {
        "colab": {
          "base_uri": "https://localhost:8080/"
        },
        "id": "jeJD5LQNPAqT",
        "outputId": "3ce9755b-1af3-4c05-f67b-a61cbe92999b"
      },
      "outputs": [
        {
          "output_type": "stream",
          "name": "stdout",
          "text": [
            "cuda:0\n"
          ]
        }
      ],
      "source": [
        "device = torch.device(\"cuda:0\" if torch.cuda.is_available() else \"cpu\")\n",
        "\n",
        "print(device)                                        # Check which device we got"
      ]
    },
    {
      "cell_type": "code",
      "execution_count": 5,
      "metadata": {
        "colab": {
          "base_uri": "https://localhost:8080/"
        },
        "id": "LZd9dWAXPGRk",
        "outputId": "36d692ef-eafd-4875-d82a-2f8f9aca00ce"
      },
      "outputs": [
        {
          "output_type": "stream",
          "name": "stdout",
          "text": [
            "False The device used is cpu\n"
          ]
        }
      ],
      "source": [
        "a = torch.tensor([0, 30, 50, 75, 70])                # Initialize a Tensor of Integers with no device specified\n",
        "\n",
        "print(a.is_cuda, \"The device used is\", a.device)     # Check which device Tensor is created on"
      ]
    },
    {
      "cell_type": "code",
      "execution_count": 6,
      "metadata": {
        "colab": {
          "base_uri": "https://localhost:8080/"
        },
        "id": "nHpdtribQioo",
        "outputId": "fdbb9c88-1e27-46fc-9dc9-4fba86ca9e45"
      },
      "outputs": [
        {
          "output_type": "stream",
          "name": "stdout",
          "text": [
            "True The device used is cuda:0\n"
          ]
        }
      ],
      "source": [
        "a = a.to(device)                                     # we use this to ensure that the operations are done using GPUs\n",
        "\n",
        "print(a.is_cuda, \"The device used is\", a.device)"
      ]
    },
    {
      "cell_type": "markdown",
      "source": [
        "Alternatively, we can also write:"
      ],
      "metadata": {
        "id": "tRtocMmkocvG"
      }
    },
    {
      "cell_type": "code",
      "source": [
        "a = torch.tensor([0, 30, 50, 75, 70], device = device)\n",
        "\n",
        "print(a.is_cuda, \"The device used is\", a.device)"
      ],
      "metadata": {
        "colab": {
          "base_uri": "https://localhost:8080/"
        },
        "id": "HpiG88DYoWEZ",
        "outputId": "57925f6b-e39c-41bb-de7b-b6a392c2b5c4"
      },
      "execution_count": 7,
      "outputs": [
        {
          "output_type": "stream",
          "name": "stdout",
          "text": [
            "True The device used is cuda:0\n"
          ]
        }
      ]
    },
    {
      "cell_type": "markdown",
      "source": [
        "Let's test performances with  `%%timeit`, a magic command in notebooks that is used to measure the **execution time** of a single-line Python statement or expression over multiple runs and provide the average time taken per run. It also automatically adjusts the number of runs based on how long the code takes to execute. It runs the code multiple times and adjusts the number of runs to get a reliable estimate of execution time.\n",
        "\n",
        "For small matrices, CPUs perform better:"
      ],
      "metadata": {
        "id": "6fP8COClw0SI"
      }
    },
    {
      "cell_type": "code",
      "source": [
        "%%timeit\n",
        "\n",
        "n = 5\n",
        "\n",
        "a = torch.randn((n,n), device = device)\n",
        "b = torch.randn((n,n), device = device)\n",
        "\n",
        "torch.matmul(a, b)"
      ],
      "metadata": {
        "colab": {
          "base_uri": "https://localhost:8080/"
        },
        "id": "9COUNnnBvigt",
        "outputId": "fbb5227d-0c89-4059-c0c8-ef62ac8e7779"
      },
      "execution_count": 8,
      "outputs": [
        {
          "output_type": "stream",
          "name": "stdout",
          "text": [
            "34.8 µs ± 906 ns per loop (mean ± std. dev. of 7 runs, 10000 loops each)\n"
          ]
        }
      ]
    },
    {
      "cell_type": "code",
      "source": [
        "%%timeit\n",
        "\n",
        "n = 5\n",
        "\n",
        "a = torch.randn((n,n))\n",
        "b = torch.randn((n,n))\n",
        "\n",
        "torch.matmul(a, b)"
      ],
      "metadata": {
        "colab": {
          "base_uri": "https://localhost:8080/"
        },
        "id": "INRFr5D2v5lG",
        "outputId": "c63d4025-521f-46aa-ea42-e982ff319db3"
      },
      "execution_count": 9,
      "outputs": [
        {
          "output_type": "stream",
          "name": "stdout",
          "text": [
            "12.2 µs ± 3.11 µs per loop (mean ± std. dev. of 7 runs, 100000 loops each)\n"
          ]
        }
      ]
    },
    {
      "cell_type": "markdown",
      "source": [
        "But the performance of CPUs worsen with large matrices, while the GPUs remain stable:"
      ],
      "metadata": {
        "id": "YKksedemw8S1"
      }
    },
    {
      "cell_type": "code",
      "source": [
        "%%timeit\n",
        "\n",
        "n = 100\n",
        "\n",
        "a = torch.randn((n,n), device = device)\n",
        "b = torch.randn((n,n), device = device)\n",
        "\n",
        "torch.matmul(a, b)"
      ],
      "metadata": {
        "colab": {
          "base_uri": "https://localhost:8080/"
        },
        "id": "cgpLBnB_wjMD",
        "outputId": "a0f43319-1cc5-4d54-8861-16faae3a80fe"
      },
      "execution_count": 10,
      "outputs": [
        {
          "output_type": "stream",
          "name": "stdout",
          "text": [
            "35.9 µs ± 467 ns per loop (mean ± std. dev. of 7 runs, 10000 loops each)\n"
          ]
        }
      ]
    },
    {
      "cell_type": "code",
      "source": [
        "%%timeit\n",
        "\n",
        "n = 100\n",
        "\n",
        "a = torch.randn((n,n))\n",
        "b = torch.randn((n,n))\n",
        "\n",
        "torch.matmul(a, b)"
      ],
      "metadata": {
        "colab": {
          "base_uri": "https://localhost:8080/"
        },
        "id": "TdOalJzgwg8f",
        "outputId": "632c372f-0c1b-4f7d-af20-8634000e3023"
      },
      "execution_count": 12,
      "outputs": [
        {
          "output_type": "stream",
          "name": "stdout",
          "text": [
            "336 µs ± 10.6 µs per loop (mean ± std. dev. of 7 runs, 1000 loops each)\n"
          ]
        }
      ]
    },
    {
      "cell_type": "markdown",
      "metadata": {
        "id": "xMUogttQc_Qs"
      },
      "source": [
        "# Importing the dataset"
      ]
    },
    {
      "cell_type": "code",
      "execution_count": 13,
      "metadata": {
        "id": "Zv92oNNmOokF",
        "colab": {
          "base_uri": "https://localhost:8080/"
        },
        "outputId": "fdb2fcdd-4545-41e8-f6a9-6d395791fc09"
      },
      "outputs": [
        {
          "output_type": "stream",
          "name": "stdout",
          "text": [
            "Downloading http://yann.lecun.com/exdb/mnist/train-images-idx3-ubyte.gz\n",
            "Failed to download (trying next):\n",
            "HTTP Error 403: Forbidden\n",
            "\n",
            "Downloading https://ossci-datasets.s3.amazonaws.com/mnist/train-images-idx3-ubyte.gz\n",
            "Downloading https://ossci-datasets.s3.amazonaws.com/mnist/train-images-idx3-ubyte.gz to ./files/MNIST/raw/train-images-idx3-ubyte.gz\n"
          ]
        },
        {
          "output_type": "stream",
          "name": "stderr",
          "text": [
            "100%|██████████| 9912422/9912422 [00:00<00:00, 15982660.69it/s]\n"
          ]
        },
        {
          "output_type": "stream",
          "name": "stdout",
          "text": [
            "Extracting ./files/MNIST/raw/train-images-idx3-ubyte.gz to ./files/MNIST/raw\n",
            "\n",
            "Downloading http://yann.lecun.com/exdb/mnist/train-labels-idx1-ubyte.gz\n",
            "Failed to download (trying next):\n",
            "HTTP Error 403: Forbidden\n",
            "\n",
            "Downloading https://ossci-datasets.s3.amazonaws.com/mnist/train-labels-idx1-ubyte.gz\n",
            "Downloading https://ossci-datasets.s3.amazonaws.com/mnist/train-labels-idx1-ubyte.gz to ./files/MNIST/raw/train-labels-idx1-ubyte.gz\n"
          ]
        },
        {
          "output_type": "stream",
          "name": "stderr",
          "text": [
            "100%|██████████| 28881/28881 [00:00<00:00, 480211.27it/s]\n"
          ]
        },
        {
          "output_type": "stream",
          "name": "stdout",
          "text": [
            "Extracting ./files/MNIST/raw/train-labels-idx1-ubyte.gz to ./files/MNIST/raw\n",
            "\n",
            "Downloading http://yann.lecun.com/exdb/mnist/t10k-images-idx3-ubyte.gz\n",
            "Failed to download (trying next):\n",
            "HTTP Error 403: Forbidden\n",
            "\n",
            "Downloading https://ossci-datasets.s3.amazonaws.com/mnist/t10k-images-idx3-ubyte.gz\n",
            "Downloading https://ossci-datasets.s3.amazonaws.com/mnist/t10k-images-idx3-ubyte.gz to ./files/MNIST/raw/t10k-images-idx3-ubyte.gz\n"
          ]
        },
        {
          "output_type": "stream",
          "name": "stderr",
          "text": [
            "100%|██████████| 1648877/1648877 [00:00<00:00, 4412440.39it/s]\n"
          ]
        },
        {
          "output_type": "stream",
          "name": "stdout",
          "text": [
            "Extracting ./files/MNIST/raw/t10k-images-idx3-ubyte.gz to ./files/MNIST/raw\n",
            "\n",
            "Downloading http://yann.lecun.com/exdb/mnist/t10k-labels-idx1-ubyte.gz\n",
            "Failed to download (trying next):\n",
            "HTTP Error 403: Forbidden\n",
            "\n",
            "Downloading https://ossci-datasets.s3.amazonaws.com/mnist/t10k-labels-idx1-ubyte.gz\n",
            "Downloading https://ossci-datasets.s3.amazonaws.com/mnist/t10k-labels-idx1-ubyte.gz to ./files/MNIST/raw/t10k-labels-idx1-ubyte.gz\n"
          ]
        },
        {
          "output_type": "stream",
          "name": "stderr",
          "text": [
            "100%|██████████| 4542/4542 [00:00<00:00, 5227916.79it/s]"
          ]
        },
        {
          "output_type": "stream",
          "name": "stdout",
          "text": [
            "Extracting ./files/MNIST/raw/t10k-labels-idx1-ubyte.gz to ./files/MNIST/raw\n",
            "\n"
          ]
        },
        {
          "output_type": "stream",
          "name": "stderr",
          "text": [
            "\n"
          ]
        }
      ],
      "source": [
        "batch_size_train = 128\n",
        "batch_size_test = 500\n",
        "\n",
        "n_train = 2000\n",
        "n_test = 500\n",
        "\n",
        "transform = torchvision.transforms.Compose([\n",
        "                               torchvision.transforms.ToTensor(),\n",
        "                               torchvision.transforms.Normalize(\n",
        "                                 (0.1307,), (0.3081,))\n",
        "                             ])\n",
        "\n",
        "## TRAIN SET\n",
        "\n",
        "dataset_train = torchvision.datasets.MNIST('./files/', train=True, download=True,\n",
        "                             transform=transform)\n",
        "\n",
        "\n",
        "dataset_train.data, dataset_train.targets = dataset_train.data[:n_train], dataset_train.targets[:n_train]\n",
        "\n",
        "train_loader = torch.utils.data.DataLoader(dataset_train, batch_size = batch_size_train,\n",
        "                                            shuffle = True,  drop_last = True)                   # <-- drop_last: ignores the last batch if it is smaller than other batches\n",
        "\n",
        "## TEST SET\n",
        "\n",
        "dataset_test =  torchvision.datasets.MNIST('./files/', train=False, download=True,\n",
        "                             transform=transform)\n",
        "\n",
        "dataset_test.data, dataset_test.targets = dataset_test.data[:n_test], dataset_test.targets[:n_test]\n",
        "\n",
        "test_loader = torch.utils.data.DataLoader(dataset_test, batch_size = batch_size_test, shuffle = False)\n",
        "\n"
      ]
    },
    {
      "cell_type": "code",
      "execution_count": 14,
      "metadata": {
        "id": "UEF5GDsHPGE8"
      },
      "outputs": [],
      "source": [
        "examples = enumerate(test_loader)\n",
        "batch_idx, (example_data, example_targets) = next(examples)"
      ]
    },
    {
      "cell_type": "code",
      "execution_count": 15,
      "metadata": {
        "colab": {
          "base_uri": "https://localhost:8080/",
          "height": 438
        },
        "id": "C6fdvtPWO_b1",
        "outputId": "8a70cac8-6854-46cc-8f85-3567327d668b"
      },
      "outputs": [
        {
          "output_type": "display_data",
          "data": {
            "text/plain": [
              "<Figure size 640x480 with 6 Axes>"
            ],
            "image/png": "[encoded data removed]"
          },
          "metadata": {}
        }
      ],
      "source": [
        "fig = plt.figure()\n",
        "\n",
        "for i in range(6):\n",
        "  plt.subplot(2,3,i+1)\n",
        "  plt.tight_layout()\n",
        "  plt.imshow(example_data[i][0], cmap='gray', interpolation='none')\n",
        "  plt.title(\"Ground Truth: {}\".format(example_targets[i]))\n",
        "  plt.xticks([])\n",
        "  plt.yticks([])\n",
        "\n",
        "plt.show()"
      ]
    },
    {
      "cell_type": "code",
      "execution_count": 16,
      "metadata": {
        "id": "Z6irBr4QME6M",
        "colab": {
          "base_uri": "https://localhost:8080/"
        },
        "outputId": "451f70ea-9e99-40dc-bbf5-373e2146aa0a"
      },
      "outputs": [
        {
          "output_type": "stream",
          "name": "stderr",
          "text": [
            "/usr/lib/python3.10/multiprocessing/popen_fork.py:66: RuntimeWarning: os.fork() was called. os.fork() is incompatible with multithreaded code, and JAX is multithreaded, so this will likely lead to a deadlock.\n",
            "  self.pid = os.fork()\n"
          ]
        }
      ],
      "source": [
        "input_dim = 28*28\n",
        "hidden_dim = 10\n",
        "out_dim = 10\n",
        "\n",
        "class SimpleNetwork(nn.Module):\n",
        "\n",
        "  def __init__(self, input_dim, hidden_dim, out_dim):\n",
        "\n",
        "    # this function is called when creating a new network\n",
        "\n",
        "    super(SimpleNetwork, self).__init__()\n",
        "\n",
        "    self.flatten = nn.Flatten(1, 3)\n",
        "    self.layer_1 = nn.Linear(input_dim, hidden_dim)\n",
        "    self.activation = nn.ReLU()                                     # this is the activation used in the hidden layer\n",
        "    self.layer_2 = nn.Linear(hidden_dim, out_dim)\n",
        "    self.soft = nn.Softmax(dim=1)                                   # this is the activation used before the output\n",
        "\n",
        "  def forward(self, x):\n",
        "\n",
        "    # this function is called each new prediction\n",
        "\n",
        "    x = self.flatten(x)\n",
        "    x = self.layer_1(x)                                              # this is equivalent to x @ w + b\n",
        "    x = self.activation(x)                                           # this is equivalent to ReLU(x)\n",
        "\n",
        "    x = self.layer_2(x)\n",
        "    x = self.soft(x)\n",
        "\n",
        "    return x\n",
        "\n",
        "model = SimpleNetwork(input_dim, hidden_dim, out_dim).to(device)     # we move our model to the GPUs\n",
        "model = torch.compile(model)"
      ]
    },
    {
      "cell_type": "code",
      "execution_count": 17,
      "metadata": {
        "id": "UzDqjQewR7uS"
      },
      "outputs": [],
      "source": [
        "loss_function = nn.CrossEntropyLoss()"
      ]
    },
    {
      "cell_type": "code",
      "execution_count": 18,
      "metadata": {
        "id": "RSAdyRFUSV6P"
      },
      "outputs": [],
      "source": [
        "@torch.compile\n",
        "def accuracy(y_pred, y):\n",
        "\n",
        "  pred = y_pred.detach().argmax(dim=1)\n",
        "  corrects = (pred == y)\n",
        "\n",
        "  accuracy = corrects.sum().float()\n",
        "\n",
        "  return accuracy\n",
        "\n",
        "@torch.compile\n",
        "def evaluate(model, train_loader, test_loader):\n",
        "\n",
        "  # initialize the accuracy as 0\n",
        "\n",
        "  acc_train, acc_test = 0, 0\n",
        "\n",
        "  with torch.no_grad():\n",
        "\n",
        "    for x_train, y_train in train_loader:\n",
        "\n",
        "      x_train, y_train = x_train.to(device), y_train.to(device)        # remember that we need to load our data into the GPUs\n",
        "\n",
        "      out = model(x_train).squeeze()\n",
        "      acc_train += accuracy(out, y_train)\n",
        "\n",
        "    for x_test, y_test in test_loader:\n",
        "\n",
        "      x_test, y_test = x_test.to(device), y_test.to(device)\n",
        "\n",
        "      out = model(x_test).squeeze()\n",
        "      acc_test += accuracy(out, y_test)\n",
        "\n",
        "    acc_train, acc_test = acc_train / len(train_loader.dataset), acc_test / len(test_loader.dataset)\n",
        "\n",
        "  return float(acc_train.detach()) * 100, float(acc_test.detach()) * 100\n",
        "\n",
        "@torch.compile\n",
        "def train(model, x, y):\n",
        "  out = model(x_train)\n",
        "  loss = loss_function(out.squeeze(), y_train)\n",
        "\n",
        "  optimizer.zero_grad()\n",
        "  loss.backward()\n",
        "\n",
        "  optimizer.step()\n",
        "  return float(loss)\n"
      ]
    },
    {
      "cell_type": "code",
      "execution_count": 19,
      "metadata": {
        "colab": {
          "base_uri": "https://localhost:8080/"
        },
        "id": "GWzVgnuwM0le",
        "outputId": "dd88ffae-4c7d-4ae7-b78b-9ea6a150c1bf"
      },
      "outputs": [
        {
          "output_type": "stream",
          "name": "stdout",
          "text": [
            "Epoch: 0 Loss: 2.2896546999613445\n",
            "Epoch: 10 Loss: 1.816642435391744\n",
            "Epoch: 20 Loss: 1.7319644848505655\n",
            "Epoch: 30 Loss: 1.706404415766398\n",
            "Epoch: 40 Loss: 1.6945891618728637\n",
            "Epoch: 50 Loss: 1.6903156201044718\n",
            "Epoch: 60 Loss: 1.6804586887359618\n",
            "Epoch: 70 Loss: 1.6809536218643188\n",
            "Epoch: 80 Loss: 1.6796088059743246\n",
            "Epoch: 90 Loss: 1.675843850771586\n"
          ]
        }
      ],
      "source": [
        "EPOCHS = 100\n",
        "\n",
        "train_losses = []\n",
        "train_accuracies = []\n",
        "test_accuracies = []\n",
        "\n",
        "learning_rate = 0.1\n",
        "optimizer = torch.optim.SGD(model.parameters(), lr = learning_rate)\n",
        "\n",
        "for epoch in range(EPOCHS):\n",
        "\n",
        "  train_loss = 0\n",
        "\n",
        "  ## TRAIN STEP\n",
        "\n",
        "  for x_train, y_train in train_loader:\n",
        "\n",
        "    x_train, y_train = x_train.to(device), y_train.to(device)\n",
        "\n",
        "\n",
        "    loss = train(model, x_train, y_train)\n",
        "\n",
        "    train_loss += loss\n",
        "\n",
        "  train_loss /= len(train_loader)                    # we divide by the number of batches\n",
        "  train_losses.append(train_loss)\n",
        "\n",
        "  ## TEST STEP\n",
        "\n",
        "  if epoch % 10 == 0:\n",
        "\n",
        "    train_acc, test_acc = evaluate(model, train_loader, test_loader)\n",
        "\n",
        "    train_accuracies.append(train_acc)\n",
        "    test_accuracies.append(test_acc)\n",
        "\n",
        "    print(\"Epoch:\", epoch, \"Loss:\", float(train_loss))\n"
      ]
    },
    {
      "cell_type": "code",
      "execution_count": 20,
      "metadata": {
        "colab": {
          "base_uri": "https://localhost:8080/",
          "height": 449
        },
        "id": "xuLPRa3cNJLj",
        "outputId": "4706a2aa-d7f9-42d3-8aab-65bd6aa82f30"
      },
      "outputs": [
        {
          "output_type": "display_data",
          "data": {
            "text/plain": [
              "<Figure size 640x480 with 1 Axes>"
            ],
            "image/png": "[encoded data removed]"
          },
          "metadata": {}
        }
      ],
      "source": [
        "epochs = [i*10 for i in range(EPOCHS//10)]\n",
        "\n",
        "plt.plot(epochs, train_accuracies, label = \"Train\")\n",
        "plt.plot(epochs, test_accuracies, label = \"Test\")\n",
        "\n",
        "plt.xlabel(\"Epochs\")\n",
        "plt.ylabel(\"Accuracy\")\n",
        "\n",
        "\n",
        "plt.legend()\n",
        "\n",
        "plt.show()"
      ]
    },
    {
      "cell_type": "markdown",
      "metadata": {
        "id": "0UP_Z400UnOa"
      },
      "source": [
        "# Let's get convolutional"
      ]
    },
    {
      "cell_type": "markdown",
      "source": [
        "We introduce the basic layer for convolutional networks: `torch.nn.Conv2d`.\n",
        "This layer performs 2D convolution on input tensors. It applies a 2D filter (kernel) to the input tensor and computes the element-wise multiplication followed by summation to produce the output feature map.\n",
        "\n",
        "Parameters of interest include:\n",
        "\n",
        "* **in_channels**: Number of input channels.\n",
        "* **out_channels**: Number of output channels (i.e., number of filters).\n",
        "* **kernel_size**: Size of the convolutional kernel.\n",
        "* **stride**: Stride of the convolution.\n",
        "* **padding**: Padding added to input feature map."
      ],
      "metadata": {
        "id": "e9c2aYiEo2L8"
      }
    },
    {
      "cell_type": "markdown",
      "source": [
        "**Exercise 1:** write a network using convolutional layers"
      ],
      "metadata": {
        "id": "GH8aE_7iBsHV"
      }
    },
    {
      "cell_type": "code",
      "execution_count": 21,
      "metadata": {
        "id": "NbIpoPCxUvTv"
      },
      "outputs": [],
      "source": [
        "class ConvolutionalNetwork(nn.Module):\n",
        "\n",
        "  def __init__(self, input_dim, out_dim):\n",
        "\n",
        "    self.input_dimm = input_dim\n",
        "    self.out_dim = out_dim\n",
        "\n",
        "  def forward(self, x):\n",
        "\n",
        "    return x\n"
      ]
    },
    {
      "cell_type": "code",
      "source": [
        "..."
      ],
      "metadata": {
        "colab": {
          "base_uri": "https://localhost:8080/"
        },
        "id": "0K5X2PgsHLuj",
        "outputId": "a2a6c0de-523c-4f08-e357-d914824d42df"
      },
      "execution_count": 23,
      "outputs": [
        {
          "output_type": "execute_result",
          "data": {
            "text/plain": [
              "Ellipsis"
            ]
          },
          "metadata": {},
          "execution_count": 23
        }
      ]
    },
    {
      "cell_type": "markdown",
      "source": [
        "# Data augmentation"
      ],
      "metadata": {
        "id": "1JP-Ogk3vD1m"
      }
    },
    {
      "cell_type": "markdown",
      "source": [
        "Data augmentation is a technique used to increase the diversity of training data by applying random transformations to the original dataset. This approach helps improve the **generalization and robustness** of deep learning models, especially when the available training dataset is limited or when the model needs to be invariant to certain transformations during inference.\n",
        "\n",
        "\n",
        "Common Transformations:\n",
        "* **Random Resizing and Cropping**:\n",
        "\n",
        "`transforms.RandomResizedCrop`: Randomly crops and resizes the input image to a specified size.\n",
        "* **Random Horizontal and Vertical Flipping**:\n",
        "\n",
        "`transforms.RandomHorizontalFlip`: Randomly flips the input image horizontally with a given probability.\n",
        "\n",
        "`transforms.RandomVerticalFlip`: Randomly flips the input image vertically with a given probability.\n",
        "* **Random Rotation**:\n",
        "\n",
        "`transforms.RandomRotation`: Randomly rotates the input image by a specified angle.\n",
        "* **Color and Brightness Adjustments**:\n",
        "\n",
        "`transforms.ColorJitter`: Randomly adjusts brightness, contrast, saturation, and hue of the input image.\n"
      ],
      "metadata": {
        "id": "9e6GdiOVxpqu"
      }
    },
    {
      "cell_type": "code",
      "source": [
        "import torchvision.transforms as transforms\n",
        "\n",
        "batch_size_train = 128\n",
        "batch_size_test = 500\n",
        "\n",
        "n_train = 2000\n",
        "n_test = 500\n",
        "\n",
        "# Define data augmentation transformations\n",
        "train_transform = transforms.Compose([\n",
        "    transforms.RandomResizedCrop(28),\n",
        "    transforms.RandomHorizontalFlip(),\n",
        "    transforms.RandomRotation(10),\n",
        "    transforms.ColorJitter(brightness=0.2, contrast=0.2, saturation=0.2, hue=0.1),\n",
        "    transforms.ToTensor(),\n",
        "    transforms.Normalize( (0.1307,), (0.3081,))\n",
        "])\n",
        "\n",
        "transform = torchvision.transforms.Compose([\n",
        "                               transforms.ToTensor(),\n",
        "                               transforms.Normalize( (0.1307,), (0.3081,)) ])\n",
        "\n",
        "\n",
        "## TRAIN SET\n",
        "\n",
        "dataset_train = torchvision.datasets.MNIST('./files/', train=True, download=True,\n",
        "                             transform=train_transform)\n",
        "\n",
        "\n",
        "dataset_train.data, dataset_train.targets = dataset_train.data[:n_train], dataset_train.targets[:n_train]\n",
        "\n",
        "train_loader = torch.utils.data.DataLoader(dataset_train, batch_size = batch_size_train,\n",
        "                                            shuffle = True,  drop_last = True)\n",
        "\n",
        "## TEST SET\n",
        "\n",
        "dataset_test =  torchvision.datasets.MNIST('./files/', train=False, download=True,\n",
        "                             transform=transform)\n",
        "\n",
        "dataset_test.data, dataset_test.targets = dataset_test.data[:n_test], dataset_test.targets[:n_test]\n",
        "\n",
        "test_loader = torch.utils.data.DataLoader(dataset_test, batch_size = batch_size_test, shuffle = False)\n",
        "\n"
      ],
      "metadata": {
        "id": "1z7VHbU2sqpE"
      },
      "execution_count": 24,
      "outputs": []
    },
    {
      "cell_type": "code",
      "execution_count": 25,
      "metadata": {
        "id": "GbYG1paVtG4t"
      },
      "outputs": [],
      "source": [
        "examples = enumerate(train_loader)\n",
        "batch_idx, (example_data, example_targets) = next(examples)"
      ]
    },
    {
      "cell_type": "code",
      "execution_count": 26,
      "metadata": {
        "id": "pmHpyRWntG5A",
        "colab": {
          "base_uri": "https://localhost:8080/",
          "height": 438
        },
        "outputId": "f466947e-0ba6-4a39-d440-2f9e317942a9"
      },
      "outputs": [
        {
          "output_type": "display_data",
          "data": {
            "text/plain": [
              "<Figure size 640x480 with 6 Axes>"
            ],
            "image/png": "[encoded data removed]"
          },
          "metadata": {}
        }
      ],
      "source": [
        "fig = plt.figure()\n",
        "\n",
        "for i in range(6):\n",
        "  plt.subplot(2,3,i+1)\n",
        "  plt.tight_layout()\n",
        "  plt.imshow(example_data[i][0], cmap='gray', interpolation='none')\n",
        "  plt.title(\"Ground Truth: {}\".format(example_targets[i]))\n",
        "  plt.xticks([])\n",
        "  plt.yticks([])\n",
        "\n",
        "plt.show()"
      ]
    },
    {
      "cell_type": "markdown",
      "source": [
        "**Exercise 2:** Maybe these images are *too* augmented. Try to refine `train_transform` to generate images that still have meanining (and then train the network again and see if the performances improve)\n"
      ],
      "metadata": {
        "id": "nO6Ab8sgtZeJ"
      }
    },
    {
      "cell_type": "code",
      "source": [
        "..."
      ],
      "metadata": {
        "id": "mIXxZuGKzgiv"
      },
      "execution_count": null,
      "outputs": []
    },
    {
      "cell_type": "markdown",
      "source": [
        "# Other useful layers"
      ],
      "metadata": {
        "id": "9t2kGU5sqN1J"
      }
    },
    {
      "cell_type": "markdown",
      "source": [
        "Here are some useful layers for convolutional networks."
      ],
      "metadata": {
        "id": "UmHHFWsUQxQu"
      }
    },
    {
      "cell_type": "markdown",
      "source": [
        "* **2D max pooling/average pooling**\n",
        "\n",
        "`torch.nn.MaxPool2d` and `torch.nn.AvgPool2d` downsample the input feature maps by taking either the maximum or average value within a specified window (kernel size) and stride.\n",
        "\n",
        "*Parameters*: kernel_size, stride, padding, ceil_mode (for MaxPool2d).\n",
        "\n",
        "\n",
        "\n",
        "* **Batch normalization**\n",
        "\n",
        "`torch.nn.BatchNorm2d` normalizes the activations of each channel across a mini-batch. It helps in stabilizing and accelerating the training of deep neural networks by reducing internal covariate shift.\n",
        "\n",
        "*Parameters*: num_features (number of input channels).\n",
        "\n",
        "\n",
        "\n",
        "* **Dropout**\n",
        "\n",
        "`torch.nn.Dropout` layer randomly sets a fraction of input units to zero during training, which helps in reducing overfitting by preventing complex co-adaptations of neurons.\n",
        "\n",
        "*Parameter*: p (probability of dropping a neuron)."
      ],
      "metadata": {
        "id": "iI_OGCn3pbG-"
      }
    },
    {
      "cell_type": "markdown",
      "source": [
        "**IMPORTANT**: In PyTorch, `model.train()` is a method used to set the model in training mode. This method is typically called on a PyTorch model object before starting the training loop. This mode is important because **certain layers like dropout and batch normalization behave differently during training** compared to evaluation (testing) mode. To switch them you have to call `model.train()` and `model.eval()` before the respective steps. Here an example:"
      ],
      "metadata": {
        "id": "utJSK-9ON15d"
      }
    },
    {
      "cell_type": "code",
      "source": [
        "EPOCHS = 10\n",
        "\n",
        "\n",
        "for epoch in range(EPOCHS):\n",
        "\n",
        "  ## TRAIN STEP\n",
        "\n",
        "  model.train()\n",
        "\n",
        "  for x_train, y_train in train_loader:\n",
        "\n",
        "    ...\n",
        "\n",
        "  ## TEST STEP\n",
        "\n",
        "  model.eval()\n",
        "\n",
        "  ...\n"
      ],
      "metadata": {
        "id": "XTSj2wgLOGmS"
      },
      "execution_count": null,
      "outputs": []
    },
    {
      "cell_type": "markdown",
      "source": [
        "**Exercise 3:** Now it's up to you! Mix all these ingredients and try to reach a high accuracy on the test set (if it is too easy, use less sample in the training set)\n"
      ],
      "metadata": {
        "id": "9YmJ-XWFS6Wv"
      }
    },
    {
      "cell_type": "code",
      "source": [
        "..."
      ],
      "metadata": {
        "id": "kdUx2w53TJx3"
      },
      "execution_count": null,
      "outputs": []
    },
    {
      "cell_type": "markdown",
      "metadata": {
        "id": "DaRVaa8o9Dim"
      },
      "source": [
        "*© 2024. This work is openly licensed via [CC BY-NC-SA 4.0 DEED](https://creativecommons.org/licenses/by-nc-sa/4.0/)*"
      ]
    },
    {
      "cell_type": "markdown",
      "metadata": {
        "id": "XXNqPzEDjytw"
      },
      "source": [
        "*Comics used in the notebooks are from [xkcd.com](https://xkcd.com), and are licensed under the Creative Commons Attribution-NonCommercial 2.5 license.*\n",
        "\n",
        "*Details and usage notes can be found at [xkcd.com/license.html](https://xkcd.com/license.html).*"
      ]
    }
  ],
  "metadata": {
    "accelerator": "GPU",
    "colab": {
      "gpuType": "T4",
      "provenance": [],
      "include_colab_link": true
    },
    "kernelspec": {
      "display_name": "Python 3",
      "name": "python3"
    },
    "language_info": {
      "name": "python"
    }
  },
  "nbformat": 4,
  "nbformat_minor": 0
}