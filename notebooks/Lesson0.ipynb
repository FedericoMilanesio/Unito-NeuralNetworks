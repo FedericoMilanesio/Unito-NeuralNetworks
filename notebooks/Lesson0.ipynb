{
  "nbformat": 4,
  "nbformat_minor": 0,
  "metadata": {
    "colab": {
      "provenance": []
    },
    "kernelspec": {
      "name": "python3",
      "display_name": "Python 3"
    },
    "language_info": {
      "name": "python"
    }
  },
  "cells": [
    {
      "cell_type": "markdown",
      "source": [
        "#A  minimal introduction to Python and Colab"
      ],
      "metadata": {
        "id": "8h6oREF8D3ZQ"
      }
    },
    {
      "cell_type": "markdown",
      "source": [
        "*Tutors*:\n",
        "-- Federico Milanesio: federico.milanesio@unito.it\n",
        "-- Davide Pirovano: davide.pirovano@unito.it"
      ],
      "metadata": {
        "id": "ZePEB_zT5scF"
      }
    },
    {
      "cell_type": "markdown",
      "source": [
        "Recommended textbooks:\n",
        "\n",
        "\n",
        "*  Beginner: **Think Python** (Allen B. Downey)\n",
        "*  Intermediate: **Python Tricks: A Buffet of Awesome Python Features** (Dan Bader)\n",
        "* Advanced. **Fluent Python: Clear, Concise, and Effective Programming** (Luciano Ramahlo)\n"
      ],
      "metadata": {
        "id": "D1rPI68rECgw"
      }
    },
    {
      "cell_type": "markdown",
      "source": [
        "# Google Colab"
      ],
      "metadata": {
        "id": "Gz5RMlnuFZzL"
      }
    },
    {
      "cell_type": "markdown",
      "source": [
        "All the lessons will take place in interactive environments called  **Colab notebooks**, such as this one. These environments allow you to write and execute Python code directly in  your browser.\n",
        "\n",
        "Google Colab allows us to use the same version of packages and libraries by providing a **consistent and controlled environment** for running code. When you open a Colab notebook, it creates a virtual machine that is pre-configured with a specific set of packages and libraries. This ensures that all students are working in the same environment and have access to the same versions of packages."
      ],
      "metadata": {
        "id": "f2DnG8sHFc3E"
      }
    },
    {
      "cell_type": "markdown",
      "source": [
        "# Python basics"
      ],
      "metadata": {
        "id": "XWltDntWFLsE"
      }
    },
    {
      "cell_type": "markdown",
      "source": [
        "This notebook **is not** a comprehensive guide to Python. If you understand *most* of this notebook you should be ready to learn how to use Torch for machine learning. If you read this notebook and still feel like you don't have a grasp on Python, we have some tips for you at the end"
      ],
      "metadata": {
        "id": "TDaLmHCzX-rz"
      }
    },
    {
      "cell_type": "markdown",
      "source": [
        "Below there is our first cell. Each cell is a series of instruction written in Python.\n",
        "\n",
        "We create a new variable `a` and assign it value 2."
      ],
      "metadata": {
        "id": "8M8jtB02HPMc"
      }
    },
    {
      "cell_type": "code",
      "source": [
        "a = 2"
      ],
      "metadata": {
        "id": "EqaUY-SVHN8d"
      },
      "execution_count": 61,
      "outputs": []
    },
    {
      "cell_type": "markdown",
      "source": [
        " In python variables have no static type, and don't need to be initialized:"
      ],
      "metadata": {
        "id": "Dve9Dg0AHbME"
      }
    },
    {
      "cell_type": "code",
      "source": [
        "a = \"Dog\""
      ],
      "metadata": {
        "id": "sK2CEuskECAi"
      },
      "execution_count": 62,
      "outputs": []
    },
    {
      "cell_type": "code",
      "execution_count": 63,
      "metadata": {
        "colab": {
          "base_uri": "https://localhost:8080/",
          "height": 35
        },
        "id": "QAxxc8K1D0eW",
        "outputId": "75cdbe81-6199-4e8e-dbcb-4a77807d3cef"
      },
      "outputs": [
        {
          "output_type": "execute_result",
          "data": {
            "text/plain": [
              "'Dog'"
            ],
            "application/vnd.google.colaboratory.intrinsic+json": {
              "type": "string"
            }
          },
          "metadata": {},
          "execution_count": 63
        }
      ],
      "source": [
        "a"
      ]
    },
    {
      "cell_type": "markdown",
      "source": [
        "As you can see, cells share variables. This means that a variable initialized in a cell can be later used in other cells."
      ],
      "metadata": {
        "id": "-_STCTmmJkAA"
      }
    },
    {
      "cell_type": "code",
      "source": [
        "a = 2\n",
        "b = 3\n",
        "\n",
        "a * b"
      ],
      "metadata": {
        "colab": {
          "base_uri": "https://localhost:8080/"
        },
        "id": "HL6EtPLkJWsK",
        "outputId": "489d8a49-16e4-4784-bc6b-219c6f3f0a37"
      },
      "execution_count": 64,
      "outputs": [
        {
          "output_type": "execute_result",
          "data": {
            "text/plain": [
              "6"
            ]
          },
          "metadata": {},
          "execution_count": 64
        }
      ]
    },
    {
      "cell_type": "markdown",
      "source": [
        "**Exercise:** create a cell below and assign it the value of our previous multiplication."
      ],
      "metadata": {
        "id": "-pC-mx6XKDDd"
      }
    },
    {
      "cell_type": "markdown",
      "source": [
        "# Mathematics in python"
      ],
      "metadata": {
        "id": "LcK-2JK_KR4Y"
      }
    },
    {
      "cell_type": "markdown",
      "source": [
        "In Python, int and float are two different data types used to represent numbers. Here is a brief explanation of the difference between int and float in Python:\n",
        "\n",
        "1. int (Integer):\n",
        "   - An int in Python represents **integers** without any decimal points.\n",
        "   - Examples of integers are: -5, 0, 10, 100, etc.\n",
        "   - Integers can be positive, negative, or zero.\n",
        "   - Operations on integers like addition, subtraction, multiplication result in integer values if the operands are integers.\n",
        "\n",
        "2. float (Floating Point Number):\n",
        "   - A float in Python represents **numbers with decimal points** or fractions.\n",
        "   - Examples of floats are: 3.14, -0.5, 2.0, etc.\n",
        "   - Floats can represent a wider range of numbers compared to integers.\n",
        "   - Operations on floats may result in float values even if the operands are integers."
      ],
      "metadata": {
        "id": "OIs9FAZxLEAd"
      }
    },
    {
      "cell_type": "code",
      "source": [
        "a = 5\n",
        "b = 2.5"
      ],
      "metadata": {
        "id": "iX05FmkfJ8YE"
      },
      "execution_count": 65,
      "outputs": []
    },
    {
      "cell_type": "code",
      "source": [
        "a + b"
      ],
      "metadata": {
        "colab": {
          "base_uri": "https://localhost:8080/"
        },
        "id": "FPhRfmpFKmCH",
        "outputId": "25ab6c2b-9ccc-4c52-8bf6-5f9e6ba8dcd0"
      },
      "execution_count": 66,
      "outputs": [
        {
          "output_type": "execute_result",
          "data": {
            "text/plain": [
              "7.5"
            ]
          },
          "metadata": {},
          "execution_count": 66
        }
      ]
    },
    {
      "cell_type": "code",
      "source": [
        "a - b"
      ],
      "metadata": {
        "colab": {
          "base_uri": "https://localhost:8080/"
        },
        "id": "rjoMoNmZN4rc",
        "outputId": "b05f6abf-76e4-493e-afd6-bed1177a1f0f"
      },
      "execution_count": 67,
      "outputs": [
        {
          "output_type": "execute_result",
          "data": {
            "text/plain": [
              "2.5"
            ]
          },
          "metadata": {},
          "execution_count": 67
        }
      ]
    },
    {
      "cell_type": "code",
      "source": [
        "a * b"
      ],
      "metadata": {
        "colab": {
          "base_uri": "https://localhost:8080/"
        },
        "id": "U7BwyJM2N5qt",
        "outputId": "45d9c29d-a210-48c6-e4c2-421e620394ad"
      },
      "execution_count": 68,
      "outputs": [
        {
          "output_type": "execute_result",
          "data": {
            "text/plain": [
              "12.5"
            ]
          },
          "metadata": {},
          "execution_count": 68
        }
      ]
    },
    {
      "cell_type": "code",
      "source": [
        "a / b"
      ],
      "metadata": {
        "colab": {
          "base_uri": "https://localhost:8080/"
        },
        "id": "bW2lPSZYN9lY",
        "outputId": "22d7aa0a-9083-499b-ef51-a77acf3ea61b"
      },
      "execution_count": 69,
      "outputs": [
        {
          "output_type": "execute_result",
          "data": {
            "text/plain": [
              "2.0"
            ]
          },
          "metadata": {},
          "execution_count": 69
        }
      ]
    },
    {
      "cell_type": "markdown",
      "source": [
        "Two other important operations are the `//` and `%` operators, used for floor division and modulo operations, respectively.\n",
        "\n",
        "\n",
        "\n",
        "*   The `//` operator is used for floor division, which means that it divides the left operand by the right operand and returns the integer result (quotient) without any decimal points.\n",
        "*   The `%` operator is used for the modulo operation, which returns the remainder of the division of the left operand by the right operand. It is often used to check if a number is divisible by another number.\n",
        "\n",
        "\n"
      ],
      "metadata": {
        "id": "UmKUu7esM70M"
      }
    },
    {
      "cell_type": "code",
      "source": [
        "a = 7\n",
        "\n",
        "b = 3"
      ],
      "metadata": {
        "id": "ZpTLHUJOK1Jj"
      },
      "execution_count": 70,
      "outputs": []
    },
    {
      "cell_type": "code",
      "source": [
        "a // b"
      ],
      "metadata": {
        "colab": {
          "base_uri": "https://localhost:8080/"
        },
        "id": "rxXba14sOHJp",
        "outputId": "8a4163a7-c804-4f9f-d9f8-42bb3bc74863"
      },
      "execution_count": 71,
      "outputs": [
        {
          "output_type": "execute_result",
          "data": {
            "text/plain": [
              "2"
            ]
          },
          "metadata": {},
          "execution_count": 71
        }
      ]
    },
    {
      "cell_type": "code",
      "source": [
        "a % b"
      ],
      "metadata": {
        "colab": {
          "base_uri": "https://localhost:8080/"
        },
        "id": "2R7gqq4rOJkh",
        "outputId": "a80b6bb3-6ba0-41a4-eef6-7f9950496a18"
      },
      "execution_count": 72,
      "outputs": [
        {
          "output_type": "execute_result",
          "data": {
            "text/plain": [
              "1"
            ]
          },
          "metadata": {},
          "execution_count": 72
        }
      ]
    },
    {
      "cell_type": "markdown",
      "source": [
        "# Functions"
      ],
      "metadata": {
        "id": "w56C7glgTA2z"
      }
    },
    {
      "cell_type": "markdown",
      "source": [
        "In Python, a function is a block of reusable code that performs a specific task. Functions help organize code, make it more modular, and facilitate code reuse. You can define your own functions using the `def` keyword."
      ],
      "metadata": {
        "id": "Hrn3ftusTH5U"
      }
    },
    {
      "cell_type": "code",
      "source": [
        "def multiplication(x, y):\n",
        "  return x*y"
      ],
      "metadata": {
        "id": "phPA9pukTLXM"
      },
      "execution_count": 73,
      "outputs": []
    },
    {
      "cell_type": "markdown",
      "source": [
        "Yes, that is it, we don't have anything more to say about this."
      ],
      "metadata": {
        "id": "NgXeipGuh7QM"
      }
    },
    {
      "cell_type": "markdown",
      "source": [
        "# Lists and other containers"
      ],
      "metadata": {
        "id": "9ScC4nTUONdY"
      }
    },
    {
      "cell_type": "markdown",
      "source": [
        " A list is a data structure that can hold an **ordered collection of items**. Lists are mutable, which means you can modify them by adding, removing, or changing elements. Lists are defined using square brackets `[ ]` and can contain elements of different data types, including integers, floats, strings, or even other lists."
      ],
      "metadata": {
        "id": "K_zWQfEIOgnG"
      }
    },
    {
      "cell_type": "code",
      "source": [
        "my_list = []"
      ],
      "metadata": {
        "id": "ondj-R21OTe2"
      },
      "execution_count": 74,
      "outputs": []
    },
    {
      "cell_type": "markdown",
      "source": [
        "We initialized an empty list called *my_list*. We can now add a few elements:"
      ],
      "metadata": {
        "id": "Bpl3vL-EOsa0"
      }
    },
    {
      "cell_type": "code",
      "source": [
        "my_list.append(2)\n",
        "my_list.append(3)\n",
        "\n",
        "my_list"
      ],
      "metadata": {
        "colab": {
          "base_uri": "https://localhost:8080/"
        },
        "id": "cEtpeN9sOrtr",
        "outputId": "ae383801-f889-4617-87a4-104a36650bba"
      },
      "execution_count": 75,
      "outputs": [
        {
          "output_type": "execute_result",
          "data": {
            "text/plain": [
              "[2, 3]"
            ]
          },
          "metadata": {},
          "execution_count": 75
        }
      ]
    },
    {
      "cell_type": "markdown",
      "source": [
        "A list can contain elements of different types:"
      ],
      "metadata": {
        "id": "WocpixTRO8-y"
      }
    },
    {
      "cell_type": "code",
      "source": [
        "my_list.append(\"dog\")\n",
        "\n",
        "my_list"
      ],
      "metadata": {
        "colab": {
          "base_uri": "https://localhost:8080/"
        },
        "id": "cgCSyKGSPAJ2",
        "outputId": "2f8b8cf3-73d7-4358-f94d-91d17860e97f"
      },
      "execution_count": 76,
      "outputs": [
        {
          "output_type": "execute_result",
          "data": {
            "text/plain": [
              "[2, 3, 'dog']"
            ]
          },
          "metadata": {},
          "execution_count": 76
        }
      ]
    },
    {
      "cell_type": "markdown",
      "source": [
        "We added a string of text containing the word *dog*. A **string** is a sequence of characters enclosed within either (' ') or (\" \")"
      ],
      "metadata": {
        "id": "jOQ4g4tTPDyX"
      }
    },
    {
      "cell_type": "markdown",
      "source": [
        "We can access an element in a list by its index:"
      ],
      "metadata": {
        "id": "yhbo2QzIPPyT"
      }
    },
    {
      "cell_type": "code",
      "source": [
        "my_list[1]"
      ],
      "metadata": {
        "colab": {
          "base_uri": "https://localhost:8080/"
        },
        "id": "-y2zwyrNPWQ7",
        "outputId": "c3440f6b-dc19-4271-9ede-edf38bee11f8"
      },
      "execution_count": 77,
      "outputs": [
        {
          "output_type": "execute_result",
          "data": {
            "text/plain": [
              "3"
            ]
          },
          "metadata": {},
          "execution_count": 77
        }
      ]
    },
    {
      "cell_type": "markdown",
      "source": [
        "We can also remove elements:"
      ],
      "metadata": {
        "id": "MglGYTyhPntc"
      }
    },
    {
      "cell_type": "code",
      "source": [
        "my_list.remove(\"dog\")\n",
        "\n",
        "my_list"
      ],
      "metadata": {
        "colab": {
          "base_uri": "https://localhost:8080/"
        },
        "id": "wJarjCq7Pphk",
        "outputId": "5ddf764f-3293-4162-ea93-20860750bce3"
      },
      "execution_count": 78,
      "outputs": [
        {
          "output_type": "execute_result",
          "data": {
            "text/plain": [
              "[2, 3]"
            ]
          },
          "metadata": {},
          "execution_count": 78
        }
      ]
    },
    {
      "cell_type": "markdown",
      "source": [
        "We can initialize a list with elements inside:"
      ],
      "metadata": {
        "id": "VPpXOeVvQBVU"
      }
    },
    {
      "cell_type": "code",
      "source": [
        "new_list = [2, 5, 7, 1, 2]\n",
        "\n",
        "new_list"
      ],
      "metadata": {
        "colab": {
          "base_uri": "https://localhost:8080/"
        },
        "id": "I7zHvem4P8ex",
        "outputId": "a377231b-ae22-415c-a6e0-eb67fc6a30aa"
      },
      "execution_count": 79,
      "outputs": [
        {
          "output_type": "execute_result",
          "data": {
            "text/plain": [
              "[2, 5, 7, 1, 2]"
            ]
          },
          "metadata": {},
          "execution_count": 79
        }
      ]
    },
    {
      "cell_type": "markdown",
      "source": [
        "And we can access slices of this list:"
      ],
      "metadata": {
        "id": "mKIxy1bPQHRo"
      }
    },
    {
      "cell_type": "code",
      "source": [
        "new_list[1:3]"
      ],
      "metadata": {
        "colab": {
          "base_uri": "https://localhost:8080/"
        },
        "id": "SFFEsZo1QGmx",
        "outputId": "f0a6ce58-fecb-4375-feaa-accad8924cca"
      },
      "execution_count": 80,
      "outputs": [
        {
          "output_type": "execute_result",
          "data": {
            "text/plain": [
              "[5, 7]"
            ]
          },
          "metadata": {},
          "execution_count": 80
        }
      ]
    },
    {
      "cell_type": "markdown",
      "source": [
        "We can also concatenating two lists:"
      ],
      "metadata": {
        "id": "y8_W5BNLQOO4"
      }
    },
    {
      "cell_type": "code",
      "source": [
        "long_list = my_list + new_list\n",
        "\n",
        "long_list"
      ],
      "metadata": {
        "colab": {
          "base_uri": "https://localhost:8080/"
        },
        "id": "KdEVaUfIQNrJ",
        "outputId": "71876d47-6cb1-4846-e8ec-7fc77310a0a0"
      },
      "execution_count": 81,
      "outputs": [
        {
          "output_type": "execute_result",
          "data": {
            "text/plain": [
              "[2, 3, 2, 5, 7, 1, 2]"
            ]
          },
          "metadata": {},
          "execution_count": 81
        }
      ]
    },
    {
      "cell_type": "markdown",
      "source": [
        "Lists have many other useful built-in functions, such as *len*:"
      ],
      "metadata": {
        "id": "jkEvAg0pQY8d"
      }
    },
    {
      "cell_type": "code",
      "source": [
        "len(long_list)"
      ],
      "metadata": {
        "colab": {
          "base_uri": "https://localhost:8080/"
        },
        "id": "flV1WJ2uQXSN",
        "outputId": "e152da67-d28e-4dcc-d4f3-f4917d71f4b6"
      },
      "execution_count": 82,
      "outputs": [
        {
          "output_type": "execute_result",
          "data": {
            "text/plain": [
              "7"
            ]
          },
          "metadata": {},
          "execution_count": 82
        }
      ]
    },
    {
      "cell_type": "markdown",
      "source": [
        "# Loops"
      ],
      "metadata": {
        "id": "NRjT-PG2AB7W"
      }
    },
    {
      "cell_type": "markdown",
      "source": [
        "The `for` loop is used to iterate over a sequence (such as a list, tuple, string, or range) and execute a block of code for each item in the sequence."
      ],
      "metadata": {
        "id": "s5RsmU0UARLv"
      }
    },
    {
      "cell_type": "code",
      "source": [
        "for x in long_list:\n",
        "  print(x)"
      ],
      "metadata": {
        "colab": {
          "base_uri": "https://localhost:8080/"
        },
        "id": "pusK0ygvAD6F",
        "outputId": "6d43a878-1e24-45e7-b3e5-ff5d77f88e65"
      },
      "execution_count": 83,
      "outputs": [
        {
          "output_type": "stream",
          "name": "stdout",
          "text": [
            "2\n",
            "3\n",
            "2\n",
            "5\n",
            "7\n",
            "1\n",
            "2\n"
          ]
        }
      ]
    },
    {
      "cell_type": "markdown",
      "source": [
        "We used the `print()` function, which is used to display output on the console. It takes one or more arguments, and each argument is separated by a comma. The arguments can be of various types, such as strings, numbers, or variables."
      ],
      "metadata": {
        "id": "iZJsqNc-Al6o"
      }
    },
    {
      "cell_type": "markdown",
      "source": [
        "One commonly used function is range, a built-in function used to generate a sequence of numbers. It's commonly used in for loops to iterate over a specific range of values. The basic syntax of the range function is as follows:\n",
        "\n",
        "\n",
        "```\n",
        "range([start], stop, [step])\n",
        "```\n",
        "\n"
      ],
      "metadata": {
        "id": "_HjNymFEBJxL"
      }
    },
    {
      "cell_type": "code",
      "source": [
        "for i in range(2,6):\n",
        "  print(i, (i+2)//2)"
      ],
      "metadata": {
        "colab": {
          "base_uri": "https://localhost:8080/"
        },
        "id": "T79YYoW4A8CW",
        "outputId": "e1e2e8a2-8abd-4088-f247-5167f43581d3"
      },
      "execution_count": 84,
      "outputs": [
        {
          "output_type": "stream",
          "name": "stdout",
          "text": [
            "2 2\n",
            "3 2\n",
            "4 3\n",
            "5 3\n"
          ]
        }
      ]
    },
    {
      "cell_type": "markdown",
      "source": [
        "**Exercise:** create a function that computes the sum of all integers between two numbers i and j."
      ],
      "metadata": {
        "id": "1HSNNBFhBtka"
      }
    },
    {
      "cell_type": "markdown",
      "source": [
        "# Modules"
      ],
      "metadata": {
        "id": "SBqV27mGQi0X"
      }
    },
    {
      "cell_type": "markdown",
      "source": [
        "In Python, a module is a file containing Python code that defines functions, classes, and variables. Modules are used to organize code into reusable units, making it easier to manage and maintain large programs. Modules help in structuring code and promoting code reusability by allowing you to import and use functions or classes defined in one module in another module.\n",
        "\n",
        "Python provides a rich standard library with many built-in modules that offer various functionalities, such as working with files, networking, data processing, and more. You can also create your own modules to encapsulate related code and promote code organization and reusability in your projects.\n"
      ],
      "metadata": {
        "id": "NDWq5fd9RRbq"
      }
    },
    {
      "cell_type": "code",
      "source": [
        "import math"
      ],
      "metadata": {
        "id": "qQG-c0JwQ93f"
      },
      "execution_count": 85,
      "outputs": []
    },
    {
      "cell_type": "code",
      "source": [
        "math.log(5)"
      ],
      "metadata": {
        "colab": {
          "base_uri": "https://localhost:8080/"
        },
        "id": "ub1EUC4XRYsw",
        "outputId": "4088ff50-3b5f-46a1-c854-2b085480a7ef"
      },
      "execution_count": 86,
      "outputs": [
        {
          "output_type": "execute_result",
          "data": {
            "text/plain": [
              "1.6094379124341003"
            ]
          },
          "metadata": {},
          "execution_count": 86
        }
      ]
    },
    {
      "cell_type": "markdown",
      "source": [
        "You can also import specific functions or variables from a module using the `from` keyword:"
      ],
      "metadata": {
        "id": "lLfY6FWTSVb6"
      }
    },
    {
      "cell_type": "code",
      "source": [
        "from math import cos"
      ],
      "metadata": {
        "id": "ak6yhhiUSOkp"
      },
      "execution_count": 87,
      "outputs": []
    },
    {
      "cell_type": "code",
      "source": [
        "cos(3.14)"
      ],
      "metadata": {
        "colab": {
          "base_uri": "https://localhost:8080/"
        },
        "id": "1nCqrUbGRaz3",
        "outputId": "57ea7bbf-114a-4988-d88e-bf7940ca141e"
      },
      "execution_count": 88,
      "outputs": [
        {
          "output_type": "execute_result",
          "data": {
            "text/plain": [
              "-0.9999987317275395"
            ]
          },
          "metadata": {},
          "execution_count": 88
        }
      ]
    },
    {
      "cell_type": "markdown",
      "source": [
        "In Google Colab, you have access to a variety of non-Python built-in modules and libraries that you can use in your projects. These external libraries provide additional functionality and tools for specific tasks. Some of the modules we will use in the course are:\n",
        "\n",
        "1. **NumPy**: NumPy is a powerful numerical computing library in Python that provides support for large multi-dimensional arrays and matrices, along with a collection of mathematical functions to operate on these arrays. It is widely used for scientific computing, data analysis, and machine learning tasks.\n",
        "\n",
        "2. **Pandas**: Pandas is a data manipulation and analysis library in Python that offers data structures like DataFrame and Series, which make it easy to work with structured data. It provides functions for data cleaning, transformation, filtering, and aggregation.\n",
        "\n",
        "3. **Matplotlib**: Matplotlib is a plotting library in Python that allows you to create various types of plots, charts, and visualizations. It provides a flexible API for customizing plots and is commonly used for data visualization tasks.\n",
        "\n",
        "4. **Scikit-learn**: Scikit-learn is a machine learning library in Python that provides a wide range of algorithms for classification, regression, clustering, dimensionality reduction, and more. It also includes tools for model evaluation and selection\n",
        "\n",
        "\n"
      ],
      "metadata": {
        "id": "6sOHKz5rRmtS"
      }
    },
    {
      "cell_type": "markdown",
      "source": [
        "# Numpy"
      ],
      "metadata": {
        "id": "5tCrbcftDgkT"
      }
    },
    {
      "cell_type": "markdown",
      "source": [
        "NumPy (Numerical Python) is a powerful Python library for numerical and mathematical operations. It provides support for large, multi-dimensional arrays and matrices, along with a collection of mathematical functions to operate on these arrays."
      ],
      "metadata": {
        "id": "d6F6kul_Eh5i"
      }
    },
    {
      "cell_type": "markdown",
      "source": [
        "Let's start by importing the module:"
      ],
      "metadata": {
        "id": "ONhioegMEkOg"
      }
    },
    {
      "cell_type": "code",
      "source": [
        "import numpy as np"
      ],
      "metadata": {
        "id": "D5OC3bgDCW6Q"
      },
      "execution_count": 89,
      "outputs": []
    },
    {
      "cell_type": "markdown",
      "source": [
        "We can create new arrays with:"
      ],
      "metadata": {
        "id": "Qf9wN_DaEtb8"
      }
    },
    {
      "cell_type": "code",
      "source": [
        "arr1 = np.array([1, 2, 3, 4, 5])"
      ],
      "metadata": {
        "id": "jalKeoEIEo79"
      },
      "execution_count": 90,
      "outputs": []
    },
    {
      "cell_type": "code",
      "source": [
        "print(arr1)"
      ],
      "metadata": {
        "colab": {
          "base_uri": "https://localhost:8080/"
        },
        "id": "b6cgRxZgFNn0",
        "outputId": "7db53f33-50f8-44f7-9290-151597f78867"
      },
      "execution_count": 91,
      "outputs": [
        {
          "output_type": "stream",
          "name": "stdout",
          "text": [
            "[1 2 3 4 5]\n"
          ]
        }
      ]
    },
    {
      "cell_type": "markdown",
      "source": [
        "We can also create matrices:"
      ],
      "metadata": {
        "id": "A9EzY-sQFBEY"
      }
    },
    {
      "cell_type": "code",
      "source": [
        "arr2 = np.array([[1, 2, 3], [4, 5, 6]])"
      ],
      "metadata": {
        "id": "OBkTOrz3Exx7"
      },
      "execution_count": 92,
      "outputs": []
    },
    {
      "cell_type": "code",
      "source": [
        "print(arr2)"
      ],
      "metadata": {
        "colab": {
          "base_uri": "https://localhost:8080/"
        },
        "id": "zEyKsP9BFGns",
        "outputId": "6ad3884b-05f0-4806-f60e-b2b63f1f7f11"
      },
      "execution_count": 93,
      "outputs": [
        {
          "output_type": "stream",
          "name": "stdout",
          "text": [
            "[[1 2 3]\n",
            " [4 5 6]]\n"
          ]
        }
      ]
    },
    {
      "cell_type": "markdown",
      "source": [
        "We can also initialize arrays with only zeroes/ones:"
      ],
      "metadata": {
        "id": "K6conThMFPpu"
      }
    },
    {
      "cell_type": "code",
      "source": [
        "zeros_array = np.zeros((3, 4))   # 3 rows x 4 columns   <-- this is a comment by the way (code that will not be compiled by the machine), we will use it from now on to explain larger chunks of code\n",
        "ones_array = np.ones((2, 2))"
      ],
      "metadata": {
        "id": "gyKgLS8OFIZ1"
      },
      "execution_count": 94,
      "outputs": []
    },
    {
      "cell_type": "code",
      "source": [
        "print(zeros_array)\n",
        "print(ones_array)"
      ],
      "metadata": {
        "colab": {
          "base_uri": "https://localhost:8080/"
        },
        "id": "GiUdkiQMFW2V",
        "outputId": "2548a406-2099-4b72-b368-6a080c040d5f"
      },
      "execution_count": 95,
      "outputs": [
        {
          "output_type": "stream",
          "name": "stdout",
          "text": [
            "[[0. 0. 0. 0.]\n",
            " [0. 0. 0. 0.]\n",
            " [0. 0. 0. 0.]]\n",
            "[[1. 1.]\n",
            " [1. 1.]]\n"
          ]
        }
      ]
    },
    {
      "cell_type": "markdown",
      "source": [
        "Numpy allows as to perform **element-wise operations**:"
      ],
      "metadata": {
        "id": "lH5DmFTNFj_r"
      }
    },
    {
      "cell_type": "code",
      "source": [
        "v = np.array([1,3,11,2.5])"
      ],
      "metadata": {
        "id": "9tteyb7_Gs9c"
      },
      "execution_count": 96,
      "outputs": []
    },
    {
      "cell_type": "code",
      "source": [
        "print(\"Array:\", v)"
      ],
      "metadata": {
        "colab": {
          "base_uri": "https://localhost:8080/"
        },
        "id": "fOByC_8LFZ5F",
        "outputId": "b5511045-8607-4768-ca8d-c46e837fb18a"
      },
      "execution_count": 97,
      "outputs": [
        {
          "output_type": "stream",
          "name": "stdout",
          "text": [
            "Array: [ 1.   3.  11.   2.5]\n"
          ]
        }
      ]
    },
    {
      "cell_type": "code",
      "source": [
        "print(\"Array times 2:\", v*2)"
      ],
      "metadata": {
        "colab": {
          "base_uri": "https://localhost:8080/"
        },
        "id": "VOyWuLDbF2Hn",
        "outputId": "0755a878-ab3e-4523-ef61-6fda71d85bec"
      },
      "execution_count": 98,
      "outputs": [
        {
          "output_type": "stream",
          "name": "stdout",
          "text": [
            "Array times 2: [ 2.  6. 22.  5.]\n"
          ]
        }
      ]
    },
    {
      "cell_type": "code",
      "source": [
        "print(\"Square root of array:\", np.sqrt(v))"
      ],
      "metadata": {
        "colab": {
          "base_uri": "https://localhost:8080/"
        },
        "id": "x2xzxraZGByq",
        "outputId": "d42d0e00-f16a-4dcb-8a27-278c1096fb69"
      },
      "execution_count": 99,
      "outputs": [
        {
          "output_type": "stream",
          "name": "stdout",
          "text": [
            "Square root of array: [1.         1.73205081 3.31662479 1.58113883]\n"
          ]
        }
      ]
    },
    {
      "cell_type": "markdown",
      "source": [
        "Numpy also allows us to implement operations from **linear algebra**:"
      ],
      "metadata": {
        "id": "z2B2EnH5GQ-h"
      }
    },
    {
      "cell_type": "markdown",
      "source": [
        "Matrix multiplication:"
      ],
      "metadata": {
        "id": "PvTpUfWjG1-2"
      }
    },
    {
      "cell_type": "code",
      "source": [
        "A = np.array([[1, 2], [3, 4]])\n",
        "B = np.array([[5, 6], [7, 8]])\n",
        "\n",
        "print(A.dot(B))"
      ],
      "metadata": {
        "colab": {
          "base_uri": "https://localhost:8080/"
        },
        "id": "Pqx-cSVgGC5G",
        "outputId": "e699b9e1-7083-4dd0-a981-497b97b9d5f3"
      },
      "execution_count": 100,
      "outputs": [
        {
          "output_type": "stream",
          "name": "stdout",
          "text": [
            "[[19 22]\n",
            " [43 50]]\n"
          ]
        }
      ]
    },
    {
      "cell_type": "markdown",
      "source": [
        "Transposing a matrix:"
      ],
      "metadata": {
        "id": "MxwFCTolG7fZ"
      }
    },
    {
      "cell_type": "code",
      "source": [
        "print(A.T)"
      ],
      "metadata": {
        "colab": {
          "base_uri": "https://localhost:8080/"
        },
        "id": "OrZXQimeGZQr",
        "outputId": "b636ebe5-300b-4e3e-c75b-34ea8bb0f2e2"
      },
      "execution_count": 101,
      "outputs": [
        {
          "output_type": "stream",
          "name": "stdout",
          "text": [
            "[[1 3]\n",
            " [2 4]]\n"
          ]
        }
      ]
    },
    {
      "cell_type": "markdown",
      "source": [
        "NumPy allows efficient indexing and slicing of arrays, including multi-dimensional arrays."
      ],
      "metadata": {
        "id": "VmfWpoXOHCmw"
      }
    },
    {
      "cell_type": "code",
      "source": [
        "print(A[1,0])"
      ],
      "metadata": {
        "colab": {
          "base_uri": "https://localhost:8080/"
        },
        "id": "oWf64A_aGi3B",
        "outputId": "ea927200-6348-4dc7-b29a-ff1e6afb17ec"
      },
      "execution_count": 102,
      "outputs": [
        {
          "output_type": "stream",
          "name": "stdout",
          "text": [
            "3\n"
          ]
        }
      ]
    },
    {
      "cell_type": "code",
      "source": [
        "print(A[1,:])"
      ],
      "metadata": {
        "colab": {
          "base_uri": "https://localhost:8080/"
        },
        "id": "dXk29U9DHb-P",
        "outputId": "66c5c60b-2097-4030-c38e-0204fae7da2d"
      },
      "execution_count": 103,
      "outputs": [
        {
          "output_type": "stream",
          "name": "stdout",
          "text": [
            "[3 4]\n"
          ]
        }
      ]
    },
    {
      "cell_type": "markdown",
      "source": [
        "# Pandas"
      ],
      "metadata": {
        "id": "Y554O3PEayTl"
      }
    },
    {
      "cell_type": "markdown",
      "source": [
        "Pandas is a powerful and widely-used Python library for **data manipulation and analysis**. It provides easy-to-use data structures, primarily the DataFrame, which allows users to efficiently organize, clean, and analyze tabular data. With its intuitive syntax and versatile functions, Pandas simplifies tasks such as selecting, filtering, and aggregating data.\n",
        "\n",
        "In this brief tutorial, we'll explore the basics of Pandas, covering fundamental operations that serve as building blocks for effective data handling. We will give you some examples to get you started, but Pandas is extensive and would warrant a few lessons by itself. It is the **least important topic** covered in this notebook.\n",
        "\n"
      ],
      "metadata": {
        "id": "woUH4cBweOXL"
      }
    },
    {
      "cell_type": "markdown",
      "source": [
        "Let's import the module:"
      ],
      "metadata": {
        "id": "PaPvAUFpeZ4w"
      }
    },
    {
      "cell_type": "code",
      "source": [
        "import pandas as pd"
      ],
      "metadata": {
        "id": "7n8UMb5EazfH"
      },
      "execution_count": 104,
      "outputs": []
    },
    {
      "cell_type": "markdown",
      "source": [
        "We can create a dataset from a dictionary (a dictionary is an unordered collection which stores data in key-values pairs, if you didn't know already don't worry, we won't be using them at all):"
      ],
      "metadata": {
        "id": "AOb_GcC0ej2L"
      }
    },
    {
      "cell_type": "code",
      "source": [
        "data = {'Name': ['Leonardo', 'Letizia', 'Niccolo', 'Federico', 'Davide'],\n",
        "        'Age': [55, 25, 28, 21, 24],\n",
        "        'City': ['Detroit', 'Torino', 'Roma', 'Bra', 'Lecco']}\n",
        "\n",
        "df = pd.DataFrame(data)"
      ],
      "metadata": {
        "id": "uv6-IL85ekO5"
      },
      "execution_count": 105,
      "outputs": []
    },
    {
      "cell_type": "markdown",
      "source": [
        "and display it:"
      ],
      "metadata": {
        "id": "p9AGg13pfz9B"
      }
    },
    {
      "cell_type": "code",
      "source": [
        "# just the first 5 rows\n",
        "df.head()\n",
        "\n",
        "# whole dataset\n",
        "df"
      ],
      "metadata": {
        "colab": {
          "base_uri": "https://localhost:8080/",
          "height": 206
        },
        "id": "n09rWUFLffIh",
        "outputId": "6d886ab9-f392-4f7b-d0a1-e4fe4307d8e7"
      },
      "execution_count": 106,
      "outputs": [
        {
          "output_type": "execute_result",
          "data": {
            "text/plain": [
              "       Name  Age     City\n",
              "0  Leonardo   55  Detroit\n",
              "1   Letizia   25   Torino\n",
              "2   Niccolo   28     Roma\n",
              "3  Federico   21      Bra\n",
              "4    Davide   24    Lecco"
            ],
            "text/html": [
              "\n",
              "  <div id=\"df-e67fdc72-d317-49fc-a248-bbdecdacff45\" class=\"colab-df-container\">\n",
              "    <div>\n",
              "<style scoped>\n",
              "    .dataframe tbody tr th:only-of-type {\n",
              "        vertical-align: middle;\n",
              "    }\n",
              "\n",
              "    .dataframe tbody tr th {\n",
              "        vertical-align: top;\n",
              "    }\n",
              "\n",
              "    .dataframe thead th {\n",
              "        text-align: right;\n",
              "    }\n",
              "</style>\n",
              "<table border=\"1\" class=\"dataframe\">\n",
              "  <thead>\n",
              "    <tr style=\"text-align: right;\">\n",
              "      <th></th>\n",
              "      <th>Name</th>\n",
              "      <th>Age</th>\n",
              "      <th>City</th>\n",
              "    </tr>\n",
              "  </thead>\n",
              "  <tbody>\n",
              "    <tr>\n",
              "      <th>0</th>\n",
              "      <td>Leonardo</td>\n",
              "      <td>55</td>\n",
              "      <td>Detroit</td>\n",
              "    </tr>\n",
              "    <tr>\n",
              "      <th>1</th>\n",
              "      <td>Letizia</td>\n",
              "      <td>25</td>\n",
              "      <td>Torino</td>\n",
              "    </tr>\n",
              "    <tr>\n",
              "      <th>2</th>\n",
              "      <td>Niccolo</td>\n",
              "      <td>28</td>\n",
              "      <td>Roma</td>\n",
              "    </tr>\n",
              "    <tr>\n",
              "      <th>3</th>\n",
              "      <td>Federico</td>\n",
              "      <td>21</td>\n",
              "      <td>Bra</td>\n",
              "    </tr>\n",
              "    <tr>\n",
              "      <th>4</th>\n",
              "      <td>Davide</td>\n",
              "      <td>24</td>\n",
              "      <td>Lecco</td>\n",
              "    </tr>\n",
              "  </tbody>\n",
              "</table>\n",
              "</div>\n",
              "    <div class=\"colab-df-buttons\">\n",
              "\n",
              "  <div class=\"colab-df-container\">\n",
              "    <button class=\"colab-df-convert\" onclick=\"convertToInteractive('df-e67fdc72-d317-49fc-a248-bbdecdacff45')\"\n",
              "            title=\"Convert this dataframe to an interactive table.\"\n",
              "            style=\"display:none;\">\n",
              "\n",
              "  <svg xmlns=\"http://www.w3.org/2000/svg\" height=\"24px\" viewBox=\"0 -960 960 960\">\n",
              "    <path d=\"M120-120v-720h720v720H120Zm60-500h600v-160H180v160Zm220 220h160v-160H400v160Zm0 220h160v-160H400v160ZM180-400h160v-160H180v160Zm440 0h160v-160H620v160ZM180-180h160v-160H180v160Zm440 0h160v-160H620v160Z\"/>\n",
              "  </svg>\n",
              "    </button>\n",
              "\n",
              "  <style>\n",
              "    .colab-df-container {\n",
              "      display:flex;\n",
              "      gap: 12px;\n",
              "    }\n",
              "\n",
              "    .colab-df-convert {\n",
              "      background-color: #E8F0FE;\n",
              "      border: none;\n",
              "      border-radius: 50%;\n",
              "      cursor: pointer;\n",
              "      display: none;\n",
              "      fill: #1967D2;\n",
              "      height: 32px;\n",
              "      padding: 0 0 0 0;\n",
              "      width: 32px;\n",
              "    }\n",
              "\n",
              "    .colab-df-convert:hover {\n",
              "      background-color: #E2EBFA;\n",
              "      box-shadow: 0px 1px 2px rgba(60, 64, 67, 0.3), 0px 1px 3px 1px rgba(60, 64, 67, 0.15);\n",
              "      fill: #174EA6;\n",
              "    }\n",
              "\n",
              "    .colab-df-buttons div {\n",
              "      margin-bottom: 4px;\n",
              "    }\n",
              "\n",
              "    [theme=dark] .colab-df-convert {\n",
              "      background-color: #3B4455;\n",
              "      fill: #D2E3FC;\n",
              "    }\n",
              "\n",
              "    [theme=dark] .colab-df-convert:hover {\n",
              "      background-color: #434B5C;\n",
              "      box-shadow: 0px 1px 3px 1px rgba(0, 0, 0, 0.15);\n",
              "      filter: drop-shadow(0px 1px 2px rgba(0, 0, 0, 0.3));\n",
              "      fill: #FFFFFF;\n",
              "    }\n",
              "  </style>\n",
              "\n",
              "    <script>\n",
              "      const buttonEl =\n",
              "        document.querySelector('#df-e67fdc72-d317-49fc-a248-bbdecdacff45 button.colab-df-convert');\n",
              "      buttonEl.style.display =\n",
              "        google.colab.kernel.accessAllowed ? 'block' : 'none';\n",
              "\n",
              "      async function convertToInteractive(key) {\n",
              "        const element = document.querySelector('#df-e67fdc72-d317-49fc-a248-bbdecdacff45');\n",
              "        const dataTable =\n",
              "          await google.colab.kernel.invokeFunction('convertToInteractive',\n",
              "                                                    [key], {});\n",
              "        if (!dataTable) return;\n",
              "\n",
              "        const docLinkHtml = 'Like what you see? Visit the ' +\n",
              "          '<a target=\"_blank\" href=https://colab.research.google.com/notebooks/data_table.ipynb>data table notebook</a>'\n",
              "          + ' to learn more about interactive tables.';\n",
              "        element.innerHTML = '';\n",
              "        dataTable['output_type'] = 'display_data';\n",
              "        await google.colab.output.renderOutput(dataTable, element);\n",
              "        const docLink = document.createElement('div');\n",
              "        docLink.innerHTML = docLinkHtml;\n",
              "        element.appendChild(docLink);\n",
              "      }\n",
              "    </script>\n",
              "  </div>\n",
              "\n",
              "\n",
              "    <div id=\"df-e81916f2-4e5f-43bd-830a-87825763be90\">\n",
              "      <button class=\"colab-df-quickchart\" onclick=\"quickchart('df-e81916f2-4e5f-43bd-830a-87825763be90')\"\n",
              "                title=\"Suggest charts\"\n",
              "                style=\"display:none;\">\n",
              "\n",
              "<svg xmlns=\"http://www.w3.org/2000/svg\" height=\"24px\"viewBox=\"0 0 24 24\"\n",
              "     width=\"24px\">\n",
              "    <g>\n",
              "        <path d=\"M19 3H5c-1.1 0-2 .9-2 2v14c0 1.1.9 2 2 2h14c1.1 0 2-.9 2-2V5c0-1.1-.9-2-2-2zM9 17H7v-7h2v7zm4 0h-2V7h2v10zm4 0h-2v-4h2v4z\"/>\n",
              "    </g>\n",
              "</svg>\n",
              "      </button>\n",
              "\n",
              "<style>\n",
              "  .colab-df-quickchart {\n",
              "      --bg-color: #E8F0FE;\n",
              "      --fill-color: #1967D2;\n",
              "      --hover-bg-color: #E2EBFA;\n",
              "      --hover-fill-color: #174EA6;\n",
              "      --disabled-fill-color: #AAA;\n",
              "      --disabled-bg-color: #DDD;\n",
              "  }\n",
              "\n",
              "  [theme=dark] .colab-df-quickchart {\n",
              "      --bg-color: #3B4455;\n",
              "      --fill-color: #D2E3FC;\n",
              "      --hover-bg-color: #434B5C;\n",
              "      --hover-fill-color: #FFFFFF;\n",
              "      --disabled-bg-color: #3B4455;\n",
              "      --disabled-fill-color: #666;\n",
              "  }\n",
              "\n",
              "  .colab-df-quickchart {\n",
              "    background-color: var(--bg-color);\n",
              "    border: none;\n",
              "    border-radius: 50%;\n",
              "    cursor: pointer;\n",
              "    display: none;\n",
              "    fill: var(--fill-color);\n",
              "    height: 32px;\n",
              "    padding: 0;\n",
              "    width: 32px;\n",
              "  }\n",
              "\n",
              "  .colab-df-quickchart:hover {\n",
              "    background-color: var(--hover-bg-color);\n",
              "    box-shadow: 0 1px 2px rgba(60, 64, 67, 0.3), 0 1px 3px 1px rgba(60, 64, 67, 0.15);\n",
              "    fill: var(--button-hover-fill-color);\n",
              "  }\n",
              "\n",
              "  .colab-df-quickchart-complete:disabled,\n",
              "  .colab-df-quickchart-complete:disabled:hover {\n",
              "    background-color: var(--disabled-bg-color);\n",
              "    fill: var(--disabled-fill-color);\n",
              "    box-shadow: none;\n",
              "  }\n",
              "\n",
              "  .colab-df-spinner {\n",
              "    border: 2px solid var(--fill-color);\n",
              "    border-color: transparent;\n",
              "    border-bottom-color: var(--fill-color);\n",
              "    animation:\n",
              "      spin 1s steps(1) infinite;\n",
              "  }\n",
              "\n",
              "  @keyframes spin {\n",
              "    0% {\n",
              "      border-color: transparent;\n",
              "      border-bottom-color: var(--fill-color);\n",
              "      border-left-color: var(--fill-color);\n",
              "    }\n",
              "    20% {\n",
              "      border-color: transparent;\n",
              "      border-left-color: var(--fill-color);\n",
              "      border-top-color: var(--fill-color);\n",
              "    }\n",
              "    30% {\n",
              "      border-color: transparent;\n",
              "      border-left-color: var(--fill-color);\n",
              "      border-top-color: var(--fill-color);\n",
              "      border-right-color: var(--fill-color);\n",
              "    }\n",
              "    40% {\n",
              "      border-color: transparent;\n",
              "      border-right-color: var(--fill-color);\n",
              "      border-top-color: var(--fill-color);\n",
              "    }\n",
              "    60% {\n",
              "      border-color: transparent;\n",
              "      border-right-color: var(--fill-color);\n",
              "    }\n",
              "    80% {\n",
              "      border-color: transparent;\n",
              "      border-right-color: var(--fill-color);\n",
              "      border-bottom-color: var(--fill-color);\n",
              "    }\n",
              "    90% {\n",
              "      border-color: transparent;\n",
              "      border-bottom-color: var(--fill-color);\n",
              "    }\n",
              "  }\n",
              "</style>\n",
              "\n",
              "      <script>\n",
              "        async function quickchart(key) {\n",
              "          const quickchartButtonEl =\n",
              "            document.querySelector('#' + key + ' button');\n",
              "          quickchartButtonEl.disabled = true;  // To prevent multiple clicks.\n",
              "          quickchartButtonEl.classList.add('colab-df-spinner');\n",
              "          try {\n",
              "            const charts = await google.colab.kernel.invokeFunction(\n",
              "                'suggestCharts', [key], {});\n",
              "          } catch (error) {\n",
              "            console.error('Error during call to suggestCharts:', error);\n",
              "          }\n",
              "          quickchartButtonEl.classList.remove('colab-df-spinner');\n",
              "          quickchartButtonEl.classList.add('colab-df-quickchart-complete');\n",
              "        }\n",
              "        (() => {\n",
              "          let quickchartButtonEl =\n",
              "            document.querySelector('#df-e81916f2-4e5f-43bd-830a-87825763be90 button');\n",
              "          quickchartButtonEl.style.display =\n",
              "            google.colab.kernel.accessAllowed ? 'block' : 'none';\n",
              "        })();\n",
              "      </script>\n",
              "    </div>\n",
              "\n",
              "  <div id=\"id_4d9fa6ce-558a-4af9-8581-2cf0144c4561\">\n",
              "    <style>\n",
              "      .colab-df-generate {\n",
              "        background-color: #E8F0FE;\n",
              "        border: none;\n",
              "        border-radius: 50%;\n",
              "        cursor: pointer;\n",
              "        display: none;\n",
              "        fill: #1967D2;\n",
              "        height: 32px;\n",
              "        padding: 0 0 0 0;\n",
              "        width: 32px;\n",
              "      }\n",
              "\n",
              "      .colab-df-generate:hover {\n",
              "        background-color: #E2EBFA;\n",
              "        box-shadow: 0px 1px 2px rgba(60, 64, 67, 0.3), 0px 1px 3px 1px rgba(60, 64, 67, 0.15);\n",
              "        fill: #174EA6;\n",
              "      }\n",
              "\n",
              "      [theme=dark] .colab-df-generate {\n",
              "        background-color: #3B4455;\n",
              "        fill: #D2E3FC;\n",
              "      }\n",
              "\n",
              "      [theme=dark] .colab-df-generate:hover {\n",
              "        background-color: #434B5C;\n",
              "        box-shadow: 0px 1px 3px 1px rgba(0, 0, 0, 0.15);\n",
              "        filter: drop-shadow(0px 1px 2px rgba(0, 0, 0, 0.3));\n",
              "        fill: #FFFFFF;\n",
              "      }\n",
              "    </style>\n",
              "    <button class=\"colab-df-generate\" onclick=\"generateWithVariable('df')\"\n",
              "            title=\"Generate code using this dataframe.\"\n",
              "            style=\"display:none;\">\n",
              "\n",
              "  <svg xmlns=\"http://www.w3.org/2000/svg\" height=\"24px\"viewBox=\"0 0 24 24\"\n",
              "       width=\"24px\">\n",
              "    <path d=\"M7,19H8.4L18.45,9,17,7.55,7,17.6ZM5,21V16.75L18.45,3.32a2,2,0,0,1,2.83,0l1.4,1.43a1.91,1.91,0,0,1,.58,1.4,1.91,1.91,0,0,1-.58,1.4L9.25,21ZM18.45,9,17,7.55Zm-12,3A5.31,5.31,0,0,0,4.9,8.1,5.31,5.31,0,0,0,1,6.5,5.31,5.31,0,0,0,4.9,4.9,5.31,5.31,0,0,0,6.5,1,5.31,5.31,0,0,0,8.1,4.9,5.31,5.31,0,0,0,12,6.5,5.46,5.46,0,0,0,6.5,12Z\"/>\n",
              "  </svg>\n",
              "    </button>\n",
              "    <script>\n",
              "      (() => {\n",
              "      const buttonEl =\n",
              "        document.querySelector('#id_4d9fa6ce-558a-4af9-8581-2cf0144c4561 button.colab-df-generate');\n",
              "      buttonEl.style.display =\n",
              "        google.colab.kernel.accessAllowed ? 'block' : 'none';\n",
              "\n",
              "      buttonEl.onclick = () => {\n",
              "        google.colab.notebook.generateWithVariable('df');\n",
              "      }\n",
              "      })();\n",
              "    </script>\n",
              "  </div>\n",
              "\n",
              "    </div>\n",
              "  </div>\n"
            ],
            "application/vnd.google.colaboratory.intrinsic+json": {
              "type": "dataframe",
              "variable_name": "df",
              "summary": "{\n  \"name\": \"df\",\n  \"rows\": 5,\n  \"fields\": [\n    {\n      \"column\": \"Name\",\n      \"properties\": {\n        \"dtype\": \"string\",\n        \"num_unique_values\": 5,\n        \"samples\": [\n          \"Letizia\",\n          \"Davide\",\n          \"Niccolo\"\n        ],\n        \"semantic_type\": \"\",\n        \"description\": \"\"\n      }\n    },\n    {\n      \"column\": \"Age\",\n      \"properties\": {\n        \"dtype\": \"number\",\n        \"std\": 13,\n        \"min\": 21,\n        \"max\": 55,\n        \"num_unique_values\": 5,\n        \"samples\": [\n          25,\n          24,\n          28\n        ],\n        \"semantic_type\": \"\",\n        \"description\": \"\"\n      }\n    },\n    {\n      \"column\": \"City\",\n      \"properties\": {\n        \"dtype\": \"string\",\n        \"num_unique_values\": 5,\n        \"samples\": [\n          \"Torino\",\n          \"Lecco\",\n          \"Roma\"\n        ],\n        \"semantic_type\": \"\",\n        \"description\": \"\"\n      }\n    }\n  ]\n}"
            }
          },
          "metadata": {},
          "execution_count": 106
        }
      ]
    },
    {
      "cell_type": "markdown",
      "source": [
        "Datasets can also be loaded from a csv file.\n",
        "In this case we'll use The Chipotle dataset.\n",
        "\n",
        "It is a collection of order data from the **Chipotle Mexican Grill restaurant**. It includes details such as order numbers, quantities, item names, descriptions, and prices. Each row represents a specific item within a customer's order:\n",
        "\n",
        "\n",
        "\n"
      ],
      "metadata": {
        "id": "JP4i0qbfgCYm"
      }
    },
    {
      "cell_type": "code",
      "source": [
        "# when using Pandas to read data from a file, you can specify the delimiter\n",
        "# using the 'delimiter' parameter in the read_csv() function. For example:\n",
        "#   pd.read_csv('your_file.csv', delimiter=',')  # Use a comma as the delimiter\n",
        "#   pd.read_csv('your_file.tsv', delimiter='\\t')  # Use a tab as the delimiter\n",
        "# now we import a dataset from github\n",
        "url = 'https://raw.githubusercontent.com/justmarkham/DAT8/master/data/chipotle.tsv'\n",
        "chipotle_data = pd.read_csv(url, delimiter='\\t')"
      ],
      "metadata": {
        "id": "YkRjo_-VggFb"
      },
      "execution_count": 107,
      "outputs": []
    },
    {
      "cell_type": "code",
      "source": [
        "chipotle_data.head()    # this will show the first few rows of our dataset"
      ],
      "metadata": {
        "colab": {
          "base_uri": "https://localhost:8080/",
          "height": 206
        },
        "id": "Ot_MASVRgljp",
        "outputId": "b73548ee-59e9-46aa-fb42-ab0f9b36a671"
      },
      "execution_count": 108,
      "outputs": [
        {
          "output_type": "execute_result",
          "data": {
            "text/plain": [
              "   order_id  quantity                              item_name  \\\n",
              "0         1         1           Chips and Fresh Tomato Salsa   \n",
              "1         1         1                                   Izze   \n",
              "2         1         1                       Nantucket Nectar   \n",
              "3         1         1  Chips and Tomatillo-Green Chili Salsa   \n",
              "4         2         2                           Chicken Bowl   \n",
              "\n",
              "                                  choice_description item_price  \n",
              "0                                                NaN     $2.39   \n",
              "1                                       [Clementine]     $3.39   \n",
              "2                                            [Apple]     $3.39   \n",
              "3                                                NaN     $2.39   \n",
              "4  [Tomatillo-Red Chili Salsa (Hot), [Black Beans...    $16.98   "
            ],
            "text/html": [
              "\n",
              "  <div id=\"df-883d3f07-4604-4805-a3f2-4d626ddea45c\" class=\"colab-df-container\">\n",
              "    <div>\n",
              "<style scoped>\n",
              "    .dataframe tbody tr th:only-of-type {\n",
              "        vertical-align: middle;\n",
              "    }\n",
              "\n",
              "    .dataframe tbody tr th {\n",
              "        vertical-align: top;\n",
              "    }\n",
              "\n",
              "    .dataframe thead th {\n",
              "        text-align: right;\n",
              "    }\n",
              "</style>\n",
              "<table border=\"1\" class=\"dataframe\">\n",
              "  <thead>\n",
              "    <tr style=\"text-align: right;\">\n",
              "      <th></th>\n",
              "      <th>order_id</th>\n",
              "      <th>quantity</th>\n",
              "      <th>item_name</th>\n",
              "      <th>choice_description</th>\n",
              "      <th>item_price</th>\n",
              "    </tr>\n",
              "  </thead>\n",
              "  <tbody>\n",
              "    <tr>\n",
              "      <th>0</th>\n",
              "      <td>1</td>\n",
              "      <td>1</td>\n",
              "      <td>Chips and Fresh Tomato Salsa</td>\n",
              "      <td>NaN</td>\n",
              "      <td>$2.39</td>\n",
              "    </tr>\n",
              "    <tr>\n",
              "      <th>1</th>\n",
              "      <td>1</td>\n",
              "      <td>1</td>\n",
              "      <td>Izze</td>\n",
              "      <td>[Clementine]</td>\n",
              "      <td>$3.39</td>\n",
              "    </tr>\n",
              "    <tr>\n",
              "      <th>2</th>\n",
              "      <td>1</td>\n",
              "      <td>1</td>\n",
              "      <td>Nantucket Nectar</td>\n",
              "      <td>[Apple]</td>\n",
              "      <td>$3.39</td>\n",
              "    </tr>\n",
              "    <tr>\n",
              "      <th>3</th>\n",
              "      <td>1</td>\n",
              "      <td>1</td>\n",
              "      <td>Chips and Tomatillo-Green Chili Salsa</td>\n",
              "      <td>NaN</td>\n",
              "      <td>$2.39</td>\n",
              "    </tr>\n",
              "    <tr>\n",
              "      <th>4</th>\n",
              "      <td>2</td>\n",
              "      <td>2</td>\n",
              "      <td>Chicken Bowl</td>\n",
              "      <td>[Tomatillo-Red Chili Salsa (Hot), [Black Beans...</td>\n",
              "      <td>$16.98</td>\n",
              "    </tr>\n",
              "  </tbody>\n",
              "</table>\n",
              "</div>\n",
              "    <div class=\"colab-df-buttons\">\n",
              "\n",
              "  <div class=\"colab-df-container\">\n",
              "    <button class=\"colab-df-convert\" onclick=\"convertToInteractive('df-883d3f07-4604-4805-a3f2-4d626ddea45c')\"\n",
              "            title=\"Convert this dataframe to an interactive table.\"\n",
              "            style=\"display:none;\">\n",
              "\n",
              "  <svg xmlns=\"http://www.w3.org/2000/svg\" height=\"24px\" viewBox=\"0 -960 960 960\">\n",
              "    <path d=\"M120-120v-720h720v720H120Zm60-500h600v-160H180v160Zm220 220h160v-160H400v160Zm0 220h160v-160H400v160ZM180-400h160v-160H180v160Zm440 0h160v-160H620v160ZM180-180h160v-160H180v160Zm440 0h160v-160H620v160Z\"/>\n",
              "  </svg>\n",
              "    </button>\n",
              "\n",
              "  <style>\n",
              "    .colab-df-container {\n",
              "      display:flex;\n",
              "      gap: 12px;\n",
              "    }\n",
              "\n",
              "    .colab-df-convert {\n",
              "      background-color: #E8F0FE;\n",
              "      border: none;\n",
              "      border-radius: 50%;\n",
              "      cursor: pointer;\n",
              "      display: none;\n",
              "      fill: #1967D2;\n",
              "      height: 32px;\n",
              "      padding: 0 0 0 0;\n",
              "      width: 32px;\n",
              "    }\n",
              "\n",
              "    .colab-df-convert:hover {\n",
              "      background-color: #E2EBFA;\n",
              "      box-shadow: 0px 1px 2px rgba(60, 64, 67, 0.3), 0px 1px 3px 1px rgba(60, 64, 67, 0.15);\n",
              "      fill: #174EA6;\n",
              "    }\n",
              "\n",
              "    .colab-df-buttons div {\n",
              "      margin-bottom: 4px;\n",
              "    }\n",
              "\n",
              "    [theme=dark] .colab-df-convert {\n",
              "      background-color: #3B4455;\n",
              "      fill: #D2E3FC;\n",
              "    }\n",
              "\n",
              "    [theme=dark] .colab-df-convert:hover {\n",
              "      background-color: #434B5C;\n",
              "      box-shadow: 0px 1px 3px 1px rgba(0, 0, 0, 0.15);\n",
              "      filter: drop-shadow(0px 1px 2px rgba(0, 0, 0, 0.3));\n",
              "      fill: #FFFFFF;\n",
              "    }\n",
              "  </style>\n",
              "\n",
              "    <script>\n",
              "      const buttonEl =\n",
              "        document.querySelector('#df-883d3f07-4604-4805-a3f2-4d626ddea45c button.colab-df-convert');\n",
              "      buttonEl.style.display =\n",
              "        google.colab.kernel.accessAllowed ? 'block' : 'none';\n",
              "\n",
              "      async function convertToInteractive(key) {\n",
              "        const element = document.querySelector('#df-883d3f07-4604-4805-a3f2-4d626ddea45c');\n",
              "        const dataTable =\n",
              "          await google.colab.kernel.invokeFunction('convertToInteractive',\n",
              "                                                    [key], {});\n",
              "        if (!dataTable) return;\n",
              "\n",
              "        const docLinkHtml = 'Like what you see? Visit the ' +\n",
              "          '<a target=\"_blank\" href=https://colab.research.google.com/notebooks/data_table.ipynb>data table notebook</a>'\n",
              "          + ' to learn more about interactive tables.';\n",
              "        element.innerHTML = '';\n",
              "        dataTable['output_type'] = 'display_data';\n",
              "        await google.colab.output.renderOutput(dataTable, element);\n",
              "        const docLink = document.createElement('div');\n",
              "        docLink.innerHTML = docLinkHtml;\n",
              "        element.appendChild(docLink);\n",
              "      }\n",
              "    </script>\n",
              "  </div>\n",
              "\n",
              "\n",
              "    <div id=\"df-2ba7f186-3f05-41f5-ae71-d7c0ed0af2d1\">\n",
              "      <button class=\"colab-df-quickchart\" onclick=\"quickchart('df-2ba7f186-3f05-41f5-ae71-d7c0ed0af2d1')\"\n",
              "                title=\"Suggest charts\"\n",
              "                style=\"display:none;\">\n",
              "\n",
              "<svg xmlns=\"http://www.w3.org/2000/svg\" height=\"24px\"viewBox=\"0 0 24 24\"\n",
              "     width=\"24px\">\n",
              "    <g>\n",
              "        <path d=\"M19 3H5c-1.1 0-2 .9-2 2v14c0 1.1.9 2 2 2h14c1.1 0 2-.9 2-2V5c0-1.1-.9-2-2-2zM9 17H7v-7h2v7zm4 0h-2V7h2v10zm4 0h-2v-4h2v4z\"/>\n",
              "    </g>\n",
              "</svg>\n",
              "      </button>\n",
              "\n",
              "<style>\n",
              "  .colab-df-quickchart {\n",
              "      --bg-color: #E8F0FE;\n",
              "      --fill-color: #1967D2;\n",
              "      --hover-bg-color: #E2EBFA;\n",
              "      --hover-fill-color: #174EA6;\n",
              "      --disabled-fill-color: #AAA;\n",
              "      --disabled-bg-color: #DDD;\n",
              "  }\n",
              "\n",
              "  [theme=dark] .colab-df-quickchart {\n",
              "      --bg-color: #3B4455;\n",
              "      --fill-color: #D2E3FC;\n",
              "      --hover-bg-color: #434B5C;\n",
              "      --hover-fill-color: #FFFFFF;\n",
              "      --disabled-bg-color: #3B4455;\n",
              "      --disabled-fill-color: #666;\n",
              "  }\n",
              "\n",
              "  .colab-df-quickchart {\n",
              "    background-color: var(--bg-color);\n",
              "    border: none;\n",
              "    border-radius: 50%;\n",
              "    cursor: pointer;\n",
              "    display: none;\n",
              "    fill: var(--fill-color);\n",
              "    height: 32px;\n",
              "    padding: 0;\n",
              "    width: 32px;\n",
              "  }\n",
              "\n",
              "  .colab-df-quickchart:hover {\n",
              "    background-color: var(--hover-bg-color);\n",
              "    box-shadow: 0 1px 2px rgba(60, 64, 67, 0.3), 0 1px 3px 1px rgba(60, 64, 67, 0.15);\n",
              "    fill: var(--button-hover-fill-color);\n",
              "  }\n",
              "\n",
              "  .colab-df-quickchart-complete:disabled,\n",
              "  .colab-df-quickchart-complete:disabled:hover {\n",
              "    background-color: var(--disabled-bg-color);\n",
              "    fill: var(--disabled-fill-color);\n",
              "    box-shadow: none;\n",
              "  }\n",
              "\n",
              "  .colab-df-spinner {\n",
              "    border: 2px solid var(--fill-color);\n",
              "    border-color: transparent;\n",
              "    border-bottom-color: var(--fill-color);\n",
              "    animation:\n",
              "      spin 1s steps(1) infinite;\n",
              "  }\n",
              "\n",
              "  @keyframes spin {\n",
              "    0% {\n",
              "      border-color: transparent;\n",
              "      border-bottom-color: var(--fill-color);\n",
              "      border-left-color: var(--fill-color);\n",
              "    }\n",
              "    20% {\n",
              "      border-color: transparent;\n",
              "      border-left-color: var(--fill-color);\n",
              "      border-top-color: var(--fill-color);\n",
              "    }\n",
              "    30% {\n",
              "      border-color: transparent;\n",
              "      border-left-color: var(--fill-color);\n",
              "      border-top-color: var(--fill-color);\n",
              "      border-right-color: var(--fill-color);\n",
              "    }\n",
              "    40% {\n",
              "      border-color: transparent;\n",
              "      border-right-color: var(--fill-color);\n",
              "      border-top-color: var(--fill-color);\n",
              "    }\n",
              "    60% {\n",
              "      border-color: transparent;\n",
              "      border-right-color: var(--fill-color);\n",
              "    }\n",
              "    80% {\n",
              "      border-color: transparent;\n",
              "      border-right-color: var(--fill-color);\n",
              "      border-bottom-color: var(--fill-color);\n",
              "    }\n",
              "    90% {\n",
              "      border-color: transparent;\n",
              "      border-bottom-color: var(--fill-color);\n",
              "    }\n",
              "  }\n",
              "</style>\n",
              "\n",
              "      <script>\n",
              "        async function quickchart(key) {\n",
              "          const quickchartButtonEl =\n",
              "            document.querySelector('#' + key + ' button');\n",
              "          quickchartButtonEl.disabled = true;  // To prevent multiple clicks.\n",
              "          quickchartButtonEl.classList.add('colab-df-spinner');\n",
              "          try {\n",
              "            const charts = await google.colab.kernel.invokeFunction(\n",
              "                'suggestCharts', [key], {});\n",
              "          } catch (error) {\n",
              "            console.error('Error during call to suggestCharts:', error);\n",
              "          }\n",
              "          quickchartButtonEl.classList.remove('colab-df-spinner');\n",
              "          quickchartButtonEl.classList.add('colab-df-quickchart-complete');\n",
              "        }\n",
              "        (() => {\n",
              "          let quickchartButtonEl =\n",
              "            document.querySelector('#df-2ba7f186-3f05-41f5-ae71-d7c0ed0af2d1 button');\n",
              "          quickchartButtonEl.style.display =\n",
              "            google.colab.kernel.accessAllowed ? 'block' : 'none';\n",
              "        })();\n",
              "      </script>\n",
              "    </div>\n",
              "\n",
              "    </div>\n",
              "  </div>\n"
            ],
            "application/vnd.google.colaboratory.intrinsic+json": {
              "type": "dataframe",
              "variable_name": "chipotle_data",
              "summary": "{\n  \"name\": \"chipotle_data\",\n  \"rows\": 4622,\n  \"fields\": [\n    {\n      \"column\": \"order_id\",\n      \"properties\": {\n        \"dtype\": \"number\",\n        \"std\": 528,\n        \"min\": 1,\n        \"max\": 1834,\n        \"num_unique_values\": 1834,\n        \"samples\": [\n          644,\n          333,\n          991\n        ],\n        \"semantic_type\": \"\",\n        \"description\": \"\"\n      }\n    },\n    {\n      \"column\": \"quantity\",\n      \"properties\": {\n        \"dtype\": \"number\",\n        \"std\": 0,\n        \"min\": 1,\n        \"max\": 15,\n        \"num_unique_values\": 9,\n        \"samples\": [\n          8,\n          2,\n          15\n        ],\n        \"semantic_type\": \"\",\n        \"description\": \"\"\n      }\n    },\n    {\n      \"column\": \"item_name\",\n      \"properties\": {\n        \"dtype\": \"category\",\n        \"num_unique_values\": 50,\n        \"samples\": [\n          \"Barbacoa Burrito\",\n          \"Crispy Tacos\",\n          \"Chips and Roasted Chili Corn Salsa\"\n        ],\n        \"semantic_type\": \"\",\n        \"description\": \"\"\n      }\n    },\n    {\n      \"column\": \"choice_description\",\n      \"properties\": {\n        \"dtype\": \"category\",\n        \"num_unique_values\": 1043,\n        \"samples\": [\n          \"[Roasted Chili Corn Salsa, [Black Beans, Sour Cream, Cheese, Guacamole]]\",\n          \"[Tomatillo Red Chili Salsa, [Guacamole, Cheese]]\",\n          \"[Fresh Tomato Salsa, [Rice, Cheese, Sour Cream, Guacamole, Lettuce]]\"\n        ],\n        \"semantic_type\": \"\",\n        \"description\": \"\"\n      }\n    },\n    {\n      \"column\": \"item_price\",\n      \"properties\": {\n        \"dtype\": \"category\",\n        \"num_unique_values\": 78,\n        \"samples\": [\n          \"$23.50 \",\n          \"$2.39 \",\n          \"$7.40 \"\n        ],\n        \"semantic_type\": \"\",\n        \"description\": \"\"\n      }\n    }\n  ]\n}"
            }
          },
          "metadata": {},
          "execution_count": 108
        }
      ]
    },
    {
      "cell_type": "markdown",
      "source": [
        "### Basic DataFrame operations"
      ],
      "metadata": {
        "id": "lW-L1TGjjU37"
      }
    },
    {
      "cell_type": "markdown",
      "source": [
        "Now we move on to operations on dataframes.\n",
        "\n",
        "We start by seeing how to select column, first one column:"
      ],
      "metadata": {
        "id": "8qjhuqm9lVkb"
      }
    },
    {
      "cell_type": "code",
      "source": [
        "item_names = chipotle_data['item_name']\n",
        "item_names"
      ],
      "metadata": {
        "id": "luObduAkksmq",
        "colab": {
          "base_uri": "https://localhost:8080/",
          "height": 458
        },
        "outputId": "1d4298ea-0acb-4e07-eddc-1cd1850c5b4b"
      },
      "execution_count": 109,
      "outputs": [
        {
          "output_type": "execute_result",
          "data": {
            "text/plain": [
              "0                Chips and Fresh Tomato Salsa\n",
              "1                                        Izze\n",
              "2                            Nantucket Nectar\n",
              "3       Chips and Tomatillo-Green Chili Salsa\n",
              "4                                Chicken Bowl\n",
              "                        ...                  \n",
              "4617                            Steak Burrito\n",
              "4618                            Steak Burrito\n",
              "4619                       Chicken Salad Bowl\n",
              "4620                       Chicken Salad Bowl\n",
              "4621                       Chicken Salad Bowl\n",
              "Name: item_name, Length: 4622, dtype: object"
            ],
            "text/html": [
              "<div>\n",
              "<style scoped>\n",
              "    .dataframe tbody tr th:only-of-type {\n",
              "        vertical-align: middle;\n",
              "    }\n",
              "\n",
              "    .dataframe tbody tr th {\n",
              "        vertical-align: top;\n",
              "    }\n",
              "\n",
              "    .dataframe thead th {\n",
              "        text-align: right;\n",
              "    }\n",
              "</style>\n",
              "<table border=\"1\" class=\"dataframe\">\n",
              "  <thead>\n",
              "    <tr style=\"text-align: right;\">\n",
              "      <th></th>\n",
              "      <th>item_name</th>\n",
              "    </tr>\n",
              "  </thead>\n",
              "  <tbody>\n",
              "    <tr>\n",
              "      <th>0</th>\n",
              "      <td>Chips and Fresh Tomato Salsa</td>\n",
              "    </tr>\n",
              "    <tr>\n",
              "      <th>1</th>\n",
              "      <td>Izze</td>\n",
              "    </tr>\n",
              "    <tr>\n",
              "      <th>2</th>\n",
              "      <td>Nantucket Nectar</td>\n",
              "    </tr>\n",
              "    <tr>\n",
              "      <th>3</th>\n",
              "      <td>Chips and Tomatillo-Green Chili Salsa</td>\n",
              "    </tr>\n",
              "    <tr>\n",
              "      <th>4</th>\n",
              "      <td>Chicken Bowl</td>\n",
              "    </tr>\n",
              "    <tr>\n",
              "      <th>...</th>\n",
              "      <td>...</td>\n",
              "    </tr>\n",
              "    <tr>\n",
              "      <th>4617</th>\n",
              "      <td>Steak Burrito</td>\n",
              "    </tr>\n",
              "    <tr>\n",
              "      <th>4618</th>\n",
              "      <td>Steak Burrito</td>\n",
              "    </tr>\n",
              "    <tr>\n",
              "      <th>4619</th>\n",
              "      <td>Chicken Salad Bowl</td>\n",
              "    </tr>\n",
              "    <tr>\n",
              "      <th>4620</th>\n",
              "      <td>Chicken Salad Bowl</td>\n",
              "    </tr>\n",
              "    <tr>\n",
              "      <th>4621</th>\n",
              "      <td>Chicken Salad Bowl</td>\n",
              "    </tr>\n",
              "  </tbody>\n",
              "</table>\n",
              "<p>4622 rows × 1 columns</p>\n",
              "</div><br><label><b>dtype:</b> object</label>"
            ]
          },
          "metadata": {},
          "execution_count": 109
        }
      ]
    },
    {
      "cell_type": "markdown",
      "source": [
        "Then multiple columns:"
      ],
      "metadata": {
        "id": "R5wEQzHfes7K"
      }
    },
    {
      "cell_type": "code",
      "source": [
        "# selecting multiple columns\n",
        "selected_columns = chipotle_data[['order_id', 'quantity', 'item_name']]\n",
        "selected_columns"
      ],
      "metadata": {
        "colab": {
          "base_uri": "https://localhost:8080/",
          "height": 423
        },
        "id": "n1CxxwJAkscr",
        "outputId": "8fab44d1-af0b-47ab-b795-199950e5c37a"
      },
      "execution_count": 110,
      "outputs": [
        {
          "output_type": "execute_result",
          "data": {
            "text/plain": [
              "      order_id  quantity                              item_name\n",
              "0            1         1           Chips and Fresh Tomato Salsa\n",
              "1            1         1                                   Izze\n",
              "2            1         1                       Nantucket Nectar\n",
              "3            1         1  Chips and Tomatillo-Green Chili Salsa\n",
              "4            2         2                           Chicken Bowl\n",
              "...        ...       ...                                    ...\n",
              "4617      1833         1                          Steak Burrito\n",
              "4618      1833         1                          Steak Burrito\n",
              "4619      1834         1                     Chicken Salad Bowl\n",
              "4620      1834         1                     Chicken Salad Bowl\n",
              "4621      1834         1                     Chicken Salad Bowl\n",
              "\n",
              "[4622 rows x 3 columns]"
            ],
            "text/html": [
              "\n",
              "  <div id=\"df-7707031b-f09f-4954-a78d-43bc08feb211\" class=\"colab-df-container\">\n",
              "    <div>\n",
              "<style scoped>\n",
              "    .dataframe tbody tr th:only-of-type {\n",
              "        vertical-align: middle;\n",
              "    }\n",
              "\n",
              "    .dataframe tbody tr th {\n",
              "        vertical-align: top;\n",
              "    }\n",
              "\n",
              "    .dataframe thead th {\n",
              "        text-align: right;\n",
              "    }\n",
              "</style>\n",
              "<table border=\"1\" class=\"dataframe\">\n",
              "  <thead>\n",
              "    <tr style=\"text-align: right;\">\n",
              "      <th></th>\n",
              "      <th>order_id</th>\n",
              "      <th>quantity</th>\n",
              "      <th>item_name</th>\n",
              "    </tr>\n",
              "  </thead>\n",
              "  <tbody>\n",
              "    <tr>\n",
              "      <th>0</th>\n",
              "      <td>1</td>\n",
              "      <td>1</td>\n",
              "      <td>Chips and Fresh Tomato Salsa</td>\n",
              "    </tr>\n",
              "    <tr>\n",
              "      <th>1</th>\n",
              "      <td>1</td>\n",
              "      <td>1</td>\n",
              "      <td>Izze</td>\n",
              "    </tr>\n",
              "    <tr>\n",
              "      <th>2</th>\n",
              "      <td>1</td>\n",
              "      <td>1</td>\n",
              "      <td>Nantucket Nectar</td>\n",
              "    </tr>\n",
              "    <tr>\n",
              "      <th>3</th>\n",
              "      <td>1</td>\n",
              "      <td>1</td>\n",
              "      <td>Chips and Tomatillo-Green Chili Salsa</td>\n",
              "    </tr>\n",
              "    <tr>\n",
              "      <th>4</th>\n",
              "      <td>2</td>\n",
              "      <td>2</td>\n",
              "      <td>Chicken Bowl</td>\n",
              "    </tr>\n",
              "    <tr>\n",
              "      <th>...</th>\n",
              "      <td>...</td>\n",
              "      <td>...</td>\n",
              "      <td>...</td>\n",
              "    </tr>\n",
              "    <tr>\n",
              "      <th>4617</th>\n",
              "      <td>1833</td>\n",
              "      <td>1</td>\n",
              "      <td>Steak Burrito</td>\n",
              "    </tr>\n",
              "    <tr>\n",
              "      <th>4618</th>\n",
              "      <td>1833</td>\n",
              "      <td>1</td>\n",
              "      <td>Steak Burrito</td>\n",
              "    </tr>\n",
              "    <tr>\n",
              "      <th>4619</th>\n",
              "      <td>1834</td>\n",
              "      <td>1</td>\n",
              "      <td>Chicken Salad Bowl</td>\n",
              "    </tr>\n",
              "    <tr>\n",
              "      <th>4620</th>\n",
              "      <td>1834</td>\n",
              "      <td>1</td>\n",
              "      <td>Chicken Salad Bowl</td>\n",
              "    </tr>\n",
              "    <tr>\n",
              "      <th>4621</th>\n",
              "      <td>1834</td>\n",
              "      <td>1</td>\n",
              "      <td>Chicken Salad Bowl</td>\n",
              "    </tr>\n",
              "  </tbody>\n",
              "</table>\n",
              "<p>4622 rows × 3 columns</p>\n",
              "</div>\n",
              "    <div class=\"colab-df-buttons\">\n",
              "\n",
              "  <div class=\"colab-df-container\">\n",
              "    <button class=\"colab-df-convert\" onclick=\"convertToInteractive('df-7707031b-f09f-4954-a78d-43bc08feb211')\"\n",
              "            title=\"Convert this dataframe to an interactive table.\"\n",
              "            style=\"display:none;\">\n",
              "\n",
              "  <svg xmlns=\"http://www.w3.org/2000/svg\" height=\"24px\" viewBox=\"0 -960 960 960\">\n",
              "    <path d=\"M120-120v-720h720v720H120Zm60-500h600v-160H180v160Zm220 220h160v-160H400v160Zm0 220h160v-160H400v160ZM180-400h160v-160H180v160Zm440 0h160v-160H620v160ZM180-180h160v-160H180v160Zm440 0h160v-160H620v160Z\"/>\n",
              "  </svg>\n",
              "    </button>\n",
              "\n",
              "  <style>\n",
              "    .colab-df-container {\n",
              "      display:flex;\n",
              "      gap: 12px;\n",
              "    }\n",
              "\n",
              "    .colab-df-convert {\n",
              "      background-color: #E8F0FE;\n",
              "      border: none;\n",
              "      border-radius: 50%;\n",
              "      cursor: pointer;\n",
              "      display: none;\n",
              "      fill: #1967D2;\n",
              "      height: 32px;\n",
              "      padding: 0 0 0 0;\n",
              "      width: 32px;\n",
              "    }\n",
              "\n",
              "    .colab-df-convert:hover {\n",
              "      background-color: #E2EBFA;\n",
              "      box-shadow: 0px 1px 2px rgba(60, 64, 67, 0.3), 0px 1px 3px 1px rgba(60, 64, 67, 0.15);\n",
              "      fill: #174EA6;\n",
              "    }\n",
              "\n",
              "    .colab-df-buttons div {\n",
              "      margin-bottom: 4px;\n",
              "    }\n",
              "\n",
              "    [theme=dark] .colab-df-convert {\n",
              "      background-color: #3B4455;\n",
              "      fill: #D2E3FC;\n",
              "    }\n",
              "\n",
              "    [theme=dark] .colab-df-convert:hover {\n",
              "      background-color: #434B5C;\n",
              "      box-shadow: 0px 1px 3px 1px rgba(0, 0, 0, 0.15);\n",
              "      filter: drop-shadow(0px 1px 2px rgba(0, 0, 0, 0.3));\n",
              "      fill: #FFFFFF;\n",
              "    }\n",
              "  </style>\n",
              "\n",
              "    <script>\n",
              "      const buttonEl =\n",
              "        document.querySelector('#df-7707031b-f09f-4954-a78d-43bc08feb211 button.colab-df-convert');\n",
              "      buttonEl.style.display =\n",
              "        google.colab.kernel.accessAllowed ? 'block' : 'none';\n",
              "\n",
              "      async function convertToInteractive(key) {\n",
              "        const element = document.querySelector('#df-7707031b-f09f-4954-a78d-43bc08feb211');\n",
              "        const dataTable =\n",
              "          await google.colab.kernel.invokeFunction('convertToInteractive',\n",
              "                                                    [key], {});\n",
              "        if (!dataTable) return;\n",
              "\n",
              "        const docLinkHtml = 'Like what you see? Visit the ' +\n",
              "          '<a target=\"_blank\" href=https://colab.research.google.com/notebooks/data_table.ipynb>data table notebook</a>'\n",
              "          + ' to learn more about interactive tables.';\n",
              "        element.innerHTML = '';\n",
              "        dataTable['output_type'] = 'display_data';\n",
              "        await google.colab.output.renderOutput(dataTable, element);\n",
              "        const docLink = document.createElement('div');\n",
              "        docLink.innerHTML = docLinkHtml;\n",
              "        element.appendChild(docLink);\n",
              "      }\n",
              "    </script>\n",
              "  </div>\n",
              "\n",
              "\n",
              "    <div id=\"df-c50cbb5a-966c-4579-99fa-ab8755a5cc70\">\n",
              "      <button class=\"colab-df-quickchart\" onclick=\"quickchart('df-c50cbb5a-966c-4579-99fa-ab8755a5cc70')\"\n",
              "                title=\"Suggest charts\"\n",
              "                style=\"display:none;\">\n",
              "\n",
              "<svg xmlns=\"http://www.w3.org/2000/svg\" height=\"24px\"viewBox=\"0 0 24 24\"\n",
              "     width=\"24px\">\n",
              "    <g>\n",
              "        <path d=\"M19 3H5c-1.1 0-2 .9-2 2v14c0 1.1.9 2 2 2h14c1.1 0 2-.9 2-2V5c0-1.1-.9-2-2-2zM9 17H7v-7h2v7zm4 0h-2V7h2v10zm4 0h-2v-4h2v4z\"/>\n",
              "    </g>\n",
              "</svg>\n",
              "      </button>\n",
              "\n",
              "<style>\n",
              "  .colab-df-quickchart {\n",
              "      --bg-color: #E8F0FE;\n",
              "      --fill-color: #1967D2;\n",
              "      --hover-bg-color: #E2EBFA;\n",
              "      --hover-fill-color: #174EA6;\n",
              "      --disabled-fill-color: #AAA;\n",
              "      --disabled-bg-color: #DDD;\n",
              "  }\n",
              "\n",
              "  [theme=dark] .colab-df-quickchart {\n",
              "      --bg-color: #3B4455;\n",
              "      --fill-color: #D2E3FC;\n",
              "      --hover-bg-color: #434B5C;\n",
              "      --hover-fill-color: #FFFFFF;\n",
              "      --disabled-bg-color: #3B4455;\n",
              "      --disabled-fill-color: #666;\n",
              "  }\n",
              "\n",
              "  .colab-df-quickchart {\n",
              "    background-color: var(--bg-color);\n",
              "    border: none;\n",
              "    border-radius: 50%;\n",
              "    cursor: pointer;\n",
              "    display: none;\n",
              "    fill: var(--fill-color);\n",
              "    height: 32px;\n",
              "    padding: 0;\n",
              "    width: 32px;\n",
              "  }\n",
              "\n",
              "  .colab-df-quickchart:hover {\n",
              "    background-color: var(--hover-bg-color);\n",
              "    box-shadow: 0 1px 2px rgba(60, 64, 67, 0.3), 0 1px 3px 1px rgba(60, 64, 67, 0.15);\n",
              "    fill: var(--button-hover-fill-color);\n",
              "  }\n",
              "\n",
              "  .colab-df-quickchart-complete:disabled,\n",
              "  .colab-df-quickchart-complete:disabled:hover {\n",
              "    background-color: var(--disabled-bg-color);\n",
              "    fill: var(--disabled-fill-color);\n",
              "    box-shadow: none;\n",
              "  }\n",
              "\n",
              "  .colab-df-spinner {\n",
              "    border: 2px solid var(--fill-color);\n",
              "    border-color: transparent;\n",
              "    border-bottom-color: var(--fill-color);\n",
              "    animation:\n",
              "      spin 1s steps(1) infinite;\n",
              "  }\n",
              "\n",
              "  @keyframes spin {\n",
              "    0% {\n",
              "      border-color: transparent;\n",
              "      border-bottom-color: var(--fill-color);\n",
              "      border-left-color: var(--fill-color);\n",
              "    }\n",
              "    20% {\n",
              "      border-color: transparent;\n",
              "      border-left-color: var(--fill-color);\n",
              "      border-top-color: var(--fill-color);\n",
              "    }\n",
              "    30% {\n",
              "      border-color: transparent;\n",
              "      border-left-color: var(--fill-color);\n",
              "      border-top-color: var(--fill-color);\n",
              "      border-right-color: var(--fill-color);\n",
              "    }\n",
              "    40% {\n",
              "      border-color: transparent;\n",
              "      border-right-color: var(--fill-color);\n",
              "      border-top-color: var(--fill-color);\n",
              "    }\n",
              "    60% {\n",
              "      border-color: transparent;\n",
              "      border-right-color: var(--fill-color);\n",
              "    }\n",
              "    80% {\n",
              "      border-color: transparent;\n",
              "      border-right-color: var(--fill-color);\n",
              "      border-bottom-color: var(--fill-color);\n",
              "    }\n",
              "    90% {\n",
              "      border-color: transparent;\n",
              "      border-bottom-color: var(--fill-color);\n",
              "    }\n",
              "  }\n",
              "</style>\n",
              "\n",
              "      <script>\n",
              "        async function quickchart(key) {\n",
              "          const quickchartButtonEl =\n",
              "            document.querySelector('#' + key + ' button');\n",
              "          quickchartButtonEl.disabled = true;  // To prevent multiple clicks.\n",
              "          quickchartButtonEl.classList.add('colab-df-spinner');\n",
              "          try {\n",
              "            const charts = await google.colab.kernel.invokeFunction(\n",
              "                'suggestCharts', [key], {});\n",
              "          } catch (error) {\n",
              "            console.error('Error during call to suggestCharts:', error);\n",
              "          }\n",
              "          quickchartButtonEl.classList.remove('colab-df-spinner');\n",
              "          quickchartButtonEl.classList.add('colab-df-quickchart-complete');\n",
              "        }\n",
              "        (() => {\n",
              "          let quickchartButtonEl =\n",
              "            document.querySelector('#df-c50cbb5a-966c-4579-99fa-ab8755a5cc70 button');\n",
              "          quickchartButtonEl.style.display =\n",
              "            google.colab.kernel.accessAllowed ? 'block' : 'none';\n",
              "        })();\n",
              "      </script>\n",
              "    </div>\n",
              "\n",
              "  <div id=\"id_4da08067-879f-4616-97be-00f7b198a5ea\">\n",
              "    <style>\n",
              "      .colab-df-generate {\n",
              "        background-color: #E8F0FE;\n",
              "        border: none;\n",
              "        border-radius: 50%;\n",
              "        cursor: pointer;\n",
              "        display: none;\n",
              "        fill: #1967D2;\n",
              "        height: 32px;\n",
              "        padding: 0 0 0 0;\n",
              "        width: 32px;\n",
              "      }\n",
              "\n",
              "      .colab-df-generate:hover {\n",
              "        background-color: #E2EBFA;\n",
              "        box-shadow: 0px 1px 2px rgba(60, 64, 67, 0.3), 0px 1px 3px 1px rgba(60, 64, 67, 0.15);\n",
              "        fill: #174EA6;\n",
              "      }\n",
              "\n",
              "      [theme=dark] .colab-df-generate {\n",
              "        background-color: #3B4455;\n",
              "        fill: #D2E3FC;\n",
              "      }\n",
              "\n",
              "      [theme=dark] .colab-df-generate:hover {\n",
              "        background-color: #434B5C;\n",
              "        box-shadow: 0px 1px 3px 1px rgba(0, 0, 0, 0.15);\n",
              "        filter: drop-shadow(0px 1px 2px rgba(0, 0, 0, 0.3));\n",
              "        fill: #FFFFFF;\n",
              "      }\n",
              "    </style>\n",
              "    <button class=\"colab-df-generate\" onclick=\"generateWithVariable('selected_columns')\"\n",
              "            title=\"Generate code using this dataframe.\"\n",
              "            style=\"display:none;\">\n",
              "\n",
              "  <svg xmlns=\"http://www.w3.org/2000/svg\" height=\"24px\"viewBox=\"0 0 24 24\"\n",
              "       width=\"24px\">\n",
              "    <path d=\"M7,19H8.4L18.45,9,17,7.55,7,17.6ZM5,21V16.75L18.45,3.32a2,2,0,0,1,2.83,0l1.4,1.43a1.91,1.91,0,0,1,.58,1.4,1.91,1.91,0,0,1-.58,1.4L9.25,21ZM18.45,9,17,7.55Zm-12,3A5.31,5.31,0,0,0,4.9,8.1,5.31,5.31,0,0,0,1,6.5,5.31,5.31,0,0,0,4.9,4.9,5.31,5.31,0,0,0,6.5,1,5.31,5.31,0,0,0,8.1,4.9,5.31,5.31,0,0,0,12,6.5,5.46,5.46,0,0,0,6.5,12Z\"/>\n",
              "  </svg>\n",
              "    </button>\n",
              "    <script>\n",
              "      (() => {\n",
              "      const buttonEl =\n",
              "        document.querySelector('#id_4da08067-879f-4616-97be-00f7b198a5ea button.colab-df-generate');\n",
              "      buttonEl.style.display =\n",
              "        google.colab.kernel.accessAllowed ? 'block' : 'none';\n",
              "\n",
              "      buttonEl.onclick = () => {\n",
              "        google.colab.notebook.generateWithVariable('selected_columns');\n",
              "      }\n",
              "      })();\n",
              "    </script>\n",
              "  </div>\n",
              "\n",
              "    </div>\n",
              "  </div>\n"
            ],
            "application/vnd.google.colaboratory.intrinsic+json": {
              "type": "dataframe",
              "variable_name": "selected_columns",
              "summary": "{\n  \"name\": \"selected_columns\",\n  \"rows\": 4622,\n  \"fields\": [\n    {\n      \"column\": \"order_id\",\n      \"properties\": {\n        \"dtype\": \"number\",\n        \"std\": 528,\n        \"min\": 1,\n        \"max\": 1834,\n        \"num_unique_values\": 1834,\n        \"samples\": [\n          644,\n          333,\n          991\n        ],\n        \"semantic_type\": \"\",\n        \"description\": \"\"\n      }\n    },\n    {\n      \"column\": \"quantity\",\n      \"properties\": {\n        \"dtype\": \"number\",\n        \"std\": 0,\n        \"min\": 1,\n        \"max\": 15,\n        \"num_unique_values\": 9,\n        \"samples\": [\n          8,\n          2,\n          15\n        ],\n        \"semantic_type\": \"\",\n        \"description\": \"\"\n      }\n    },\n    {\n      \"column\": \"item_name\",\n      \"properties\": {\n        \"dtype\": \"category\",\n        \"num_unique_values\": 50,\n        \"samples\": [\n          \"Barbacoa Burrito\",\n          \"Crispy Tacos\",\n          \"Chips and Roasted Chili Corn Salsa\"\n        ],\n        \"semantic_type\": \"\",\n        \"description\": \"\"\n      }\n    }\n  ]\n}"
            }
          },
          "metadata": {},
          "execution_count": 110
        }
      ]
    },
    {
      "cell_type": "markdown",
      "source": [
        "We can also filter rows based on a condition:"
      ],
      "metadata": {
        "id": "lYAXz0ogUXjO"
      }
    },
    {
      "cell_type": "code",
      "source": [
        "# we only want the vegetarian options. We need all the elements with \"Veggie\" in the name\n",
        "vegetarian_items = chipotle_data[chipotle_data['item_name'].str.contains('Veggie')]\n",
        "vegetarian_items"
      ],
      "metadata": {
        "colab": {
          "base_uri": "https://localhost:8080/",
          "height": 423
        },
        "id": "DhvSjZW5ksQc",
        "outputId": "39dcad35-3a8a-4915-e741-fb7654029074"
      },
      "execution_count": 111,
      "outputs": [
        {
          "output_type": "execute_result",
          "data": {
            "text/plain": [
              "      order_id  quantity          item_name  \\\n",
              "57          26         1     Veggie Burrito   \n",
              "62          28         1        Veggie Bowl   \n",
              "85          38         1        Veggie Bowl   \n",
              "104         46         1     Veggie Burrito   \n",
              "143         64         1        Veggie Bowl   \n",
              "...        ...       ...                ...   \n",
              "4519      1797         1     Veggie Burrito   \n",
              "4541      1805         1  Veggie Salad Bowl   \n",
              "4573      1818         1  Veggie Salad Bowl   \n",
              "4608      1829         1     Veggie Burrito   \n",
              "4611      1830         1     Veggie Burrito   \n",
              "\n",
              "                                     choice_description item_price  \n",
              "57    [Tomatillo Red Chili Salsa, [Fajita Vegetables...    $11.25   \n",
              "62    [Fresh Tomato Salsa, [Fajita Vegetables, Rice,...    $11.25   \n",
              "85    [Tomatillo-Red Chili Salsa (Hot), [Pinto Beans...     $8.49   \n",
              "104   [Fresh Tomato Salsa (Mild), [Black Beans, Rice...     $8.49   \n",
              "143   [Tomatillo Red Chili Salsa, [Fajita Vegetables...    $11.25   \n",
              "...                                                 ...        ...  \n",
              "4519  [Fresh Tomato Salsa, [Rice, Pinto Beans, Cheese]]     $8.75   \n",
              "4541  [Tomatillo Green Chili Salsa, [Fajita Vegetabl...     $8.75   \n",
              "4573  [Fresh Tomato Salsa, [Fajita Vegetables, Pinto...     $8.75   \n",
              "4608  [Tomatillo Red Chili Salsa, [Fajita Vegetables...    $11.25   \n",
              "4611  [Tomatillo Green Chili Salsa, [Rice, Fajita Ve...    $11.25   \n",
              "\n",
              "[212 rows x 5 columns]"
            ],
            "text/html": [
              "\n",
              "  <div id=\"df-131e0b1b-7f56-4270-8d75-e410d96f702d\" class=\"colab-df-container\">\n",
              "    <div>\n",
              "<style scoped>\n",
              "    .dataframe tbody tr th:only-of-type {\n",
              "        vertical-align: middle;\n",
              "    }\n",
              "\n",
              "    .dataframe tbody tr th {\n",
              "        vertical-align: top;\n",
              "    }\n",
              "\n",
              "    .dataframe thead th {\n",
              "        text-align: right;\n",
              "    }\n",
              "</style>\n",
              "<table border=\"1\" class=\"dataframe\">\n",
              "  <thead>\n",
              "    <tr style=\"text-align: right;\">\n",
              "      <th></th>\n",
              "      <th>order_id</th>\n",
              "      <th>quantity</th>\n",
              "      <th>item_name</th>\n",
              "      <th>choice_description</th>\n",
              "      <th>item_price</th>\n",
              "    </tr>\n",
              "  </thead>\n",
              "  <tbody>\n",
              "    <tr>\n",
              "      <th>57</th>\n",
              "      <td>26</td>\n",
              "      <td>1</td>\n",
              "      <td>Veggie Burrito</td>\n",
              "      <td>[Tomatillo Red Chili Salsa, [Fajita Vegetables...</td>\n",
              "      <td>$11.25</td>\n",
              "    </tr>\n",
              "    <tr>\n",
              "      <th>62</th>\n",
              "      <td>28</td>\n",
              "      <td>1</td>\n",
              "      <td>Veggie Bowl</td>\n",
              "      <td>[Fresh Tomato Salsa, [Fajita Vegetables, Rice,...</td>\n",
              "      <td>$11.25</td>\n",
              "    </tr>\n",
              "    <tr>\n",
              "      <th>85</th>\n",
              "      <td>38</td>\n",
              "      <td>1</td>\n",
              "      <td>Veggie Bowl</td>\n",
              "      <td>[Tomatillo-Red Chili Salsa (Hot), [Pinto Beans...</td>\n",
              "      <td>$8.49</td>\n",
              "    </tr>\n",
              "    <tr>\n",
              "      <th>104</th>\n",
              "      <td>46</td>\n",
              "      <td>1</td>\n",
              "      <td>Veggie Burrito</td>\n",
              "      <td>[Fresh Tomato Salsa (Mild), [Black Beans, Rice...</td>\n",
              "      <td>$8.49</td>\n",
              "    </tr>\n",
              "    <tr>\n",
              "      <th>143</th>\n",
              "      <td>64</td>\n",
              "      <td>1</td>\n",
              "      <td>Veggie Bowl</td>\n",
              "      <td>[Tomatillo Red Chili Salsa, [Fajita Vegetables...</td>\n",
              "      <td>$11.25</td>\n",
              "    </tr>\n",
              "    <tr>\n",
              "      <th>...</th>\n",
              "      <td>...</td>\n",
              "      <td>...</td>\n",
              "      <td>...</td>\n",
              "      <td>...</td>\n",
              "      <td>...</td>\n",
              "    </tr>\n",
              "    <tr>\n",
              "      <th>4519</th>\n",
              "      <td>1797</td>\n",
              "      <td>1</td>\n",
              "      <td>Veggie Burrito</td>\n",
              "      <td>[Fresh Tomato Salsa, [Rice, Pinto Beans, Cheese]]</td>\n",
              "      <td>$8.75</td>\n",
              "    </tr>\n",
              "    <tr>\n",
              "      <th>4541</th>\n",
              "      <td>1805</td>\n",
              "      <td>1</td>\n",
              "      <td>Veggie Salad Bowl</td>\n",
              "      <td>[Tomatillo Green Chili Salsa, [Fajita Vegetabl...</td>\n",
              "      <td>$8.75</td>\n",
              "    </tr>\n",
              "    <tr>\n",
              "      <th>4573</th>\n",
              "      <td>1818</td>\n",
              "      <td>1</td>\n",
              "      <td>Veggie Salad Bowl</td>\n",
              "      <td>[Fresh Tomato Salsa, [Fajita Vegetables, Pinto...</td>\n",
              "      <td>$8.75</td>\n",
              "    </tr>\n",
              "    <tr>\n",
              "      <th>4608</th>\n",
              "      <td>1829</td>\n",
              "      <td>1</td>\n",
              "      <td>Veggie Burrito</td>\n",
              "      <td>[Tomatillo Red Chili Salsa, [Fajita Vegetables...</td>\n",
              "      <td>$11.25</td>\n",
              "    </tr>\n",
              "    <tr>\n",
              "      <th>4611</th>\n",
              "      <td>1830</td>\n",
              "      <td>1</td>\n",
              "      <td>Veggie Burrito</td>\n",
              "      <td>[Tomatillo Green Chili Salsa, [Rice, Fajita Ve...</td>\n",
              "      <td>$11.25</td>\n",
              "    </tr>\n",
              "  </tbody>\n",
              "</table>\n",
              "<p>212 rows × 5 columns</p>\n",
              "</div>\n",
              "    <div class=\"colab-df-buttons\">\n",
              "\n",
              "  <div class=\"colab-df-container\">\n",
              "    <button class=\"colab-df-convert\" onclick=\"convertToInteractive('df-131e0b1b-7f56-4270-8d75-e410d96f702d')\"\n",
              "            title=\"Convert this dataframe to an interactive table.\"\n",
              "            style=\"display:none;\">\n",
              "\n",
              "  <svg xmlns=\"http://www.w3.org/2000/svg\" height=\"24px\" viewBox=\"0 -960 960 960\">\n",
              "    <path d=\"M120-120v-720h720v720H120Zm60-500h600v-160H180v160Zm220 220h160v-160H400v160Zm0 220h160v-160H400v160ZM180-400h160v-160H180v160Zm440 0h160v-160H620v160ZM180-180h160v-160H180v160Zm440 0h160v-160H620v160Z\"/>\n",
              "  </svg>\n",
              "    </button>\n",
              "\n",
              "  <style>\n",
              "    .colab-df-container {\n",
              "      display:flex;\n",
              "      gap: 12px;\n",
              "    }\n",
              "\n",
              "    .colab-df-convert {\n",
              "      background-color: #E8F0FE;\n",
              "      border: none;\n",
              "      border-radius: 50%;\n",
              "      cursor: pointer;\n",
              "      display: none;\n",
              "      fill: #1967D2;\n",
              "      height: 32px;\n",
              "      padding: 0 0 0 0;\n",
              "      width: 32px;\n",
              "    }\n",
              "\n",
              "    .colab-df-convert:hover {\n",
              "      background-color: #E2EBFA;\n",
              "      box-shadow: 0px 1px 2px rgba(60, 64, 67, 0.3), 0px 1px 3px 1px rgba(60, 64, 67, 0.15);\n",
              "      fill: #174EA6;\n",
              "    }\n",
              "\n",
              "    .colab-df-buttons div {\n",
              "      margin-bottom: 4px;\n",
              "    }\n",
              "\n",
              "    [theme=dark] .colab-df-convert {\n",
              "      background-color: #3B4455;\n",
              "      fill: #D2E3FC;\n",
              "    }\n",
              "\n",
              "    [theme=dark] .colab-df-convert:hover {\n",
              "      background-color: #434B5C;\n",
              "      box-shadow: 0px 1px 3px 1px rgba(0, 0, 0, 0.15);\n",
              "      filter: drop-shadow(0px 1px 2px rgba(0, 0, 0, 0.3));\n",
              "      fill: #FFFFFF;\n",
              "    }\n",
              "  </style>\n",
              "\n",
              "    <script>\n",
              "      const buttonEl =\n",
              "        document.querySelector('#df-131e0b1b-7f56-4270-8d75-e410d96f702d button.colab-df-convert');\n",
              "      buttonEl.style.display =\n",
              "        google.colab.kernel.accessAllowed ? 'block' : 'none';\n",
              "\n",
              "      async function convertToInteractive(key) {\n",
              "        const element = document.querySelector('#df-131e0b1b-7f56-4270-8d75-e410d96f702d');\n",
              "        const dataTable =\n",
              "          await google.colab.kernel.invokeFunction('convertToInteractive',\n",
              "                                                    [key], {});\n",
              "        if (!dataTable) return;\n",
              "\n",
              "        const docLinkHtml = 'Like what you see? Visit the ' +\n",
              "          '<a target=\"_blank\" href=https://colab.research.google.com/notebooks/data_table.ipynb>data table notebook</a>'\n",
              "          + ' to learn more about interactive tables.';\n",
              "        element.innerHTML = '';\n",
              "        dataTable['output_type'] = 'display_data';\n",
              "        await google.colab.output.renderOutput(dataTable, element);\n",
              "        const docLink = document.createElement('div');\n",
              "        docLink.innerHTML = docLinkHtml;\n",
              "        element.appendChild(docLink);\n",
              "      }\n",
              "    </script>\n",
              "  </div>\n",
              "\n",
              "\n",
              "    <div id=\"df-75c0d548-4e67-4efa-b545-73d8f5bce78e\">\n",
              "      <button class=\"colab-df-quickchart\" onclick=\"quickchart('df-75c0d548-4e67-4efa-b545-73d8f5bce78e')\"\n",
              "                title=\"Suggest charts\"\n",
              "                style=\"display:none;\">\n",
              "\n",
              "<svg xmlns=\"http://www.w3.org/2000/svg\" height=\"24px\"viewBox=\"0 0 24 24\"\n",
              "     width=\"24px\">\n",
              "    <g>\n",
              "        <path d=\"M19 3H5c-1.1 0-2 .9-2 2v14c0 1.1.9 2 2 2h14c1.1 0 2-.9 2-2V5c0-1.1-.9-2-2-2zM9 17H7v-7h2v7zm4 0h-2V7h2v10zm4 0h-2v-4h2v4z\"/>\n",
              "    </g>\n",
              "</svg>\n",
              "      </button>\n",
              "\n",
              "<style>\n",
              "  .colab-df-quickchart {\n",
              "      --bg-color: #E8F0FE;\n",
              "      --fill-color: #1967D2;\n",
              "      --hover-bg-color: #E2EBFA;\n",
              "      --hover-fill-color: #174EA6;\n",
              "      --disabled-fill-color: #AAA;\n",
              "      --disabled-bg-color: #DDD;\n",
              "  }\n",
              "\n",
              "  [theme=dark] .colab-df-quickchart {\n",
              "      --bg-color: #3B4455;\n",
              "      --fill-color: #D2E3FC;\n",
              "      --hover-bg-color: #434B5C;\n",
              "      --hover-fill-color: #FFFFFF;\n",
              "      --disabled-bg-color: #3B4455;\n",
              "      --disabled-fill-color: #666;\n",
              "  }\n",
              "\n",
              "  .colab-df-quickchart {\n",
              "    background-color: var(--bg-color);\n",
              "    border: none;\n",
              "    border-radius: 50%;\n",
              "    cursor: pointer;\n",
              "    display: none;\n",
              "    fill: var(--fill-color);\n",
              "    height: 32px;\n",
              "    padding: 0;\n",
              "    width: 32px;\n",
              "  }\n",
              "\n",
              "  .colab-df-quickchart:hover {\n",
              "    background-color: var(--hover-bg-color);\n",
              "    box-shadow: 0 1px 2px rgba(60, 64, 67, 0.3), 0 1px 3px 1px rgba(60, 64, 67, 0.15);\n",
              "    fill: var(--button-hover-fill-color);\n",
              "  }\n",
              "\n",
              "  .colab-df-quickchart-complete:disabled,\n",
              "  .colab-df-quickchart-complete:disabled:hover {\n",
              "    background-color: var(--disabled-bg-color);\n",
              "    fill: var(--disabled-fill-color);\n",
              "    box-shadow: none;\n",
              "  }\n",
              "\n",
              "  .colab-df-spinner {\n",
              "    border: 2px solid var(--fill-color);\n",
              "    border-color: transparent;\n",
              "    border-bottom-color: var(--fill-color);\n",
              "    animation:\n",
              "      spin 1s steps(1) infinite;\n",
              "  }\n",
              "\n",
              "  @keyframes spin {\n",
              "    0% {\n",
              "      border-color: transparent;\n",
              "      border-bottom-color: var(--fill-color);\n",
              "      border-left-color: var(--fill-color);\n",
              "    }\n",
              "    20% {\n",
              "      border-color: transparent;\n",
              "      border-left-color: var(--fill-color);\n",
              "      border-top-color: var(--fill-color);\n",
              "    }\n",
              "    30% {\n",
              "      border-color: transparent;\n",
              "      border-left-color: var(--fill-color);\n",
              "      border-top-color: var(--fill-color);\n",
              "      border-right-color: var(--fill-color);\n",
              "    }\n",
              "    40% {\n",
              "      border-color: transparent;\n",
              "      border-right-color: var(--fill-color);\n",
              "      border-top-color: var(--fill-color);\n",
              "    }\n",
              "    60% {\n",
              "      border-color: transparent;\n",
              "      border-right-color: var(--fill-color);\n",
              "    }\n",
              "    80% {\n",
              "      border-color: transparent;\n",
              "      border-right-color: var(--fill-color);\n",
              "      border-bottom-color: var(--fill-color);\n",
              "    }\n",
              "    90% {\n",
              "      border-color: transparent;\n",
              "      border-bottom-color: var(--fill-color);\n",
              "    }\n",
              "  }\n",
              "</style>\n",
              "\n",
              "      <script>\n",
              "        async function quickchart(key) {\n",
              "          const quickchartButtonEl =\n",
              "            document.querySelector('#' + key + ' button');\n",
              "          quickchartButtonEl.disabled = true;  // To prevent multiple clicks.\n",
              "          quickchartButtonEl.classList.add('colab-df-spinner');\n",
              "          try {\n",
              "            const charts = await google.colab.kernel.invokeFunction(\n",
              "                'suggestCharts', [key], {});\n",
              "          } catch (error) {\n",
              "            console.error('Error during call to suggestCharts:', error);\n",
              "          }\n",
              "          quickchartButtonEl.classList.remove('colab-df-spinner');\n",
              "          quickchartButtonEl.classList.add('colab-df-quickchart-complete');\n",
              "        }\n",
              "        (() => {\n",
              "          let quickchartButtonEl =\n",
              "            document.querySelector('#df-75c0d548-4e67-4efa-b545-73d8f5bce78e button');\n",
              "          quickchartButtonEl.style.display =\n",
              "            google.colab.kernel.accessAllowed ? 'block' : 'none';\n",
              "        })();\n",
              "      </script>\n",
              "    </div>\n",
              "\n",
              "  <div id=\"id_5b6739e9-7277-4790-86ca-3bd3a15bd22e\">\n",
              "    <style>\n",
              "      .colab-df-generate {\n",
              "        background-color: #E8F0FE;\n",
              "        border: none;\n",
              "        border-radius: 50%;\n",
              "        cursor: pointer;\n",
              "        display: none;\n",
              "        fill: #1967D2;\n",
              "        height: 32px;\n",
              "        padding: 0 0 0 0;\n",
              "        width: 32px;\n",
              "      }\n",
              "\n",
              "      .colab-df-generate:hover {\n",
              "        background-color: #E2EBFA;\n",
              "        box-shadow: 0px 1px 2px rgba(60, 64, 67, 0.3), 0px 1px 3px 1px rgba(60, 64, 67, 0.15);\n",
              "        fill: #174EA6;\n",
              "      }\n",
              "\n",
              "      [theme=dark] .colab-df-generate {\n",
              "        background-color: #3B4455;\n",
              "        fill: #D2E3FC;\n",
              "      }\n",
              "\n",
              "      [theme=dark] .colab-df-generate:hover {\n",
              "        background-color: #434B5C;\n",
              "        box-shadow: 0px 1px 3px 1px rgba(0, 0, 0, 0.15);\n",
              "        filter: drop-shadow(0px 1px 2px rgba(0, 0, 0, 0.3));\n",
              "        fill: #FFFFFF;\n",
              "      }\n",
              "    </style>\n",
              "    <button class=\"colab-df-generate\" onclick=\"generateWithVariable('vegetarian_items')\"\n",
              "            title=\"Generate code using this dataframe.\"\n",
              "            style=\"display:none;\">\n",
              "\n",
              "  <svg xmlns=\"http://www.w3.org/2000/svg\" height=\"24px\"viewBox=\"0 0 24 24\"\n",
              "       width=\"24px\">\n",
              "    <path d=\"M7,19H8.4L18.45,9,17,7.55,7,17.6ZM5,21V16.75L18.45,3.32a2,2,0,0,1,2.83,0l1.4,1.43a1.91,1.91,0,0,1,.58,1.4,1.91,1.91,0,0,1-.58,1.4L9.25,21ZM18.45,9,17,7.55Zm-12,3A5.31,5.31,0,0,0,4.9,8.1,5.31,5.31,0,0,0,1,6.5,5.31,5.31,0,0,0,4.9,4.9,5.31,5.31,0,0,0,6.5,1,5.31,5.31,0,0,0,8.1,4.9,5.31,5.31,0,0,0,12,6.5,5.46,5.46,0,0,0,6.5,12Z\"/>\n",
              "  </svg>\n",
              "    </button>\n",
              "    <script>\n",
              "      (() => {\n",
              "      const buttonEl =\n",
              "        document.querySelector('#id_5b6739e9-7277-4790-86ca-3bd3a15bd22e button.colab-df-generate');\n",
              "      buttonEl.style.display =\n",
              "        google.colab.kernel.accessAllowed ? 'block' : 'none';\n",
              "\n",
              "      buttonEl.onclick = () => {\n",
              "        google.colab.notebook.generateWithVariable('vegetarian_items');\n",
              "      }\n",
              "      })();\n",
              "    </script>\n",
              "  </div>\n",
              "\n",
              "    </div>\n",
              "  </div>\n"
            ],
            "application/vnd.google.colaboratory.intrinsic+json": {
              "type": "dataframe",
              "variable_name": "vegetarian_items",
              "summary": "{\n  \"name\": \"vegetarian_items\",\n  \"rows\": 212,\n  \"fields\": [\n    {\n      \"column\": \"order_id\",\n      \"properties\": {\n        \"dtype\": \"number\",\n        \"std\": 524,\n        \"min\": 26,\n        \"max\": 1830,\n        \"num_unique_values\": 195,\n        \"samples\": [\n          1217,\n          195,\n          1397\n        ],\n        \"semantic_type\": \"\",\n        \"description\": \"\"\n      }\n    },\n    {\n      \"column\": \"quantity\",\n      \"properties\": {\n        \"dtype\": \"number\",\n        \"std\": 0,\n        \"min\": 1,\n        \"max\": 3,\n        \"num_unique_values\": 3,\n        \"samples\": [\n          1,\n          2,\n          3\n        ],\n        \"semantic_type\": \"\",\n        \"description\": \"\"\n      }\n    },\n    {\n      \"column\": \"item_name\",\n      \"properties\": {\n        \"dtype\": \"category\",\n        \"num_unique_values\": 6,\n        \"samples\": [\n          \"Veggie Burrito\",\n          \"Veggie Bowl\",\n          \"Veggie Salad\"\n        ],\n        \"semantic_type\": \"\",\n        \"description\": \"\"\n      }\n    },\n    {\n      \"column\": \"choice_description\",\n      \"properties\": {\n        \"dtype\": \"string\",\n        \"num_unique_values\": 123,\n        \"samples\": [\n          \"[Roasted Chili Corn Salsa, [Fajita Vegetables, Rice, Black Beans, Cheese, Sour Cream, Guacamole, Lettuce]]\",\n          \"[Fresh Tomato Salsa, [Fajita Vegetables, Rice, Black Beans, Cheese, Sour Cream, Guacamole]]\",\n          \"[Tomatillo Red Chili Salsa, [Rice, Black Beans, Cheese, Sour Cream, Guacamole, Lettuce]]\"\n        ],\n        \"semantic_type\": \"\",\n        \"description\": \"\"\n      }\n    },\n    {\n      \"column\": \"item_price\",\n      \"properties\": {\n        \"dtype\": \"category\",\n        \"num_unique_values\": 6,\n        \"samples\": [\n          \"$11.25 \",\n          \"$8.49 \",\n          \"$33.75 \"\n        ],\n        \"semantic_type\": \"\",\n        \"description\": \"\"\n      }\n    }\n  ]\n}"
            }
          },
          "metadata": {},
          "execution_count": 111
        }
      ]
    },
    {
      "cell_type": "markdown",
      "source": [
        "We can sort columns by values:"
      ],
      "metadata": {
        "id": "eDCLQan2V720"
      }
    },
    {
      "cell_type": "code",
      "source": [
        "sorted_df = chipotle_data.sort_values(by='item_price', ascending=False) # the sorting can be ascending or descending\n",
        "pd.reset_option('display.max_rows')\n",
        "sorted_df['item_price']\n"
      ],
      "metadata": {
        "id": "ucj5eIG1lHR6",
        "colab": {
          "base_uri": "https://localhost:8080/",
          "height": 458
        },
        "outputId": "a5781e0d-a4f3-4d55-999f-aea12af0db66"
      },
      "execution_count": 112,
      "outputs": [
        {
          "output_type": "execute_result",
          "data": {
            "text/plain": [
              "2624    $9.39 \n",
              "4419    $9.39 \n",
              "4036    $9.39 \n",
              "1825    $9.39 \n",
              "3115    $9.39 \n",
              "         ...  \n",
              "3145    $1.09 \n",
              "414     $1.09 \n",
              "3162    $1.09 \n",
              "821     $1.09 \n",
              "1457    $1.09 \n",
              "Name: item_price, Length: 4622, dtype: object"
            ],
            "text/html": [
              "<div>\n",
              "<style scoped>\n",
              "    .dataframe tbody tr th:only-of-type {\n",
              "        vertical-align: middle;\n",
              "    }\n",
              "\n",
              "    .dataframe tbody tr th {\n",
              "        vertical-align: top;\n",
              "    }\n",
              "\n",
              "    .dataframe thead th {\n",
              "        text-align: right;\n",
              "    }\n",
              "</style>\n",
              "<table border=\"1\" class=\"dataframe\">\n",
              "  <thead>\n",
              "    <tr style=\"text-align: right;\">\n",
              "      <th></th>\n",
              "      <th>item_price</th>\n",
              "    </tr>\n",
              "  </thead>\n",
              "  <tbody>\n",
              "    <tr>\n",
              "      <th>2624</th>\n",
              "      <td>$9.39</td>\n",
              "    </tr>\n",
              "    <tr>\n",
              "      <th>4419</th>\n",
              "      <td>$9.39</td>\n",
              "    </tr>\n",
              "    <tr>\n",
              "      <th>4036</th>\n",
              "      <td>$9.39</td>\n",
              "    </tr>\n",
              "    <tr>\n",
              "      <th>1825</th>\n",
              "      <td>$9.39</td>\n",
              "    </tr>\n",
              "    <tr>\n",
              "      <th>3115</th>\n",
              "      <td>$9.39</td>\n",
              "    </tr>\n",
              "    <tr>\n",
              "      <th>...</th>\n",
              "      <td>...</td>\n",
              "    </tr>\n",
              "    <tr>\n",
              "      <th>3145</th>\n",
              "      <td>$1.09</td>\n",
              "    </tr>\n",
              "    <tr>\n",
              "      <th>414</th>\n",
              "      <td>$1.09</td>\n",
              "    </tr>\n",
              "    <tr>\n",
              "      <th>3162</th>\n",
              "      <td>$1.09</td>\n",
              "    </tr>\n",
              "    <tr>\n",
              "      <th>821</th>\n",
              "      <td>$1.09</td>\n",
              "    </tr>\n",
              "    <tr>\n",
              "      <th>1457</th>\n",
              "      <td>$1.09</td>\n",
              "    </tr>\n",
              "  </tbody>\n",
              "</table>\n",
              "<p>4622 rows × 1 columns</p>\n",
              "</div><br><label><b>dtype:</b> object</label>"
            ]
          },
          "metadata": {},
          "execution_count": 112
        }
      ]
    },
    {
      "cell_type": "markdown",
      "source": [
        "Lastly, some useful code on how to save your dataframes after you are done using them. We can export it to csv:"
      ],
      "metadata": {
        "id": "svZBcTguWlKh"
      }
    },
    {
      "cell_type": "code",
      "source": [
        "chipotle_data.to_csv('output_chipotle_dataset.csv', index=False)"
      ],
      "metadata": {
        "id": "vOMUa5HHlMQ3"
      },
      "execution_count": 113,
      "outputs": []
    },
    {
      "cell_type": "markdown",
      "source": [
        "Or to xlsx. **Note**: you need to have an Excel writer library installed, such as openpyxl or xlsxwriter"
      ],
      "metadata": {
        "id": "lyUDhhsmfaFX"
      }
    },
    {
      "cell_type": "code",
      "source": [
        "chipotle_data.to_excel('output_chipotle_dataset.xlsx', index=False)"
      ],
      "metadata": {
        "id": "thlJj9VbjGJS"
      },
      "execution_count": 114,
      "outputs": []
    },
    {
      "cell_type": "markdown",
      "source": [
        "This is just one example of the myriad possibilities that Pandas offers. While we may not use it extensively, it's crucial for you to know of its existence and its efficiency in data preprocessing. As with all other modules, referring to the **official documentation**, utilizing Google, and seeking assistance from ChatGPT will help you solve almost all the tasks you encounter."
      ],
      "metadata": {
        "id": "XQscUd55WC4F"
      }
    },
    {
      "cell_type": "markdown",
      "source": [
        "##Matplotlib"
      ],
      "metadata": {
        "id": "a2Rm2sclBj9u"
      }
    },
    {
      "cell_type": "markdown",
      "source": [
        "We now move on to the last topic, given that we still miss a tool for **plotting our data**"
      ],
      "metadata": {
        "id": "pVbTQY90BmXU"
      }
    },
    {
      "cell_type": "markdown",
      "source": [
        " <img src=\"https://drive.google.com/uc?export=view&id=1OLnKyK24Hq4JuGekqUxojJHbct8SsBFA\" width=\"750\" />"
      ],
      "metadata": {
        "id": "fM9EUm-2kIhk"
      }
    },
    {
      "cell_type": "markdown",
      "source": [
        "ok weirdo, anyway..."
      ],
      "metadata": {
        "id": "ZLcqlqsVszoq"
      }
    },
    {
      "cell_type": "markdown",
      "source": [
        "Let's import Matplotlib"
      ],
      "metadata": {
        "id": "0fdnj-lpkxjf"
      }
    },
    {
      "cell_type": "code",
      "source": [
        "import matplotlib.pyplot as plt"
      ],
      "metadata": {
        "id": "O4_JCWSrkx4n"
      },
      "execution_count": 115,
      "outputs": []
    },
    {
      "cell_type": "markdown",
      "source": [
        "There are many types of plots you can do with Matplotlib, we will see some common ones and leave the rest for you to explore on your own. We will also make heavy use of all the other stuff we learned before, so you can see how it is used in practice.\n",
        "\n",
        "The thing you will do most often is plot sequential points joined by lines:"
      ],
      "metadata": {
        "id": "f69vg9w1k44D"
      }
    },
    {
      "cell_type": "code",
      "source": [
        "x = [1, 2, 3, 4, 5]\n",
        "y = [2, 4, 6, 8, 10]\n",
        "\n",
        "# we plot the two arrays as x-y\n",
        "plt.plot(x, y)\n",
        "\n",
        "# we add labels and a title\n",
        "plt.xlabel('X-axis label')\n",
        "plt.ylabel('Y-axis label')\n",
        "plt.title('Simple Line Plot')\n",
        "\n",
        "# this tells the notebook to display the plot\n",
        "plt.show()"
      ],
      "metadata": {
        "colab": {
          "base_uri": "https://localhost:8080/",
          "height": 472
        },
        "id": "q34WFRl2k5Qj",
        "outputId": "21946f56-1e89-4527-b579-0d4c9a42092e"
      },
      "execution_count": 116,
      "outputs": [
        {
          "output_type": "display_data",
          "data": {
            "text/plain": [
              "<Figure size 640x480 with 1 Axes>"
            ],
            "image/png": "[encoded data removed]"
          },
          "metadata": {}
        }
      ]
    },
    {
      "cell_type": "markdown",
      "source": [
        "This is the same line plot but cooler (only according to Davide to be honest)"
      ],
      "metadata": {
        "id": "Ug6965CZtDaq"
      }
    },
    {
      "cell_type": "code",
      "source": [
        "\n",
        "# when plotting the data we can costumize things:\n",
        "# we can modify things like color, linestyle, type of marker etc.\n",
        "# we can also add a label to the dataset with \"label\" that we'll add using plt.legend()\n",
        "\n",
        "plt.plot(x, y, color='purple', linestyle='--', marker='o', markersize = 10, label='Data Points',linewidth = 4)\n",
        "# if you are making a plot for Matteo Osella, don't use this kind of colors. Apparently he hates beauty\n",
        "\n",
        "# we can ad labels and a title\n",
        "# we can add legend and a grid\n",
        "# we can change font size of title and labels\n",
        "\n",
        "plt.xlabel('X-axis label', fontsize=14)\n",
        "plt.ylabel('Y-axis label', fontsize=14)\n",
        "\n",
        "plt.title('Cool line plot', fontsize=16)\n",
        "\n",
        "plt.legend()\n",
        "plt.grid(True)\n",
        "\n",
        "plt.show()"
      ],
      "metadata": {
        "colab": {
          "base_uri": "https://localhost:8080/",
          "height": 479
        },
        "id": "mIpqPyl1laIJ",
        "outputId": "adc6c922-0be7-4ba0-87e9-21d38a586fd2"
      },
      "execution_count": 117,
      "outputs": [
        {
          "output_type": "display_data",
          "data": {
            "text/plain": [
              "<Figure size 640x480 with 1 Axes>"
            ],
            "image/png": "[encoded data removed]"
          },
          "metadata": {}
        }
      ]
    },
    {
      "cell_type": "markdown",
      "source": [
        "If you only want to see the points, you can use a **scatter plot**.\n",
        "\n",
        "Here we will generate some points from equation: $y=a x^2 + bx+c + \\epsilon$ where $\\epsilon\\sim\\mathcal{N}(0,5)$.\n"
      ],
      "metadata": {
        "id": "buCMdzQ2npKr"
      }
    },
    {
      "cell_type": "code",
      "source": [
        "# we define a function of a curve, and we add noise to the points\n",
        "def noisy_parabola (x,a,b,c):\n",
        "  y= x**2*a + x*b + c\n",
        "\n",
        "  mean = 0              # mean of the distribution\n",
        "  std_dev = 5           # standard deviation of the distribution\n",
        "  num_samples = len(x)  # number of random samples to generate\n",
        "\n",
        "  noise = np.random.normal(mean, std_dev, num_samples)\n",
        "\n",
        "  y_nois = y + noise\n",
        "\n",
        "  return (y_nois)\n",
        "\n",
        "x = np.linspace (0,10,100)\n",
        "\n",
        "# we call the function that creates the y array and set a,b,c\n",
        "y = noisy_parabola(x,1,2,3)\n",
        "\n",
        "\n",
        "# a scatter plot with custom instructions\n",
        "plt.scatter(x, y, color='red', marker='o', label='Data Points')\n",
        "\n",
        "plt.xlabel('X-axis')\n",
        "plt.ylabel('Y-axis')\n",
        "plt.title('ax^2 + bx + c')\n",
        "\n",
        "plt.legend()\n",
        "plt.grid(True)\n",
        "\n",
        "plt.show()"
      ],
      "metadata": {
        "colab": {
          "base_uri": "https://localhost:8080/",
          "height": 472
        },
        "id": "wZwCJukslloQ",
        "outputId": "a74eb4bd-4499-49ec-e952-77783b9cbdcf"
      },
      "execution_count": 118,
      "outputs": [
        {
          "output_type": "display_data",
          "data": {
            "text/plain": [
              "<Figure size 640x480 with 1 Axes>"
            ],
            "image/png": "[encoded data removed]"
          },
          "metadata": {}
        }
      ]
    },
    {
      "cell_type": "markdown",
      "source": [
        "If you want to see how you are data is distributed you can use an **histogram**:"
      ],
      "metadata": {
        "id": "mG0C1uy7qexK"
      }
    },
    {
      "cell_type": "code",
      "source": [
        "\n",
        "def gaussian (mean,std_dev,num_samples):\n",
        "\n",
        "  x = np.random.normal(mean, std_dev, num_samples)  # generating gaussian distributed points\n",
        "\n",
        "  return (x)\n",
        "\n",
        "gauss1 = gaussian(0,1,1000)\n",
        "gauss2 = gaussian(1,0.5,1000)\n",
        "\n",
        "# we set the bin size in order to have the same bin size for the 2 histograms.\n",
        "# We simply take the interval between the min and the max data, and splice it into bin-size intervals\n",
        "\n",
        "combined_data = np.concatenate([gauss1, gauss2])\n",
        "bin_size = 0.1   # this sets your desired bin size\n",
        "bins = np.arange(min(combined_data), max(combined_data) + bin_size, bin_size)\n",
        "\n",
        "\n",
        "plt.hist(gauss1, bins=bins, color='blue', edgecolor='black', alpha = 0.5)\n",
        "plt.hist(gauss2, bins=bins, color='red', edgecolor='black',alpha = 0.5)\n",
        "\n",
        "\n",
        "plt.xlabel('Values')\n",
        "plt.ylabel('Frequency')\n",
        "plt.title('Histogram Example')\n",
        "\n",
        "plt.show()"
      ],
      "metadata": {
        "colab": {
          "base_uri": "https://localhost:8080/",
          "height": 472
        },
        "id": "6cYH54qPnsSQ",
        "outputId": "3508e77c-274e-4fe1-bcb9-978beed978c0"
      },
      "execution_count": 119,
      "outputs": [
        {
          "output_type": "display_data",
          "data": {
            "text/plain": [
              "<Figure size 640x480 with 1 Axes>"
            ],
            "image/png": "[encoded data removed]"
          },
          "metadata": {}
        }
      ]
    },
    {
      "cell_type": "markdown",
      "source": [
        "We can also take one plot and divide in different subplots to visualize diffrent informations at the same time\n"
      ],
      "metadata": {
        "id": "LoD2xGi9rwhV"
      }
    },
    {
      "cell_type": "code",
      "source": [
        "# we generate some example data\n",
        "x = np.linspace(0, 10, 100)\n",
        "y1 = np.sin(x)\n",
        "y2 = np.cos(x)\n",
        "\n",
        "# we create a figure and a grid of 2 subplots\n",
        "fig, axs = plt.subplots(2, 1, figsize=(8, 6))\n",
        "\n",
        "# we plot on the first subplot (axs[0])\n",
        "axs[0].plot(x, y1, color='blue', label='sin(x)', linewidth = 3)\n",
        "axs[0].set_title('Plot of sin(x)')\n",
        "axs[0].set_xlabel('x-axis')\n",
        "axs[0].set_ylabel('y-axis')\n",
        "axs[0].legend()\n",
        "\n",
        "# we plot on the second subplot (axs[1])\n",
        "axs[1].plot(x, y2, color='green', label='cos(x)', linewidth = 3)\n",
        "axs[1].set_title('Plot of cos(x)')\n",
        "axs[1].set_xlabel('x')\n",
        "axs[1].set_ylabel('y')\n",
        "axs[1].legend()\n",
        "\n",
        "# we adjust layout to prevent clipping of titles\n",
        "plt.tight_layout()\n",
        "\n",
        "plt.show()"
      ],
      "metadata": {
        "colab": {
          "base_uri": "https://localhost:8080/",
          "height": 607
        },
        "id": "65z_QJRsrB3h",
        "outputId": "a974fc6d-24dd-483c-a4ba-8b2c1c8ee6b7"
      },
      "execution_count": 120,
      "outputs": [
        {
          "output_type": "display_data",
          "data": {
            "text/plain": [
              "<Figure size 800x600 with 2 Axes>"
            ],
            "image/png": "[encoded data removed]"
          },
          "metadata": {}
        }
      ]
    },
    {
      "cell_type": "markdown",
      "source": [
        "# Final remarks"
      ],
      "metadata": {
        "id": "_seSebzTE6o5"
      }
    },
    {
      "cell_type": "markdown",
      "source": [
        "That is all. If you understood 80% or more of what was presented in this notebook, you are ready to learn to code for machine learning. If you didn't, **DON'T PANIC**. Review this notebook, ask us about what you didn't understand (but first, try to Google it), and you will be completely fine. The recommended books are another wonderful resource if you feel like you want to learn more about Python"
      ],
      "metadata": {
        "id": "pgMVcCppDenl"
      }
    },
    {
      "cell_type": "markdown",
      "source": [
        "Also, if you found any errors or have suggestions (is the notebook too long? Too short? Is there something not clearly explained?) **please let us know**, it would be greatly appreciated"
      ],
      "metadata": {
        "id": "3skZXey_E-6A"
      }
    },
    {
      "cell_type": "markdown",
      "source": [
        "*© 2024. This work is openly licensed via [CC BY-NC-SA 4.0 DEED](https://creativecommons.org/licenses/by-nc-sa/4.0/)*"
      ],
      "metadata": {
        "id": "n5GjI2kW_qBm"
      }
    }
  ]
}