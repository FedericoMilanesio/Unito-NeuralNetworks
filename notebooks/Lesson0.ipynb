{
  "nbformat": 4,
  "nbformat_minor": 0,
  "metadata": {
    "colab": {
      "provenance": [],
      "include_colab_link": true
    },
    "kernelspec": {
      "name": "python3",
      "display_name": "Python 3"
    },
    "language_info": {
      "name": "python"
    }
  },
  "cells": [
    {
      "cell_type": "markdown",
      "source": [
        "#A  minimal introduction to Python and Colab"
      ],
      "metadata": {
        "id": "8h6oREF8D3ZQ"
      }
    },
    {
      "cell_type": "markdown",
      "source": [
        "*Tutors*:\n",
        "-- Federico Milanesio: federico.milanesio@unito.it\n",
        "-- Davide Pirovano: davide.pirovano@unito.it"
      ],
      "metadata": {
        "id": "ZePEB_zT5scF"
      }
    },
    {
      "cell_type": "markdown",
      "source": [
        "Recommended textbooks:\n",
        "\n",
        "\n",
        "*  Beginner: **Think Python** (Allen B. Downey)\n",
        "*  Intermediate: **Python Tricks: A Buffet of Awesome Python Features** (Dan Bader)\n",
        "* Advanced. **Fluent Python: Clear, Concise, and Effective Programming** (Luciano Ramahlo)\n"
      ],
      "metadata": {
        "id": "D1rPI68rECgw"
      }
    },
    {
      "cell_type": "markdown",
      "source": [
        "# Google Colab"
      ],
      "metadata": {
        "id": "Gz5RMlnuFZzL"
      }
    },
    {
      "cell_type": "markdown",
      "source": [
        "All the lessons will take place in interactive environments called  **Colab notebooks**, such as this one. These environments allow you to write and execute Python code directly in  your browser.\n",
        "\n",
        "Google Colab allows us to use the same version of packages and libraries by providing a **consistent and controlled environment** for running code. When you open a Colab notebook, it creates a virtual machine that is pre-configured with a specific set of packages and libraries. This ensures that all students are working in the same environment and have access to the same versions of packages."
      ],
      "metadata": {
        "id": "f2DnG8sHFc3E"
      }
    },
    {
      "cell_type": "markdown",
      "source": [
        "# Python basics"
      ],
      "metadata": {
        "id": "XWltDntWFLsE"
      }
    },
    {
      "cell_type": "markdown",
      "source": [
        "This notebook **is not** a comprehensive guide to Python. If you understand *most* of this notebook you should be ready to learn how to use Torch for machine learning. If you read this notebook and still feel like you don't have a grasp on Python, we have some tips for you at the end"
      ],
      "metadata": {
        "id": "TDaLmHCzX-rz"
      }
    },
    {
      "cell_type": "markdown",
      "source": [
        "Below there is our first cell. Each cell is a series of instruction written in Python.\n",
        "\n",
        "We create a new variable `a` and assign it value 2."
      ],
      "metadata": {
        "id": "8M8jtB02HPMc"
      }
    },
    {
      "cell_type": "code",
      "source": [
        "a = 2"
      ],
      "metadata": {
        "id": "EqaUY-SVHN8d"
      },
      "execution_count": null,
      "outputs": []
    },
    {
      "cell_type": "markdown",
      "source": [
        " In python variables have no static type, and don't need to be initialized:"
      ],
      "metadata": {
        "id": "Dve9Dg0AHbME"
      }
    },
    {
      "cell_type": "code",
      "source": [
        "a = \"Dog\""
      ],
      "metadata": {
        "id": "sK2CEuskECAi"
      },
      "execution_count": null,
      "outputs": []
    },
    {
      "cell_type": "code",
      "execution_count": null,
      "metadata": {
        "colab": {
          "base_uri": "https://localhost:8080/",
          "height": 35
        },
        "id": "QAxxc8K1D0eW",
        "outputId": "3917d55d-343b-452c-b097-52ea519b8314"
      },
      "outputs": [
        {
          "output_type": "execute_result",
          "data": {
            "text/plain": [
              "'Dog'"
            ],
            "application/vnd.google.colaboratory.intrinsic+json": {
              "type": "string"
            }
          },
          "metadata": {},
          "execution_count": 3
        }
      ],
      "source": [
        "a"
      ]
    },
    {
      "cell_type": "markdown",
      "source": [
        "As you can see, cells share variables. This means that a variable initialized in a cell can be later used in other cells."
      ],
      "metadata": {
        "id": "-_STCTmmJkAA"
      }
    },
    {
      "cell_type": "code",
      "source": [
        "a = 2\n",
        "b = 3\n",
        "\n",
        "a * b"
      ],
      "metadata": {
        "colab": {
          "base_uri": "https://localhost:8080/"
        },
        "id": "HL6EtPLkJWsK",
        "outputId": "eb588fce-b3bb-4ac1-cd7f-41b11edb0274"
      },
      "execution_count": null,
      "outputs": [
        {
          "output_type": "execute_result",
          "data": {
            "text/plain": [
              "6"
            ]
          },
          "metadata": {},
          "execution_count": 4
        }
      ]
    },
    {
      "cell_type": "markdown",
      "source": [
        "**Exercise:** create a cell below and assign it the value of our previous multiplication"
      ],
      "metadata": {
        "id": "-pC-mx6XKDDd"
      }
    },
    {
      "cell_type": "markdown",
      "source": [
        "# Mathematics in python"
      ],
      "metadata": {
        "id": "LcK-2JK_KR4Y"
      }
    },
    {
      "cell_type": "markdown",
      "source": [
        "In Python, int and float are two different data types used to represent numbers. Here is a brief explanation of the difference between int and float in Python:\n",
        "\n",
        "1. int (Integer):\n",
        "   - An int in Python represents **integers** without any decimal points.\n",
        "   - Examples of integers are: -5, 0, 10, 100, etc.\n",
        "   - Integers can be positive, negative, or zero.\n",
        "   - Operations on integers like addition, subtraction, multiplication result in integer values if the operands are integers.\n",
        "\n",
        "2. float (Floating Point Number):\n",
        "   - A float in Python represents **numbers with decimal points** or fractions.\n",
        "   - Examples of floats are: 3.14, -0.5, 2.0, etc.\n",
        "   - Floats can represent a wider range of numbers compared to integers.\n",
        "   - Operations on floats may result in float values even if the operands are integers."
      ],
      "metadata": {
        "id": "OIs9FAZxLEAd"
      }
    },
    {
      "cell_type": "code",
      "source": [
        "a = 5\n",
        "b = 2.5"
      ],
      "metadata": {
        "id": "iX05FmkfJ8YE"
      },
      "execution_count": null,
      "outputs": []
    },
    {
      "cell_type": "code",
      "source": [
        "a + b"
      ],
      "metadata": {
        "colab": {
          "base_uri": "https://localhost:8080/"
        },
        "id": "FPhRfmpFKmCH",
        "outputId": "8972dafc-5b6d-4c4a-e909-ea8f5d62b58f"
      },
      "execution_count": null,
      "outputs": [
        {
          "output_type": "execute_result",
          "data": {
            "text/plain": [
              "7.5"
            ]
          },
          "metadata": {},
          "execution_count": 6
        }
      ]
    },
    {
      "cell_type": "code",
      "source": [
        "a - b"
      ],
      "metadata": {
        "colab": {
          "base_uri": "https://localhost:8080/"
        },
        "id": "rjoMoNmZN4rc",
        "outputId": "f1cfe0c5-9c64-4ef1-817e-c1740562144c"
      },
      "execution_count": null,
      "outputs": [
        {
          "output_type": "execute_result",
          "data": {
            "text/plain": [
              "2.5"
            ]
          },
          "metadata": {},
          "execution_count": 7
        }
      ]
    },
    {
      "cell_type": "code",
      "source": [
        "a * b"
      ],
      "metadata": {
        "colab": {
          "base_uri": "https://localhost:8080/"
        },
        "id": "U7BwyJM2N5qt",
        "outputId": "985bd022-906b-4837-8028-9cc8c44a3cbb"
      },
      "execution_count": null,
      "outputs": [
        {
          "output_type": "execute_result",
          "data": {
            "text/plain": [
              "12.5"
            ]
          },
          "metadata": {},
          "execution_count": 8
        }
      ]
    },
    {
      "cell_type": "code",
      "source": [
        "a / b"
      ],
      "metadata": {
        "colab": {
          "base_uri": "https://localhost:8080/"
        },
        "id": "bW2lPSZYN9lY",
        "outputId": "c9551bb1-d14d-4152-f769-cf023d1113b2"
      },
      "execution_count": null,
      "outputs": [
        {
          "output_type": "execute_result",
          "data": {
            "text/plain": [
              "2.0"
            ]
          },
          "metadata": {},
          "execution_count": 9
        }
      ]
    },
    {
      "cell_type": "markdown",
      "source": [
        "Two other important operations are the `//` and `%` operators, used for floor division and modulo operations, respectively.\n",
        "\n",
        "\n",
        "\n",
        "*   The `//` operator is used for floor division, which means that it divides the left operand by the right operand and returns the integer result (quotient) without any decimal points.\n",
        "*   The `%` operator is used for the modulo operation, which returns the remainder of the division of the left operand by the right operand. It is often used to check if a number is divisible by another number.\n",
        "\n",
        "\n"
      ],
      "metadata": {
        "id": "UmKUu7esM70M"
      }
    },
    {
      "cell_type": "code",
      "source": [
        "a = 7\n",
        "\n",
        "b = 3"
      ],
      "metadata": {
        "id": "ZpTLHUJOK1Jj"
      },
      "execution_count": null,
      "outputs": []
    },
    {
      "cell_type": "code",
      "source": [
        "a // b"
      ],
      "metadata": {
        "colab": {
          "base_uri": "https://localhost:8080/"
        },
        "id": "rxXba14sOHJp",
        "outputId": "9917d696-134f-4dbc-b896-db6e8a9bb779"
      },
      "execution_count": null,
      "outputs": [
        {
          "output_type": "execute_result",
          "data": {
            "text/plain": [
              "2"
            ]
          },
          "metadata": {},
          "execution_count": 11
        }
      ]
    },
    {
      "cell_type": "code",
      "source": [
        "a % b"
      ],
      "metadata": {
        "colab": {
          "base_uri": "https://localhost:8080/"
        },
        "id": "2R7gqq4rOJkh",
        "outputId": "e46eda87-9b5b-44f2-984e-f989b01cb7ba"
      },
      "execution_count": null,
      "outputs": [
        {
          "output_type": "execute_result",
          "data": {
            "text/plain": [
              "1"
            ]
          },
          "metadata": {},
          "execution_count": 12
        }
      ]
    },
    {
      "cell_type": "markdown",
      "source": [
        "# Functions"
      ],
      "metadata": {
        "id": "w56C7glgTA2z"
      }
    },
    {
      "cell_type": "markdown",
      "source": [
        "In Python, a function is a block of reusable code that performs a specific task. Functions help organize code, make it more modular, and facilitate code reuse. You can define your own functions using the `def` keyword."
      ],
      "metadata": {
        "id": "Hrn3ftusTH5U"
      }
    },
    {
      "cell_type": "code",
      "source": [
        "def multiplication(x, y):\n",
        "  return x*y"
      ],
      "metadata": {
        "id": "phPA9pukTLXM"
      },
      "execution_count": null,
      "outputs": []
    },
    {
      "cell_type": "markdown",
      "source": [
        "Yes, that is it, we don't have anything more to say about this"
      ],
      "metadata": {
        "id": "NgXeipGuh7QM"
      }
    },
    {
      "cell_type": "markdown",
      "source": [
        "# Lists and other containers"
      ],
      "metadata": {
        "id": "9ScC4nTUONdY"
      }
    },
    {
      "cell_type": "markdown",
      "source": [
        " A list is a data structure that can hold an **ordered collection of items**. Lists are mutable, which means you can modify them by adding, removing, or changing elements. Lists are defined using square brackets `[ ]` and can contain elements of different data types, including integers, floats, strings, or even other lists."
      ],
      "metadata": {
        "id": "K_zWQfEIOgnG"
      }
    },
    {
      "cell_type": "code",
      "source": [
        "my_list = []"
      ],
      "metadata": {
        "id": "ondj-R21OTe2"
      },
      "execution_count": null,
      "outputs": []
    },
    {
      "cell_type": "markdown",
      "source": [
        "We initialized an empty list called *my_list*. We can now add a few elements"
      ],
      "metadata": {
        "id": "Bpl3vL-EOsa0"
      }
    },
    {
      "cell_type": "code",
      "source": [
        "my_list.append(2)\n",
        "my_list.append(3)\n",
        "\n",
        "my_list"
      ],
      "metadata": {
        "colab": {
          "base_uri": "https://localhost:8080/"
        },
        "id": "cEtpeN9sOrtr",
        "outputId": "774657d7-19f8-41db-cc99-db54bd68bcc8"
      },
      "execution_count": null,
      "outputs": [
        {
          "output_type": "execute_result",
          "data": {
            "text/plain": [
              "[2, 3]"
            ]
          },
          "metadata": {},
          "execution_count": 15
        }
      ]
    },
    {
      "cell_type": "markdown",
      "source": [
        "A list can contain elements of different types"
      ],
      "metadata": {
        "id": "WocpixTRO8-y"
      }
    },
    {
      "cell_type": "code",
      "source": [
        "my_list.append(\"dog\")\n",
        "\n",
        "my_list"
      ],
      "metadata": {
        "colab": {
          "base_uri": "https://localhost:8080/"
        },
        "id": "cgCSyKGSPAJ2",
        "outputId": "b1437767-aa89-49bc-a877-a01247b88a22"
      },
      "execution_count": null,
      "outputs": [
        {
          "output_type": "execute_result",
          "data": {
            "text/plain": [
              "[2, 3, 'dog']"
            ]
          },
          "metadata": {},
          "execution_count": 16
        }
      ]
    },
    {
      "cell_type": "markdown",
      "source": [
        "We added a string of text containing the word *dog*. A **string** is a sequence of characters enclosed within either (' ') or (\" \")"
      ],
      "metadata": {
        "id": "jOQ4g4tTPDyX"
      }
    },
    {
      "cell_type": "markdown",
      "source": [
        "We can access an element in a list by its index"
      ],
      "metadata": {
        "id": "yhbo2QzIPPyT"
      }
    },
    {
      "cell_type": "code",
      "source": [
        "my_list[1]"
      ],
      "metadata": {
        "colab": {
          "base_uri": "https://localhost:8080/"
        },
        "id": "-y2zwyrNPWQ7",
        "outputId": "c0ad2549-db58-424f-e585-307347e9678d"
      },
      "execution_count": null,
      "outputs": [
        {
          "output_type": "execute_result",
          "data": {
            "text/plain": [
              "3"
            ]
          },
          "metadata": {},
          "execution_count": 17
        }
      ]
    },
    {
      "cell_type": "markdown",
      "source": [
        "We can also remove elements"
      ],
      "metadata": {
        "id": "MglGYTyhPntc"
      }
    },
    {
      "cell_type": "code",
      "source": [
        "my_list.remove(\"dog\")\n",
        "\n",
        "my_list"
      ],
      "metadata": {
        "colab": {
          "base_uri": "https://localhost:8080/"
        },
        "id": "wJarjCq7Pphk",
        "outputId": "42328674-cfc2-4899-fe5d-1fe31df95cab"
      },
      "execution_count": null,
      "outputs": [
        {
          "output_type": "execute_result",
          "data": {
            "text/plain": [
              "[2, 3]"
            ]
          },
          "metadata": {},
          "execution_count": 18
        }
      ]
    },
    {
      "cell_type": "markdown",
      "source": [
        "We can initialize a list with elements inside"
      ],
      "metadata": {
        "id": "VPpXOeVvQBVU"
      }
    },
    {
      "cell_type": "code",
      "source": [
        "new_list = [2, 5, 7, 1, 2]\n",
        "\n",
        "new_list"
      ],
      "metadata": {
        "colab": {
          "base_uri": "https://localhost:8080/"
        },
        "id": "I7zHvem4P8ex",
        "outputId": "884c42ba-b4eb-47ef-c238-f38106aa59ff"
      },
      "execution_count": null,
      "outputs": [
        {
          "output_type": "execute_result",
          "data": {
            "text/plain": [
              "[2, 5, 7, 1, 2]"
            ]
          },
          "metadata": {},
          "execution_count": 19
        }
      ]
    },
    {
      "cell_type": "markdown",
      "source": [
        "And we can access slices of this list"
      ],
      "metadata": {
        "id": "mKIxy1bPQHRo"
      }
    },
    {
      "cell_type": "code",
      "source": [
        "new_list[1:3]"
      ],
      "metadata": {
        "colab": {
          "base_uri": "https://localhost:8080/"
        },
        "id": "SFFEsZo1QGmx",
        "outputId": "b7ab7c99-2130-420a-e396-fbe4d2c33f78"
      },
      "execution_count": null,
      "outputs": [
        {
          "output_type": "execute_result",
          "data": {
            "text/plain": [
              "[5, 7]"
            ]
          },
          "metadata": {},
          "execution_count": 20
        }
      ]
    },
    {
      "cell_type": "markdown",
      "source": [
        "We can also concatenating two lists"
      ],
      "metadata": {
        "id": "y8_W5BNLQOO4"
      }
    },
    {
      "cell_type": "code",
      "source": [
        "long_list = my_list + new_list\n",
        "\n",
        "long_list"
      ],
      "metadata": {
        "colab": {
          "base_uri": "https://localhost:8080/"
        },
        "id": "KdEVaUfIQNrJ",
        "outputId": "1d6b5c45-51d9-424c-81c2-08b5dcda5946"
      },
      "execution_count": null,
      "outputs": [
        {
          "output_type": "execute_result",
          "data": {
            "text/plain": [
              "[2, 3, 2, 5, 7, 1, 2]"
            ]
          },
          "metadata": {},
          "execution_count": 21
        }
      ]
    },
    {
      "cell_type": "markdown",
      "source": [
        "Lists have many other useful built-in functions, such as *len*"
      ],
      "metadata": {
        "id": "jkEvAg0pQY8d"
      }
    },
    {
      "cell_type": "code",
      "source": [
        "len(long_list)"
      ],
      "metadata": {
        "colab": {
          "base_uri": "https://localhost:8080/"
        },
        "id": "flV1WJ2uQXSN",
        "outputId": "b52ddd13-17a9-422a-b999-8fb05cee7f15"
      },
      "execution_count": null,
      "outputs": [
        {
          "output_type": "execute_result",
          "data": {
            "text/plain": [
              "7"
            ]
          },
          "metadata": {},
          "execution_count": 22
        }
      ]
    },
    {
      "cell_type": "markdown",
      "source": [
        "# Loops"
      ],
      "metadata": {
        "id": "NRjT-PG2AB7W"
      }
    },
    {
      "cell_type": "markdown",
      "source": [
        "The `for` loop is used to iterate over a sequence (such as a list, tuple, string, or range) and execute a block of code for each item in the sequence."
      ],
      "metadata": {
        "id": "s5RsmU0UARLv"
      }
    },
    {
      "cell_type": "code",
      "source": [
        "for x in long_list:\n",
        "  print(x)"
      ],
      "metadata": {
        "colab": {
          "base_uri": "https://localhost:8080/"
        },
        "id": "pusK0ygvAD6F",
        "outputId": "0fc4ae77-dca4-4fb1-8acd-a2aca0727f36"
      },
      "execution_count": null,
      "outputs": [
        {
          "output_type": "stream",
          "name": "stdout",
          "text": [
            "2\n",
            "3\n",
            "2\n",
            "5\n",
            "7\n",
            "1\n",
            "2\n"
          ]
        }
      ]
    },
    {
      "cell_type": "markdown",
      "source": [
        "We used the `print()` function, which is used to display output on the console. It takes one or more arguments, and each argument is separated by a comma. The arguments can be of various types, such as strings, numbers, or variables."
      ],
      "metadata": {
        "id": "iZJsqNc-Al6o"
      }
    },
    {
      "cell_type": "markdown",
      "source": [
        "One commonly used function is range, a built-in function used to generate a sequence of numbers. It's commonly used in for loops to iterate over a specific range of values. The basic syntax of the range function is as follows:\n",
        "\n",
        "\n",
        "```\n",
        "range([start], stop, [step])\n",
        "```\n",
        "\n"
      ],
      "metadata": {
        "id": "_HjNymFEBJxL"
      }
    },
    {
      "cell_type": "code",
      "source": [
        "for i in range(2,6):\n",
        "  print(i, (i+2)//2)"
      ],
      "metadata": {
        "colab": {
          "base_uri": "https://localhost:8080/"
        },
        "id": "T79YYoW4A8CW",
        "outputId": "14342690-3248-4460-971a-808d6beb2021"
      },
      "execution_count": null,
      "outputs": [
        {
          "output_type": "stream",
          "name": "stdout",
          "text": [
            "2 2\n",
            "3 2\n",
            "4 3\n",
            "5 3\n"
          ]
        }
      ]
    },
    {
      "cell_type": "markdown",
      "source": [
        "**Exercise:** create a function that computes the sum of all integers between two numbers i and j"
      ],
      "metadata": {
        "id": "1HSNNBFhBtka"
      }
    },
    {
      "cell_type": "markdown",
      "source": [
        "# Modules"
      ],
      "metadata": {
        "id": "SBqV27mGQi0X"
      }
    },
    {
      "cell_type": "markdown",
      "source": [
        "In Python, a module is a file containing Python code that defines functions, classes, and variables. Modules are used to organize code into reusable units, making it easier to manage and maintain large programs. Modules help in structuring code and promoting code reusability by allowing you to import and use functions or classes defined in one module in another module.\n",
        "\n",
        "Python provides a rich standard library with many built-in modules that offer various functionalities, such as working with files, networking, data processing, and more. You can also create your own modules to encapsulate related code and promote code organization and reusability in your projects.\n"
      ],
      "metadata": {
        "id": "NDWq5fd9RRbq"
      }
    },
    {
      "cell_type": "code",
      "source": [
        "import math"
      ],
      "metadata": {
        "id": "qQG-c0JwQ93f"
      },
      "execution_count": null,
      "outputs": []
    },
    {
      "cell_type": "code",
      "source": [
        "math.log(5)"
      ],
      "metadata": {
        "colab": {
          "base_uri": "https://localhost:8080/"
        },
        "id": "ub1EUC4XRYsw",
        "outputId": "6fce776f-be2e-45f9-dce6-942edb57a1a8"
      },
      "execution_count": null,
      "outputs": [
        {
          "output_type": "execute_result",
          "data": {
            "text/plain": [
              "1.6094379124341003"
            ]
          },
          "metadata": {},
          "execution_count": 26
        }
      ]
    },
    {
      "cell_type": "markdown",
      "source": [
        "You can also import specific functions or variables from a module using the `from` keyword"
      ],
      "metadata": {
        "id": "lLfY6FWTSVb6"
      }
    },
    {
      "cell_type": "code",
      "source": [
        "from math import cos"
      ],
      "metadata": {
        "id": "ak6yhhiUSOkp"
      },
      "execution_count": null,
      "outputs": []
    },
    {
      "cell_type": "code",
      "source": [
        "cos(3.14)"
      ],
      "metadata": {
        "colab": {
          "base_uri": "https://localhost:8080/"
        },
        "id": "1nCqrUbGRaz3",
        "outputId": "2257645d-d36a-4a7d-c7d4-26dbc4ec0b4f"
      },
      "execution_count": null,
      "outputs": [
        {
          "output_type": "execute_result",
          "data": {
            "text/plain": [
              "-0.9999987317275395"
            ]
          },
          "metadata": {},
          "execution_count": 28
        }
      ]
    },
    {
      "cell_type": "markdown",
      "source": [
        "In Google Colab, you have access to a variety of non-Python built-in modules and libraries that you can use in your projects. These external libraries provide additional functionality and tools for specific tasks. Some of the modules we will use in the course are:\n",
        "\n",
        "1. **NumPy**: NumPy is a powerful numerical computing library in Python that provides support for large multi-dimensional arrays and matrices, along with a collection of mathematical functions to operate on these arrays. It is widely used for scientific computing, data analysis, and machine learning tasks.\n",
        "\n",
        "2. **Pandas**: Pandas is a data manipulation and analysis library in Python that offers data structures like DataFrame and Series, which make it easy to work with structured data. It provides functions for data cleaning, transformation, filtering, and aggregation.\n",
        "\n",
        "3. **Matplotlib**: Matplotlib is a plotting library in Python that allows you to create various types of plots, charts, and visualizations. It provides a flexible API for customizing plots and is commonly used for data visualization tasks.\n",
        "\n",
        "4. **Scikit-learn**: Scikit-learn is a machine learning library in Python that provides a wide range of algorithms for classification, regression, clustering, dimensionality reduction, and more. It also includes tools for model evaluation and selection\n",
        "\n",
        "\n"
      ],
      "metadata": {
        "id": "6sOHKz5rRmtS"
      }
    },
    {
      "cell_type": "markdown",
      "source": [
        "# Numpy"
      ],
      "metadata": {
        "id": "5tCrbcftDgkT"
      }
    },
    {
      "cell_type": "markdown",
      "source": [
        "NumPy (Numerical Python) is a powerful Python library for numerical and mathematical operations. It provides support for large, multi-dimensional arrays and matrices, along with a collection of mathematical functions to operate on these arrays."
      ],
      "metadata": {
        "id": "d6F6kul_Eh5i"
      }
    },
    {
      "cell_type": "markdown",
      "source": [
        "Let's start by importing the module"
      ],
      "metadata": {
        "id": "ONhioegMEkOg"
      }
    },
    {
      "cell_type": "code",
      "source": [
        "import numpy as np"
      ],
      "metadata": {
        "id": "D5OC3bgDCW6Q"
      },
      "execution_count": null,
      "outputs": []
    },
    {
      "cell_type": "markdown",
      "source": [
        "We can create new arrays with:"
      ],
      "metadata": {
        "id": "Qf9wN_DaEtb8"
      }
    },
    {
      "cell_type": "code",
      "source": [
        "arr1 = np.array([1, 2, 3, 4, 5])"
      ],
      "metadata": {
        "id": "jalKeoEIEo79"
      },
      "execution_count": null,
      "outputs": []
    },
    {
      "cell_type": "code",
      "source": [
        "print(arr1)"
      ],
      "metadata": {
        "colab": {
          "base_uri": "https://localhost:8080/"
        },
        "id": "b6cgRxZgFNn0",
        "outputId": "7c04ccef-06f9-4939-c092-89b38f56f712"
      },
      "execution_count": null,
      "outputs": [
        {
          "output_type": "stream",
          "name": "stdout",
          "text": [
            "[1 2 3 4 5]\n"
          ]
        }
      ]
    },
    {
      "cell_type": "markdown",
      "source": [
        "We can also create matrices:"
      ],
      "metadata": {
        "id": "A9EzY-sQFBEY"
      }
    },
    {
      "cell_type": "code",
      "source": [
        "arr2 = np.array([[1, 2, 3], [4, 5, 6]])"
      ],
      "metadata": {
        "id": "OBkTOrz3Exx7"
      },
      "execution_count": null,
      "outputs": []
    },
    {
      "cell_type": "code",
      "source": [
        "print(arr2)"
      ],
      "metadata": {
        "colab": {
          "base_uri": "https://localhost:8080/"
        },
        "id": "zEyKsP9BFGns",
        "outputId": "1afd8b4a-c836-4197-ab7a-a839644604e3"
      },
      "execution_count": null,
      "outputs": [
        {
          "output_type": "stream",
          "name": "stdout",
          "text": [
            "[[1 2 3]\n",
            " [4 5 6]]\n"
          ]
        }
      ]
    },
    {
      "cell_type": "markdown",
      "source": [
        "We can also initialize arrays with only zeroes/ones"
      ],
      "metadata": {
        "id": "K6conThMFPpu"
      }
    },
    {
      "cell_type": "code",
      "source": [
        "zeros_array = np.zeros((3, 4))   # 3 rows x 4 columns\n",
        "ones_array = np.ones((2, 2))"
      ],
      "metadata": {
        "id": "gyKgLS8OFIZ1"
      },
      "execution_count": null,
      "outputs": []
    },
    {
      "cell_type": "code",
      "source": [
        "print(zeros_array)\n",
        "print(ones_array)"
      ],
      "metadata": {
        "colab": {
          "base_uri": "https://localhost:8080/"
        },
        "id": "GiUdkiQMFW2V",
        "outputId": "245cdaa2-e725-4c24-f8b1-8fb00ad1f51d"
      },
      "execution_count": null,
      "outputs": [
        {
          "output_type": "stream",
          "name": "stdout",
          "text": [
            "[[0. 0. 0. 0.]\n",
            " [0. 0. 0. 0.]\n",
            " [0. 0. 0. 0.]]\n",
            "[[1. 1.]\n",
            " [1. 1.]]\n"
          ]
        }
      ]
    },
    {
      "cell_type": "markdown",
      "source": [
        "Numpy allows as to perform **element-wise operations**"
      ],
      "metadata": {
        "id": "lH5DmFTNFj_r"
      }
    },
    {
      "cell_type": "code",
      "source": [
        "v = np.array([1,3,11,2.5])"
      ],
      "metadata": {
        "id": "9tteyb7_Gs9c"
      },
      "execution_count": null,
      "outputs": []
    },
    {
      "cell_type": "code",
      "source": [
        "print(\"Array:\", v)"
      ],
      "metadata": {
        "colab": {
          "base_uri": "https://localhost:8080/"
        },
        "id": "fOByC_8LFZ5F",
        "outputId": "ee2c713a-0b7e-4817-cb9a-1d037caa8c86"
      },
      "execution_count": null,
      "outputs": [
        {
          "output_type": "stream",
          "name": "stdout",
          "text": [
            "Array: [ 1.   3.  11.   2.5]\n"
          ]
        }
      ]
    },
    {
      "cell_type": "code",
      "source": [
        "print(\"Array times 2:\", v*2)"
      ],
      "metadata": {
        "colab": {
          "base_uri": "https://localhost:8080/"
        },
        "id": "VOyWuLDbF2Hn",
        "outputId": "e20cf2e5-52c6-4c3f-e294-313f184237e5"
      },
      "execution_count": null,
      "outputs": [
        {
          "output_type": "stream",
          "name": "stdout",
          "text": [
            "Array times 2: [ 2.  6. 22.  5.]\n"
          ]
        }
      ]
    },
    {
      "cell_type": "code",
      "source": [
        "print(\"Square root of array:\", np.sqrt(v))"
      ],
      "metadata": {
        "colab": {
          "base_uri": "https://localhost:8080/"
        },
        "id": "x2xzxraZGByq",
        "outputId": "5235eb87-2315-4a4d-c27a-40fbe7f80bed"
      },
      "execution_count": null,
      "outputs": [
        {
          "output_type": "stream",
          "name": "stdout",
          "text": [
            "Square root of array: [1.         1.73205081 3.31662479 1.58113883]\n"
          ]
        }
      ]
    },
    {
      "cell_type": "markdown",
      "source": [
        "Numpy also allows us to implement operations from **linear algebra**"
      ],
      "metadata": {
        "id": "z2B2EnH5GQ-h"
      }
    },
    {
      "cell_type": "markdown",
      "source": [
        "Matrix multiplication:"
      ],
      "metadata": {
        "id": "PvTpUfWjG1-2"
      }
    },
    {
      "cell_type": "code",
      "source": [
        "A = np.array([[1, 2], [3, 4]])\n",
        "B = np.array([[5, 6], [7, 8]])\n",
        "\n",
        "print(A.dot(B))"
      ],
      "metadata": {
        "colab": {
          "base_uri": "https://localhost:8080/"
        },
        "id": "Pqx-cSVgGC5G",
        "outputId": "ea775e22-904c-4930-8618-f01d3db5919f"
      },
      "execution_count": null,
      "outputs": [
        {
          "output_type": "stream",
          "name": "stdout",
          "text": [
            "[[19 22]\n",
            " [43 50]]\n"
          ]
        }
      ]
    },
    {
      "cell_type": "markdown",
      "source": [
        "Transposing a matrix:"
      ],
      "metadata": {
        "id": "MxwFCTolG7fZ"
      }
    },
    {
      "cell_type": "code",
      "source": [
        "print(A.T)"
      ],
      "metadata": {
        "colab": {
          "base_uri": "https://localhost:8080/"
        },
        "id": "OrZXQimeGZQr",
        "outputId": "676f682b-f91e-43f2-a374-70b764a4fc8b"
      },
      "execution_count": null,
      "outputs": [
        {
          "output_type": "stream",
          "name": "stdout",
          "text": [
            "[[1 3]\n",
            " [2 4]]\n"
          ]
        }
      ]
    },
    {
      "cell_type": "markdown",
      "source": [
        "NumPy allows efficient indexing and slicing of arrays, including multi-dimensional arrays."
      ],
      "metadata": {
        "id": "VmfWpoXOHCmw"
      }
    },
    {
      "cell_type": "code",
      "source": [
        "print(A[1,0])"
      ],
      "metadata": {
        "colab": {
          "base_uri": "https://localhost:8080/"
        },
        "id": "oWf64A_aGi3B",
        "outputId": "257864e3-dcbb-4483-d345-d977c4080bcd"
      },
      "execution_count": null,
      "outputs": [
        {
          "output_type": "stream",
          "name": "stdout",
          "text": [
            "3\n"
          ]
        }
      ]
    },
    {
      "cell_type": "code",
      "source": [
        "print(A[1,:])"
      ],
      "metadata": {
        "colab": {
          "base_uri": "https://localhost:8080/"
        },
        "id": "dXk29U9DHb-P",
        "outputId": "6dfa5af6-b0f7-4f1f-8b09-e4fea7888dd8"
      },
      "execution_count": null,
      "outputs": [
        {
          "output_type": "stream",
          "name": "stdout",
          "text": [
            "[3 4]\n"
          ]
        }
      ]
    },
    {
      "cell_type": "markdown",
      "source": [
        "# Pandas"
      ],
      "metadata": {
        "id": "Y554O3PEayTl"
      }
    },
    {
      "cell_type": "markdown",
      "source": [
        "Pandas is a powerful and widely-used Python library for **data manipulation and analysis**. It provides easy-to-use data structures, primarily the DataFrame, which allows users to efficiently organize, clean, and analyze tabular data. With its intuitive syntax and versatile functions, Pandas simplifies tasks such as selecting, filtering, and aggregating data.\n",
        "\n",
        "In this brief tutorial, we'll explore the basics of Pandas, covering fundamental operations that serve as building blocks for effective data handling. We will give you some examples to get you started, but Pandas is extensive and would warrant a few lessons by itself. It is the **least important topic** covered in this notebook.\n",
        "\n"
      ],
      "metadata": {
        "id": "woUH4cBweOXL"
      }
    },
    {
      "cell_type": "markdown",
      "source": [
        "Let's import the module"
      ],
      "metadata": {
        "id": "PaPvAUFpeZ4w"
      }
    },
    {
      "cell_type": "code",
      "source": [
        "import pandas as pd"
      ],
      "metadata": {
        "id": "7n8UMb5EazfH"
      },
      "execution_count": null,
      "outputs": []
    },
    {
      "cell_type": "markdown",
      "source": [
        "We can create a dataset from a dictionary (a dictionary is an unordered collection which stores data in key-values pairs, if you didn't know already don't worry, we won't be using them at all)"
      ],
      "metadata": {
        "id": "AOb_GcC0ej2L"
      }
    },
    {
      "cell_type": "code",
      "source": [
        "data = {'Name': ['Leonardo', 'Letizia', 'Niccolo', 'Federico', 'Davide'],\n",
        "        'Age': [55, 25, 28, 21, 24],\n",
        "        'City': ['Detroit', 'Torino', 'Roma', 'Bra', 'Lecco']}\n",
        "\n",
        "df = pd.DataFrame(data)"
      ],
      "metadata": {
        "id": "uv6-IL85ekO5"
      },
      "execution_count": null,
      "outputs": []
    },
    {
      "cell_type": "markdown",
      "source": [
        "and display it"
      ],
      "metadata": {
        "id": "p9AGg13pfz9B"
      }
    },
    {
      "cell_type": "code",
      "source": [
        "#just the first 5 rows    <-- this is a comment by the way (code that will not be compiled by the machine), we will use it from now on to explain larger chunks of code\n",
        "df.head()\n",
        "\n",
        "#whole dataset\n",
        "df"
      ],
      "metadata": {
        "colab": {
          "base_uri": "https://localhost:8080/",
          "height": 206
        },
        "id": "n09rWUFLffIh",
        "outputId": "370fcb10-f345-4ccf-d1d0-26b62b5db292"
      },
      "execution_count": null,
      "outputs": [
        {
          "output_type": "execute_result",
          "data": {
            "text/plain": [
              "       Name  Age     City\n",
              "0  Leonardo   55  Detroit\n",
              "1   Letizia   25   Torino\n",
              "2   Niccolo   28     Roma\n",
              "3  Federico   21      Bra\n",
              "4    Davide   24    Lecco"
            ],
            "text/html": [
              "\n",
              "  <div id=\"df-57d97297-3904-4db9-99a2-a43c3af37b91\" class=\"colab-df-container\">\n",
              "    <div>\n",
              "<style scoped>\n",
              "    .dataframe tbody tr th:only-of-type {\n",
              "        vertical-align: middle;\n",
              "    }\n",
              "\n",
              "    .dataframe tbody tr th {\n",
              "        vertical-align: top;\n",
              "    }\n",
              "\n",
              "    .dataframe thead th {\n",
              "        text-align: right;\n",
              "    }\n",
              "</style>\n",
              "<table border=\"1\" class=\"dataframe\">\n",
              "  <thead>\n",
              "    <tr style=\"text-align: right;\">\n",
              "      <th></th>\n",
              "      <th>Name</th>\n",
              "      <th>Age</th>\n",
              "      <th>City</th>\n",
              "    </tr>\n",
              "  </thead>\n",
              "  <tbody>\n",
              "    <tr>\n",
              "      <th>0</th>\n",
              "      <td>Leonardo</td>\n",
              "      <td>55</td>\n",
              "      <td>Detroit</td>\n",
              "    </tr>\n",
              "    <tr>\n",
              "      <th>1</th>\n",
              "      <td>Letizia</td>\n",
              "      <td>25</td>\n",
              "      <td>Torino</td>\n",
              "    </tr>\n",
              "    <tr>\n",
              "      <th>2</th>\n",
              "      <td>Niccolo</td>\n",
              "      <td>28</td>\n",
              "      <td>Roma</td>\n",
              "    </tr>\n",
              "    <tr>\n",
              "      <th>3</th>\n",
              "      <td>Federico</td>\n",
              "      <td>21</td>\n",
              "      <td>Bra</td>\n",
              "    </tr>\n",
              "    <tr>\n",
              "      <th>4</th>\n",
              "      <td>Davide</td>\n",
              "      <td>24</td>\n",
              "      <td>Lecco</td>\n",
              "    </tr>\n",
              "  </tbody>\n",
              "</table>\n",
              "</div>\n",
              "    <div class=\"colab-df-buttons\">\n",
              "\n",
              "  <div class=\"colab-df-container\">\n",
              "    <button class=\"colab-df-convert\" onclick=\"convertToInteractive('df-57d97297-3904-4db9-99a2-a43c3af37b91')\"\n",
              "            title=\"Convert this dataframe to an interactive table.\"\n",
              "            style=\"display:none;\">\n",
              "\n",
              "  <svg xmlns=\"http://www.w3.org/2000/svg\" height=\"24px\" viewBox=\"0 -960 960 960\">\n",
              "    <path d=\"M120-120v-720h720v720H120Zm60-500h600v-160H180v160Zm220 220h160v-160H400v160Zm0 220h160v-160H400v160ZM180-400h160v-160H180v160Zm440 0h160v-160H620v160ZM180-180h160v-160H180v160Zm440 0h160v-160H620v160Z\"/>\n",
              "  </svg>\n",
              "    </button>\n",
              "\n",
              "  <style>\n",
              "    .colab-df-container {\n",
              "      display:flex;\n",
              "      gap: 12px;\n",
              "    }\n",
              "\n",
              "    .colab-df-convert {\n",
              "      background-color: #E8F0FE;\n",
              "      border: none;\n",
              "      border-radius: 50%;\n",
              "      cursor: pointer;\n",
              "      display: none;\n",
              "      fill: #1967D2;\n",
              "      height: 32px;\n",
              "      padding: 0 0 0 0;\n",
              "      width: 32px;\n",
              "    }\n",
              "\n",
              "    .colab-df-convert:hover {\n",
              "      background-color: #E2EBFA;\n",
              "      box-shadow: 0px 1px 2px rgba(60, 64, 67, 0.3), 0px 1px 3px 1px rgba(60, 64, 67, 0.15);\n",
              "      fill: #174EA6;\n",
              "    }\n",
              "\n",
              "    .colab-df-buttons div {\n",
              "      margin-bottom: 4px;\n",
              "    }\n",
              "\n",
              "    [theme=dark] .colab-df-convert {\n",
              "      background-color: #3B4455;\n",
              "      fill: #D2E3FC;\n",
              "    }\n",
              "\n",
              "    [theme=dark] .colab-df-convert:hover {\n",
              "      background-color: #434B5C;\n",
              "      box-shadow: 0px 1px 3px 1px rgba(0, 0, 0, 0.15);\n",
              "      filter: drop-shadow(0px 1px 2px rgba(0, 0, 0, 0.3));\n",
              "      fill: #FFFFFF;\n",
              "    }\n",
              "  </style>\n",
              "\n",
              "    <script>\n",
              "      const buttonEl =\n",
              "        document.querySelector('#df-57d97297-3904-4db9-99a2-a43c3af37b91 button.colab-df-convert');\n",
              "      buttonEl.style.display =\n",
              "        google.colab.kernel.accessAllowed ? 'block' : 'none';\n",
              "\n",
              "      async function convertToInteractive(key) {\n",
              "        const element = document.querySelector('#df-57d97297-3904-4db9-99a2-a43c3af37b91');\n",
              "        const dataTable =\n",
              "          await google.colab.kernel.invokeFunction('convertToInteractive',\n",
              "                                                    [key], {});\n",
              "        if (!dataTable) return;\n",
              "\n",
              "        const docLinkHtml = 'Like what you see? Visit the ' +\n",
              "          '<a target=\"_blank\" href=https://colab.research.google.com/notebooks/data_table.ipynb>data table notebook</a>'\n",
              "          + ' to learn more about interactive tables.';\n",
              "        element.innerHTML = '';\n",
              "        dataTable['output_type'] = 'display_data';\n",
              "        await google.colab.output.renderOutput(dataTable, element);\n",
              "        const docLink = document.createElement('div');\n",
              "        docLink.innerHTML = docLinkHtml;\n",
              "        element.appendChild(docLink);\n",
              "      }\n",
              "    </script>\n",
              "  </div>\n",
              "\n",
              "\n",
              "<div id=\"df-88234e35-bd5e-4d01-ba7b-116f7e997071\">\n",
              "  <button class=\"colab-df-quickchart\" onclick=\"quickchart('df-88234e35-bd5e-4d01-ba7b-116f7e997071')\"\n",
              "            title=\"Suggest charts\"\n",
              "            style=\"display:none;\">\n",
              "\n",
              "<svg xmlns=\"http://www.w3.org/2000/svg\" height=\"24px\"viewBox=\"0 0 24 24\"\n",
              "     width=\"24px\">\n",
              "    <g>\n",
              "        <path d=\"M19 3H5c-1.1 0-2 .9-2 2v14c0 1.1.9 2 2 2h14c1.1 0 2-.9 2-2V5c0-1.1-.9-2-2-2zM9 17H7v-7h2v7zm4 0h-2V7h2v10zm4 0h-2v-4h2v4z\"/>\n",
              "    </g>\n",
              "</svg>\n",
              "  </button>\n",
              "\n",
              "<style>\n",
              "  .colab-df-quickchart {\n",
              "      --bg-color: #E8F0FE;\n",
              "      --fill-color: #1967D2;\n",
              "      --hover-bg-color: #E2EBFA;\n",
              "      --hover-fill-color: #174EA6;\n",
              "      --disabled-fill-color: #AAA;\n",
              "      --disabled-bg-color: #DDD;\n",
              "  }\n",
              "\n",
              "  [theme=dark] .colab-df-quickchart {\n",
              "      --bg-color: #3B4455;\n",
              "      --fill-color: #D2E3FC;\n",
              "      --hover-bg-color: #434B5C;\n",
              "      --hover-fill-color: #FFFFFF;\n",
              "      --disabled-bg-color: #3B4455;\n",
              "      --disabled-fill-color: #666;\n",
              "  }\n",
              "\n",
              "  .colab-df-quickchart {\n",
              "    background-color: var(--bg-color);\n",
              "    border: none;\n",
              "    border-radius: 50%;\n",
              "    cursor: pointer;\n",
              "    display: none;\n",
              "    fill: var(--fill-color);\n",
              "    height: 32px;\n",
              "    padding: 0;\n",
              "    width: 32px;\n",
              "  }\n",
              "\n",
              "  .colab-df-quickchart:hover {\n",
              "    background-color: var(--hover-bg-color);\n",
              "    box-shadow: 0 1px 2px rgba(60, 64, 67, 0.3), 0 1px 3px 1px rgba(60, 64, 67, 0.15);\n",
              "    fill: var(--button-hover-fill-color);\n",
              "  }\n",
              "\n",
              "  .colab-df-quickchart-complete:disabled,\n",
              "  .colab-df-quickchart-complete:disabled:hover {\n",
              "    background-color: var(--disabled-bg-color);\n",
              "    fill: var(--disabled-fill-color);\n",
              "    box-shadow: none;\n",
              "  }\n",
              "\n",
              "  .colab-df-spinner {\n",
              "    border: 2px solid var(--fill-color);\n",
              "    border-color: transparent;\n",
              "    border-bottom-color: var(--fill-color);\n",
              "    animation:\n",
              "      spin 1s steps(1) infinite;\n",
              "  }\n",
              "\n",
              "  @keyframes spin {\n",
              "    0% {\n",
              "      border-color: transparent;\n",
              "      border-bottom-color: var(--fill-color);\n",
              "      border-left-color: var(--fill-color);\n",
              "    }\n",
              "    20% {\n",
              "      border-color: transparent;\n",
              "      border-left-color: var(--fill-color);\n",
              "      border-top-color: var(--fill-color);\n",
              "    }\n",
              "    30% {\n",
              "      border-color: transparent;\n",
              "      border-left-color: var(--fill-color);\n",
              "      border-top-color: var(--fill-color);\n",
              "      border-right-color: var(--fill-color);\n",
              "    }\n",
              "    40% {\n",
              "      border-color: transparent;\n",
              "      border-right-color: var(--fill-color);\n",
              "      border-top-color: var(--fill-color);\n",
              "    }\n",
              "    60% {\n",
              "      border-color: transparent;\n",
              "      border-right-color: var(--fill-color);\n",
              "    }\n",
              "    80% {\n",
              "      border-color: transparent;\n",
              "      border-right-color: var(--fill-color);\n",
              "      border-bottom-color: var(--fill-color);\n",
              "    }\n",
              "    90% {\n",
              "      border-color: transparent;\n",
              "      border-bottom-color: var(--fill-color);\n",
              "    }\n",
              "  }\n",
              "</style>\n",
              "\n",
              "  <script>\n",
              "    async function quickchart(key) {\n",
              "      const quickchartButtonEl =\n",
              "        document.querySelector('#' + key + ' button');\n",
              "      quickchartButtonEl.disabled = true;  // To prevent multiple clicks.\n",
              "      quickchartButtonEl.classList.add('colab-df-spinner');\n",
              "      try {\n",
              "        const charts = await google.colab.kernel.invokeFunction(\n",
              "            'suggestCharts', [key], {});\n",
              "      } catch (error) {\n",
              "        console.error('Error during call to suggestCharts:', error);\n",
              "      }\n",
              "      quickchartButtonEl.classList.remove('colab-df-spinner');\n",
              "      quickchartButtonEl.classList.add('colab-df-quickchart-complete');\n",
              "    }\n",
              "    (() => {\n",
              "      let quickchartButtonEl =\n",
              "        document.querySelector('#df-88234e35-bd5e-4d01-ba7b-116f7e997071 button');\n",
              "      quickchartButtonEl.style.display =\n",
              "        google.colab.kernel.accessAllowed ? 'block' : 'none';\n",
              "    })();\n",
              "  </script>\n",
              "</div>\n",
              "    </div>\n",
              "  </div>\n"
            ],
            "application/vnd.google.colaboratory.intrinsic+json": {
              "type": "dataframe",
              "variable_name": "df",
              "summary": "{\n  \"name\": \"df\",\n  \"rows\": 5,\n  \"fields\": [\n    {\n      \"column\": \"Name\",\n      \"properties\": {\n        \"dtype\": \"string\",\n        \"num_unique_values\": 5,\n        \"samples\": [\n          \"Letizia\",\n          \"Davide\",\n          \"Niccolo\"\n        ],\n        \"semantic_type\": \"\",\n        \"description\": \"\"\n      }\n    },\n    {\n      \"column\": \"Age\",\n      \"properties\": {\n        \"dtype\": \"number\",\n        \"std\": 13,\n        \"min\": 21,\n        \"max\": 55,\n        \"num_unique_values\": 5,\n        \"samples\": [\n          25,\n          24,\n          28\n        ],\n        \"semantic_type\": \"\",\n        \"description\": \"\"\n      }\n    },\n    {\n      \"column\": \"City\",\n      \"properties\": {\n        \"dtype\": \"string\",\n        \"num_unique_values\": 5,\n        \"samples\": [\n          \"Torino\",\n          \"Lecco\",\n          \"Roma\"\n        ],\n        \"semantic_type\": \"\",\n        \"description\": \"\"\n      }\n    }\n  ]\n}"
            }
          },
          "metadata": {},
          "execution_count": 46
        }
      ]
    },
    {
      "cell_type": "markdown",
      "source": [
        "Datasets can also be loaded from a csv file.\n",
        "In this case we'll use The Chipotle dataset.\n",
        "\n",
        "It is a collection of order data from the **Chipotle Mexican Grill restaurant**. It includes details such as order numbers, quantities, item names, descriptions, and prices. Each row represents a specific item within a customer's order:\n",
        "\n",
        "\n",
        "\n"
      ],
      "metadata": {
        "id": "JP4i0qbfgCYm"
      }
    },
    {
      "cell_type": "code",
      "source": [
        "# When using Pandas to read data from a file, you can specify the delimiter\n",
        "# using the 'delimiter' parameter in the read_csv() function. For example:\n",
        "#   pd.read_csv('your_file.csv', delimiter=',')  # Use a comma as the delimiter\n",
        "#   pd.read_csv('your_file.tsv', delimiter='\\t')  # Use a tab as the delimiter\n",
        "# now we import a dataset from github\n",
        "url = 'https://raw.githubusercontent.com/justmarkham/DAT8/master/data/chipotle.tsv'\n",
        "chipotle_data = pd.read_csv(url, delimiter='\\t') #delimiter"
      ],
      "metadata": {
        "id": "YkRjo_-VggFb"
      },
      "execution_count": null,
      "outputs": []
    },
    {
      "cell_type": "code",
      "source": [
        "chipotle_data.head()"
      ],
      "metadata": {
        "colab": {
          "base_uri": "https://localhost:8080/",
          "height": 206
        },
        "id": "Ot_MASVRgljp",
        "outputId": "1c33f105-0430-4b62-faea-460f238d6aef"
      },
      "execution_count": null,
      "outputs": [
        {
          "output_type": "execute_result",
          "data": {
            "text/plain": [
              "   order_id  quantity                              item_name  \\\n",
              "0         1         1           Chips and Fresh Tomato Salsa   \n",
              "1         1         1                                   Izze   \n",
              "2         1         1                       Nantucket Nectar   \n",
              "3         1         1  Chips and Tomatillo-Green Chili Salsa   \n",
              "4         2         2                           Chicken Bowl   \n",
              "\n",
              "                                  choice_description item_price  \n",
              "0                                                NaN     $2.39   \n",
              "1                                       [Clementine]     $3.39   \n",
              "2                                            [Apple]     $3.39   \n",
              "3                                                NaN     $2.39   \n",
              "4  [Tomatillo-Red Chili Salsa (Hot), [Black Beans...    $16.98   "
            ],
            "text/html": [
              "\n",
              "  <div id=\"df-98bb1c9c-5d44-42cb-b3d1-1de6ef47c8bf\" class=\"colab-df-container\">\n",
              "    <div>\n",
              "<style scoped>\n",
              "    .dataframe tbody tr th:only-of-type {\n",
              "        vertical-align: middle;\n",
              "    }\n",
              "\n",
              "    .dataframe tbody tr th {\n",
              "        vertical-align: top;\n",
              "    }\n",
              "\n",
              "    .dataframe thead th {\n",
              "        text-align: right;\n",
              "    }\n",
              "</style>\n",
              "<table border=\"1\" class=\"dataframe\">\n",
              "  <thead>\n",
              "    <tr style=\"text-align: right;\">\n",
              "      <th></th>\n",
              "      <th>order_id</th>\n",
              "      <th>quantity</th>\n",
              "      <th>item_name</th>\n",
              "      <th>choice_description</th>\n",
              "      <th>item_price</th>\n",
              "    </tr>\n",
              "  </thead>\n",
              "  <tbody>\n",
              "    <tr>\n",
              "      <th>0</th>\n",
              "      <td>1</td>\n",
              "      <td>1</td>\n",
              "      <td>Chips and Fresh Tomato Salsa</td>\n",
              "      <td>NaN</td>\n",
              "      <td>$2.39</td>\n",
              "    </tr>\n",
              "    <tr>\n",
              "      <th>1</th>\n",
              "      <td>1</td>\n",
              "      <td>1</td>\n",
              "      <td>Izze</td>\n",
              "      <td>[Clementine]</td>\n",
              "      <td>$3.39</td>\n",
              "    </tr>\n",
              "    <tr>\n",
              "      <th>2</th>\n",
              "      <td>1</td>\n",
              "      <td>1</td>\n",
              "      <td>Nantucket Nectar</td>\n",
              "      <td>[Apple]</td>\n",
              "      <td>$3.39</td>\n",
              "    </tr>\n",
              "    <tr>\n",
              "      <th>3</th>\n",
              "      <td>1</td>\n",
              "      <td>1</td>\n",
              "      <td>Chips and Tomatillo-Green Chili Salsa</td>\n",
              "      <td>NaN</td>\n",
              "      <td>$2.39</td>\n",
              "    </tr>\n",
              "    <tr>\n",
              "      <th>4</th>\n",
              "      <td>2</td>\n",
              "      <td>2</td>\n",
              "      <td>Chicken Bowl</td>\n",
              "      <td>[Tomatillo-Red Chili Salsa (Hot), [Black Beans...</td>\n",
              "      <td>$16.98</td>\n",
              "    </tr>\n",
              "  </tbody>\n",
              "</table>\n",
              "</div>\n",
              "    <div class=\"colab-df-buttons\">\n",
              "\n",
              "  <div class=\"colab-df-container\">\n",
              "    <button class=\"colab-df-convert\" onclick=\"convertToInteractive('df-98bb1c9c-5d44-42cb-b3d1-1de6ef47c8bf')\"\n",
              "            title=\"Convert this dataframe to an interactive table.\"\n",
              "            style=\"display:none;\">\n",
              "\n",
              "  <svg xmlns=\"http://www.w3.org/2000/svg\" height=\"24px\" viewBox=\"0 -960 960 960\">\n",
              "    <path d=\"M120-120v-720h720v720H120Zm60-500h600v-160H180v160Zm220 220h160v-160H400v160Zm0 220h160v-160H400v160ZM180-400h160v-160H180v160Zm440 0h160v-160H620v160ZM180-180h160v-160H180v160Zm440 0h160v-160H620v160Z\"/>\n",
              "  </svg>\n",
              "    </button>\n",
              "\n",
              "  <style>\n",
              "    .colab-df-container {\n",
              "      display:flex;\n",
              "      gap: 12px;\n",
              "    }\n",
              "\n",
              "    .colab-df-convert {\n",
              "      background-color: #E8F0FE;\n",
              "      border: none;\n",
              "      border-radius: 50%;\n",
              "      cursor: pointer;\n",
              "      display: none;\n",
              "      fill: #1967D2;\n",
              "      height: 32px;\n",
              "      padding: 0 0 0 0;\n",
              "      width: 32px;\n",
              "    }\n",
              "\n",
              "    .colab-df-convert:hover {\n",
              "      background-color: #E2EBFA;\n",
              "      box-shadow: 0px 1px 2px rgba(60, 64, 67, 0.3), 0px 1px 3px 1px rgba(60, 64, 67, 0.15);\n",
              "      fill: #174EA6;\n",
              "    }\n",
              "\n",
              "    .colab-df-buttons div {\n",
              "      margin-bottom: 4px;\n",
              "    }\n",
              "\n",
              "    [theme=dark] .colab-df-convert {\n",
              "      background-color: #3B4455;\n",
              "      fill: #D2E3FC;\n",
              "    }\n",
              "\n",
              "    [theme=dark] .colab-df-convert:hover {\n",
              "      background-color: #434B5C;\n",
              "      box-shadow: 0px 1px 3px 1px rgba(0, 0, 0, 0.15);\n",
              "      filter: drop-shadow(0px 1px 2px rgba(0, 0, 0, 0.3));\n",
              "      fill: #FFFFFF;\n",
              "    }\n",
              "  </style>\n",
              "\n",
              "    <script>\n",
              "      const buttonEl =\n",
              "        document.querySelector('#df-98bb1c9c-5d44-42cb-b3d1-1de6ef47c8bf button.colab-df-convert');\n",
              "      buttonEl.style.display =\n",
              "        google.colab.kernel.accessAllowed ? 'block' : 'none';\n",
              "\n",
              "      async function convertToInteractive(key) {\n",
              "        const element = document.querySelector('#df-98bb1c9c-5d44-42cb-b3d1-1de6ef47c8bf');\n",
              "        const dataTable =\n",
              "          await google.colab.kernel.invokeFunction('convertToInteractive',\n",
              "                                                    [key], {});\n",
              "        if (!dataTable) return;\n",
              "\n",
              "        const docLinkHtml = 'Like what you see? Visit the ' +\n",
              "          '<a target=\"_blank\" href=https://colab.research.google.com/notebooks/data_table.ipynb>data table notebook</a>'\n",
              "          + ' to learn more about interactive tables.';\n",
              "        element.innerHTML = '';\n",
              "        dataTable['output_type'] = 'display_data';\n",
              "        await google.colab.output.renderOutput(dataTable, element);\n",
              "        const docLink = document.createElement('div');\n",
              "        docLink.innerHTML = docLinkHtml;\n",
              "        element.appendChild(docLink);\n",
              "      }\n",
              "    </script>\n",
              "  </div>\n",
              "\n",
              "\n",
              "<div id=\"df-d6faeb45-b15d-49d5-9489-02e035656121\">\n",
              "  <button class=\"colab-df-quickchart\" onclick=\"quickchart('df-d6faeb45-b15d-49d5-9489-02e035656121')\"\n",
              "            title=\"Suggest charts\"\n",
              "            style=\"display:none;\">\n",
              "\n",
              "<svg xmlns=\"http://www.w3.org/2000/svg\" height=\"24px\"viewBox=\"0 0 24 24\"\n",
              "     width=\"24px\">\n",
              "    <g>\n",
              "        <path d=\"M19 3H5c-1.1 0-2 .9-2 2v14c0 1.1.9 2 2 2h14c1.1 0 2-.9 2-2V5c0-1.1-.9-2-2-2zM9 17H7v-7h2v7zm4 0h-2V7h2v10zm4 0h-2v-4h2v4z\"/>\n",
              "    </g>\n",
              "</svg>\n",
              "  </button>\n",
              "\n",
              "<style>\n",
              "  .colab-df-quickchart {\n",
              "      --bg-color: #E8F0FE;\n",
              "      --fill-color: #1967D2;\n",
              "      --hover-bg-color: #E2EBFA;\n",
              "      --hover-fill-color: #174EA6;\n",
              "      --disabled-fill-color: #AAA;\n",
              "      --disabled-bg-color: #DDD;\n",
              "  }\n",
              "\n",
              "  [theme=dark] .colab-df-quickchart {\n",
              "      --bg-color: #3B4455;\n",
              "      --fill-color: #D2E3FC;\n",
              "      --hover-bg-color: #434B5C;\n",
              "      --hover-fill-color: #FFFFFF;\n",
              "      --disabled-bg-color: #3B4455;\n",
              "      --disabled-fill-color: #666;\n",
              "  }\n",
              "\n",
              "  .colab-df-quickchart {\n",
              "    background-color: var(--bg-color);\n",
              "    border: none;\n",
              "    border-radius: 50%;\n",
              "    cursor: pointer;\n",
              "    display: none;\n",
              "    fill: var(--fill-color);\n",
              "    height: 32px;\n",
              "    padding: 0;\n",
              "    width: 32px;\n",
              "  }\n",
              "\n",
              "  .colab-df-quickchart:hover {\n",
              "    background-color: var(--hover-bg-color);\n",
              "    box-shadow: 0 1px 2px rgba(60, 64, 67, 0.3), 0 1px 3px 1px rgba(60, 64, 67, 0.15);\n",
              "    fill: var(--button-hover-fill-color);\n",
              "  }\n",
              "\n",
              "  .colab-df-quickchart-complete:disabled,\n",
              "  .colab-df-quickchart-complete:disabled:hover {\n",
              "    background-color: var(--disabled-bg-color);\n",
              "    fill: var(--disabled-fill-color);\n",
              "    box-shadow: none;\n",
              "  }\n",
              "\n",
              "  .colab-df-spinner {\n",
              "    border: 2px solid var(--fill-color);\n",
              "    border-color: transparent;\n",
              "    border-bottom-color: var(--fill-color);\n",
              "    animation:\n",
              "      spin 1s steps(1) infinite;\n",
              "  }\n",
              "\n",
              "  @keyframes spin {\n",
              "    0% {\n",
              "      border-color: transparent;\n",
              "      border-bottom-color: var(--fill-color);\n",
              "      border-left-color: var(--fill-color);\n",
              "    }\n",
              "    20% {\n",
              "      border-color: transparent;\n",
              "      border-left-color: var(--fill-color);\n",
              "      border-top-color: var(--fill-color);\n",
              "    }\n",
              "    30% {\n",
              "      border-color: transparent;\n",
              "      border-left-color: var(--fill-color);\n",
              "      border-top-color: var(--fill-color);\n",
              "      border-right-color: var(--fill-color);\n",
              "    }\n",
              "    40% {\n",
              "      border-color: transparent;\n",
              "      border-right-color: var(--fill-color);\n",
              "      border-top-color: var(--fill-color);\n",
              "    }\n",
              "    60% {\n",
              "      border-color: transparent;\n",
              "      border-right-color: var(--fill-color);\n",
              "    }\n",
              "    80% {\n",
              "      border-color: transparent;\n",
              "      border-right-color: var(--fill-color);\n",
              "      border-bottom-color: var(--fill-color);\n",
              "    }\n",
              "    90% {\n",
              "      border-color: transparent;\n",
              "      border-bottom-color: var(--fill-color);\n",
              "    }\n",
              "  }\n",
              "</style>\n",
              "\n",
              "  <script>\n",
              "    async function quickchart(key) {\n",
              "      const quickchartButtonEl =\n",
              "        document.querySelector('#' + key + ' button');\n",
              "      quickchartButtonEl.disabled = true;  // To prevent multiple clicks.\n",
              "      quickchartButtonEl.classList.add('colab-df-spinner');\n",
              "      try {\n",
              "        const charts = await google.colab.kernel.invokeFunction(\n",
              "            'suggestCharts', [key], {});\n",
              "      } catch (error) {\n",
              "        console.error('Error during call to suggestCharts:', error);\n",
              "      }\n",
              "      quickchartButtonEl.classList.remove('colab-df-spinner');\n",
              "      quickchartButtonEl.classList.add('colab-df-quickchart-complete');\n",
              "    }\n",
              "    (() => {\n",
              "      let quickchartButtonEl =\n",
              "        document.querySelector('#df-d6faeb45-b15d-49d5-9489-02e035656121 button');\n",
              "      quickchartButtonEl.style.display =\n",
              "        google.colab.kernel.accessAllowed ? 'block' : 'none';\n",
              "    })();\n",
              "  </script>\n",
              "</div>\n",
              "    </div>\n",
              "  </div>\n"
            ],
            "application/vnd.google.colaboratory.intrinsic+json": {
              "type": "dataframe",
              "variable_name": "chipotle_data",
              "summary": "{\n  \"name\": \"chipotle_data\",\n  \"rows\": 4622,\n  \"fields\": [\n    {\n      \"column\": \"order_id\",\n      \"properties\": {\n        \"dtype\": \"number\",\n        \"std\": 528,\n        \"min\": 1,\n        \"max\": 1834,\n        \"num_unique_values\": 1834,\n        \"samples\": [\n          644,\n          333,\n          991\n        ],\n        \"semantic_type\": \"\",\n        \"description\": \"\"\n      }\n    },\n    {\n      \"column\": \"quantity\",\n      \"properties\": {\n        \"dtype\": \"number\",\n        \"std\": 0,\n        \"min\": 1,\n        \"max\": 15,\n        \"num_unique_values\": 9,\n        \"samples\": [\n          8,\n          2,\n          15\n        ],\n        \"semantic_type\": \"\",\n        \"description\": \"\"\n      }\n    },\n    {\n      \"column\": \"item_name\",\n      \"properties\": {\n        \"dtype\": \"category\",\n        \"num_unique_values\": 50,\n        \"samples\": [\n          \"Barbacoa Burrito\",\n          \"Crispy Tacos\",\n          \"Chips and Roasted Chili Corn Salsa\"\n        ],\n        \"semantic_type\": \"\",\n        \"description\": \"\"\n      }\n    },\n    {\n      \"column\": \"choice_description\",\n      \"properties\": {\n        \"dtype\": \"category\",\n        \"num_unique_values\": 1043,\n        \"samples\": [\n          \"[Roasted Chili Corn Salsa, [Black Beans, Sour Cream, Cheese, Guacamole]]\",\n          \"[Tomatillo Red Chili Salsa, [Guacamole, Cheese]]\",\n          \"[Fresh Tomato Salsa, [Rice, Cheese, Sour Cream, Guacamole, Lettuce]]\"\n        ],\n        \"semantic_type\": \"\",\n        \"description\": \"\"\n      }\n    },\n    {\n      \"column\": \"item_price\",\n      \"properties\": {\n        \"dtype\": \"category\",\n        \"num_unique_values\": 78,\n        \"samples\": [\n          \"$23.50 \",\n          \"$2.39 \",\n          \"$7.40 \"\n        ],\n        \"semantic_type\": \"\",\n        \"description\": \"\"\n      }\n    }\n  ]\n}"
            }
          },
          "metadata": {},
          "execution_count": 48
        }
      ]
    },
    {
      "cell_type": "markdown",
      "source": [
        "### Basic DataFrame operations"
      ],
      "metadata": {
        "id": "lW-L1TGjjU37"
      }
    },
    {
      "cell_type": "markdown",
      "source": [
        "Now we move on to operations on dataframes.\n",
        "\n",
        "We start by seeing how to select columns:"
      ],
      "metadata": {
        "id": "8qjhuqm9lVkb"
      }
    },
    {
      "cell_type": "code",
      "source": [
        "#selecting single column\n",
        "item_names = chipotle_data['item_name']"
      ],
      "metadata": {
        "id": "luObduAkksmq"
      },
      "execution_count": null,
      "outputs": []
    },
    {
      "cell_type": "code",
      "source": [
        "# Selecting multiple columns\n",
        "selected_columns = chipotle_data[['order_id', 'quantity', 'item_name']]\n",
        "selected_columns"
      ],
      "metadata": {
        "colab": {
          "base_uri": "https://localhost:8080/",
          "height": 424
        },
        "id": "n1CxxwJAkscr",
        "outputId": "1895aca8-62d1-4362-c607-5d67d2698eb8"
      },
      "execution_count": null,
      "outputs": [
        {
          "output_type": "execute_result",
          "data": {
            "text/plain": [
              "      order_id  quantity                              item_name\n",
              "0            1         1           Chips and Fresh Tomato Salsa\n",
              "1            1         1                                   Izze\n",
              "2            1         1                       Nantucket Nectar\n",
              "3            1         1  Chips and Tomatillo-Green Chili Salsa\n",
              "4            2         2                           Chicken Bowl\n",
              "...        ...       ...                                    ...\n",
              "4617      1833         1                          Steak Burrito\n",
              "4618      1833         1                          Steak Burrito\n",
              "4619      1834         1                     Chicken Salad Bowl\n",
              "4620      1834         1                     Chicken Salad Bowl\n",
              "4621      1834         1                     Chicken Salad Bowl\n",
              "\n",
              "[4622 rows x 3 columns]"
            ],
            "text/html": [
              "\n",
              "  <div id=\"df-c9bed9ff-9098-4f42-b4c6-54289be7f148\" class=\"colab-df-container\">\n",
              "    <div>\n",
              "<style scoped>\n",
              "    .dataframe tbody tr th:only-of-type {\n",
              "        vertical-align: middle;\n",
              "    }\n",
              "\n",
              "    .dataframe tbody tr th {\n",
              "        vertical-align: top;\n",
              "    }\n",
              "\n",
              "    .dataframe thead th {\n",
              "        text-align: right;\n",
              "    }\n",
              "</style>\n",
              "<table border=\"1\" class=\"dataframe\">\n",
              "  <thead>\n",
              "    <tr style=\"text-align: right;\">\n",
              "      <th></th>\n",
              "      <th>order_id</th>\n",
              "      <th>quantity</th>\n",
              "      <th>item_name</th>\n",
              "    </tr>\n",
              "  </thead>\n",
              "  <tbody>\n",
              "    <tr>\n",
              "      <th>0</th>\n",
              "      <td>1</td>\n",
              "      <td>1</td>\n",
              "      <td>Chips and Fresh Tomato Salsa</td>\n",
              "    </tr>\n",
              "    <tr>\n",
              "      <th>1</th>\n",
              "      <td>1</td>\n",
              "      <td>1</td>\n",
              "      <td>Izze</td>\n",
              "    </tr>\n",
              "    <tr>\n",
              "      <th>2</th>\n",
              "      <td>1</td>\n",
              "      <td>1</td>\n",
              "      <td>Nantucket Nectar</td>\n",
              "    </tr>\n",
              "    <tr>\n",
              "      <th>3</th>\n",
              "      <td>1</td>\n",
              "      <td>1</td>\n",
              "      <td>Chips and Tomatillo-Green Chili Salsa</td>\n",
              "    </tr>\n",
              "    <tr>\n",
              "      <th>4</th>\n",
              "      <td>2</td>\n",
              "      <td>2</td>\n",
              "      <td>Chicken Bowl</td>\n",
              "    </tr>\n",
              "    <tr>\n",
              "      <th>...</th>\n",
              "      <td>...</td>\n",
              "      <td>...</td>\n",
              "      <td>...</td>\n",
              "    </tr>\n",
              "    <tr>\n",
              "      <th>4617</th>\n",
              "      <td>1833</td>\n",
              "      <td>1</td>\n",
              "      <td>Steak Burrito</td>\n",
              "    </tr>\n",
              "    <tr>\n",
              "      <th>4618</th>\n",
              "      <td>1833</td>\n",
              "      <td>1</td>\n",
              "      <td>Steak Burrito</td>\n",
              "    </tr>\n",
              "    <tr>\n",
              "      <th>4619</th>\n",
              "      <td>1834</td>\n",
              "      <td>1</td>\n",
              "      <td>Chicken Salad Bowl</td>\n",
              "    </tr>\n",
              "    <tr>\n",
              "      <th>4620</th>\n",
              "      <td>1834</td>\n",
              "      <td>1</td>\n",
              "      <td>Chicken Salad Bowl</td>\n",
              "    </tr>\n",
              "    <tr>\n",
              "      <th>4621</th>\n",
              "      <td>1834</td>\n",
              "      <td>1</td>\n",
              "      <td>Chicken Salad Bowl</td>\n",
              "    </tr>\n",
              "  </tbody>\n",
              "</table>\n",
              "<p>4622 rows × 3 columns</p>\n",
              "</div>\n",
              "    <div class=\"colab-df-buttons\">\n",
              "\n",
              "  <div class=\"colab-df-container\">\n",
              "    <button class=\"colab-df-convert\" onclick=\"convertToInteractive('df-c9bed9ff-9098-4f42-b4c6-54289be7f148')\"\n",
              "            title=\"Convert this dataframe to an interactive table.\"\n",
              "            style=\"display:none;\">\n",
              "\n",
              "  <svg xmlns=\"http://www.w3.org/2000/svg\" height=\"24px\" viewBox=\"0 -960 960 960\">\n",
              "    <path d=\"M120-120v-720h720v720H120Zm60-500h600v-160H180v160Zm220 220h160v-160H400v160Zm0 220h160v-160H400v160ZM180-400h160v-160H180v160Zm440 0h160v-160H620v160ZM180-180h160v-160H180v160Zm440 0h160v-160H620v160Z\"/>\n",
              "  </svg>\n",
              "    </button>\n",
              "\n",
              "  <style>\n",
              "    .colab-df-container {\n",
              "      display:flex;\n",
              "      gap: 12px;\n",
              "    }\n",
              "\n",
              "    .colab-df-convert {\n",
              "      background-color: #E8F0FE;\n",
              "      border: none;\n",
              "      border-radius: 50%;\n",
              "      cursor: pointer;\n",
              "      display: none;\n",
              "      fill: #1967D2;\n",
              "      height: 32px;\n",
              "      padding: 0 0 0 0;\n",
              "      width: 32px;\n",
              "    }\n",
              "\n",
              "    .colab-df-convert:hover {\n",
              "      background-color: #E2EBFA;\n",
              "      box-shadow: 0px 1px 2px rgba(60, 64, 67, 0.3), 0px 1px 3px 1px rgba(60, 64, 67, 0.15);\n",
              "      fill: #174EA6;\n",
              "    }\n",
              "\n",
              "    .colab-df-buttons div {\n",
              "      margin-bottom: 4px;\n",
              "    }\n",
              "\n",
              "    [theme=dark] .colab-df-convert {\n",
              "      background-color: #3B4455;\n",
              "      fill: #D2E3FC;\n",
              "    }\n",
              "\n",
              "    [theme=dark] .colab-df-convert:hover {\n",
              "      background-color: #434B5C;\n",
              "      box-shadow: 0px 1px 3px 1px rgba(0, 0, 0, 0.15);\n",
              "      filter: drop-shadow(0px 1px 2px rgba(0, 0, 0, 0.3));\n",
              "      fill: #FFFFFF;\n",
              "    }\n",
              "  </style>\n",
              "\n",
              "    <script>\n",
              "      const buttonEl =\n",
              "        document.querySelector('#df-c9bed9ff-9098-4f42-b4c6-54289be7f148 button.colab-df-convert');\n",
              "      buttonEl.style.display =\n",
              "        google.colab.kernel.accessAllowed ? 'block' : 'none';\n",
              "\n",
              "      async function convertToInteractive(key) {\n",
              "        const element = document.querySelector('#df-c9bed9ff-9098-4f42-b4c6-54289be7f148');\n",
              "        const dataTable =\n",
              "          await google.colab.kernel.invokeFunction('convertToInteractive',\n",
              "                                                    [key], {});\n",
              "        if (!dataTable) return;\n",
              "\n",
              "        const docLinkHtml = 'Like what you see? Visit the ' +\n",
              "          '<a target=\"_blank\" href=https://colab.research.google.com/notebooks/data_table.ipynb>data table notebook</a>'\n",
              "          + ' to learn more about interactive tables.';\n",
              "        element.innerHTML = '';\n",
              "        dataTable['output_type'] = 'display_data';\n",
              "        await google.colab.output.renderOutput(dataTable, element);\n",
              "        const docLink = document.createElement('div');\n",
              "        docLink.innerHTML = docLinkHtml;\n",
              "        element.appendChild(docLink);\n",
              "      }\n",
              "    </script>\n",
              "  </div>\n",
              "\n",
              "\n",
              "<div id=\"df-7d3f6a74-399d-417f-b3b5-21ead8e927bb\">\n",
              "  <button class=\"colab-df-quickchart\" onclick=\"quickchart('df-7d3f6a74-399d-417f-b3b5-21ead8e927bb')\"\n",
              "            title=\"Suggest charts\"\n",
              "            style=\"display:none;\">\n",
              "\n",
              "<svg xmlns=\"http://www.w3.org/2000/svg\" height=\"24px\"viewBox=\"0 0 24 24\"\n",
              "     width=\"24px\">\n",
              "    <g>\n",
              "        <path d=\"M19 3H5c-1.1 0-2 .9-2 2v14c0 1.1.9 2 2 2h14c1.1 0 2-.9 2-2V5c0-1.1-.9-2-2-2zM9 17H7v-7h2v7zm4 0h-2V7h2v10zm4 0h-2v-4h2v4z\"/>\n",
              "    </g>\n",
              "</svg>\n",
              "  </button>\n",
              "\n",
              "<style>\n",
              "  .colab-df-quickchart {\n",
              "      --bg-color: #E8F0FE;\n",
              "      --fill-color: #1967D2;\n",
              "      --hover-bg-color: #E2EBFA;\n",
              "      --hover-fill-color: #174EA6;\n",
              "      --disabled-fill-color: #AAA;\n",
              "      --disabled-bg-color: #DDD;\n",
              "  }\n",
              "\n",
              "  [theme=dark] .colab-df-quickchart {\n",
              "      --bg-color: #3B4455;\n",
              "      --fill-color: #D2E3FC;\n",
              "      --hover-bg-color: #434B5C;\n",
              "      --hover-fill-color: #FFFFFF;\n",
              "      --disabled-bg-color: #3B4455;\n",
              "      --disabled-fill-color: #666;\n",
              "  }\n",
              "\n",
              "  .colab-df-quickchart {\n",
              "    background-color: var(--bg-color);\n",
              "    border: none;\n",
              "    border-radius: 50%;\n",
              "    cursor: pointer;\n",
              "    display: none;\n",
              "    fill: var(--fill-color);\n",
              "    height: 32px;\n",
              "    padding: 0;\n",
              "    width: 32px;\n",
              "  }\n",
              "\n",
              "  .colab-df-quickchart:hover {\n",
              "    background-color: var(--hover-bg-color);\n",
              "    box-shadow: 0 1px 2px rgba(60, 64, 67, 0.3), 0 1px 3px 1px rgba(60, 64, 67, 0.15);\n",
              "    fill: var(--button-hover-fill-color);\n",
              "  }\n",
              "\n",
              "  .colab-df-quickchart-complete:disabled,\n",
              "  .colab-df-quickchart-complete:disabled:hover {\n",
              "    background-color: var(--disabled-bg-color);\n",
              "    fill: var(--disabled-fill-color);\n",
              "    box-shadow: none;\n",
              "  }\n",
              "\n",
              "  .colab-df-spinner {\n",
              "    border: 2px solid var(--fill-color);\n",
              "    border-color: transparent;\n",
              "    border-bottom-color: var(--fill-color);\n",
              "    animation:\n",
              "      spin 1s steps(1) infinite;\n",
              "  }\n",
              "\n",
              "  @keyframes spin {\n",
              "    0% {\n",
              "      border-color: transparent;\n",
              "      border-bottom-color: var(--fill-color);\n",
              "      border-left-color: var(--fill-color);\n",
              "    }\n",
              "    20% {\n",
              "      border-color: transparent;\n",
              "      border-left-color: var(--fill-color);\n",
              "      border-top-color: var(--fill-color);\n",
              "    }\n",
              "    30% {\n",
              "      border-color: transparent;\n",
              "      border-left-color: var(--fill-color);\n",
              "      border-top-color: var(--fill-color);\n",
              "      border-right-color: var(--fill-color);\n",
              "    }\n",
              "    40% {\n",
              "      border-color: transparent;\n",
              "      border-right-color: var(--fill-color);\n",
              "      border-top-color: var(--fill-color);\n",
              "    }\n",
              "    60% {\n",
              "      border-color: transparent;\n",
              "      border-right-color: var(--fill-color);\n",
              "    }\n",
              "    80% {\n",
              "      border-color: transparent;\n",
              "      border-right-color: var(--fill-color);\n",
              "      border-bottom-color: var(--fill-color);\n",
              "    }\n",
              "    90% {\n",
              "      border-color: transparent;\n",
              "      border-bottom-color: var(--fill-color);\n",
              "    }\n",
              "  }\n",
              "</style>\n",
              "\n",
              "  <script>\n",
              "    async function quickchart(key) {\n",
              "      const quickchartButtonEl =\n",
              "        document.querySelector('#' + key + ' button');\n",
              "      quickchartButtonEl.disabled = true;  // To prevent multiple clicks.\n",
              "      quickchartButtonEl.classList.add('colab-df-spinner');\n",
              "      try {\n",
              "        const charts = await google.colab.kernel.invokeFunction(\n",
              "            'suggestCharts', [key], {});\n",
              "      } catch (error) {\n",
              "        console.error('Error during call to suggestCharts:', error);\n",
              "      }\n",
              "      quickchartButtonEl.classList.remove('colab-df-spinner');\n",
              "      quickchartButtonEl.classList.add('colab-df-quickchart-complete');\n",
              "    }\n",
              "    (() => {\n",
              "      let quickchartButtonEl =\n",
              "        document.querySelector('#df-7d3f6a74-399d-417f-b3b5-21ead8e927bb button');\n",
              "      quickchartButtonEl.style.display =\n",
              "        google.colab.kernel.accessAllowed ? 'block' : 'none';\n",
              "    })();\n",
              "  </script>\n",
              "</div>\n",
              "    </div>\n",
              "  </div>\n"
            ],
            "application/vnd.google.colaboratory.intrinsic+json": {
              "type": "dataframe",
              "variable_name": "selected_columns",
              "summary": "{\n  \"name\": \"selected_columns\",\n  \"rows\": 4622,\n  \"fields\": [\n    {\n      \"column\": \"order_id\",\n      \"properties\": {\n        \"dtype\": \"number\",\n        \"std\": 528,\n        \"min\": 1,\n        \"max\": 1834,\n        \"num_unique_values\": 1834,\n        \"samples\": [\n          644,\n          333,\n          991\n        ],\n        \"semantic_type\": \"\",\n        \"description\": \"\"\n      }\n    },\n    {\n      \"column\": \"quantity\",\n      \"properties\": {\n        \"dtype\": \"number\",\n        \"std\": 0,\n        \"min\": 1,\n        \"max\": 15,\n        \"num_unique_values\": 9,\n        \"samples\": [\n          8,\n          2,\n          15\n        ],\n        \"semantic_type\": \"\",\n        \"description\": \"\"\n      }\n    },\n    {\n      \"column\": \"item_name\",\n      \"properties\": {\n        \"dtype\": \"category\",\n        \"num_unique_values\": 50,\n        \"samples\": [\n          \"Barbacoa Burrito\",\n          \"Crispy Tacos\",\n          \"Chips and Roasted Chili Corn Salsa\"\n        ],\n        \"semantic_type\": \"\",\n        \"description\": \"\"\n      }\n    }\n  ]\n}"
            }
          },
          "metadata": {},
          "execution_count": 50
        }
      ]
    },
    {
      "cell_type": "markdown",
      "source": [
        "We can also filter rows based on a condition:"
      ],
      "metadata": {
        "id": "lYAXz0ogUXjO"
      }
    },
    {
      "cell_type": "code",
      "source": [
        "# we only want the vegetarian options. We need all the elements with \"Veggie\" in the name\n",
        "vegetarian_items = chipotle_data[chipotle_data['item_name'].str.contains('Veggie')]\n",
        "vegetarian_items"
      ],
      "metadata": {
        "colab": {
          "base_uri": "https://localhost:8080/",
          "height": 424
        },
        "id": "DhvSjZW5ksQc",
        "outputId": "afda2035-6f52-4053-b12b-ed665919de78"
      },
      "execution_count": null,
      "outputs": [
        {
          "output_type": "execute_result",
          "data": {
            "text/plain": [
              "      order_id  quantity          item_name  \\\n",
              "57          26         1     Veggie Burrito   \n",
              "62          28         1        Veggie Bowl   \n",
              "85          38         1        Veggie Bowl   \n",
              "104         46         1     Veggie Burrito   \n",
              "143         64         1        Veggie Bowl   \n",
              "...        ...       ...                ...   \n",
              "4519      1797         1     Veggie Burrito   \n",
              "4541      1805         1  Veggie Salad Bowl   \n",
              "4573      1818         1  Veggie Salad Bowl   \n",
              "4608      1829         1     Veggie Burrito   \n",
              "4611      1830         1     Veggie Burrito   \n",
              "\n",
              "                                     choice_description item_price  \n",
              "57    [Tomatillo Red Chili Salsa, [Fajita Vegetables...    $11.25   \n",
              "62    [Fresh Tomato Salsa, [Fajita Vegetables, Rice,...    $11.25   \n",
              "85    [Tomatillo-Red Chili Salsa (Hot), [Pinto Beans...     $8.49   \n",
              "104   [Fresh Tomato Salsa (Mild), [Black Beans, Rice...     $8.49   \n",
              "143   [Tomatillo Red Chili Salsa, [Fajita Vegetables...    $11.25   \n",
              "...                                                 ...        ...  \n",
              "4519  [Fresh Tomato Salsa, [Rice, Pinto Beans, Cheese]]     $8.75   \n",
              "4541  [Tomatillo Green Chili Salsa, [Fajita Vegetabl...     $8.75   \n",
              "4573  [Fresh Tomato Salsa, [Fajita Vegetables, Pinto...     $8.75   \n",
              "4608  [Tomatillo Red Chili Salsa, [Fajita Vegetables...    $11.25   \n",
              "4611  [Tomatillo Green Chili Salsa, [Rice, Fajita Ve...    $11.25   \n",
              "\n",
              "[212 rows x 5 columns]"
            ],
            "text/html": [
              "\n",
              "  <div id=\"df-7168bd40-dc63-4590-87b1-0ba007c981ac\" class=\"colab-df-container\">\n",
              "    <div>\n",
              "<style scoped>\n",
              "    .dataframe tbody tr th:only-of-type {\n",
              "        vertical-align: middle;\n",
              "    }\n",
              "\n",
              "    .dataframe tbody tr th {\n",
              "        vertical-align: top;\n",
              "    }\n",
              "\n",
              "    .dataframe thead th {\n",
              "        text-align: right;\n",
              "    }\n",
              "</style>\n",
              "<table border=\"1\" class=\"dataframe\">\n",
              "  <thead>\n",
              "    <tr style=\"text-align: right;\">\n",
              "      <th></th>\n",
              "      <th>order_id</th>\n",
              "      <th>quantity</th>\n",
              "      <th>item_name</th>\n",
              "      <th>choice_description</th>\n",
              "      <th>item_price</th>\n",
              "    </tr>\n",
              "  </thead>\n",
              "  <tbody>\n",
              "    <tr>\n",
              "      <th>57</th>\n",
              "      <td>26</td>\n",
              "      <td>1</td>\n",
              "      <td>Veggie Burrito</td>\n",
              "      <td>[Tomatillo Red Chili Salsa, [Fajita Vegetables...</td>\n",
              "      <td>$11.25</td>\n",
              "    </tr>\n",
              "    <tr>\n",
              "      <th>62</th>\n",
              "      <td>28</td>\n",
              "      <td>1</td>\n",
              "      <td>Veggie Bowl</td>\n",
              "      <td>[Fresh Tomato Salsa, [Fajita Vegetables, Rice,...</td>\n",
              "      <td>$11.25</td>\n",
              "    </tr>\n",
              "    <tr>\n",
              "      <th>85</th>\n",
              "      <td>38</td>\n",
              "      <td>1</td>\n",
              "      <td>Veggie Bowl</td>\n",
              "      <td>[Tomatillo-Red Chili Salsa (Hot), [Pinto Beans...</td>\n",
              "      <td>$8.49</td>\n",
              "    </tr>\n",
              "    <tr>\n",
              "      <th>104</th>\n",
              "      <td>46</td>\n",
              "      <td>1</td>\n",
              "      <td>Veggie Burrito</td>\n",
              "      <td>[Fresh Tomato Salsa (Mild), [Black Beans, Rice...</td>\n",
              "      <td>$8.49</td>\n",
              "    </tr>\n",
              "    <tr>\n",
              "      <th>143</th>\n",
              "      <td>64</td>\n",
              "      <td>1</td>\n",
              "      <td>Veggie Bowl</td>\n",
              "      <td>[Tomatillo Red Chili Salsa, [Fajita Vegetables...</td>\n",
              "      <td>$11.25</td>\n",
              "    </tr>\n",
              "    <tr>\n",
              "      <th>...</th>\n",
              "      <td>...</td>\n",
              "      <td>...</td>\n",
              "      <td>...</td>\n",
              "      <td>...</td>\n",
              "      <td>...</td>\n",
              "    </tr>\n",
              "    <tr>\n",
              "      <th>4519</th>\n",
              "      <td>1797</td>\n",
              "      <td>1</td>\n",
              "      <td>Veggie Burrito</td>\n",
              "      <td>[Fresh Tomato Salsa, [Rice, Pinto Beans, Cheese]]</td>\n",
              "      <td>$8.75</td>\n",
              "    </tr>\n",
              "    <tr>\n",
              "      <th>4541</th>\n",
              "      <td>1805</td>\n",
              "      <td>1</td>\n",
              "      <td>Veggie Salad Bowl</td>\n",
              "      <td>[Tomatillo Green Chili Salsa, [Fajita Vegetabl...</td>\n",
              "      <td>$8.75</td>\n",
              "    </tr>\n",
              "    <tr>\n",
              "      <th>4573</th>\n",
              "      <td>1818</td>\n",
              "      <td>1</td>\n",
              "      <td>Veggie Salad Bowl</td>\n",
              "      <td>[Fresh Tomato Salsa, [Fajita Vegetables, Pinto...</td>\n",
              "      <td>$8.75</td>\n",
              "    </tr>\n",
              "    <tr>\n",
              "      <th>4608</th>\n",
              "      <td>1829</td>\n",
              "      <td>1</td>\n",
              "      <td>Veggie Burrito</td>\n",
              "      <td>[Tomatillo Red Chili Salsa, [Fajita Vegetables...</td>\n",
              "      <td>$11.25</td>\n",
              "    </tr>\n",
              "    <tr>\n",
              "      <th>4611</th>\n",
              "      <td>1830</td>\n",
              "      <td>1</td>\n",
              "      <td>Veggie Burrito</td>\n",
              "      <td>[Tomatillo Green Chili Salsa, [Rice, Fajita Ve...</td>\n",
              "      <td>$11.25</td>\n",
              "    </tr>\n",
              "  </tbody>\n",
              "</table>\n",
              "<p>212 rows × 5 columns</p>\n",
              "</div>\n",
              "    <div class=\"colab-df-buttons\">\n",
              "\n",
              "  <div class=\"colab-df-container\">\n",
              "    <button class=\"colab-df-convert\" onclick=\"convertToInteractive('df-7168bd40-dc63-4590-87b1-0ba007c981ac')\"\n",
              "            title=\"Convert this dataframe to an interactive table.\"\n",
              "            style=\"display:none;\">\n",
              "\n",
              "  <svg xmlns=\"http://www.w3.org/2000/svg\" height=\"24px\" viewBox=\"0 -960 960 960\">\n",
              "    <path d=\"M120-120v-720h720v720H120Zm60-500h600v-160H180v160Zm220 220h160v-160H400v160Zm0 220h160v-160H400v160ZM180-400h160v-160H180v160Zm440 0h160v-160H620v160ZM180-180h160v-160H180v160Zm440 0h160v-160H620v160Z\"/>\n",
              "  </svg>\n",
              "    </button>\n",
              "\n",
              "  <style>\n",
              "    .colab-df-container {\n",
              "      display:flex;\n",
              "      gap: 12px;\n",
              "    }\n",
              "\n",
              "    .colab-df-convert {\n",
              "      background-color: #E8F0FE;\n",
              "      border: none;\n",
              "      border-radius: 50%;\n",
              "      cursor: pointer;\n",
              "      display: none;\n",
              "      fill: #1967D2;\n",
              "      height: 32px;\n",
              "      padding: 0 0 0 0;\n",
              "      width: 32px;\n",
              "    }\n",
              "\n",
              "    .colab-df-convert:hover {\n",
              "      background-color: #E2EBFA;\n",
              "      box-shadow: 0px 1px 2px rgba(60, 64, 67, 0.3), 0px 1px 3px 1px rgba(60, 64, 67, 0.15);\n",
              "      fill: #174EA6;\n",
              "    }\n",
              "\n",
              "    .colab-df-buttons div {\n",
              "      margin-bottom: 4px;\n",
              "    }\n",
              "\n",
              "    [theme=dark] .colab-df-convert {\n",
              "      background-color: #3B4455;\n",
              "      fill: #D2E3FC;\n",
              "    }\n",
              "\n",
              "    [theme=dark] .colab-df-convert:hover {\n",
              "      background-color: #434B5C;\n",
              "      box-shadow: 0px 1px 3px 1px rgba(0, 0, 0, 0.15);\n",
              "      filter: drop-shadow(0px 1px 2px rgba(0, 0, 0, 0.3));\n",
              "      fill: #FFFFFF;\n",
              "    }\n",
              "  </style>\n",
              "\n",
              "    <script>\n",
              "      const buttonEl =\n",
              "        document.querySelector('#df-7168bd40-dc63-4590-87b1-0ba007c981ac button.colab-df-convert');\n",
              "      buttonEl.style.display =\n",
              "        google.colab.kernel.accessAllowed ? 'block' : 'none';\n",
              "\n",
              "      async function convertToInteractive(key) {\n",
              "        const element = document.querySelector('#df-7168bd40-dc63-4590-87b1-0ba007c981ac');\n",
              "        const dataTable =\n",
              "          await google.colab.kernel.invokeFunction('convertToInteractive',\n",
              "                                                    [key], {});\n",
              "        if (!dataTable) return;\n",
              "\n",
              "        const docLinkHtml = 'Like what you see? Visit the ' +\n",
              "          '<a target=\"_blank\" href=https://colab.research.google.com/notebooks/data_table.ipynb>data table notebook</a>'\n",
              "          + ' to learn more about interactive tables.';\n",
              "        element.innerHTML = '';\n",
              "        dataTable['output_type'] = 'display_data';\n",
              "        await google.colab.output.renderOutput(dataTable, element);\n",
              "        const docLink = document.createElement('div');\n",
              "        docLink.innerHTML = docLinkHtml;\n",
              "        element.appendChild(docLink);\n",
              "      }\n",
              "    </script>\n",
              "  </div>\n",
              "\n",
              "\n",
              "<div id=\"df-3e03cd64-2241-499f-b078-31c73c8e7112\">\n",
              "  <button class=\"colab-df-quickchart\" onclick=\"quickchart('df-3e03cd64-2241-499f-b078-31c73c8e7112')\"\n",
              "            title=\"Suggest charts\"\n",
              "            style=\"display:none;\">\n",
              "\n",
              "<svg xmlns=\"http://www.w3.org/2000/svg\" height=\"24px\"viewBox=\"0 0 24 24\"\n",
              "     width=\"24px\">\n",
              "    <g>\n",
              "        <path d=\"M19 3H5c-1.1 0-2 .9-2 2v14c0 1.1.9 2 2 2h14c1.1 0 2-.9 2-2V5c0-1.1-.9-2-2-2zM9 17H7v-7h2v7zm4 0h-2V7h2v10zm4 0h-2v-4h2v4z\"/>\n",
              "    </g>\n",
              "</svg>\n",
              "  </button>\n",
              "\n",
              "<style>\n",
              "  .colab-df-quickchart {\n",
              "      --bg-color: #E8F0FE;\n",
              "      --fill-color: #1967D2;\n",
              "      --hover-bg-color: #E2EBFA;\n",
              "      --hover-fill-color: #174EA6;\n",
              "      --disabled-fill-color: #AAA;\n",
              "      --disabled-bg-color: #DDD;\n",
              "  }\n",
              "\n",
              "  [theme=dark] .colab-df-quickchart {\n",
              "      --bg-color: #3B4455;\n",
              "      --fill-color: #D2E3FC;\n",
              "      --hover-bg-color: #434B5C;\n",
              "      --hover-fill-color: #FFFFFF;\n",
              "      --disabled-bg-color: #3B4455;\n",
              "      --disabled-fill-color: #666;\n",
              "  }\n",
              "\n",
              "  .colab-df-quickchart {\n",
              "    background-color: var(--bg-color);\n",
              "    border: none;\n",
              "    border-radius: 50%;\n",
              "    cursor: pointer;\n",
              "    display: none;\n",
              "    fill: var(--fill-color);\n",
              "    height: 32px;\n",
              "    padding: 0;\n",
              "    width: 32px;\n",
              "  }\n",
              "\n",
              "  .colab-df-quickchart:hover {\n",
              "    background-color: var(--hover-bg-color);\n",
              "    box-shadow: 0 1px 2px rgba(60, 64, 67, 0.3), 0 1px 3px 1px rgba(60, 64, 67, 0.15);\n",
              "    fill: var(--button-hover-fill-color);\n",
              "  }\n",
              "\n",
              "  .colab-df-quickchart-complete:disabled,\n",
              "  .colab-df-quickchart-complete:disabled:hover {\n",
              "    background-color: var(--disabled-bg-color);\n",
              "    fill: var(--disabled-fill-color);\n",
              "    box-shadow: none;\n",
              "  }\n",
              "\n",
              "  .colab-df-spinner {\n",
              "    border: 2px solid var(--fill-color);\n",
              "    border-color: transparent;\n",
              "    border-bottom-color: var(--fill-color);\n",
              "    animation:\n",
              "      spin 1s steps(1) infinite;\n",
              "  }\n",
              "\n",
              "  @keyframes spin {\n",
              "    0% {\n",
              "      border-color: transparent;\n",
              "      border-bottom-color: var(--fill-color);\n",
              "      border-left-color: var(--fill-color);\n",
              "    }\n",
              "    20% {\n",
              "      border-color: transparent;\n",
              "      border-left-color: var(--fill-color);\n",
              "      border-top-color: var(--fill-color);\n",
              "    }\n",
              "    30% {\n",
              "      border-color: transparent;\n",
              "      border-left-color: var(--fill-color);\n",
              "      border-top-color: var(--fill-color);\n",
              "      border-right-color: var(--fill-color);\n",
              "    }\n",
              "    40% {\n",
              "      border-color: transparent;\n",
              "      border-right-color: var(--fill-color);\n",
              "      border-top-color: var(--fill-color);\n",
              "    }\n",
              "    60% {\n",
              "      border-color: transparent;\n",
              "      border-right-color: var(--fill-color);\n",
              "    }\n",
              "    80% {\n",
              "      border-color: transparent;\n",
              "      border-right-color: var(--fill-color);\n",
              "      border-bottom-color: var(--fill-color);\n",
              "    }\n",
              "    90% {\n",
              "      border-color: transparent;\n",
              "      border-bottom-color: var(--fill-color);\n",
              "    }\n",
              "  }\n",
              "</style>\n",
              "\n",
              "  <script>\n",
              "    async function quickchart(key) {\n",
              "      const quickchartButtonEl =\n",
              "        document.querySelector('#' + key + ' button');\n",
              "      quickchartButtonEl.disabled = true;  // To prevent multiple clicks.\n",
              "      quickchartButtonEl.classList.add('colab-df-spinner');\n",
              "      try {\n",
              "        const charts = await google.colab.kernel.invokeFunction(\n",
              "            'suggestCharts', [key], {});\n",
              "      } catch (error) {\n",
              "        console.error('Error during call to suggestCharts:', error);\n",
              "      }\n",
              "      quickchartButtonEl.classList.remove('colab-df-spinner');\n",
              "      quickchartButtonEl.classList.add('colab-df-quickchart-complete');\n",
              "    }\n",
              "    (() => {\n",
              "      let quickchartButtonEl =\n",
              "        document.querySelector('#df-3e03cd64-2241-499f-b078-31c73c8e7112 button');\n",
              "      quickchartButtonEl.style.display =\n",
              "        google.colab.kernel.accessAllowed ? 'block' : 'none';\n",
              "    })();\n",
              "  </script>\n",
              "</div>\n",
              "    </div>\n",
              "  </div>\n"
            ],
            "application/vnd.google.colaboratory.intrinsic+json": {
              "type": "dataframe",
              "variable_name": "vegetarian_items",
              "summary": "{\n  \"name\": \"vegetarian_items\",\n  \"rows\": 212,\n  \"fields\": [\n    {\n      \"column\": \"order_id\",\n      \"properties\": {\n        \"dtype\": \"number\",\n        \"std\": 524,\n        \"min\": 26,\n        \"max\": 1830,\n        \"num_unique_values\": 195,\n        \"samples\": [\n          1217,\n          195,\n          1397\n        ],\n        \"semantic_type\": \"\",\n        \"description\": \"\"\n      }\n    },\n    {\n      \"column\": \"quantity\",\n      \"properties\": {\n        \"dtype\": \"number\",\n        \"std\": 0,\n        \"min\": 1,\n        \"max\": 3,\n        \"num_unique_values\": 3,\n        \"samples\": [\n          1,\n          2,\n          3\n        ],\n        \"semantic_type\": \"\",\n        \"description\": \"\"\n      }\n    },\n    {\n      \"column\": \"item_name\",\n      \"properties\": {\n        \"dtype\": \"category\",\n        \"num_unique_values\": 6,\n        \"samples\": [\n          \"Veggie Burrito\",\n          \"Veggie Bowl\",\n          \"Veggie Salad\"\n        ],\n        \"semantic_type\": \"\",\n        \"description\": \"\"\n      }\n    },\n    {\n      \"column\": \"choice_description\",\n      \"properties\": {\n        \"dtype\": \"string\",\n        \"num_unique_values\": 123,\n        \"samples\": [\n          \"[Roasted Chili Corn Salsa, [Fajita Vegetables, Rice, Black Beans, Cheese, Sour Cream, Guacamole, Lettuce]]\",\n          \"[Fresh Tomato Salsa, [Fajita Vegetables, Rice, Black Beans, Cheese, Sour Cream, Guacamole]]\",\n          \"[Tomatillo Red Chili Salsa, [Rice, Black Beans, Cheese, Sour Cream, Guacamole, Lettuce]]\"\n        ],\n        \"semantic_type\": \"\",\n        \"description\": \"\"\n      }\n    },\n    {\n      \"column\": \"item_price\",\n      \"properties\": {\n        \"dtype\": \"category\",\n        \"num_unique_values\": 6,\n        \"samples\": [\n          \"$11.25 \",\n          \"$8.49 \",\n          \"$33.75 \"\n        ],\n        \"semantic_type\": \"\",\n        \"description\": \"\"\n      }\n    }\n  ]\n}"
            }
          },
          "metadata": {},
          "execution_count": 51
        }
      ]
    },
    {
      "cell_type": "markdown",
      "source": [
        "We can sort columns by values:"
      ],
      "metadata": {
        "id": "eDCLQan2V720"
      }
    },
    {
      "cell_type": "code",
      "source": [
        "# Sorting the DataFrame\n",
        "# we can change the order by a certain column, and decide it to be ascending or descending\n",
        "sorted_df = chipotle_data.sort_values(by='item_price', ascending=False)\n",
        "pd.reset_option('display.max_rows')\n",
        "sorted_df['item_price']\n"
      ],
      "metadata": {
        "id": "ucj5eIG1lHR6",
        "colab": {
          "base_uri": "https://localhost:8080/"
        },
        "outputId": "d33b07e8-366c-4ef3-ec90-a231ab232205"
      },
      "execution_count": null,
      "outputs": [
        {
          "output_type": "execute_result",
          "data": {
            "text/plain": [
              "2624    $9.39 \n",
              "4419    $9.39 \n",
              "4036    $9.39 \n",
              "1825    $9.39 \n",
              "3115    $9.39 \n",
              "         ...  \n",
              "3145    $1.09 \n",
              "414     $1.09 \n",
              "3162    $1.09 \n",
              "821     $1.09 \n",
              "1457    $1.09 \n",
              "Name: item_price, Length: 4622, dtype: object"
            ]
          },
          "metadata": {},
          "execution_count": 52
        }
      ]
    },
    {
      "cell_type": "markdown",
      "source": [
        "Lastly, some useful code on how to save your dataframes after you are done using them:"
      ],
      "metadata": {
        "id": "svZBcTguWlKh"
      }
    },
    {
      "cell_type": "code",
      "source": [
        "# Exporting DataFrame to CSV\n",
        "chipotle_data.to_csv('output_chipotle_dataset.csv', index=False)"
      ],
      "metadata": {
        "id": "vOMUa5HHlMQ3"
      },
      "execution_count": null,
      "outputs": []
    },
    {
      "cell_type": "code",
      "source": [
        "\n",
        "# Reading Excel files\n",
        "# Note: You need to have an Excel writer library installed, such as openpyxl or xlsxwriter\n",
        "chipotle_data.to_excel('output_chipotle_dataset.xlsx', index=False)"
      ],
      "metadata": {
        "id": "thlJj9VbjGJS"
      },
      "execution_count": null,
      "outputs": []
    },
    {
      "cell_type": "markdown",
      "source": [
        "This is just one example of the myriad possibilities that Pandas offers. While we may not use it extensively, it's crucial for you to know of its existence and its efficiency in data preprocessing. As with all other modules, referring to the **official documentation**, utilizing Google, and seeking assistance from ChatGPT will help you solve almost all the tasks you encounter."
      ],
      "metadata": {
        "id": "XQscUd55WC4F"
      }
    },
    {
      "cell_type": "markdown",
      "source": [
        "##Matplotlib"
      ],
      "metadata": {
        "id": "a2Rm2sclBj9u"
      }
    },
    {
      "cell_type": "markdown",
      "source": [
        "We now move on to the last topic, given that we still miss a tool for **plotting our data**"
      ],
      "metadata": {
        "id": "pVbTQY90BmXU"
      }
    },
    {
      "cell_type": "markdown",
      "source": [
        " <img src=\"https://drive.google.com/uc?export=view&id=1OLnKyK24Hq4JuGekqUxojJHbct8SsBFA\" width=\"750\" />"
      ],
      "metadata": {
        "id": "fM9EUm-2kIhk"
      }
    },
    {
      "cell_type": "markdown",
      "source": [
        "ok weirdo, anyway..."
      ],
      "metadata": {
        "id": "ZLcqlqsVszoq"
      }
    },
    {
      "cell_type": "markdown",
      "source": [
        "Let's import Matplotlib"
      ],
      "metadata": {
        "id": "0fdnj-lpkxjf"
      }
    },
    {
      "cell_type": "code",
      "source": [
        "import matplotlib.pyplot as plt"
      ],
      "metadata": {
        "id": "O4_JCWSrkx4n"
      },
      "execution_count": null,
      "outputs": []
    },
    {
      "cell_type": "markdown",
      "source": [
        "There are many types of plots you can do with Matplotlib, we will see some common ones and leave the rest for you to explore on your own. We will also make heavy use of all the other stuff we learned before, so you can see how it is used in practice.\n",
        "\n",
        "The thing you will do most often is plot sequential points joined by lines"
      ],
      "metadata": {
        "id": "f69vg9w1k44D"
      }
    },
    {
      "cell_type": "code",
      "source": [
        "x = [1, 2, 3, 4, 5]\n",
        "y = [2, 4, 6, 8, 10]\n",
        "\n",
        "# Plotting the data\n",
        "plt.plot(x, y)\n",
        "\n",
        "# Adding labels and a title\n",
        "plt.xlabel('X-axis label')\n",
        "plt.ylabel('Y-axis label')\n",
        "plt.title('Simple Line Plot')\n",
        "\n",
        "# Display the plot\n",
        "plt.show()"
      ],
      "metadata": {
        "colab": {
          "base_uri": "https://localhost:8080/",
          "height": 472
        },
        "id": "q34WFRl2k5Qj",
        "outputId": "d73c5618-3a9c-4690-e0e9-b805bf33a86b"
      },
      "execution_count": null,
      "outputs": [
        {
          "output_type": "display_data",
          "data": {
            "text/plain": [
              "<Figure size 640x480 with 1 Axes>"
            ],
            "image/png": "[encoded data removed]"
          },
          "metadata": {}
        }
      ]
    },
    {
      "cell_type": "markdown",
      "source": [
        "This is the same line plot but cooler (only according to Davide, let it be known)"
      ],
      "metadata": {
        "id": "Ug6965CZtDaq"
      }
    },
    {
      "cell_type": "code",
      "source": [
        "\n",
        "# Plotting the data we can costumize things:\n",
        "# we can modify things like color, linestyle, type of marker etc.\n",
        "# we can also add a label to the dataset with \"label\" that we'll add using plt.legend()\n",
        "\n",
        "plt.plot(x, y, color='purple', linestyle='--', marker='o', markersize = 10, label='Data Points',linewidth = 4)\n",
        "# if you are making a plot for Matteo Osella, don't use this kind of colors. Apparently he hates beauty\n",
        "\n",
        "# Adding labels and a title\n",
        "# we can add legend and a grid\n",
        "# we can change font size of title and labels\n",
        "\n",
        "\n",
        "plt.xlabel('X-axis label', fontsize=14)\n",
        "plt.ylabel('Y-axis label', fontsize=14)\n",
        "\n",
        "plt.title('Cool line plot', fontsize=16)\n",
        "\n",
        "plt.legend()\n",
        "plt.grid(True)\n",
        "\n",
        "# Display the plot\n",
        "plt.show()"
      ],
      "metadata": {
        "colab": {
          "base_uri": "https://localhost:8080/",
          "height": 479
        },
        "id": "mIpqPyl1laIJ",
        "outputId": "8d5c2cce-dfa0-42ee-c25b-bb2977789e5d"
      },
      "execution_count": null,
      "outputs": [
        {
          "output_type": "display_data",
          "data": {
            "text/plain": [
              "<Figure size 640x480 with 1 Axes>"
            ],
            "image/png": "[encoded data removed]"
          },
          "metadata": {}
        }
      ]
    },
    {
      "cell_type": "markdown",
      "source": [
        "If you only want to see the points, you can use a **scatter plot**:\n"
      ],
      "metadata": {
        "id": "buCMdzQ2npKr"
      }
    },
    {
      "cell_type": "code",
      "source": [
        "# we define a function of a curve, and we add noise to the points\n",
        "def noisy_parabola (x,a,b,c):\n",
        "  y= x**2*a + x*b + c\n",
        "\n",
        "  mean = 0  # Mean of the distribution\n",
        "  std_dev = 5  # Standard deviation of the distribution\n",
        "  num_samples = len(x)  # Number of random samples to generate\n",
        "\n",
        "  noise = np.random.normal(mean, std_dev, num_samples)\n",
        "\n",
        "  y_nois = y + noise\n",
        "\n",
        "  return (y_nois)\n",
        "\n",
        "x = np.linspace (0,10,100)\n",
        "#we call the function that creates the y array\n",
        "y = noisy_parabola(x,1,2,3)\n",
        "\n",
        "\n",
        "# Plotting the data as a scatter plot\n",
        "plt.scatter(x, y, color='red', marker='o', label='Data Points')\n",
        "\n",
        "# Adding labels and a title\n",
        "plt.xlabel('X-axis label')\n",
        "plt.ylabel('Y-axis label')\n",
        "plt.title('Scatter Plot Example')\n",
        "\n",
        "# Display the legend\n",
        "plt.legend()\n",
        "plt.grid(True)\n",
        "\n",
        "# Display the plot\n",
        "plt.show()"
      ],
      "metadata": {
        "colab": {
          "base_uri": "https://localhost:8080/",
          "height": 472
        },
        "id": "wZwCJukslloQ",
        "outputId": "538627cd-f8df-4418-f984-d379755dcc4c"
      },
      "execution_count": null,
      "outputs": [
        {
          "output_type": "display_data",
          "data": {
            "text/plain": [
              "<Figure size 640x480 with 1 Axes>"
            ],
            "image/png": "[encoded data removed]"
          },
          "metadata": {}
        }
      ]
    },
    {
      "cell_type": "markdown",
      "source": [
        "If you want to see how you are data is distributed you can use an **histogram**:"
      ],
      "metadata": {
        "id": "mG0C1uy7qexK"
      }
    },
    {
      "cell_type": "code",
      "source": [
        "\n",
        "def gaussian (mean,std_dev,num_samples):\n",
        "\n",
        "  x = np.random.normal(mean, std_dev, num_samples)         #generating gaussian distributed points\n",
        "\n",
        "  return (x)\n",
        "\n",
        "gauss1 = gaussian(0,1,1000)\n",
        "gauss2 = gaussian(1,0.5,1000)\n",
        "\n",
        "# we set the bin size in order to have the same bin size for the 2 histograms.\n",
        "# We simply take the interval between the min and the max data, and splice it into bin-size intervals\n",
        "\n",
        "combined_data = np.concatenate([gauss1, gauss2])\n",
        "bin_size = 0.1  # Set your desired bin size\n",
        "bins = np.arange(min(combined_data), max(combined_data) + bin_size, bin_size)\n",
        "\n",
        "\n",
        "plt.hist(gauss1, bins=bins, color='blue', edgecolor='black', alpha = 0.5)\n",
        "plt.hist(gauss2, bins=bins, color='red', edgecolor='black',alpha = 0.5)\n",
        "\n",
        "\n",
        "# Adding labels and a title\n",
        "plt.xlabel('Values')\n",
        "plt.ylabel('Frequency')\n",
        "plt.title('Histogram Example')\n",
        "\n",
        "# Display the plot\n",
        "plt.show()"
      ],
      "metadata": {
        "colab": {
          "base_uri": "https://localhost:8080/",
          "height": 472
        },
        "id": "6cYH54qPnsSQ",
        "outputId": "e63a5299-8692-4d12-f088-fb641ea61fe3"
      },
      "execution_count": null,
      "outputs": [
        {
          "output_type": "display_data",
          "data": {
            "text/plain": [
              "<Figure size 640x480 with 1 Axes>"
            ],
            "image/png": "[encoded data removed]"
          },
          "metadata": {}
        }
      ]
    },
    {
      "cell_type": "markdown",
      "source": [
        "We can also take one plot and divide in different subplots to visualize diffrent informations at the same time\n"
      ],
      "metadata": {
        "id": "LoD2xGi9rwhV"
      }
    },
    {
      "cell_type": "code",
      "source": [
        "# Generate some example data\n",
        "x = np.linspace(0, 10, 100)\n",
        "y1 = np.sin(x)\n",
        "y2 = np.cos(x)\n",
        "\n",
        "# Create a figure and a grid of subplots\n",
        "fig, axs = plt.subplots(2, 1, figsize=(8, 6))\n",
        "\n",
        "# Plot on the first subplot (axs[0])\n",
        "axs[0].plot(x, y1, color='blue', label='sin(x)', linewidth = 3)\n",
        "axs[0].set_title('Plot of sin(x)')\n",
        "axs[0].set_xlabel('x-axis')\n",
        "axs[0].set_ylabel('y-axis')\n",
        "axs[0].legend()\n",
        "\n",
        "# Plot on the second subplot (axs[1])\n",
        "axs[1].plot(x, y2, color='green', label='cos(x)', linewidth = 3)\n",
        "axs[1].set_title('Plot of cos(x)')\n",
        "axs[1].set_xlabel('x')\n",
        "axs[1].set_ylabel('y')\n",
        "axs[1].legend()\n",
        "\n",
        "# Adjust layout to prevent clipping of titles\n",
        "plt.tight_layout()\n",
        "\n",
        "# Display the plot\n",
        "plt.show()"
      ],
      "metadata": {
        "colab": {
          "base_uri": "https://localhost:8080/",
          "height": 607
        },
        "id": "65z_QJRsrB3h",
        "outputId": "41f84b8b-fb06-4b77-cc79-65112e717f3d"
      },
      "execution_count": null,
      "outputs": [
        {
          "output_type": "display_data",
          "data": {
            "text/plain": [
              "<Figure size 800x600 with 2 Axes>"
            ],
            "image/png": "[encoded data removed]"
          },
          "metadata": {}
        }
      ]
    },
    {
      "cell_type": "markdown",
      "source": [
        "# Final remarks"
      ],
      "metadata": {
        "id": "_seSebzTE6o5"
      }
    },
    {
      "cell_type": "markdown",
      "source": [
        "That is all. If you understood 80% or more of what was presented in this notebook, you are ready to learn to code for machine learning. If you didn't, **DON'T PANIC**. Review this notebook, ask us about what you didn't understand (but first, try to Google it), and you will be completely fine. The recommended books are another wonderful resource if you feel like you want to learn more about Python"
      ],
      "metadata": {
        "id": "pgMVcCppDenl"
      }
    },
    {
      "cell_type": "markdown",
      "source": [
        "Also, if you found any errors or have suggestions (is the notebook too long? Too short? Is there something not clearly explained?) **please let us know**, it would be greatly appreciated"
      ],
      "metadata": {
        "id": "3skZXey_E-6A"
      }
    },
    {
      "cell_type": "markdown",
      "source": [
        "*© 2024. This work is openly licensed via [CC BY-NC-SA 4.0 DEED](https://creativecommons.org/licenses/by-nc-sa/4.0/)*"
      ],
      "metadata": {
        "id": "n5GjI2kW_qBm"
      }
    }
  ]
}
