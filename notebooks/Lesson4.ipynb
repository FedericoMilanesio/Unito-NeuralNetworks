{
  "nbformat": 4,
  "nbformat_minor": 0,
  "metadata": {
    "colab": {
      "provenance": []
    },
    "kernelspec": {
      "name": "python3",
      "display_name": "Python 3"
    },
    "language_info": {
      "name": "python"
    }
  },
  "cells": [
    {
      "cell_type": "markdown",
      "source": [
        "# Autoencoders"
      ],
      "metadata": {
        "id": "XAzaNnrJDjeT"
      }
    },
    {
      "cell_type": "markdown",
      "source": [
        "*Tutors*:\n",
        "-- Federico Milanesio: federico.milanesio@unito.it\n",
        "-- Davide Pirovano: davide.pirovano@unito.it"
      ],
      "metadata": {
        "id": "vhY5Vk4pDiWV"
      }
    },
    {
      "cell_type": "markdown",
      "source": [
        "<div>\n",
        "<img src=\"https://imgs.xkcd.com/comics/ai_hiring_algorithm.png\" width=\"550\"/>\n",
        "</div>"
      ],
      "metadata": {
        "id": "zb43VXeyDglK"
      }
    },
    {
      "cell_type": "code",
      "source": [
        "import torch\n",
        "from torch import nn\n",
        "from torch import optim\n",
        "import matplotlib.pyplot as plt\n",
        "import matplotlib.ticker as mtick\n",
        "import torchvision.transforms as transforms\n",
        "import torchvision"
      ],
      "metadata": {
        "id": "ZCeKv7IaEH15"
      },
      "execution_count": null,
      "outputs": []
    },
    {
      "cell_type": "code",
      "source": [
        "device = torch.device(\"cuda:0\" if torch.cuda.is_available() else \"cpu\")\n",
        "\n",
        "print(device)"
      ],
      "metadata": {
        "colab": {
          "base_uri": "https://localhost:8080/"
        },
        "id": "DlrEQVWzkuxv",
        "outputId": "a08734a1-7439-41cc-b2e6-76d51036cbce"
      },
      "execution_count": null,
      "outputs": [
        {
          "output_type": "stream",
          "name": "stdout",
          "text": [
            "cpu\n"
          ]
        }
      ]
    },
    {
      "cell_type": "markdown",
      "source": [
        "# Setting up an autoencoder"
      ],
      "metadata": {
        "id": "An7bJEeQXmY3"
      }
    },
    {
      "cell_type": "markdown",
      "source": [
        "We will use MNIST as our dataset. Note that we do not normalize our output given that they are already normalized in the range $[0,1]$, making additional normalization less critical. In the case of autoencoders, the primary goal is to **learn a representation (encoding) of the input data** that can accurately reconstruct the original input. The effectiveness of an autoencoder relies more on the architecture of the model and the optimization process rather than the preprocessing of input data. Still, this needs to be evaluated on a case-by-case basis"
      ],
      "metadata": {
        "id": "50XdvSoHZ4VU"
      }
    },
    {
      "cell_type": "code",
      "source": [
        "transform = transforms.Compose([\n",
        "    transforms.ToTensor(),                              # <-- we dont normalize here, can you guess why based on the rest of the notebook?\n",
        "])\n",
        "\n",
        "train_dataset = torchvision.datasets.MNIST(root='./data', train=True, download=True, transform=transform)\n",
        "test_dataset = torchvision.datasets.MNIST(root='./data', train=False, download=True, transform=transform)\n",
        "\n",
        "batch_size = 128\n",
        "train_loader = torch.utils.data.DataLoader(train_dataset, batch_size=batch_size, shuffle=True)\n",
        "test_loader = torch.utils.data.DataLoader(test_dataset, batch_size=batch_size, shuffle=False)\n"
      ],
      "metadata": {
        "id": "5E9p_vTyX5ek"
      },
      "execution_count": null,
      "outputs": []
    },
    {
      "cell_type": "markdown",
      "source": [
        "We now define our model. A few notes:\n",
        "\n",
        "\n",
        "1.   We use linear layers for simplicity, but you can use any type of layer you want\n",
        "2.   Encoder and decoder **do not share weights** in our network. Sharing weights between the encoder and decoder can reduce the total number of model parameters, which may lead to simpler models and reduced risk of overfitting, especially when training data is limited. But tied weights restrict the flexibility of the model, potentially limiting its ability to capture complex relationships between input and output. Whether to share weights between encoder and decoder is a choice that is based on **Task Complexity** and the application of you network\n",
        "3. At the end we use a sigmoid forces the output to the range $[0, 1]$, interpreted as pixel intensity of a grey scale image.\n",
        "\n"
      ],
      "metadata": {
        "id": "pAt1qQVPbElz"
      }
    },
    {
      "cell_type": "code",
      "source": [
        "width = 28\n",
        "\n",
        "# encoder layers\n",
        "encoder = nn.Sequential(\n",
        "  ...\n",
        ")\n",
        "\n",
        "# decoder layers\n",
        "decoder = nn.Sequential(\n",
        "  ...\n",
        ")\n",
        "\n",
        "\n",
        "model = nn.Sequential(\n",
        "    nn.Flatten(1, 3),\n",
        "    encoder,\n",
        "    decoder,\n",
        "    nn.Sigmoid(),                       # output pixel values in range [0, 1] for grayscale images\n",
        "    nn.Unflatten(1, (1, width, width))\n",
        ")\n",
        "\n",
        "model = model.to(device)"
      ],
      "metadata": {
        "id": "jEfYvYm_X8Qs"
      },
      "execution_count": null,
      "outputs": []
    },
    {
      "cell_type": "markdown",
      "source": [
        "We will use **MSE**, a popular choice for training autoencoders, but other losses can be tried as well, such as Binary Cross Entropy and L1"
      ],
      "metadata": {
        "id": "jQviFXTlcL67"
      }
    },
    {
      "cell_type": "code",
      "source": [
        "criterion = nn.MSELoss()\n",
        "optimizer = optim.Adam(model.parameters(),\n",
        "                       lr=1e-2,\n",
        "                       weight_decay=1e-6)"
      ],
      "metadata": {
        "id": "xouRRRpTX9-l"
      },
      "execution_count": null,
      "outputs": []
    },
    {
      "cell_type": "code",
      "source": [
        "num_epochs = 5\n",
        "\n",
        "for epoch in range(num_epochs):\n",
        "    loss_epoch = 0.0\n",
        "    for x, _ in train_loader:\n",
        "\n",
        "        x = x.to(device)\n",
        "\n",
        "        x_pred = model(x)\n",
        "        loss = criterion(x_pred, x)\n",
        "\n",
        "        optimizer.zero_grad()\n",
        "        loss.backward()\n",
        "        optimizer.step()\n",
        "\n",
        "        loss_epoch += loss.item()\n",
        "\n",
        "\n",
        "    print(f\"Epoch {epoch + 1}, Loss: {loss_epoch / len(train_loader):.5f}\")\n"
      ],
      "metadata": {
        "colab": {
          "base_uri": "https://localhost:8080/"
        },
        "id": "H49JPt5_YAQv",
        "outputId": "6e58859b-fbe7-44bc-c57d-04e148c53cfc"
      },
      "execution_count": null,
      "outputs": [
        {
          "output_type": "stream",
          "name": "stdout",
          "text": [
            "Epoch 1, Loss: 0.00014\n",
            "Epoch 2, Loss: 0.00010\n",
            "Epoch 3, Loss: 0.00010\n",
            "Epoch 4, Loss: 0.00008\n",
            "Epoch 5, Loss: 0.00008\n"
          ]
        }
      ]
    },
    {
      "cell_type": "markdown",
      "source": [
        "When training autoencoders, often it best to see the result of reconstruction instead of focusing only on the numerical loss of the model"
      ],
      "metadata": {
        "id": "Gkl9Tz_VchrI"
      }
    },
    {
      "cell_type": "code",
      "source": [
        "with torch.no_grad():\n",
        "    for images, _ in test_loader:\n",
        "        reconstructed_images = model(images)\n",
        "        break\n",
        "\n",
        "def plot_images(images, title):\n",
        "    plt.figure(figsize=(8, 4))\n",
        "    for i in range(8):\n",
        "        plt.subplot(2, 4, i + 1)\n",
        "        plt.imshow(images[i].squeeze().numpy(), cmap='gray')\n",
        "        plt.axis('off')\n",
        "    plt.suptitle(title, y=1.05)\n",
        "    plt.tight_layout()\n",
        "\n",
        "# plot original and reconstructed images\n",
        "plot_images(images, title=\"Original Images\")\n",
        "plot_images(reconstructed_images, title=\"Reconstructed Images\")\n",
        "\n",
        "plt.show()"
      ],
      "metadata": {
        "colab": {
          "base_uri": "https://localhost:8080/",
          "height": 867
        },
        "id": "KC7LhjSLYCVG",
        "outputId": "53870e4a-e2b8-49fe-ba1b-30fd03944e26"
      },
      "execution_count": null,
      "outputs": [
        {
          "output_type": "display_data",
          "data": {
            "text/plain": [
              "<Figure size 800x400 with 8 Axes>"
            ],
            "image/png": "[encoded data removed]"
          },
          "metadata": {}
        },
        {
          "output_type": "display_data",
          "data": {
            "text/plain": [
              "<Figure size 800x400 with 8 Axes>"
            ],
            "image/png": "[encoded data removed]"
          },
          "metadata": {}
        }
      ]
    },
    {
      "cell_type": "markdown",
      "source": [
        "**Exercise 1**: Define the encoder and decoder modules for our autoencoder. Can we improve its performance by **optimizing hyperparameters** and adjusting the model architecture? Additionally, can we include a **visualization of the train and test loss** over the training process to detect signs of overfitting? Are there **random transformation** we could implement on the training set?"
      ],
      "metadata": {
        "id": "hsHSLTiucqv5"
      }
    },
    {
      "cell_type": "code",
      "source": [
        "..."
      ],
      "metadata": {
        "colab": {
          "base_uri": "https://localhost:8080/"
        },
        "id": "5oJwRxJ0c_in",
        "outputId": "68a530ab-1ad9-4594-fa14-5af92ae1d7bd"
      },
      "execution_count": null,
      "outputs": [
        {
          "output_type": "execute_result",
          "data": {
            "text/plain": [
              "Ellipsis"
            ]
          },
          "metadata": {},
          "execution_count": 8
        }
      ]
    },
    {
      "cell_type": "markdown",
      "source": [
        "# Exploring the representations"
      ],
      "metadata": {
        "id": "jHV59UHIgJrg"
      }
    },
    {
      "cell_type": "markdown",
      "source": [
        "Now that we have a trained autoencoder, we can **look inside the model** and explore what it has learned. To do this, we will use PCA.\n",
        "\n",
        "PCA finds the set of $m$ variables as linear combinations of the original variables that explains the most variance. It can be shown that the principal components are eigenvectors of the data's covariance matrix $\\frac{1}{n}X^TX$. We will find the first two and plot them to see how well the autoencoder **clusters** similar examples."
      ],
      "metadata": {
        "id": "jff6wNZ9iNL4"
      }
    },
    {
      "cell_type": "code",
      "source": [
        "from sklearn.decomposition import PCA\n",
        "\n",
        "latents = []\n",
        "labels = []\n",
        "\n",
        "with torch.no_grad():\n",
        "    for i, (x, y) in enumerate(test_loader):\n",
        "        x = x.to(device)\n",
        "        z = model[0:2](x)\n",
        "        latents.append(z.cpu())\n",
        "        labels.append(y)\n",
        "\n",
        "latents, labels = torch.cat(latents), torch.cat(labels)"
      ],
      "metadata": {
        "id": "yV5p5z3Cg313"
      },
      "execution_count": null,
      "outputs": []
    },
    {
      "cell_type": "code",
      "source": [
        "pca = PCA(n_components=2, random_state=42)\n",
        "latents_2d = pca.fit_transform(latents)\n",
        "\n",
        "plt.figure(figsize=(8, 6))\n",
        "scatter = plt.scatter(latents_2d[:, 0], latents_2d[:, 1], c=labels, cmap=\"tab10\", alpha=0.7)\n",
        "plt.colorbar(scatter, label=\"digit\")\n",
        "plt.title(\"pca of latent space\")\n",
        "plt.show()"
      ],
      "metadata": {
        "id": "DeA-Rn0whZ75"
      },
      "execution_count": null,
      "outputs": []
    },
    {
      "cell_type": "markdown",
      "source": [
        "Now we try to **move through the latent space**?\n",
        "\n",
        "We'll pick two input images $x_1$, $x_2$, encode them into the latent space $z_1$, $z_2$, and linearly interpolate between them.\n",
        "\n",
        "$z_{\\text{new}}=\\alpha z_1 + (1-\\alpha)z_2$, $\\;\\;\\;\\alpha \\in [0,1]$\n",
        "\n",
        "Then, we'll decode each intermediate point back into an image.\n",
        "\n",
        "This reveals how the model interprets smooth transitions in the underlying data distribution. Ideally, we should see a gradual morphing from one digit to another.\n"
      ],
      "metadata": {
        "id": "GKLYjAOGlQ7O"
      }
    },
    {
      "cell_type": "code",
      "source": [
        "steps = 10\n",
        "\n",
        "(x1, _), (x2, _) = test_dataset[0], test_dataset[1]  # <-- we select two samples from the dataset\n",
        "\n",
        "z1 = model[0:2](x1.unsqueeze(0).to(device))\n",
        "z2 = model[0:2](x2.unsqueeze(0).to(device))\n",
        "\n",
        "interpolated = torch.stack([\n",
        "        z1 * (1 - alpha) + z2 * alpha\n",
        "        for alpha in torch.linspace(0, 1, steps)\n",
        "    ]).squeeze()\n",
        "\n",
        "with torch.no_grad():\n",
        "  decoded = model[2:](interpolated).cpu()\n",
        "\n",
        "fig, axes = plt.subplots(1, steps, figsize=(steps, 1.5))\n",
        "for i, ax in enumerate(axes):\n",
        "    ax.imshow(decoded[i][0], cmap=\"gray\")\n",
        "    ax.axis(\"off\")\n",
        "plt.suptitle(\"Latent Space Interpolation\")\n",
        "plt.show()\n"
      ],
      "metadata": {
        "id": "Sip0bEH8jz_d"
      },
      "execution_count": null,
      "outputs": []
    },
    {
      "cell_type": "markdown",
      "source": [
        "We can compare the result with blending images by averaging pixels directly (not via the latent space)."
      ],
      "metadata": {
        "id": "hfB9o98soDlN"
      }
    },
    {
      "cell_type": "code",
      "source": [
        "interpolated = torch.stack([\n",
        "        x1 * (1 - alpha) + x2 * alpha\n",
        "        for alpha in torch.linspace(0, 1, steps)\n",
        "    ])\n",
        "\n",
        "fig, axes = plt.subplots(1, steps, figsize=(steps, 1.5))\n",
        "for i, ax in enumerate(axes):\n",
        "    ax.imshow(interpolated[i][0], cmap=\"gray\")\n",
        "    ax.axis(\"off\")\n",
        "plt.suptitle(\"Original Space Interpolation\")\n",
        "plt.show()"
      ],
      "metadata": {
        "id": "5kC6vYcFn2Yy"
      },
      "execution_count": null,
      "outputs": []
    },
    {
      "cell_type": "markdown",
      "source": [
        "# Denoising autoencoders"
      ],
      "metadata": {
        "id": "o5lusaKErOl7"
      }
    },
    {
      "cell_type": "markdown",
      "source": [
        "Let's see how well our autoencoder performs over noisy images, where we added Gaussian noise."
      ],
      "metadata": {
        "id": "kGyDBvI_tMj3"
      }
    },
    {
      "cell_type": "code",
      "source": [
        "def add_noise(inputs, noise_factor=0.4):\n",
        "    noisy = inputs + noise_factor * torch.randn_like(inputs)\n",
        "    noisy = torch.clamp(noisy, 0., 1.)    # <-- clamps all elements 0 < x < 1\n",
        "    return noisy"
      ],
      "metadata": {
        "id": "_4RndOvFrn7x"
      },
      "execution_count": null,
      "outputs": []
    },
    {
      "cell_type": "code",
      "source": [
        "for x, _ in train_loader:\n",
        "  x = x[:8].to(device)                 # <-- we select 8 points\n",
        "  noisy_x = add_noise(x)\n",
        "  recon = model(noisy_x).detach()\n",
        "  break\n",
        "\n",
        "fig, axs = plt.subplots(3, 8, figsize=(8 * 1.5, 4))\n",
        "for i in range(8):\n",
        "  axs[0, i].imshow(x[i][0].cpu(), cmap=\"gray\")\n",
        "  axs[1, i].imshow(noisy_x[i][0].cpu(), cmap=\"gray\")\n",
        "  axs[2, i].imshow(recon[i][0].cpu(), cmap=\"gray\")\n",
        "  for row in axs:\n",
        "    row[i].axis('off')\n",
        "\n",
        "fig.text(0.1, 0.8, \"Original\", va='center', ha='right', fontsize=12, rotation='vertical')\n",
        "fig.text(0.1, 0.5, \"Noisy\", va='center', ha='right', fontsize=12, rotation='vertical')\n",
        "fig.text(0.1, 0.2, \"Autoencoder\", va='center', ha='right', fontsize=12, rotation='vertical')\n",
        "\n",
        "\n",
        "plt.show()\n"
      ],
      "metadata": {
        "id": "7AwiyUHssC_Q"
      },
      "execution_count": null,
      "outputs": []
    },
    {
      "cell_type": "markdown",
      "source": [
        "A **denoising autoencoder** is trained not just to reconstruct its input, but to remove noise from it.\n",
        "\n",
        "During training, we corrupt the input image (e.g., by adding Gaussian noise), but we still ask the model to reconstruct the original, clean version. This encourages the autoencoder to learn more robust and meaningful representations."
      ],
      "metadata": {
        "id": "0xW9vQ03uuOe"
      }
    },
    {
      "cell_type": "markdown",
      "source": [
        "**Exercise 2**: Train a denoising autoencoder on the noisy images. Can it remove noise while preserving the underlying structure?"
      ],
      "metadata": {
        "id": "UiaSBtVmuGQU"
      }
    },
    {
      "cell_type": "code",
      "source": [
        "denoising_model = ..."
      ],
      "metadata": {
        "id": "XHg21kC_uW9H"
      },
      "execution_count": null,
      "outputs": []
    },
    {
      "cell_type": "code",
      "source": [
        "optimizer = ...\n",
        "num_epochs = 5\n",
        "\n",
        "for epoch in range(num_epochs):\n",
        "    loss_epoch = 0.0\n",
        "    for x_train, _ in train_loader:\n",
        "\n",
        "        x_train = x_train.to(device)\n",
        "\n",
        "        noisy_x = add_noise(x_train)       # <-- we train on noisy data\n",
        "        x_pred = denoising_model(noisy_x)\n",
        "\n",
        "        loss = criterion(x_pred, x_train)  # <-- the loss is computed on the noiseless image\n",
        "\n",
        "        ...\n"
      ],
      "metadata": {
        "id": "bt18-5PRvfCI"
      },
      "execution_count": null,
      "outputs": []
    },
    {
      "cell_type": "markdown",
      "source": [
        "Let's visualize the performance of the denoising model compared to the original autoencoder."
      ],
      "metadata": {
        "id": "e-3JQTSwvfCJ"
      }
    },
    {
      "cell_type": "code",
      "source": [
        "for x, _ in train_loader:\n",
        "  x = x[:8].to(device)                 # <-- we select 8 points\n",
        "  noisy_x = add_noise(x)\n",
        "  recon = model(noisy_x).detach()\n",
        "  denoising_recon = denoising_model(noisy_x).detach()\n",
        "  break\n",
        "\n",
        "fig, axs = plt.subplots(4, 8, figsize=(8 * 1, 8))\n",
        "for i in range(8):\n",
        "  axs[0, i].imshow(x[i][0].cpu(), cmap=\"gray\")\n",
        "  axs[1, i].imshow(noisy_x[i][0].cpu(), cmap=\"gray\")\n",
        "  axs[2, i].imshow(recon[i][0].cpu(), cmap=\"gray\")\n",
        "  axs[3, i].imshow(denoising_recon[i][0].cpu(), cmap=\"gray\")\n",
        "  for row in axs:\n",
        "    row[i].axis('off')\n",
        "\n",
        "fig.text(0.1, 0.8, \"Original\", va='center', ha='right', fontsize=12, rotation='vertical')\n",
        "fig.text(0.1, 0.6, \"Noisy\", va='center', ha='right', fontsize=12, rotation='vertical')\n",
        "fig.text(0.1, 0.4, \"Autoencoder\", va='center', ha='right', fontsize=12, rotation='vertical')\n",
        "fig.text(0.1, 0.2, \"Denoising\", va='center', ha='right', fontsize=12, rotation='vertical')\n",
        "\n",
        "plt.show()"
      ],
      "metadata": {
        "id": "D-u6y9sXu8LI",
        "collapsed": true
      },
      "execution_count": null,
      "outputs": []
    },
    {
      "cell_type": "markdown",
      "source": [
        "*© 2024. This work is openly licensed via [CC BY-NC-SA 4.0 DEED](https://creativecommons.org/licenses/by-nc-sa/4.0/)*"
      ],
      "metadata": {
        "id": "DaRVaa8o9Dim"
      }
    },
    {
      "cell_type": "markdown",
      "source": [
        "*Comics used in the notebooks are from [xkcd.com](https://xkcd.com), and are licensed under the Creative Commons Attribution-NonCommercial 2.5 license.*\n",
        "\n",
        "*Details and usage notes can be found at [xkcd.com/license.html](https://xkcd.com/license.html).*"
      ],
      "metadata": {
        "id": "XXNqPzEDjytw"
      }
    }
  ]
}