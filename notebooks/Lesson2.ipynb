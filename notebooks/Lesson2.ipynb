{
  "nbformat": 4,
  "nbformat_minor": 0,
  "metadata": {
    "colab": {
      "provenance": [],
      "include_colab_link": true
    },
    "kernelspec": {
      "name": "python3",
      "display_name": "Python 3"
    },
    "language_info": {
      "name": "python"
    }
  },
  "cells": [
    {
      "cell_type": "markdown",
      "source": [
        "# Neural networks"
      ],
      "metadata": {
        "id": "zQ0IpFJB60EP"
      }
    },
    {
      "cell_type": "markdown",
      "source": [
        "*Tutors*:\n",
        "-- Federico Milanesio: federico.milanesio@unito.it\n",
        "-- Davide Pirovano: davide.pirovano@unito.it"
      ],
      "metadata": {
        "id": "R-2ZHKKLCRBU"
      }
    },
    {
      "cell_type": "markdown",
      "source": [
        "<div>\n",
        "<img src=\"https://imgs.xkcd.com/comics/trained_a_neural_net.png\" width=\"300\"/>\n",
        "</div>"
      ],
      "metadata": {
        "id": "SE9IFwPwRBEV"
      }
    },
    {
      "cell_type": "markdown",
      "source": [
        "In this lesson, we will look at `nn` module of PyTorch, that contains the basic building blocks for Neural Networks."
      ],
      "metadata": {
        "id": "rLT38zkq_Ox9"
      }
    },
    {
      "cell_type": "code",
      "source": [
        "import torch\n",
        "from torch import nn                     # <-- this module contains all we need to train neural networks\n",
        "from torch import optim\n",
        "import matplotlib.pyplot as plt"
      ],
      "metadata": {
        "id": "Q_RuXJ1k9W9v"
      },
      "execution_count": 1,
      "outputs": []
    },
    {
      "cell_type": "markdown",
      "source": [
        "# Importing the dataset"
      ],
      "metadata": {
        "id": "xMUogttQc_Qs"
      }
    },
    {
      "cell_type": "markdown",
      "source": [
        "We will use a copy of [UCI ML Breast Cancer Wisconsin](https://goo.gl/U2Uwz2) (Diagnostic) datasets. The features are obtained from a digitized image of a fine needle aspirate (FNA) of a breast mass. These features are used to predict whether a detected breast mass is benign (non-cancerous) or malignant (cancerous)."
      ],
      "metadata": {
        "id": "fwTg-AQE_n0P"
      }
    },
    {
      "cell_type": "code",
      "source": [
        "from sklearn.datasets import load_breast_cancer\n",
        "data = load_breast_cancer()"
      ],
      "metadata": {
        "id": "4QbPhdrRUEhd"
      },
      "execution_count": 2,
      "outputs": []
    },
    {
      "cell_type": "code",
      "source": [
        "X = data.data\n",
        "y = data.target"
      ],
      "metadata": {
        "id": "-iQ_T1ei9ASk"
      },
      "execution_count": 3,
      "outputs": []
    },
    {
      "cell_type": "code",
      "source": [
        "X.shape"
      ],
      "metadata": {
        "colab": {
          "base_uri": "https://localhost:8080/"
        },
        "id": "wG2hniDNaryV",
        "outputId": "48363abb-ebe3-48e2-8b06-c9013ecc791c"
      },
      "execution_count": 4,
      "outputs": [
        {
          "output_type": "execute_result",
          "data": {
            "text/plain": [
              "(569, 30)"
            ]
          },
          "metadata": {},
          "execution_count": 4
        }
      ]
    },
    {
      "cell_type": "markdown",
      "source": [
        "# Data preprocessing"
      ],
      "metadata": {
        "id": "umZtJmkw-2qk"
      }
    },
    {
      "cell_type": "markdown",
      "source": [
        "We can start with some basic preprocessing:"
      ],
      "metadata": {
        "id": "GQEpkrsWNny6"
      }
    },
    {
      "cell_type": "code",
      "source": [
        "from torch.utils.data import Dataset, DataLoader, random_split"
      ],
      "metadata": {
        "id": "2MvkgIz_-8hN"
      },
      "execution_count": 5,
      "outputs": []
    },
    {
      "cell_type": "markdown",
      "source": [
        "In PyTorch, if we want to be able to use all the features offered by our modules, our data needs to be organized in a `Dataset` class. This is an abstract class representing a dataset, and it serves as an interface for custom datasets, allowing you to create your own dataset by subclassing it and implementing certain methods.\n",
        "\n",
        "There are three functions that we need to start:\n",
        "\n",
        "* `__init__`: This method initializes the dataset. You can pass any necessary parameters to initialize your dataset.\n",
        "\n",
        "* `__len__`: This method returns the size of the dataset, i.e., the total number of samples in the dataset.\n",
        "\n",
        "* `__getitem__`: This method is used to retrieve a sample from the dataset at a given index. It takes an index as input and returns the corresponding sample. It is called by PyTorch's data loaders during training or evaluation."
      ],
      "metadata": {
        "id": "cPTvp4u-dmWY"
      }
    },
    {
      "cell_type": "markdown",
      "source": [
        "**SUPPLEMENTARY**: In Python, the double underscore (`__`) methods are special methods also known as \"magic\" or \"dunder\" methods. These methods provide functionality that can be customized to define how objects behave in certain situations. They are called \"magic\" methods because they are invoked implicitly in response to certain operations or built-in functions in Python.\n",
        "\n",
        "For example, `__len__` returns the length of the object. It's called by the built-in `len()` function.\n"
      ],
      "metadata": {
        "id": "nLg7B_j8eZGj"
      }
    },
    {
      "cell_type": "code",
      "source": [
        "class CustomDataset(Dataset):\n",
        "\n",
        "  def __init__(self, x, y):\n",
        "\n",
        "    # this functions initializes our dataset\n",
        "\n",
        "    self.x = torch.tensor(x, dtype = torch.float32)\n",
        "    self.y = torch.tensor(y, dtype = torch.float32)\n",
        "\n",
        "    self.length = self.x.shape[0]       # number of samples\n",
        "\n",
        "  def __getitem__(self, idx):\n",
        "\n",
        "    # given the index of an element, we return the element\n",
        "\n",
        "    return self.x[idx], self.y[idx]\n",
        "\n",
        "  def __len__(self):\n",
        "\n",
        "    # this functions return the number of elements in our dataset\n",
        "\n",
        "    return self.length"
      ],
      "metadata": {
        "id": "dlq2YKD7-1-M"
      },
      "execution_count": 6,
      "outputs": []
    },
    {
      "cell_type": "markdown",
      "source": [
        "We initialize the dataset:"
      ],
      "metadata": {
        "id": "Wr6lg40oetRb"
      }
    },
    {
      "cell_type": "code",
      "source": [
        "data = CustomDataset(X, y)"
      ],
      "metadata": {
        "id": "CsSNO9EnN4EU"
      },
      "execution_count": 7,
      "outputs": []
    },
    {
      "cell_type": "markdown",
      "source": [
        "And we split it in test and train set:"
      ],
      "metadata": {
        "id": "up2Ov0X4evzR"
      }
    },
    {
      "cell_type": "code",
      "source": [
        "n_test = int(0.2 * X.shape[0])  # we select 20% of data\n",
        "n_test"
      ],
      "metadata": {
        "colab": {
          "base_uri": "https://localhost:8080/"
        },
        "id": "3nxUSuEiMsR0",
        "outputId": "3c52e0ac-10d9-4807-fa0d-d97b66df1731"
      },
      "execution_count": 8,
      "outputs": [
        {
          "output_type": "execute_result",
          "data": {
            "text/plain": [
              "113"
            ]
          },
          "metadata": {},
          "execution_count": 8
        }
      ]
    },
    {
      "cell_type": "code",
      "source": [
        "# we split train and test set\n",
        "\n",
        "train_set, test_set = random_split(data, [len(data) - n_test, n_test], generator=torch.Generator().manual_seed(42))"
      ],
      "metadata": {
        "id": "B9od6LPMOHT2"
      },
      "execution_count": 9,
      "outputs": []
    },
    {
      "cell_type": "markdown",
      "source": [
        "**Exercise 1**: preprocess your data. Compute the mean and std of each column of the training dataset and normalize both training and test set with:\n"
      ],
      "metadata": {
        "id": "i6RqO8HMLX0w"
      }
    },
    {
      "cell_type": "markdown",
      "source": [
        "\n",
        "$x_{ij} = \\dfrac{x_{ij} - \\bar x_j}{\\sigma_j}$"
      ],
      "metadata": {
        "id": "fDzqF79YMSl7"
      }
    },
    {
      "cell_type": "code",
      "source": [
        "train_set.dataset == data                       # inside train_set and test_set there is still the entire dataset"
      ],
      "metadata": {
        "colab": {
          "base_uri": "https://localhost:8080/"
        },
        "id": "3lrNNGI5d-gw",
        "outputId": "334594cc-0673-4cc0-dc22-23a29c9b8f21"
      },
      "execution_count": 10,
      "outputs": [
        {
          "output_type": "execute_result",
          "data": {
            "text/plain": [
              "True"
            ]
          },
          "metadata": {},
          "execution_count": 10
        }
      ]
    },
    {
      "cell_type": "code",
      "source": [
        "train_set.dataset.x[train_set.indices].size()    # this access the part of the dataset that is selected for train"
      ],
      "metadata": {
        "id": "kPX7iipBbOiS",
        "colab": {
          "base_uri": "https://localhost:8080/"
        },
        "outputId": "f2dbd226-0f50-4980-833b-9d9238d35c5b"
      },
      "execution_count": 11,
      "outputs": [
        {
          "output_type": "execute_result",
          "data": {
            "text/plain": [
              "torch.Size([456, 30])"
            ]
          },
          "metadata": {},
          "execution_count": 11
        }
      ]
    },
    {
      "cell_type": "code",
      "source": [
        "# modify directly the \"data\" object\n",
        "\n",
        "data = data # ..."
      ],
      "metadata": {
        "id": "rYE0TknRXfPZ"
      },
      "execution_count": 12,
      "outputs": []
    },
    {
      "cell_type": "markdown",
      "source": [
        "# Batches"
      ],
      "metadata": {
        "id": "dfuqrCPnMtIO"
      }
    },
    {
      "cell_type": "markdown",
      "source": [
        "The primary purpose of DataLoader is to load data from a dataset. It takes an instance of a dataset as input and provides an iterable over the dataset. It  allows you to specify the `batch_size`, which determines the number of samples to be included in each batch, as well as to whether to `shuffle` the data at each epoch or not"
      ],
      "metadata": {
        "id": "4u1TIhcufIkN"
      }
    },
    {
      "cell_type": "code",
      "source": [
        "BATCH_SIZE = 128\n",
        "\n",
        "train_loader = DataLoader(train_set, batch_size = BATCH_SIZE, shuffle=True)\n",
        "test_loader = DataLoader(test_set, batch_size = len(test_set), shuffle=False)"
      ],
      "metadata": {
        "id": "8fQxYMpYQKTF"
      },
      "execution_count": 13,
      "outputs": []
    },
    {
      "cell_type": "markdown",
      "source": [
        "# Creating a model"
      ],
      "metadata": {
        "id": "ireP541qcf8c"
      }
    },
    {
      "cell_type": "markdown",
      "source": [
        "We start with the easiest way to create a neural network in PyTorch: `nn.Sequential` is a container module that allows you to sequentially compose layers or modules in a neural network. It provides a simple way to create complex neural network architectures by stacking multiple layers or modules one after the other. The layers/modules passed to `nn.Sequential` are executed in the order they are specified. The output of each layer serves as the input to the next layer."
      ],
      "metadata": {
        "id": "wOPDiKfERrTN"
      }
    },
    {
      "cell_type": "code",
      "source": [
        "input_dim = 30\n",
        "hidden_dim = 100\n",
        "\n",
        "model = nn.Sequential(\n",
        "              nn.Linear(input_dim, hidden_dim),\n",
        "              nn.ReLU(),\n",
        "              nn.Linear(hidden_dim, 1),\n",
        "              nn.Sigmoid())"
      ],
      "metadata": {
        "id": "LBtUK1OpRa8v"
      },
      "execution_count": 14,
      "outputs": []
    },
    {
      "cell_type": "markdown",
      "source": [
        "Let's look inside the model:"
      ],
      "metadata": {
        "id": "RKy3GMxyIwy1"
      }
    },
    {
      "cell_type": "code",
      "source": [
        "print(model)"
      ],
      "metadata": {
        "colab": {
          "base_uri": "https://localhost:8080/"
        },
        "id": "9o1jPkh4-Dzy",
        "outputId": "58ff975e-e3ae-4a75-c28f-40410d3bff55"
      },
      "execution_count": 15,
      "outputs": [
        {
          "output_type": "stream",
          "name": "stdout",
          "text": [
            "Sequential(\n",
            "  (0): Linear(in_features=30, out_features=100, bias=True)\n",
            "  (1): ReLU()\n",
            "  (2): Linear(in_features=100, out_features=1, bias=True)\n",
            "  (3): Sigmoid()\n",
            ")\n"
          ]
        }
      ]
    },
    {
      "cell_type": "code",
      "source": [
        "[param.shape for param in model.parameters()]"
      ],
      "metadata": {
        "colab": {
          "base_uri": "https://localhost:8080/"
        },
        "id": "5OuMuOgDIwIw",
        "outputId": "15791a78-c99e-4d44-ac51-a138e07ff279"
      },
      "execution_count": 16,
      "outputs": [
        {
          "output_type": "execute_result",
          "data": {
            "text/plain": [
              "[torch.Size([100, 30]),\n",
              " torch.Size([100]),\n",
              " torch.Size([1, 100]),\n",
              " torch.Size([1])]"
            ]
          },
          "metadata": {},
          "execution_count": 16
        }
      ]
    },
    {
      "cell_type": "code",
      "source": [
        "model[2].bias"
      ],
      "metadata": {
        "colab": {
          "base_uri": "https://localhost:8080/"
        },
        "id": "ZzGbrrTaabVj",
        "outputId": "1a350afa-7c2b-4570-8c09-96b512d6af94"
      },
      "execution_count": 17,
      "outputs": [
        {
          "output_type": "execute_result",
          "data": {
            "text/plain": [
              "Parameter containing:\n",
              "tensor([0.0007], requires_grad=True)"
            ]
          },
          "metadata": {},
          "execution_count": 17
        }
      ]
    },
    {
      "cell_type": "markdown",
      "source": [
        "We can use our model to predict by calling it like a functions. We pass input data through the network, and the forward method of `nn.Sequentia`l automatically executes the forward pass through each layer/module in the sequence, producing the final output."
      ],
      "metadata": {
        "id": "mM-d1_t7ATIz"
      }
    },
    {
      "cell_type": "code",
      "source": [
        "sample = torch.tensor(X[:5], dtype = torch.float) # let's pass the first 15 samples to our new model\n",
        "\n",
        "model(sample)"
      ],
      "metadata": {
        "colab": {
          "base_uri": "https://localhost:8080/"
        },
        "id": "oAXmc8A7fRzW",
        "outputId": "ac5ceac6-ca9d-427b-a8e6-ccba962d0d1e"
      },
      "execution_count": 18,
      "outputs": [
        {
          "output_type": "execute_result",
          "data": {
            "text/plain": [
              "tensor([[0.0000e+00],\n",
              "        [0.0000e+00],\n",
              "        [0.0000e+00],\n",
              "        [3.4591e-13],\n",
              "        [0.0000e+00]], grad_fn=<SigmoidBackward0>)"
            ]
          },
          "metadata": {},
          "execution_count": 18
        }
      ]
    },
    {
      "cell_type": "markdown",
      "source": [
        "# Training"
      ],
      "metadata": {
        "id": "iq1b_tV8cpjt"
      }
    },
    {
      "cell_type": "markdown",
      "source": [
        "Let's call $\\hat y \\in (0,1)$ the prediction of our network. We will need two metrics, accuracy:\n",
        "\n",
        "$A_{cc} = \\mathbb{E}[\\mathbb{1}(round(\\hat y) = y)]$\n",
        "\n",
        "And (binary) cross entropy:\n",
        "\n",
        "$C(y, \\hat y) = \\mathbb{E}[-y \\log(\\hat y)- (1- y) \\log(1 -\\hat y)]$"
      ],
      "metadata": {
        "id": "upRO5WUeNObP"
      }
    },
    {
      "cell_type": "code",
      "source": [
        "def evaluate(model, train_loader, test_loader):\n",
        "\n",
        "  # initialize the accuracy as 0\n",
        "\n",
        "  acc_train, acc_test = 0, 0\n",
        "\n",
        "  with torch.no_grad():\n",
        "\n",
        "    for x_train, y_train in train_loader:\n",
        "\n",
        "      out = model(x_train).squeeze()\n",
        "      acc_train += (out.round() == y_train).sum()\n",
        "\n",
        "    for x_test, y_test in test_loader:\n",
        "\n",
        "      out = model(x_test).squeeze()\n",
        "      acc_test += (out.round() == y_test).sum()\n",
        "\n",
        "    acc_train, acc_test = acc_train / len(train_loader.dataset), acc_test / len(test_loader.dataset)\n",
        "\n",
        "  return acc_train.detach() * 100, acc_test.detach() * 100\n"
      ],
      "metadata": {
        "id": "vEAxMAFNWFvb"
      },
      "execution_count": 19,
      "outputs": []
    },
    {
      "cell_type": "code",
      "source": [
        "EPOCHS = 5\n",
        "\n",
        "train_losses = []\n",
        "train_accuracies = []\n",
        "test_accuracies = []\n",
        "\n",
        "\n",
        "loss_function = nn.BCELoss()\n",
        "\n",
        "learning_rate = 0.002\n",
        "optimizer = torch.optim.SGD(model.parameters(), lr = learning_rate)\n",
        "\n",
        "for epoch in range(EPOCHS):\n",
        "\n",
        "  train_loss = 0\n",
        "\n",
        "  ## TRAIN STEP\n",
        "\n",
        "  for x_train, y_train in train_loader:\n",
        "\n",
        "    out = model(x_train)\n",
        "    loss = loss_function(out.squeeze(), y_train)\n",
        "\n",
        "    optimizer.zero_grad()\n",
        "    loss.backward()\n",
        "\n",
        "    optimizer.step()\n",
        "\n",
        "    train_loss += loss\n",
        "\n",
        "  train_loss /= len(train_loader)   # we divide by the number of batches\n",
        "\n",
        "  ## TEST STEP\n",
        "\n",
        "  train_acc, test_acc = evaluate(model, train_loader, test_loader)\n",
        "\n",
        "  train_losses.append(train_loss.detach())\n",
        "  train_accuracies.append(train_acc)\n",
        "  test_accuracies.append(test_acc)\n"
      ],
      "metadata": {
        "id": "BoZrZkyaSI2x"
      },
      "execution_count": 20,
      "outputs": []
    },
    {
      "cell_type": "code",
      "source": [
        "import matplotlib.ticker as mtick\n",
        "\n",
        "plt.plot(train_accuracies, label = \"Train\")\n",
        "plt.plot(test_accuracies, label = \"Test\")\n",
        "\n",
        "plt.xlabel(\"Epochs\")\n",
        "plt.ylabel(\"Loss\")\n",
        "\n",
        "plt.gca().yaxis.set_major_formatter(mtick.PercentFormatter())\n",
        "\n",
        "plt.legend()\n",
        "\n",
        "plt.show()"
      ],
      "metadata": {
        "colab": {
          "base_uri": "https://localhost:8080/",
          "height": 449
        },
        "id": "YuiyhtmvVZLD",
        "outputId": "d89f31ff-72a1-4d34-8fc1-46ad8d0e6592"
      },
      "execution_count": 21,
      "outputs": [
        {
          "output_type": "display_data",
          "data": {
            "text/plain": [
              "<Figure size 640x480 with 1 Axes>"
            ],
            "image/png": "[encoded data removed]"
          },
          "metadata": {}
        }
      ]
    },
    {
      "cell_type": "code",
      "source": [
        "test_accuracies[-1]"
      ],
      "metadata": {
        "colab": {
          "base_uri": "https://localhost:8080/"
        },
        "id": "V1rShG7Xn1X4",
        "outputId": "c242a135-0207-4166-e76c-046bd7d25baf"
      },
      "execution_count": 22,
      "outputs": [
        {
          "output_type": "execute_result",
          "data": {
            "text/plain": [
              "tensor(59.2920)"
            ]
          },
          "metadata": {},
          "execution_count": 22
        }
      ]
    },
    {
      "cell_type": "markdown",
      "source": [
        "**Exercise 2:** Can you get to 100% accuracy on the train set? What happens to test accuracy?\n",
        "\n",
        "(*Hint: you can change lr, number of neurons, activations, etc.*)\n",
        "\n",
        "**REMEMBER TO REINITIALIZE THE MODEL!**"
      ],
      "metadata": {
        "id": "BQo6gMBEfqaI"
      }
    },
    {
      "cell_type": "markdown",
      "source": [
        "# An exercise for you"
      ],
      "metadata": {
        "id": "qoJPZonhIozC"
      }
    },
    {
      "cell_type": "markdown",
      "source": [
        "Torchvision is a package in PyTorch for computer vision tasks. It provides easy access to pre-trained models, common datasets like ImageNet, CIFAR-10, and MNIST, as well as tools for image transformation and augmentation."
      ],
      "metadata": {
        "id": "wGGhXacrU85q"
      }
    },
    {
      "cell_type": "code",
      "source": [
        "import torchvision"
      ],
      "metadata": {
        "id": "YsqXvXmvk7cg"
      },
      "execution_count": 23,
      "outputs": []
    },
    {
      "cell_type": "markdown",
      "source": [
        "\n",
        "[MNIST](https://en.wikipedia.org/wiki/MNIST_database) stands for Modified National Institute of Standards and Technology database. It's a dataset commonly used in the field of machine learning and computer vision for training and testing algorithms. The MNIST dataset consists of a large collection of handwritten digits (0 through 9), which are stored as **grayscale images of size 28x28 pixels**.\n",
        "\n",
        "The code below does many things: it downloads the MNIST dataset, it normalizes it and it splits it in train and test dataset. Then we will select only two numbers, 1 and 7, and we discard the rest. The ones will belong to class 1, while the 7s to class 0.\n",
        "\n",
        "**DON'T PANIC**: we will get more into how `torchvision.dataset` works next time, if not all steps are clear, you just have to believe us that `train_loader` and `test_loader ` contain data that is ready to be passed to a Neural Network."
      ],
      "metadata": {
        "id": "dvhoZFeLVNBf"
      }
    },
    {
      "cell_type": "code",
      "source": [
        "# Define batch sizes for training and testing data\n",
        "batch_size_train = 128\n",
        "batch_size_test = 10000\n",
        "\n",
        "## IF THIS DOESN'T COMPILE CREATE A mnist DIRECTORY IN THE CURRENT DIRECTORY AND TRY AGAIN\n",
        "\n",
        "# Load MNIST training dataset and apply transformations\n",
        "train_dataset = torchvision.datasets.MNIST('./mnist/', train=True, download=True,\n",
        "                             transform=torchvision.transforms.Compose([\n",
        "                               torchvision.transforms.ToTensor(),  # Convert image to PyTorch tensor\n",
        "                               torchvision.transforms.Normalize(   # Normalize pixel values\n",
        "                                 (0.1307,), (0.3081,))\n",
        "                             ]))\n",
        "\n",
        "# Load MNIST testing dataset and apply transformations\n",
        "test_dataset = torchvision.datasets.MNIST('./mnist/', train=False, download=True,\n",
        "                             transform=torchvision.transforms.Compose([\n",
        "                               torchvision.transforms.ToTensor(),  # Convert image to PyTorch tensor\n",
        "                               torchvision.transforms.Normalize(   # Normalize pixel values\n",
        "                                 (0.1307,), (0.3081,))\n",
        "                             ]))\n",
        "\n",
        "# Filter out images with labels 1 and 7 from the training dataset\n",
        "indices = (train_dataset.targets == 1) + (train_dataset.targets == 7)\n",
        "indices[8000:] = False  # Limit the number of images with labels 1 and 7\n",
        "train_dataset.data, train_dataset.targets = train_dataset.data[indices], train_dataset.targets[indices]\n",
        "\n",
        "# Convert labels to binary classification: 1 for label 1 and 0 for label 7\n",
        "train_dataset.targets = torch.where(train_dataset.targets == 1, torch.tensor(1.), torch.tensor(0.))\n",
        "\n",
        "# Same thing for the test dataset\n",
        "indices = (test_dataset.targets == 1) + (test_dataset.targets == 7)\n",
        "indices[4000:] = False\n",
        "test_dataset.data, test_dataset.targets = test_dataset.data[indices], test_dataset.targets[indices]\n",
        "\n",
        "test_dataset.targets = torch.where(test_dataset.targets == 1, torch.tensor(1.), torch.tensor(0.))\n",
        "\n",
        "print(\"Train set composed of\", len(train_dataset.targets), \"samples and test set of\", len(test_dataset.targets), \"samples\")\n",
        "\n",
        "# Create data loaders for training and testing datasets\n",
        "train_loader = torch.utils.data.DataLoader(train_dataset,\n",
        "                              batch_size=batch_size_train, shuffle=True)  # Shuffle training data\n",
        "test_loader = torch.utils.data.DataLoader(test_dataset,\n",
        "                              batch_size=batch_size_test, shuffle=False)\n"
      ],
      "metadata": {
        "colab": {
          "base_uri": "https://localhost:8080/"
        },
        "id": "FmlzjKPsWhWn",
        "outputId": "557b56a0-deb6-4689-eaab-8b23b9b518f8"
      },
      "execution_count": 24,
      "outputs": [
        {
          "output_type": "stream",
          "name": "stdout",
          "text": [
            "Downloading http://yann.lecun.com/exdb/mnist/train-images-idx3-ubyte.gz\n",
            "Downloading http://yann.lecun.com/exdb/mnist/train-images-idx3-ubyte.gz to ./mnist/MNIST/raw/train-images-idx3-ubyte.gz\n"
          ]
        },
        {
          "output_type": "stream",
          "name": "stderr",
          "text": [
            "100%|██████████| 9912422/9912422 [00:00<00:00, 118601372.83it/s]\n"
          ]
        },
        {
          "output_type": "stream",
          "name": "stdout",
          "text": [
            "Extracting ./mnist/MNIST/raw/train-images-idx3-ubyte.gz to ./mnist/MNIST/raw\n",
            "\n",
            "Downloading http://yann.lecun.com/exdb/mnist/train-labels-idx1-ubyte.gz\n",
            "Downloading http://yann.lecun.com/exdb/mnist/train-labels-idx1-ubyte.gz to ./mnist/MNIST/raw/train-labels-idx1-ubyte.gz\n"
          ]
        },
        {
          "output_type": "stream",
          "name": "stderr",
          "text": [
            "100%|██████████| 28881/28881 [00:00<00:00, 84415117.65it/s]\n"
          ]
        },
        {
          "output_type": "stream",
          "name": "stdout",
          "text": [
            "Extracting ./mnist/MNIST/raw/train-labels-idx1-ubyte.gz to ./mnist/MNIST/raw\n",
            "\n",
            "Downloading http://yann.lecun.com/exdb/mnist/t10k-images-idx3-ubyte.gz\n",
            "Downloading http://yann.lecun.com/exdb/mnist/t10k-images-idx3-ubyte.gz to ./mnist/MNIST/raw/t10k-images-idx3-ubyte.gz\n"
          ]
        },
        {
          "output_type": "stream",
          "name": "stderr",
          "text": [
            "100%|██████████| 1648877/1648877 [00:00<00:00, 38217368.27it/s]\n"
          ]
        },
        {
          "output_type": "stream",
          "name": "stdout",
          "text": [
            "Extracting ./mnist/MNIST/raw/t10k-images-idx3-ubyte.gz to ./mnist/MNIST/raw\n",
            "\n",
            "Downloading http://yann.lecun.com/exdb/mnist/t10k-labels-idx1-ubyte.gz\n",
            "Downloading http://yann.lecun.com/exdb/mnist/t10k-labels-idx1-ubyte.gz to ./mnist/MNIST/raw/t10k-labels-idx1-ubyte.gz\n"
          ]
        },
        {
          "output_type": "stream",
          "name": "stderr",
          "text": [
            "100%|██████████| 4542/4542 [00:00<00:00, 10231218.46it/s]"
          ]
        },
        {
          "output_type": "stream",
          "name": "stdout",
          "text": [
            "Extracting ./mnist/MNIST/raw/t10k-labels-idx1-ubyte.gz to ./mnist/MNIST/raw\n",
            "\n"
          ]
        },
        {
          "output_type": "stream",
          "name": "stderr",
          "text": [
            "\n"
          ]
        },
        {
          "output_type": "stream",
          "name": "stdout",
          "text": [
            "Train set composed of 1759 samples and test set of 861 samples\n"
          ]
        }
      ]
    },
    {
      "cell_type": "markdown",
      "source": [
        "We extract some samples to see how they look."
      ],
      "metadata": {
        "id": "bgQ_IpfcV4RZ"
      }
    },
    {
      "cell_type": "code",
      "source": [
        "examples = enumerate(test_loader)\n",
        "batch_idx, (example_data, example_targets) = next(examples)"
      ],
      "metadata": {
        "id": "UEF5GDsHPGE8"
      },
      "execution_count": 25,
      "outputs": []
    },
    {
      "cell_type": "code",
      "source": [
        "fig = plt.figure()\n",
        "\n",
        "for i in range(6):\n",
        "\n",
        "  plt.subplot(2,3,i+1)\n",
        "  plt.tight_layout()\n",
        "  plt.imshow(example_data[i][0], cmap='gray', interpolation='none')           # used to show 2d images\n",
        "  plt.title(\"Ground Truth: {}\".format(example_targets[i]))\n",
        "  plt.xticks([])\n",
        "  plt.yticks([])\n",
        "\n",
        "plt.show()"
      ],
      "metadata": {
        "colab": {
          "base_uri": "https://localhost:8080/",
          "height": 438
        },
        "id": "C6fdvtPWO_b1",
        "outputId": "541014b2-8a38-4b47-866c-8514af02ee50"
      },
      "execution_count": 26,
      "outputs": [
        {
          "output_type": "display_data",
          "data": {
            "text/plain": [
              "<Figure size 640x480 with 6 Axes>"
            ],
            "image/png": "[encoded data removed]"
          },
          "metadata": {}
        }
      ]
    },
    {
      "cell_type": "code",
      "source": [
        "input_dim = 28*28\n",
        "hidden_dim = 10\n",
        "\n",
        "model = nn.Sequential(\n",
        "              nn.Flatten(1, 3),\n",
        "              nn.Linear(input_dim, 1),\n",
        "              )"
      ],
      "metadata": {
        "id": "82Lly6YGhtzZ"
      },
      "execution_count": 27,
      "outputs": []
    },
    {
      "cell_type": "markdown",
      "source": [
        "This is the basic outline of our network. `nn.Flatten(1, 3)` is a layer in PyTorch that is used to flatten multidimensional input tensors into a 2D tensor.\n",
        "\n",
        "In our example, we have an input tensor of shape `(batch_size, channels = 1, height = 28, width = 28)` and we apply `nn.Flatten(1, 3)` to it. The flattening operation will flatten the tensor along the channels and spatial dimensions, resulting in a 2D tensor with dimensions` (batch_size, 1 * 28 * 28) =  (batch_size, 784)`."
      ],
      "metadata": {
        "id": "RNDkBpY4XWHp"
      }
    },
    {
      "cell_type": "markdown",
      "source": [
        "**Exercise 3:** What is the best performance you can achieve? Add as many layers as you want, and do your best!"
      ],
      "metadata": {
        "id": "Yt8CL0BgNpW4"
      }
    },
    {
      "cell_type": "markdown",
      "source": [
        "(for those wondering, you change the learning rate of an optimizer as `optimizer.param_groups[0]['lr'] = ...`)"
      ],
      "metadata": {
        "id": "9zFyTZc6hlgv"
      }
    },
    {
      "cell_type": "code",
      "source": [
        "...\n",
        "\n",
        "# if there are problems the with dtypes, remember that you can turn a torch tensor A of integers/longs to floating values with A.float()"
      ],
      "metadata": {
        "colab": {
          "base_uri": "https://localhost:8080/"
        },
        "id": "mSYyR9qyEKQU",
        "outputId": "8cbc1704-188b-4dc7-aa53-043a2748c07e"
      },
      "execution_count": 28,
      "outputs": [
        {
          "output_type": "execute_result",
          "data": {
            "text/plain": [
              "Ellipsis"
            ]
          },
          "metadata": {},
          "execution_count": 28
        }
      ]
    },
    {
      "cell_type": "markdown",
      "source": [
        "*© 2024. This work is openly licensed via [CC BY-NC-SA 4.0 DEED](https://creativecommons.org/licenses/by-nc-sa/4.0/)*"
      ],
      "metadata": {
        "id": "DaRVaa8o9Dim"
      }
    },
    {
      "cell_type": "markdown",
      "source": [
        "*Comics used in the notebooks are from [xkcd.com](https://xkcd.com), and are licensed under the Creative Commons Attribution-NonCommercial 2.5 license.*\n",
        "\n",
        "*Details and usage notes can be found at [xkcd.com/license.html](https://xkcd.com/license.html).*"
      ],
      "metadata": {
        "id": "XXNqPzEDjytw"
      }
    }
  ]
}
