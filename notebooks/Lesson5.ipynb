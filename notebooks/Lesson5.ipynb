{
  "nbformat": 4,
  "nbformat_minor": 0,
  "metadata": {
    "colab": {
      "provenance": [],
      "include_colab_link": true
    },
    "kernelspec": {
      "name": "python3",
      "display_name": "Python 3"
    },
    "language_info": {
      "name": "python"
    }
  },
  "cells": [
    {
      "cell_type": "markdown",
      "source": [
        "# Autoencoders"
      ],
      "metadata": {
        "id": "XAzaNnrJDjeT"
      }
    },
    {
      "cell_type": "markdown",
      "source": [
        "*Tutors*:\n",
        "-- Federico Milanesio: federico.milanesio@unito.it\n",
        "-- Davide Pirovano: davide.pirovano@unito.it"
      ],
      "metadata": {
        "id": "vhY5Vk4pDiWV"
      }
    },
    {
      "cell_type": "markdown",
      "source": [
        "<div>\n",
        "<img src=\"https://imgs.xkcd.com/comics/ai_hiring_algorithm.png\" width=\"550\"/>\n",
        "</div>"
      ],
      "metadata": {
        "id": "zb43VXeyDglK"
      }
    },
    {
      "cell_type": "code",
      "source": [
        "import torch\n",
        "from torch import nn\n",
        "from torch import optim\n",
        "import matplotlib.pyplot as plt\n",
        "import matplotlib.ticker as mtick\n",
        "import torchvision.transforms as transforms\n",
        "import torchvision"
      ],
      "metadata": {
        "id": "ZCeKv7IaEH15"
      },
      "execution_count": null,
      "outputs": []
    },
    {
      "cell_type": "code",
      "source": [
        "device = torch.device(\"cuda:0\" if torch.cuda.is_available() else \"cpu\")\n",
        "\n",
        "print(device)"
      ],
      "metadata": {
        "colab": {
          "base_uri": "https://localhost:8080/"
        },
        "id": "DlrEQVWzkuxv",
        "outputId": "191903f8-371e-4c3e-a691-ec5da779ec04"
      },
      "execution_count": null,
      "outputs": [
        {
          "output_type": "stream",
          "name": "stdout",
          "text": [
            "cpu\n"
          ]
        }
      ]
    },
    {
      "cell_type": "markdown",
      "source": [
        "# Setting up an autoencoder"
      ],
      "metadata": {
        "id": "An7bJEeQXmY3"
      }
    },
    {
      "cell_type": "markdown",
      "source": [
        "We will use MNIST as our dataset. Note that we do not normalize our output given that they are already normalized in the range $[0,1]$, making additional normalization less critical. In the case of autoencoders, the primary goal is to **learn a representation (encoding) of the input data** that can accurately reconstruct the original input. The effectiveness of an autoencoder relies more on the architecture of the model and the optimization process rather than the preprocessing of input data. Still, this needs to be evaluated on a case-by-case basis"
      ],
      "metadata": {
        "id": "50XdvSoHZ4VU"
      }
    },
    {
      "cell_type": "code",
      "source": [
        "transform = transforms.Compose([\n",
        "    transforms.ToTensor(),\n",
        "])\n",
        "\n",
        "train_dataset = torchvision.datasets.MNIST(root='./data', train=True, download=True, transform=transform)\n",
        "test_dataset = torchvision.datasets.MNIST(root='./data', train=False, download=True, transform=transform)\n",
        "\n",
        "batch_size = 128\n",
        "train_loader = torch.utils.data.DataLoader(train_dataset, batch_size=batch_size, shuffle=True)\n",
        "test_loader = torch.utils.data.DataLoader(test_dataset, batch_size=batch_size, shuffle=False)\n"
      ],
      "metadata": {
        "id": "5E9p_vTyX5ek"
      },
      "execution_count": null,
      "outputs": []
    },
    {
      "cell_type": "markdown",
      "source": [
        "We now define our model. A few notes:\n",
        "\n",
        "\n",
        "1.   We use linear layers for simplicity, but you can use any type of layer you want\n",
        "2.   Encoder and decoder **do not share weights** in our network. Sharing weights between the encoder and decoder can reduce the total number of model parameters, which may lead to simpler models and reduced risk of overfitting, especially when training data is limited. But tied weights restrict the flexibility of the model, potentially limiting its ability to capture complex relationships between input and output. Whether to share weights between encoder and decoder is a choice that is based on **Task Complexity** and the application of you network\n",
        "3. At the end we use a sigmoid forces the output to the range $[0, 1]$, interpreted as pixel intensity of a grey scale image.\n",
        "\n"
      ],
      "metadata": {
        "id": "pAt1qQVPbElz"
      }
    },
    {
      "cell_type": "code",
      "source": [
        "class Autoencoder(nn.Module):\n",
        "    def __init__(self):\n",
        "        super(Autoencoder, self).__init__()\n",
        "\n",
        "        # Encoder layers\n",
        "        self.encoder = nn.Sequential(\n",
        "            nn.Linear(28 * 28, 128),            # <-- this model only works with 28x28 images\n",
        "            nn.ReLU(),\n",
        "            nn.Linear(128, 64),\n",
        "            nn.ReLU(),\n",
        "            nn.Linear(64, 32),\n",
        "            nn.ReLU()\n",
        "        )\n",
        "\n",
        "        # Decoder layers\n",
        "        self.decoder = nn.Sequential(\n",
        "            nn.Linear(32, 64),\n",
        "            nn.ReLU(),\n",
        "            nn.Linear(64, 128),\n",
        "            nn.ReLU(),\n",
        "            nn.Linear(128, 28 * 28),\n",
        "            nn.Sigmoid()                       # Output pixel values in range [0, 1] for grayscale images\n",
        "        )\n",
        "\n",
        "    def forward(self, x):\n",
        "\n",
        "        # Flatten input image (an alternative to torch.flatten())\n",
        "        x = x.view(x.size(0), -1)\n",
        "\n",
        "        encoded = self.encoder(x)\n",
        "\n",
        "        decoded = self.decoder(encoded)\n",
        "\n",
        "        # Reshape decoded output to image shape (batch_size, 1, 28, 28)\n",
        "        decoded = decoded.view(-1, 1, 28, 28)\n",
        "\n",
        "        return decoded\n",
        "\n",
        "model = Autoencoder()\n",
        "model = model.to(device)"
      ],
      "metadata": {
        "id": "jEfYvYm_X8Qs"
      },
      "execution_count": null,
      "outputs": []
    },
    {
      "cell_type": "markdown",
      "source": [
        "We will use **MSE**, a popular choice for training autoencoders, but other losses can be tried as well, such as Binary Cross Entropy and L1"
      ],
      "metadata": {
        "id": "jQviFXTlcL67"
      }
    },
    {
      "cell_type": "code",
      "source": [
        "criterion = nn.MSELoss()\n",
        "optimizer = optim.Adam(model.parameters(), lr=0.001)"
      ],
      "metadata": {
        "id": "xouRRRpTX9-l"
      },
      "execution_count": null,
      "outputs": []
    },
    {
      "cell_type": "code",
      "source": [
        "num_epochs = 10\n",
        "\n",
        "for epoch in range(num_epochs):\n",
        "    loss = 0.0\n",
        "    for x, _ in train_loader:\n",
        "\n",
        "        x = x.to(device)\n",
        "\n",
        "        # Forward pass\n",
        "        x_pred = model(x)\n",
        "        loss = criterion(x_pred, x)\n",
        "\n",
        "        # Backward pass and optimization\n",
        "        optimizer.zero_grad()\n",
        "        loss.backward()\n",
        "        optimizer.step()\n",
        "\n",
        "        loss += loss.item()\n",
        "\n",
        "\n",
        "    print(f\"Epoch {epoch + 1}, Loss: {loss / len(train_loader):.5f}\")\n"
      ],
      "metadata": {
        "colab": {
          "base_uri": "https://localhost:8080/"
        },
        "id": "H49JPt5_YAQv",
        "outputId": "e6116db6-95b2-4f8d-be6a-b4d11b907818"
      },
      "execution_count": null,
      "outputs": [
        {
          "output_type": "stream",
          "name": "stdout",
          "text": [
            "Epoch 1, Loss: 0.00016\n",
            "Epoch 2, Loss: 0.00011\n",
            "Epoch 3, Loss: 0.00011\n",
            "Epoch 4, Loss: 0.00008\n",
            "Epoch 5, Loss: 0.00008\n",
            "Epoch 6, Loss: 0.00007\n",
            "Epoch 7, Loss: 0.00008\n",
            "Epoch 8, Loss: 0.00007\n",
            "Epoch 9, Loss: 0.00007\n",
            "Epoch 10, Loss: 0.00007\n"
          ]
        }
      ]
    },
    {
      "cell_type": "markdown",
      "source": [
        "When training autoencoders, often it best to see the result of reconstruction instead of focusing only on the numerical loss of the model"
      ],
      "metadata": {
        "id": "Gkl9Tz_VchrI"
      }
    },
    {
      "cell_type": "code",
      "source": [
        "# Evaluate the autoencoder on test data\n",
        "with torch.no_grad():\n",
        "    for images, _ in test_loader:\n",
        "        reconstructed_images = model(images)\n",
        "        break\n",
        "\n",
        "# Visualize original and reconstructed images\n",
        "def plot_images(images, title):\n",
        "    plt.figure(figsize=(8, 4))\n",
        "    for i in range(8):\n",
        "        plt.subplot(2, 4, i + 1)\n",
        "        plt.imshow(images[i].squeeze().numpy(), cmap='gray')\n",
        "        plt.axis('off')\n",
        "    plt.suptitle(title, y=1.05)\n",
        "    plt.tight_layout()\n",
        "\n",
        "# Plot original and reconstructed images\n",
        "plot_images(images, title=\"Original Images\")\n",
        "plot_images(reconstructed_images, title=\"Reconstructed Images\")\n",
        "\n",
        "plt.show()\n"
      ],
      "metadata": {
        "colab": {
          "base_uri": "https://localhost:8080/",
          "height": 867
        },
        "id": "KC7LhjSLYCVG",
        "outputId": "bdf69a66-fd2d-4e50-ed65-39728e4fa753"
      },
      "execution_count": null,
      "outputs": [
        {
          "output_type": "display_data",
          "data": {
            "text/plain": [
              "<Figure size 800x400 with 8 Axes>"
            ],
            "image/png": "[encoded data removed]"
          },
          "metadata": {}
        },
        {
          "output_type": "display_data",
          "data": {
            "text/plain": [
              "<Figure size 800x400 with 8 Axes>"
            ],
            "image/png": "[encoded data removed]"
          },
          "metadata": {}
        }
      ]
    },
    {
      "cell_type": "markdown",
      "source": [
        "**Exercise**: Can we improve this performance by **optimizing hyperparameters** and adjusting the model architecture? Additionally, can we include a **visualization of the train and test loss** over the training process to detect signs of overfitting, or alternatively, implement early stopping? Are there **random transformation** we could implement on the training set?"
      ],
      "metadata": {
        "id": "hsHSLTiucqv5"
      }
    },
    {
      "cell_type": "code",
      "source": [
        "..."
      ],
      "metadata": {
        "colab": {
          "base_uri": "https://localhost:8080/"
        },
        "id": "5oJwRxJ0c_in",
        "outputId": "e46bb879-4240-443e-8c3f-f17a3cd0e2ad"
      },
      "execution_count": null,
      "outputs": [
        {
          "output_type": "execute_result",
          "data": {
            "text/plain": [
              "Ellipsis"
            ]
          },
          "metadata": {},
          "execution_count": 16
        }
      ]
    },
    {
      "cell_type": "markdown",
      "source": [
        "*© 2024. This work is openly licensed via [CC BY-NC-SA 4.0 DEED](https://creativecommons.org/licenses/by-nc-sa/4.0/)*"
      ],
      "metadata": {
        "id": "DaRVaa8o9Dim"
      }
    },
    {
      "cell_type": "markdown",
      "source": [
        "*Comics used in the notebooks are from [xkcd.com](https://xkcd.com), and are licensed under the Creative Commons Attribution-NonCommercial 2.5 license.*\n",
        "\n",
        "*Details and usage notes can be found at [xkcd.com/license.html](https://xkcd.com/license.html).*"
      ],
      "metadata": {
        "id": "XXNqPzEDjytw"
      }
    }
  ]
}
