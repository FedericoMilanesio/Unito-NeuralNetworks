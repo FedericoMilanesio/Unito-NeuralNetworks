{
  "cells": [
    {
      "cell_type": "markdown",
      "metadata": {
        "id": "view-in-github",
        "colab_type": "text"
      },
      "source": [
        "<a href=\"https://colab.research.google.com/github/FedericoMilanesio/Unito-NeuralNetworks/blob/main/notebooks/solved/Lesson3.ipynb\" target=\"_parent\"><img src=\"https://colab.research.google.com/assets/colab-badge.svg\" alt=\"Open In Colab\"/></a>"
      ]
    },
    {
      "cell_type": "markdown",
      "metadata": {
        "id": "zQ0IpFJB60EP"
      },
      "source": [
        "# Convolutional Neural Networks"
      ]
    },
    {
      "cell_type": "markdown",
      "metadata": {
        "id": "R-2ZHKKLCRBU"
      },
      "source": [
        "*Tutors*:\n",
        "-- Federico Milanesio: federico.milanesio@unito.it\n",
        "-- Davide Pirovano: davide.pirovano@unito.it"
      ]
    },
    {
      "cell_type": "markdown",
      "metadata": {
        "id": "SE9IFwPwRBEV"
      },
      "source": [
        "<div>\n",
        "<img src=\"https://imgs.xkcd.com/comics/compiling.png\" width=\"400\"/>\n",
        "</div>"
      ]
    },
    {
      "cell_type": "markdown",
      "metadata": {
        "id": "rLT38zkq_Ox9"
      },
      "source": [
        "We already introduced torchvision last lesson, and it contains many things we will use this lesson"
      ]
    },
    {
      "cell_type": "code",
      "execution_count": 1,
      "metadata": {
        "id": "Q_RuXJ1k9W9v"
      },
      "outputs": [],
      "source": [
        "import torch\n",
        "from torch import nn\n",
        "from torch import optim\n",
        "import matplotlib.pyplot as plt\n",
        "import matplotlib.ticker as mtick\n",
        "import torchvision                    # <-- here it is"
      ]
    },
    {
      "cell_type": "markdown",
      "metadata": {
        "id": "sQBP3-KgOMVb"
      },
      "source": [
        "# Using GPUs"
      ]
    },
    {
      "cell_type": "markdown",
      "metadata": {
        "id": "ZboHmuOrPZj1"
      },
      "source": [
        "GPUs, or **Graphics Processing Units**, are specialized hardware components designed primarily for handling complex graphics and parallel computations. Originally developed for rendering graphics in video games and visual applications, GPUs have evolved to become powerful processors used in a wide range of computational tasks beyond graphics rendering. Luckily, Colab provides **free access to GPUs** that can be used to accelerate computations, particularly in tasks like training deep learning models."
      ]
    },
    {
      "cell_type": "markdown",
      "metadata": {
        "id": "qVULklJEOSiP"
      },
      "source": [
        "First of all, let's check if there are GPUs available.\n",
        "\n",
        "If they aren't, then got to `Edit` -> `Notebooks settings` -> `Hardware accelerator` and select `T4 GPU`"
      ]
    },
    {
      "cell_type": "code",
      "execution_count": 2,
      "metadata": {
        "colab": {
          "base_uri": "https://localhost:8080/"
        },
        "id": "xI4fQR3xN3TY",
        "outputId": "7abc0cae-545c-44b2-b826-156af12ea6e5"
      },
      "outputs": [
        {
          "output_type": "execute_result",
          "data": {
            "text/plain": [
              "True"
            ]
          },
          "metadata": {},
          "execution_count": 2
        }
      ],
      "source": [
        "torch.cuda.is_available()                           # Are GPU accessible"
      ]
    },
    {
      "cell_type": "code",
      "execution_count": 3,
      "metadata": {
        "colab": {
          "base_uri": "https://localhost:8080/"
        },
        "id": "1LPJe8nSO29j",
        "outputId": "1fbdc251-7bd0-41cd-9765-cf8ae183e260"
      },
      "outputs": [
        {
          "output_type": "execute_result",
          "data": {
            "text/plain": [
              "1"
            ]
          },
          "metadata": {},
          "execution_count": 3
        }
      ],
      "source": [
        "torch.cuda.device_count()                           # How many GPUs do we have?"
      ]
    },
    {
      "cell_type": "markdown",
      "metadata": {
        "id": "W39zy3u9RYUr"
      },
      "source": [
        "Let's see how to load our data in the GPU:"
      ]
    },
    {
      "cell_type": "code",
      "execution_count": 4,
      "metadata": {
        "colab": {
          "base_uri": "https://localhost:8080/"
        },
        "id": "jeJD5LQNPAqT",
        "outputId": "5a8224bc-2bd1-4ff6-f155-7434f37eeeed"
      },
      "outputs": [
        {
          "output_type": "stream",
          "name": "stdout",
          "text": [
            "cuda:0\n"
          ]
        }
      ],
      "source": [
        "device = torch.device(\"cuda:0\" if torch.cuda.is_available() else \"cpu\")\n",
        "\n",
        "print(device)                                        # Check which device we got"
      ]
    },
    {
      "cell_type": "code",
      "execution_count": 5,
      "metadata": {
        "colab": {
          "base_uri": "https://localhost:8080/"
        },
        "id": "LZd9dWAXPGRk",
        "outputId": "691012f6-58f4-4068-b9cb-eb64d4964c6f"
      },
      "outputs": [
        {
          "output_type": "stream",
          "name": "stdout",
          "text": [
            "False The device used is cpu\n"
          ]
        }
      ],
      "source": [
        "a = torch.tensor([0, 30, 50, 75, 70])                # Initialize a Tensor of Integers with no device specified\n",
        "\n",
        "print(a.is_cuda, \"The device used is\", a.device)     # Check which device Tensor is created on"
      ]
    },
    {
      "cell_type": "code",
      "execution_count": 6,
      "metadata": {
        "colab": {
          "base_uri": "https://localhost:8080/"
        },
        "id": "nHpdtribQioo",
        "outputId": "c360b91d-862f-4afb-a9ad-a19014138709"
      },
      "outputs": [
        {
          "output_type": "stream",
          "name": "stdout",
          "text": [
            "True The device used is cuda:0\n"
          ]
        }
      ],
      "source": [
        "a = a.to(device)                                     # we use this to ensure that the operations are done using GPUs\n",
        "\n",
        "print(a.is_cuda, \"The device used is\", a.device)"
      ]
    },
    {
      "cell_type": "markdown",
      "source": [
        "Alternatively, we can also write:"
      ],
      "metadata": {
        "id": "tRtocMmkocvG"
      }
    },
    {
      "cell_type": "code",
      "source": [
        "a = torch.tensor([0, 30, 50, 75, 70], device = device)\n",
        "\n",
        "print(a.is_cuda, \"The device used is\", a.device)"
      ],
      "metadata": {
        "colab": {
          "base_uri": "https://localhost:8080/"
        },
        "id": "HpiG88DYoWEZ",
        "outputId": "def8f459-559d-4993-9cb2-cc8ec75c2be4"
      },
      "execution_count": 7,
      "outputs": [
        {
          "output_type": "stream",
          "name": "stdout",
          "text": [
            "True The device used is cuda:0\n"
          ]
        }
      ]
    },
    {
      "cell_type": "markdown",
      "source": [
        "Let's test performances with  `%%timeit`, a magic command in notebooks that is used to measure the **execution time** of a single-line Python statement or expression over multiple runs and provide the average time taken per run. It also automatically adjusts the number of runs based on how long the code takes to execute. It runs the code multiple times and adjusts the number of runs to get a reliable estimate of execution time.\n",
        "\n",
        "For small matrices, CPUs perform better:"
      ],
      "metadata": {
        "id": "6fP8COClw0SI"
      }
    },
    {
      "cell_type": "code",
      "source": [
        "%%timeit\n",
        "\n",
        "n = 5\n",
        "\n",
        "a = torch.randn((n,n), device = device)\n",
        "b = torch.randn((n,n), device = device)\n",
        "\n",
        "torch.matmul(a, b)"
      ],
      "metadata": {
        "colab": {
          "base_uri": "https://localhost:8080/"
        },
        "id": "9COUNnnBvigt",
        "outputId": "41a3a7de-1271-4ef8-cf89-aa76b1e19468"
      },
      "execution_count": 8,
      "outputs": [
        {
          "output_type": "stream",
          "name": "stdout",
          "text": [
            "95.4 µs ± 33.1 µs per loop (mean ± std. dev. of 7 runs, 10000 loops each)\n"
          ]
        }
      ]
    },
    {
      "cell_type": "code",
      "source": [
        "%%timeit\n",
        "\n",
        "n = 5\n",
        "\n",
        "a = torch.randn((n,n))\n",
        "b = torch.randn((n,n))\n",
        "\n",
        "torch.matmul(a, b)"
      ],
      "metadata": {
        "colab": {
          "base_uri": "https://localhost:8080/"
        },
        "id": "INRFr5D2v5lG",
        "outputId": "e629a555-48db-448a-a840-faf86e06e94c"
      },
      "execution_count": 9,
      "outputs": [
        {
          "output_type": "stream",
          "name": "stdout",
          "text": [
            "15.4 µs ± 6.26 µs per loop (mean ± std. dev. of 7 runs, 100000 loops each)\n"
          ]
        }
      ]
    },
    {
      "cell_type": "markdown",
      "source": [
        "But the performance of CPUs worsen with large matrices, while the GPUs remain stable:"
      ],
      "metadata": {
        "id": "YKksedemw8S1"
      }
    },
    {
      "cell_type": "code",
      "source": [
        "%%timeit\n",
        "\n",
        "n = 100\n",
        "\n",
        "a = torch.randn((n,n), device = device)\n",
        "b = torch.randn((n,n), device = device)\n",
        "\n",
        "torch.matmul(a, b)"
      ],
      "metadata": {
        "colab": {
          "base_uri": "https://localhost:8080/"
        },
        "id": "cgpLBnB_wjMD",
        "outputId": "dd3638c8-ba35-4234-e1c4-0512ab473707"
      },
      "execution_count": 10,
      "outputs": [
        {
          "output_type": "stream",
          "name": "stdout",
          "text": [
            "36.2 µs ± 925 ns per loop (mean ± std. dev. of 7 runs, 10000 loops each)\n"
          ]
        }
      ]
    },
    {
      "cell_type": "code",
      "source": [
        "%%timeit\n",
        "\n",
        "n = 100\n",
        "\n",
        "a = torch.randn((n,n))\n",
        "b = torch.randn((n,n))\n",
        "\n",
        "torch.matmul(a, b)"
      ],
      "metadata": {
        "colab": {
          "base_uri": "https://localhost:8080/"
        },
        "id": "TdOalJzgwg8f",
        "outputId": "bf02e9fb-cd06-46f4-ec7a-e75e9dac0b5e"
      },
      "execution_count": 11,
      "outputs": [
        {
          "output_type": "stream",
          "name": "stdout",
          "text": [
            "293 µs ± 94.7 µs per loop (mean ± std. dev. of 7 runs, 10000 loops each)\n"
          ]
        }
      ]
    },
    {
      "cell_type": "markdown",
      "source": [
        "Here a simple comparison:"
      ],
      "metadata": {
        "id": "vHMqYm9NNfgx"
      }
    },
    {
      "cell_type": "markdown",
      "source": [
        " <img src=\"https://drive.google.com/uc?export=view&id=12lzi-jXRwDaXkoyLf-sGBUj41SsbKoBf\" width=\"600\" />"
      ],
      "metadata": {
        "id": "gUQVDlfONdRG"
      }
    },
    {
      "cell_type": "markdown",
      "metadata": {
        "id": "xMUogttQc_Qs"
      },
      "source": [
        "# Importing the dataset"
      ]
    },
    {
      "cell_type": "code",
      "execution_count": 12,
      "metadata": {
        "id": "Zv92oNNmOokF"
      },
      "outputs": [],
      "source": [
        "batch_size_train = 128\n",
        "batch_size_test = 500\n",
        "\n",
        "n_train = 2000\n",
        "n_test = 500\n",
        "\n",
        "transform = torchvision.transforms.Compose([\n",
        "                               torchvision.transforms.ToTensor(),\n",
        "                               torchvision.transforms.Normalize(\n",
        "                                 (0.1307,), (0.3081,))\n",
        "                             ])\n",
        "\n",
        "## TRAIN SET\n",
        "\n",
        "dataset_train = torchvision.datasets.MNIST('./files/', train=True, download=True,\n",
        "                             transform=transform)\n",
        "\n",
        "\n",
        "dataset_train.data, dataset_train.targets = dataset_train.data[:n_train], dataset_train.targets[:n_train]\n",
        "\n",
        "train_loader = torch.utils.data.DataLoader(dataset_train, batch_size = batch_size_train,\n",
        "                                            shuffle = True,  drop_last = True)                   # <-- drop_last: ignores the last batch if it is smaller than other batches\n",
        "\n",
        "## TEST SET\n",
        "\n",
        "dataset_test =  torchvision.datasets.MNIST('./files/', train=False, download=True,\n",
        "                             transform=transform)\n",
        "\n",
        "dataset_test.data, dataset_test.targets = dataset_test.data[:n_test], dataset_test.targets[:n_test]\n",
        "\n",
        "test_loader = torch.utils.data.DataLoader(dataset_test, batch_size = batch_size_test, shuffle = False)\n",
        "\n"
      ]
    },
    {
      "cell_type": "code",
      "execution_count": 13,
      "metadata": {
        "id": "UEF5GDsHPGE8"
      },
      "outputs": [],
      "source": [
        "examples = enumerate(test_loader)\n",
        "batch_idx, (example_data, example_targets) = next(examples)"
      ]
    },
    {
      "cell_type": "code",
      "execution_count": 14,
      "metadata": {
        "colab": {
          "base_uri": "https://localhost:8080/",
          "height": 438
        },
        "id": "C6fdvtPWO_b1",
        "outputId": "626774c9-750c-4b65-cda0-d343a7fc9b7b"
      },
      "outputs": [
        {
          "output_type": "display_data",
          "data": {
            "text/plain": [
              "<Figure size 640x480 with 6 Axes>"
            ],
            "image/png": "[encoded data removed]"
          },
          "metadata": {}
        }
      ],
      "source": [
        "fig = plt.figure()\n",
        "\n",
        "for i in range(6):\n",
        "  plt.subplot(2,3,i+1)\n",
        "  plt.tight_layout()\n",
        "  plt.imshow(example_data[i][0], cmap='gray', interpolation='none')\n",
        "  plt.title(\"Ground Truth: {}\".format(example_targets[i]))\n",
        "  plt.xticks([])\n",
        "  plt.yticks([])\n",
        "\n",
        "plt.show()"
      ]
    },
    {
      "cell_type": "code",
      "execution_count": 15,
      "metadata": {
        "id": "Z6irBr4QME6M",
        "colab": {
          "base_uri": "https://localhost:8080/"
        },
        "outputId": "14ea16f5-cdbc-427a-fd0a-e8bf4352fcde"
      },
      "outputs": [
        {
          "output_type": "stream",
          "name": "stderr",
          "text": [
            "/usr/lib/python3.10/multiprocessing/popen_fork.py:66: RuntimeWarning: os.fork() was called. os.fork() is incompatible with multithreaded code, and JAX is multithreaded, so this will likely lead to a deadlock.\n",
            "  self.pid = os.fork()\n"
          ]
        }
      ],
      "source": [
        "input_dim = 28*28\n",
        "hidden_dim = 10\n",
        "out_dim = 10\n",
        "\n",
        "class SimpleNetwork(nn.Module):\n",
        "\n",
        "  def __init__(self, input_dim, hidden_dim, out_dim):\n",
        "\n",
        "    # this function is called when creating a new network\n",
        "\n",
        "    super().__init__()\n",
        "\n",
        "    self.flatten = nn.Flatten(1, 3)\n",
        "    self.layer_1 = nn.Linear(input_dim, hidden_dim)\n",
        "    self.activation = nn.ReLU()                                     # this is the activation used in the hidden layer\n",
        "    self.layer_2 = nn.Linear(hidden_dim, out_dim)\n",
        "    self.soft = nn.Softmax(dim=1)                                   # this is the activation used before the output\n",
        "\n",
        "  def forward(self, x):\n",
        "\n",
        "    # this function is called each new prediction\n",
        "\n",
        "    x = self.flatten(x)\n",
        "    x = self.layer_1(x)                                              # this is equivalent to x @ w + b\n",
        "    x = self.activation(x)                                           # this is equivalent to ReLU(x)\n",
        "\n",
        "    x = self.layer_2(x)\n",
        "    x = self.soft(x)\n",
        "\n",
        "    return x\n",
        "\n",
        "model = SimpleNetwork(input_dim, hidden_dim, out_dim).to(device)     # we move our model to the GPUs\n",
        "\n",
        "if device.type != \"cpu\":\n",
        "  model = torch.compile(model)\n",
        "else:\n",
        "  model = torch.compile(model, mode = \"max-autotune-no-cudagraphs\", dynamic=True)"
      ]
    },
    {
      "cell_type": "code",
      "execution_count": 16,
      "metadata": {
        "id": "UzDqjQewR7uS"
      },
      "outputs": [],
      "source": [
        "loss_function = nn.CrossEntropyLoss()"
      ]
    },
    {
      "cell_type": "code",
      "execution_count": 17,
      "metadata": {
        "id": "RSAdyRFUSV6P"
      },
      "outputs": [],
      "source": [
        "def accuracy(y_pred, y):\n",
        "\n",
        "  pred = y_pred.detach().argmax(dim=1)\n",
        "  corrects = (pred == y)\n",
        "\n",
        "  accuracy = (corrects.sum()/corrects.size(0)).float()\n",
        "\n",
        "  return accuracy\n",
        "\n",
        "def evaluate(model, train_loader, test_loader):\n",
        "\n",
        "  # initialize the accuracy as 0\n",
        "\n",
        "  acc_train, acc_test = 0, 0\n",
        "\n",
        "  with torch.no_grad():\n",
        "\n",
        "    for x_train, y_train in train_loader:\n",
        "\n",
        "      x_train, y_train = x_train.to(device), y_train.to(device)        # remember that we need to load our data into the GPUs\n",
        "\n",
        "      out = model(x_train).squeeze()\n",
        "      acc_train += accuracy(out, y_train)\n",
        "\n",
        "    for x_test, y_test in test_loader:\n",
        "\n",
        "      x_test, y_test = x_test.to(device), y_test.to(device)\n",
        "\n",
        "      out = model(x_test).squeeze()\n",
        "      acc_test += accuracy(out, y_test)\n",
        "\n",
        "    acc_train, acc_test = acc_train / len(train_loader), acc_test / len(test_loader)\n",
        "\n",
        "  return float(acc_train.detach()) * 100, float(acc_test.detach()) * 100\n",
        "\n",
        "def train(model, x, y):\n",
        "\n",
        "  out = model(x)\n",
        "  loss = loss_function(out.squeeze(), y)\n",
        "\n",
        "  optimizer.zero_grad()\n",
        "  loss.backward()\n",
        "\n",
        "  optimizer.step()\n",
        "  return float(loss)\n",
        "\n",
        "if device.type != \"cpu\":\n",
        "  accuracy = torch.compile(accuracy)\n",
        "  train = torch.compile(train)\n",
        "else:\n",
        "  accuracy = torch.compile(accuracy, mode = \"max-autotune-no-cudagraphs\", dynamic=True)\n",
        "  train = torch.compile(train, mode = \"max-autotune-no-cudagraphs\", dynamic=True)\n"
      ]
    },
    {
      "cell_type": "code",
      "execution_count": 18,
      "metadata": {
        "colab": {
          "base_uri": "https://localhost:8080/"
        },
        "id": "GWzVgnuwM0le",
        "outputId": "ff1c65c3-6670-4fcc-c7f4-d84f22618adf"
      },
      "outputs": [
        {
          "output_type": "stream",
          "name": "stdout",
          "text": [
            "Epoch: 0 Loss: 2.2889325936635334\n",
            "Epoch: 10 Loss: 1.7418057044347128\n",
            "Epoch: 20 Loss: 1.6904093345006308\n",
            "Epoch: 30 Loss: 1.6604321082433064\n",
            "Epoch: 40 Loss: 1.6305956681569418\n",
            "Epoch: 50 Loss: 1.6148972590764363\n",
            "Epoch: 60 Loss: 1.6070151011149088\n",
            "Epoch: 70 Loss: 1.5983760833740235\n",
            "Epoch: 80 Loss: 1.5970162391662597\n",
            "Epoch: 90 Loss: 1.588789447148641\n"
          ]
        }
      ],
      "source": [
        "EPOCHS = 100\n",
        "\n",
        "train_losses = []\n",
        "train_accuracies = []\n",
        "test_accuracies = []\n",
        "\n",
        "learning_rate = 0.1\n",
        "optimizer = torch.optim.SGD(model.parameters(), lr = learning_rate)\n",
        "\n",
        "for epoch in range(EPOCHS):\n",
        "\n",
        "  train_loss = 0\n",
        "\n",
        "  ## TRAIN STEP\n",
        "\n",
        "  for x_train, y_train in train_loader:\n",
        "\n",
        "    x_train, y_train = x_train.to(device), y_train.to(device)\n",
        "\n",
        "    loss = train(model, x_train, y_train)\n",
        "\n",
        "    train_loss += loss\n",
        "\n",
        "  train_loss /= len(train_loader)                    # we divide by the number of batches\n",
        "  train_losses.append(train_loss)\n",
        "\n",
        "  ## TEST STEP\n",
        "\n",
        "  if epoch % 10 == 0:\n",
        "\n",
        "    train_acc, test_acc = evaluate(model, train_loader, test_loader)\n",
        "\n",
        "    train_accuracies.append(train_acc)\n",
        "    test_accuracies.append(test_acc)\n",
        "\n",
        "    print(\"Epoch:\", epoch, \"Loss:\", float(train_loss))\n"
      ]
    },
    {
      "cell_type": "code",
      "execution_count": 19,
      "metadata": {
        "colab": {
          "base_uri": "https://localhost:8080/",
          "height": 453
        },
        "id": "xuLPRa3cNJLj",
        "outputId": "6d17d20e-53f7-4162-c25d-b9c041a24766"
      },
      "outputs": [
        {
          "output_type": "display_data",
          "data": {
            "text/plain": [
              "<Figure size 640x480 with 1 Axes>"
            ],
            "image/png": "[encoded data removed]"
          },
          "metadata": {}
        }
      ],
      "source": [
        "epochs = [i*10 for i in range(EPOCHS//10)]\n",
        "\n",
        "plt.plot(epochs, train_accuracies, label = \"Train\")\n",
        "plt.plot(epochs, test_accuracies, label = \"Test\")\n",
        "\n",
        "plt.xlabel(\"Epochs\")\n",
        "plt.ylabel(\"Accuracy\")\n",
        "\n",
        "\n",
        "plt.legend()\n",
        "\n",
        "plt.show()"
      ]
    },
    {
      "cell_type": "markdown",
      "metadata": {
        "id": "0UP_Z400UnOa"
      },
      "source": [
        "# Let's get convolutional"
      ]
    },
    {
      "cell_type": "markdown",
      "source": [
        "We introduce the basic layer for convolutional networks: `torch.nn.Conv2d`.\n",
        "This layer performs 2D convolution on input tensors. It applies a 2D filter (kernel) to the input tensor and computes the element-wise multiplication followed by summation to produce the output feature map.\n",
        "\n",
        "Parameters of interest include:\n",
        "\n",
        "* **in_channels**: Number of input channels.\n",
        "* **out_channels**: Number of output channels (i.e., number of filters).\n",
        "* **kernel_size**: Size of the convolutional kernel.\n",
        "* **stride**: Stride of the convolution.\n",
        "* **padding**: Padding added to input feature map."
      ],
      "metadata": {
        "id": "e9c2aYiEo2L8"
      }
    },
    {
      "cell_type": "markdown",
      "source": [
        "**Exercise 1:** write a network using convolutional layers"
      ],
      "metadata": {
        "id": "GH8aE_7iBsHV"
      }
    },
    {
      "cell_type": "code",
      "execution_count": 20,
      "metadata": {
        "id": "NbIpoPCxUvTv"
      },
      "outputs": [],
      "source": [
        "class ConvolutionalNetwork(nn.Module):\n",
        "\n",
        "  def __init__(self, input_dim, out_dim):\n",
        "\n",
        "    super(ConvolutionalNetwork, self).__init__()\n",
        "\n",
        "    self.conv = nn.Conv2d(in_channels = 1, out_channels = 1, kernel_size = (3,3), stride = 1, padding  =1)     # <-- new layer\n",
        "    self.act = nn.ReLU()\n",
        "\n",
        "    self.flatten = nn.Flatten(1, 3)\n",
        "\n",
        "    self.linear_layer = nn.Linear(input_dim, out_dim)                                                    # <-- we selected kernel size to have the same number of outputs\n",
        "                                                                                                         #     after convolutional network\n",
        "    self.soft = nn.Softmax(dim=1)\n",
        "\n",
        "  def forward(self, x):\n",
        "\n",
        "    x = self.conv(x)\n",
        "    x = self.act(x)\n",
        "\n",
        "    x = self.flatten(x)\n",
        "    x = self.linear_layer(x)\n",
        "\n",
        "    x = self.soft(x)\n",
        "\n",
        "    return x\n"
      ]
    },
    {
      "cell_type": "code",
      "source": [
        "model = ConvolutionalNetwork(input_dim, out_dim).to(device)\n",
        "\n",
        "if device.type != \"cpu\":\n",
        "  model = torch.compile(model)\n",
        "else:\n",
        "  model = torch.compile(model, mode = \"max-autotune-no-cudagraphs\", dynamic=True)\n",
        "\n",
        "loss_function = nn.CrossEntropyLoss()"
      ],
      "metadata": {
        "id": "R439y6micn_6"
      },
      "execution_count": 21,
      "outputs": []
    },
    {
      "cell_type": "code",
      "source": [
        "EPOCHS = 100\n",
        "\n",
        "train_losses = []\n",
        "train_accuracies = []\n",
        "test_accuracies = []\n",
        "\n",
        "learning_rate = 0.1\n",
        "optimizer = torch.optim.SGD(model.parameters(), lr = learning_rate)\n",
        "\n",
        "for epoch in range(EPOCHS):\n",
        "\n",
        "  train_loss = 0\n",
        "\n",
        "  ## TRAIN STEP\n",
        "\n",
        "  for x_train, y_train in train_loader:\n",
        "\n",
        "    x_train, y_train = x_train.to(device), y_train.to(device)\n",
        "\n",
        "\n",
        "    loss = train(model, x_train, y_train)\n",
        "\n",
        "    train_loss += loss\n",
        "\n",
        "  train_loss /= len(train_loader)                    # we divide by the number of batches\n",
        "  train_losses.append(train_loss)\n",
        "\n",
        "  ## TEST STEP\n",
        "\n",
        "  if epoch % 10 == 0:\n",
        "\n",
        "    train_acc, test_acc = evaluate(model, train_loader, test_loader)\n",
        "\n",
        "    train_accuracies.append(train_acc)\n",
        "    test_accuracies.append(test_acc)\n",
        "\n",
        "    print(\"Epoch:\", epoch, \"Loss:\", float(train_loss))\n"
      ],
      "metadata": {
        "colab": {
          "base_uri": "https://localhost:8080/"
        },
        "id": "0K5X2PgsHLuj",
        "outputId": "0411cc24-ab30-4d45-8edd-cfac52d03351"
      },
      "execution_count": 22,
      "outputs": [
        {
          "output_type": "stream",
          "name": "stdout",
          "text": [
            "Epoch: 0 Loss: 2.2872114340464273\n",
            "Epoch: 10 Loss: 1.6233486731847127\n",
            "Epoch: 20 Loss: 1.6012626806894938\n",
            "Epoch: 30 Loss: 1.5934085210164388\n",
            "Epoch: 40 Loss: 1.589331324895223\n",
            "Epoch: 50 Loss: 1.5568987131118774\n",
            "Epoch: 60 Loss: 1.5176597277323405\n",
            "Epoch: 70 Loss: 1.5095054785410562\n",
            "Epoch: 80 Loss: 1.5074686050415038\n",
            "Epoch: 90 Loss: 1.5005412419637045\n"
          ]
        }
      ]
    },
    {
      "cell_type": "code",
      "source": [
        "epochs = [i*10 for i in range(EPOCHS//10)]\n",
        "\n",
        "plt.plot(epochs, train_accuracies, label = \"Train\")\n",
        "plt.plot(epochs, test_accuracies, label = \"Test\")\n",
        "\n",
        "plt.xlabel(\"Epochs\")\n",
        "plt.ylabel(\"Accuracy\")\n",
        "\n",
        "\n",
        "plt.legend()\n",
        "\n",
        "plt.show()"
      ],
      "metadata": {
        "colab": {
          "base_uri": "https://localhost:8080/",
          "height": 449
        },
        "id": "gQsHfNXtc-Lm",
        "outputId": "07f9bf32-b10d-4fb1-b2fd-4b9e8c76a255"
      },
      "execution_count": 23,
      "outputs": [
        {
          "output_type": "display_data",
          "data": {
            "text/plain": [
              "<Figure size 640x480 with 1 Axes>"
            ],
            "image/png": "[encoded data removed]"
          },
          "metadata": {}
        }
      ]
    },
    {
      "cell_type": "markdown",
      "source": [
        "# Data augmentation"
      ],
      "metadata": {
        "id": "1JP-Ogk3vD1m"
      }
    },
    {
      "cell_type": "markdown",
      "source": [
        "Data augmentation is a technique used to increase the diversity of training data by applying random transformations to the original dataset. This approach helps improve the **generalization and robustness** of deep learning models, especially when the available training dataset is limited or when the model needs to be invariant to certain transformations during inference.\n",
        "\n",
        "\n",
        "Common Transformations:\n",
        "* **Random Resizing and Cropping**:\n",
        "\n",
        "`transforms.RandomResizedCrop`: Randomly crops and resizes the input image to a specified size.\n",
        "* **Random Horizontal and Vertical Flipping**:\n",
        "\n",
        "`transforms.RandomHorizontalFlip`: Randomly flips the input image horizontally with a given probability.\n",
        "\n",
        "`transforms.RandomVerticalFlip`: Randomly flips the input image vertically with a given probability.\n",
        "* **Random Rotation**:\n",
        "\n",
        "`transforms.RandomRotation`: Randomly rotates the input image by a specified angle.\n",
        "* **Color and Brightness Adjustments**:\n",
        "\n",
        "`transforms.ColorJitter`: Randomly adjusts brightness, contrast, saturation, and hue of the input image.\n"
      ],
      "metadata": {
        "id": "9e6GdiOVxpqu"
      }
    },
    {
      "cell_type": "code",
      "source": [
        "import torchvision.transforms as transforms\n",
        "\n",
        "batch_size_train = 128\n",
        "batch_size_test = 500\n",
        "\n",
        "n_train = 2000\n",
        "n_test = 500\n",
        "\n",
        "# Define data augmentation transformations\n",
        "train_transform = transforms.Compose([\n",
        "    transforms.RandomResizedCrop(28),\n",
        "    transforms.RandomHorizontalFlip(),\n",
        "    transforms.RandomRotation(10),\n",
        "    transforms.ColorJitter(brightness=0.2, contrast=0.2, saturation=0.2, hue=0.1),\n",
        "    transforms.ToTensor(),\n",
        "    transforms.Normalize( (0.1307,), (0.3081,))\n",
        "])\n",
        "\n",
        "transform = torchvision.transforms.Compose([\n",
        "                               transforms.ToTensor(),\n",
        "                               transforms.Normalize( (0.1307,), (0.3081,)) ])\n",
        "\n",
        "\n",
        "## TRAIN SET\n",
        "\n",
        "dataset_train = torchvision.datasets.MNIST('./files/', train=True, download=True,\n",
        "                             transform=train_transform)\n",
        "\n",
        "\n",
        "dataset_train.data, dataset_train.targets = dataset_train.data[:n_train], dataset_train.targets[:n_train]\n",
        "\n",
        "train_loader = torch.utils.data.DataLoader(dataset_train, batch_size = batch_size_train,\n",
        "                                            shuffle = True,  drop_last = True)\n",
        "\n",
        "## TEST SET\n",
        "\n",
        "dataset_test =  torchvision.datasets.MNIST('./files/', train=False, download=True,\n",
        "                             transform=transform)\n",
        "\n",
        "dataset_test.data, dataset_test.targets = dataset_test.data[:n_test], dataset_test.targets[:n_test]\n",
        "\n",
        "test_loader = torch.utils.data.DataLoader(dataset_test, batch_size = batch_size_test, shuffle = False)\n",
        "\n"
      ],
      "metadata": {
        "id": "1z7VHbU2sqpE"
      },
      "execution_count": 24,
      "outputs": []
    },
    {
      "cell_type": "code",
      "execution_count": 25,
      "metadata": {
        "id": "GbYG1paVtG4t"
      },
      "outputs": [],
      "source": [
        "examples = enumerate(train_loader)\n",
        "batch_idx, (example_data, example_targets) = next(examples)"
      ]
    },
    {
      "cell_type": "code",
      "execution_count": 26,
      "metadata": {
        "id": "pmHpyRWntG5A",
        "colab": {
          "base_uri": "https://localhost:8080/",
          "height": 438
        },
        "outputId": "596ab1cf-6758-49f8-e34b-411669cfbacd"
      },
      "outputs": [
        {
          "output_type": "display_data",
          "data": {
            "text/plain": [
              "<Figure size 640x480 with 6 Axes>"
            ],
            "image/png": "[encoded data removed]"
          },
          "metadata": {}
        }
      ],
      "source": [
        "fig = plt.figure()\n",
        "\n",
        "for i in range(6):\n",
        "  plt.subplot(2,3,i+1)\n",
        "  plt.tight_layout()\n",
        "  plt.imshow(example_data[i][0], cmap='gray', interpolation='none')\n",
        "  plt.title(\"Ground Truth: {}\".format(example_targets[i]))\n",
        "  plt.xticks([])\n",
        "  plt.yticks([])\n",
        "\n",
        "plt.show()"
      ]
    },
    {
      "cell_type": "markdown",
      "source": [
        "**Exercise 2:** Maybe these images are *too* augmented. Try to refine `train_transform` to generate images that still have meanining (and then train the network again and see if the performances improve)\n"
      ],
      "metadata": {
        "id": "nO6Ab8sgtZeJ"
      }
    },
    {
      "cell_type": "code",
      "source": [
        "import torchvision.transforms as transforms\n",
        "\n",
        "batch_size_train = 128\n",
        "batch_size_test = 500\n",
        "\n",
        "n_train = 2000\n",
        "n_test = 500\n",
        "\n",
        "# Define data augmentation transformations\n",
        "train_transform = transforms.Compose([\n",
        "    transforms.RandomResizedCrop(28, scale=(0.7, 1.3)),\n",
        "    transforms.RandomRotation(15),\n",
        "    transforms.ColorJitter(brightness=0.2, contrast=0.2, saturation=0.2, hue=0.1),\n",
        "    transforms.ToTensor(),\n",
        "    transforms.Normalize( (0.1307,), (0.3081,))\n",
        "])\n",
        "\n",
        "transform = torchvision.transforms.Compose([\n",
        "                               transforms.ToTensor(),\n",
        "                               transforms.Normalize( (0.1307,), (0.3081,)) ])\n",
        "\n",
        "\n",
        "## TRAIN SET\n",
        "\n",
        "dataset_train = torchvision.datasets.MNIST('./files/', train=True, download=True,\n",
        "                             transform=train_transform)\n",
        "\n",
        "\n",
        "dataset_train.data, dataset_train.targets = dataset_train.data[:n_train], dataset_train.targets[:n_train]\n",
        "\n",
        "train_loader = torch.utils.data.DataLoader(dataset_train, batch_size = batch_size_train,\n",
        "                                            shuffle = True,  drop_last = True)\n",
        "\n",
        "## TEST SET\n",
        "\n",
        "dataset_test =  torchvision.datasets.MNIST('./files/', train=False, download=True,\n",
        "                             transform=transform)\n",
        "\n",
        "dataset_test.data, dataset_test.targets = dataset_test.data[:n_test], dataset_test.targets[:n_test]\n",
        "\n",
        "test_loader = torch.utils.data.DataLoader(dataset_test, batch_size = batch_size_test, shuffle = False)\n",
        "\n"
      ],
      "metadata": {
        "id": "mIXxZuGKzgiv"
      },
      "execution_count": 27,
      "outputs": []
    },
    {
      "cell_type": "code",
      "source": [
        "examples = enumerate(train_loader)\n",
        "batch_idx, (example_data, example_targets) = next(examples)\n",
        "\n",
        "fig = plt.figure()\n",
        "\n",
        "for i in range(6):\n",
        "  plt.subplot(2,3,i+1)\n",
        "  plt.tight_layout()\n",
        "  plt.imshow(example_data[i][0], cmap='gray', interpolation='none')\n",
        "  plt.title(\"Ground Truth: {}\".format(example_targets[i]))\n",
        "  plt.xticks([])\n",
        "  plt.yticks([])\n",
        "\n",
        "plt.show()"
      ],
      "metadata": {
        "id": "mVAEeHowwN2y",
        "colab": {
          "base_uri": "https://localhost:8080/",
          "height": 438
        },
        "outputId": "0b993379-133f-4368-8b4e-7b47746e5246"
      },
      "execution_count": 28,
      "outputs": [
        {
          "output_type": "display_data",
          "data": {
            "text/plain": [
              "<Figure size 640x480 with 6 Axes>"
            ],
            "image/png": "[encoded data removed]"
          },
          "metadata": {}
        }
      ]
    },
    {
      "cell_type": "markdown",
      "source": [
        "# Other useful layers"
      ],
      "metadata": {
        "id": "9t2kGU5sqN1J"
      }
    },
    {
      "cell_type": "markdown",
      "source": [
        "Here are some useful layers for convolutional networks."
      ],
      "metadata": {
        "id": "UmHHFWsUQxQu"
      }
    },
    {
      "cell_type": "markdown",
      "source": [
        "* **2D max pooling/average pooling**\n",
        "\n",
        "`torch.nn.MaxPool2d` and `torch.nn.AvgPool2d` downsample the input feature maps by taking either the maximum or average value within a specified window (kernel size) and stride.\n",
        "\n",
        "*Parameters*: kernel_size, stride, padding, ceil_mode (for MaxPool2d).\n",
        "\n",
        "\n",
        "\n",
        "* **Batch normalization**\n",
        "\n",
        "`torch.nn.BatchNorm2d` normalizes the activations of each channel across a mini-batch. It helps in stabilizing and accelerating the training of deep neural networks by reducing internal covariate shift.\n",
        "\n",
        "*Parameters*: num_features (number of input channels).\n",
        "\n",
        "\n",
        "\n",
        "* **Dropout**\n",
        "\n",
        "`torch.nn.Dropout` layer randomly sets a fraction of input units to zero during training, which helps in reducing overfitting by preventing complex co-adaptations of neurons.\n",
        "\n",
        "*Parameter*: p (probability of dropping a neuron)."
      ],
      "metadata": {
        "id": "iI_OGCn3pbG-"
      }
    },
    {
      "cell_type": "markdown",
      "source": [
        "**IMPORTANT**: In PyTorch, `model.train()` is a method used to set the model in training mode. This method is typically called on a PyTorch model object before starting the training loop. This mode is important because **certain layers like dropout and batch normalization behave differently during training** compared to evaluation (testing) mode. To switch them you have to call `model.train()` and `model.eval()` before the respective steps. Here an example:"
      ],
      "metadata": {
        "id": "utJSK-9ON15d"
      }
    },
    {
      "cell_type": "code",
      "source": [
        "EPOCHS = 10\n",
        "\n",
        "\n",
        "for epoch in range(EPOCHS):\n",
        "\n",
        "  ## TRAIN STEP\n",
        "\n",
        "  model.train()\n",
        "\n",
        "  for x_train, y_train in train_loader:\n",
        "\n",
        "    ...\n",
        "\n",
        "  ## TEST STEP\n",
        "\n",
        "  model.eval()\n",
        "\n",
        "  ...\n"
      ],
      "metadata": {
        "id": "XTSj2wgLOGmS"
      },
      "execution_count": 29,
      "outputs": []
    },
    {
      "cell_type": "markdown",
      "source": [
        "**Exercise 3:** Now it's up to you! Mix all these ingredients and try to reach a high accuracy on the test set (if it is too easy, use less sample in the training set)\n"
      ],
      "metadata": {
        "id": "9YmJ-XWFS6Wv"
      }
    },
    {
      "cell_type": "code",
      "source": [
        "class CNN(nn.Module):\n",
        "    def __init__(self):\n",
        "        super(CNN, self).__init__()\n",
        "        self.conv1 = nn.Conv2d(in_channels=1, out_channels=32, kernel_size=3, padding=1)\n",
        "        self.bn1 = nn.BatchNorm2d(32)\n",
        "        self.relu1 = nn.ReLU()\n",
        "\n",
        "        self.conv2 = nn.Conv2d(in_channels=32, out_channels=64, kernel_size=3, padding=1)\n",
        "        self.bn2 = nn.BatchNorm2d(64)\n",
        "        self.relu2 = nn.ReLU()\n",
        "\n",
        "        self.pool = nn.MaxPool2d(kernel_size=2, stride=2)\n",
        "\n",
        "        self.fc1 = nn.Linear(64 * 7 * 7, 128)\n",
        "        self.bn3 = nn.BatchNorm1d(128)\n",
        "        self.relu3 = nn.ReLU()\n",
        "        self.fc2 = nn.Linear(128, 10)\n",
        "\n",
        "    def forward(self, x):\n",
        "        x = self.conv1(x)\n",
        "        x = self.bn1(x)\n",
        "        x = self.relu1(x)\n",
        "        x = self.pool(x)\n",
        "        x = self.conv2(x)\n",
        "        x = self.bn2(x)\n",
        "        x = self.relu2(x)\n",
        "        x = self.pool(x)\n",
        "        x = x.view(-1, 64 * 7 * 7)\n",
        "        x = self.fc1(x)\n",
        "        x = self.bn3(x)\n",
        "        x = self.relu3(x)\n",
        "        x = self.fc2(x)\n",
        "        return x\n",
        "\n",
        "model = CNN().to(device)\n",
        "\n",
        "if device.type != \"cpu\":\n",
        "  model = torch.compile(model)\n",
        "else:\n",
        "  model = torch.compile(model, mode = \"max-autotune-no-cudagraphs\", dynamic=True)\n",
        "\n",
        "criterion = nn.CrossEntropyLoss()\n",
        "optimizer = optim.Adam(model.parameters(), lr=0.001)\n",
        "\n",
        "EPOCHS = 50\n",
        "\n",
        "train_losses = []\n",
        "train_accuracies = []\n",
        "test_accuracies = []\n",
        "\n",
        "for epoch in range(EPOCHS):\n",
        "\n",
        "  ## TRAIN STEP\n",
        "\n",
        "  train_loss = 0\n",
        "\n",
        "  model.train()\n",
        "\n",
        "  for x_train, y_train in train_loader:\n",
        "\n",
        "    x_train, y_train = x_train.to(device), y_train.to(device)\n",
        "\n",
        "\n",
        "    loss = train(model, x_train, y_train)\n",
        "\n",
        "    train_loss += loss\n",
        "\n",
        "  train_loss /= len(train_loader)                    # we divide by the number of batches\n",
        "  train_losses.append(train_loss)\n",
        "\n",
        "  ## TEST STEP\n",
        "\n",
        "  if epoch % 10 == 0:\n",
        "    model.eval()\n",
        "    train_acc, test_acc = evaluate(model, train_loader, test_loader)\n",
        "\n",
        "    train_accuracies.append(train_acc)\n",
        "    test_accuracies.append(test_acc)\n",
        "\n",
        "    print(\"Epoch:\", epoch, \"Loss:\", float(train_loss))\n",
        "\n"
      ],
      "metadata": {
        "id": "kdUx2w53TJx3",
        "colab": {
          "base_uri": "https://localhost:8080/"
        },
        "outputId": "a5cdbc10-9014-4d22-9476-f5e56b719aa8"
      },
      "execution_count": 30,
      "outputs": [
        {
          "output_type": "stream",
          "name": "stdout",
          "text": [
            "Epoch: 0 Loss: 1.3056880235671997\n",
            "Epoch: 10 Loss: 0.14813655465841294\n",
            "Epoch: 20 Loss: 0.07721627627809842\n",
            "Epoch: 30 Loss: 0.06887703227500121\n",
            "Epoch: 40 Loss: 0.04692063530286153\n"
          ]
        }
      ]
    },
    {
      "cell_type": "code",
      "source": [
        "epochs = [i*10 for i in range(EPOCHS//10)]\n",
        "\n",
        "plt.plot(epochs, train_accuracies, label = \"Train\")\n",
        "plt.plot(epochs, test_accuracies, label = \"Test\")\n",
        "\n",
        "plt.xlabel(\"Epochs\")\n",
        "plt.ylabel(\"Accuracy\")\n",
        "\n",
        "\n",
        "plt.legend()\n",
        "\n",
        "plt.show()"
      ],
      "metadata": {
        "id": "g1ZOguf0CdJl",
        "colab": {
          "base_uri": "https://localhost:8080/",
          "height": 449
        },
        "outputId": "4160e52f-dbd2-4391-95e0-522064287a0b"
      },
      "execution_count": 32,
      "outputs": [
        {
          "output_type": "display_data",
          "data": {
            "text/plain": [
              "<Figure size 640x480 with 1 Axes>"
            ],
            "image/png": "[encoded data removed]"
          },
          "metadata": {}
        }
      ]
    },
    {
      "cell_type": "markdown",
      "metadata": {
        "id": "DaRVaa8o9Dim"
      },
      "source": [
        "*© 2024. This work is openly licensed via [CC BY-NC-SA 4.0 DEED](https://creativecommons.org/licenses/by-nc-sa/4.0/)*"
      ]
    },
    {
      "cell_type": "markdown",
      "metadata": {
        "id": "XXNqPzEDjytw"
      },
      "source": [
        "*Comics used in the notebooks are from [xkcd.com](https://xkcd.com), and are licensed under the Creative Commons Attribution-NonCommercial 2.5 license.*\n",
        "\n",
        "*Details and usage notes can be found at [xkcd.com/license.html](https://xkcd.com/license.html).*"
      ]
    }
  ],
  "metadata": {
    "accelerator": "GPU",
    "colab": {
      "gpuType": "T4",
      "provenance": [],
      "include_colab_link": true
    },
    "kernelspec": {
      "display_name": "Python 3",
      "name": "python3"
    },
    "language_info": {
      "name": "python"
    }
  },
  "nbformat": 4,
  "nbformat_minor": 0
}