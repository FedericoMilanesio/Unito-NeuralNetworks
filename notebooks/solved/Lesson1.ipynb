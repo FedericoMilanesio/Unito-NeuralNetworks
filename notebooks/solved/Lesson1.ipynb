{
  "nbformat": 4,
  "nbformat_minor": 0,
  "metadata": {
    "colab": {
      "provenance": [],
      "include_colab_link": true
    },
    "kernelspec": {
      "name": "python3",
      "display_name": "Python 3"
    },
    "language_info": {
      "name": "python"
    }
  },
  "cells": [
    {
      "cell_type": "markdown",
      "metadata": {
        "id": "view-in-github",
        "colab_type": "text"
      },
      "source": [
        "<a href=\"https://colab.research.google.com/github/FedericoMilanesio/Unito-NeuralNetworks/blob/main/notebooks/solved/Lesson1.ipynb\" target=\"_parent\"><img src=\"https://colab.research.google.com/assets/colab-badge.svg\" alt=\"Open In Colab\"/></a>"
      ]
    },
    {
      "cell_type": "markdown",
      "source": [
        "# Basics of working with data"
      ],
      "metadata": {
        "id": "xBHHAjN7CTVN"
      }
    },
    {
      "cell_type": "markdown",
      "source": [
        "*Tutors*:\n",
        "-- Federico Milanesio: federico.milanesio@unito.it\n",
        "-- Davide Pirovano: davide.pirovano@unito.it"
      ],
      "metadata": {
        "id": "R-2ZHKKLCRBU"
      }
    },
    {
      "cell_type": "markdown",
      "source": [
        "Recommended textbooks:\n",
        "\n",
        "\n",
        "*  Beginner: **Hands-On Machine Learning with Scikit-Learn, Keras, and TensorFlow** (Aurélien Géron)\n",
        "* Intermediate: **Deep learning with Python** (François Chollet), **Deep learning with PyTorch** (Eli Stevens)\n",
        "* Advanced: **Advanced deep learning with Python: design and implement advanced next-generation AI solutions using TensorFlow and Pytorch** (Ivan Vasilev)"
      ],
      "metadata": {
        "id": "j5gWhtZ-d2gW"
      }
    },
    {
      "cell_type": "markdown",
      "source": [
        "**A NOTE ON EXERCISES**: Throughout the notebook, there is a series of exercises. Some will be completed in class, while the rest are left to your discretion and are  marked as *optional*. They are intended to help you develop a deeper understanding of the subject, so feel free to approach them as you see fit.\n"
      ],
      "metadata": {
        "id": "0UKY3AD2I2mQ"
      }
    },
    {
      "cell_type": "markdown",
      "source": [
        "<div>\n",
        "<img src=\"https://imgs.xkcd.com/comics/machine_learning.png\" width=\"350\"/>\n",
        "</div>"
      ],
      "metadata": {
        "id": "e9W7ZLmceB4w"
      }
    },
    {
      "cell_type": "markdown",
      "source": [
        "# PyTorch"
      ],
      "metadata": {
        "id": "pGAT7X5VGdGw"
      }
    },
    {
      "cell_type": "markdown",
      "source": [
        "PyTorch is a deep-learning library for Python, developed by Facebook's AI Research Group. In 2022 Meta shifted management of the framework to the newly created **PyTorch Foundation** (under the supervision of the Linux Foundation)."
      ],
      "metadata": {
        "id": "znxDDeTTGjMS"
      }
    },
    {
      "cell_type": "markdown",
      "source": [
        "Why PyTorch?\n",
        "\n",
        "* It is easy to understand, learn and use\n",
        "* It supports GPUs\n",
        "* It support numerical optimization on\n",
        "generic mathematical expressions and automatic gradient calculation"
      ],
      "metadata": {
        "id": "VguUaOlT-4SB"
      }
    },
    {
      "cell_type": "markdown",
      "source": [
        "# Torch Tensors"
      ],
      "metadata": {
        "id": "mrWrkIMS9vW8"
      }
    },
    {
      "cell_type": "code",
      "source": [
        "import torch"
      ],
      "metadata": {
        "id": "PGOeMaNC9u2d"
      },
      "execution_count": 1,
      "outputs": []
    },
    {
      "cell_type": "markdown",
      "source": [
        "Tensors in PyTorch are essential for performing efficient mathematical operations on large datasets. They can represent **matrices, vectors, scalars, or higher-dimensional arrays**, mirroring the functionality of numpy arrays. PyTorch provides a range of functions for working with these tensors, and they can seamlessly operate on both CPUs and GPUs."
      ],
      "metadata": {
        "id": "akKuN4EmG6ac"
      }
    },
    {
      "cell_type": "code",
      "source": [
        "x = torch.tensor([1,2,3], dtype = torch.float)"
      ],
      "metadata": {
        "id": "2Q6CDHX5I68j"
      },
      "execution_count": 2,
      "outputs": []
    },
    {
      "cell_type": "code",
      "source": [
        "x"
      ],
      "metadata": {
        "colab": {
          "base_uri": "https://localhost:8080/"
        },
        "id": "P0reishkJA1U",
        "outputId": "98595df1-727b-4d5d-f5b3-9462ee6707bd"
      },
      "execution_count": 3,
      "outputs": [
        {
          "output_type": "execute_result",
          "data": {
            "text/plain": [
              "tensor([1., 2., 3.])"
            ]
          },
          "metadata": {},
          "execution_count": 3
        }
      ]
    },
    {
      "cell_type": "code",
      "source": [
        "x.shape"
      ],
      "metadata": {
        "colab": {
          "base_uri": "https://localhost:8080/"
        },
        "id": "zDD6acI4NpUB",
        "outputId": "3391c549-47bb-442f-880d-67e6c58d5464"
      },
      "execution_count": 4,
      "outputs": [
        {
          "output_type": "execute_result",
          "data": {
            "text/plain": [
              "torch.Size([3])"
            ]
          },
          "metadata": {},
          "execution_count": 4
        }
      ]
    },
    {
      "cell_type": "code",
      "source": [
        "x[2] = 1.5\n",
        "x"
      ],
      "metadata": {
        "colab": {
          "base_uri": "https://localhost:8080/"
        },
        "id": "NKYBCsyHN_8L",
        "outputId": "0df48e35-5ef2-4e25-900e-b7587ff3a01f"
      },
      "execution_count": 5,
      "outputs": [
        {
          "output_type": "execute_result",
          "data": {
            "text/plain": [
              "tensor([1.0000, 2.0000, 1.5000])"
            ]
          },
          "metadata": {},
          "execution_count": 5
        }
      ]
    },
    {
      "cell_type": "code",
      "source": [
        "float(x[1])"
      ],
      "metadata": {
        "colab": {
          "base_uri": "https://localhost:8080/"
        },
        "id": "yVP-zNKXOgN2",
        "outputId": "0563ded0-7bd1-4bc9-a8ec-545e39671b26"
      },
      "execution_count": 6,
      "outputs": [
        {
          "output_type": "execute_result",
          "data": {
            "text/plain": [
              "2.0"
            ]
          },
          "metadata": {},
          "execution_count": 6
        }
      ]
    },
    {
      "cell_type": "code",
      "source": [
        "A = torch.randn(4, 3)            # initializing a tensor of gaussian iid values\n",
        "A"
      ],
      "metadata": {
        "colab": {
          "base_uri": "https://localhost:8080/"
        },
        "id": "HRNWV8brPk-g",
        "outputId": "c447fe82-39c5-427d-a619-3df95d4768b0"
      },
      "execution_count": 7,
      "outputs": [
        {
          "output_type": "execute_result",
          "data": {
            "text/plain": [
              "tensor([[-1.2660, -0.4816,  0.6285],\n",
              "        [-1.2763, -0.7722,  1.6471],\n",
              "        [ 1.0315, -0.5351,  1.5890],\n",
              "        [-1.6878,  0.0554,  0.0070]])"
            ]
          },
          "metadata": {},
          "execution_count": 7
        }
      ]
    },
    {
      "cell_type": "code",
      "source": [
        "A.t()                            # transposing A"
      ],
      "metadata": {
        "colab": {
          "base_uri": "https://localhost:8080/"
        },
        "id": "o57m54W6TY-Z",
        "outputId": "26534429-d6b9-43ac-a945-17eff2575027"
      },
      "execution_count": 8,
      "outputs": [
        {
          "output_type": "execute_result",
          "data": {
            "text/plain": [
              "tensor([[-1.2660, -1.2763,  1.0315, -1.6878],\n",
              "        [-0.4816, -0.7722, -0.5351,  0.0554],\n",
              "        [ 0.6285,  1.6471,  1.5890,  0.0070]])"
            ]
          },
          "metadata": {},
          "execution_count": 8
        }
      ]
    },
    {
      "cell_type": "code",
      "source": [
        "b = torch.matmul(A, x)            # matrix multiplication\n",
        "b"
      ],
      "metadata": {
        "colab": {
          "base_uri": "https://localhost:8080/"
        },
        "id": "v1_ThhmoPu6-",
        "outputId": "77869567-a887-4296-ac4a-ac88c5e7b449"
      },
      "execution_count": 9,
      "outputs": [
        {
          "output_type": "execute_result",
          "data": {
            "text/plain": [
              "tensor([-1.2864, -0.3502,  2.3447, -1.5665])"
            ]
          },
          "metadata": {},
          "execution_count": 9
        }
      ]
    },
    {
      "cell_type": "code",
      "source": [
        "torch.all(torch.matmul(A, x) == A @ x)      # another way to write matrix multiplication"
      ],
      "metadata": {
        "colab": {
          "base_uri": "https://localhost:8080/"
        },
        "id": "IUxhKMywjzdV",
        "outputId": "7342c8eb-926d-4e58-f52c-aaee846a3d1e"
      },
      "execution_count": 10,
      "outputs": [
        {
          "output_type": "execute_result",
          "data": {
            "text/plain": [
              "tensor(True)"
            ]
          },
          "metadata": {},
          "execution_count": 10
        }
      ]
    },
    {
      "cell_type": "markdown",
      "source": [
        "**Exercise 1:** given the matrices A and b below, find x such that Ax = b"
      ],
      "metadata": {
        "id": "Lgb9I2Xrf4V8"
      }
    },
    {
      "cell_type": "code",
      "source": [
        "A = [[1,3,1],\n",
        "     [2,2,2],\n",
        "     [3,1,1]]\n",
        "\n",
        "b = [5,6,5]"
      ],
      "metadata": {
        "id": "G7aFIHQWgCw5"
      },
      "execution_count": 11,
      "outputs": []
    },
    {
      "cell_type": "code",
      "source": [
        "A = torch.tensor(A, dtype = torch.float)\n",
        "b = torch.tensor(b, dtype = torch.float)"
      ],
      "metadata": {
        "id": "eP4ehUMaKq7v"
      },
      "execution_count": 12,
      "outputs": []
    },
    {
      "cell_type": "code",
      "source": [
        "x = torch.inverse(A) @ b"
      ],
      "metadata": {
        "id": "hHWDEKlQK6g2"
      },
      "execution_count": 13,
      "outputs": []
    },
    {
      "cell_type": "markdown",
      "source": [
        "**Exercise 2:** Can you check that your solution is correct?\n",
        "\n"
      ],
      "metadata": {
        "id": "rfrCjo4oGlL3"
      }
    },
    {
      "cell_type": "code",
      "source": [
        "torch.all(A@x == b)"
      ],
      "metadata": {
        "colab": {
          "base_uri": "https://localhost:8080/"
        },
        "id": "bL3O2BvfGs0S",
        "outputId": "4504a348-5df3-4e97-9aea-06f1d4d9d177"
      },
      "execution_count": 14,
      "outputs": [
        {
          "output_type": "execute_result",
          "data": {
            "text/plain": [
              "tensor(True)"
            ]
          },
          "metadata": {},
          "execution_count": 14
        }
      ]
    },
    {
      "cell_type": "markdown",
      "source": [
        "# Linear Regression"
      ],
      "metadata": {
        "id": "0n_1JL0eg397"
      }
    },
    {
      "cell_type": "markdown",
      "source": [
        "Let's introduce a simple dataset"
      ],
      "metadata": {
        "id": "SGqNPXbXMj3y"
      }
    },
    {
      "cell_type": "code",
      "source": [
        "dataset = torch.tensor([[1,3],\n",
        "                        [1.11, 3.06],\n",
        "                        [1.2, 3.3],\n",
        "                        [1.3, 3.4],\n",
        "                        [1.43, 3.7],\n",
        "                        [1.6, 3.5],\n",
        "                        [1.8, 3.66],\n",
        "                        [1.87, 3.82],\n",
        "                        [2.1,4]], dtype = torch.float)\n",
        "\n",
        "x = dataset[:,0]     # we select the first feature of all points\n",
        "y = dataset[:,1]     # we select the second feature of all points"
      ],
      "metadata": {
        "id": "9HbAFhAGh_Yw"
      },
      "execution_count": 15,
      "outputs": []
    },
    {
      "cell_type": "code",
      "source": [
        "import matplotlib.pyplot as plt\n",
        "%matplotlib inline"
      ],
      "metadata": {
        "id": "gQ5pfT3yiMMs"
      },
      "execution_count": 16,
      "outputs": []
    },
    {
      "cell_type": "code",
      "source": [
        "plt.scatter(x,y)\n",
        "\n",
        "plt.xlabel(\"x\")\n",
        "plt.ylabel(\"y\")\n",
        "\n",
        "plt.show()"
      ],
      "metadata": {
        "colab": {
          "base_uri": "https://localhost:8080/",
          "height": 449
        },
        "id": "R0RVOLjjiKKo",
        "outputId": "af58a595-8e4c-4a84-9e4a-07aafc6e339c"
      },
      "execution_count": 17,
      "outputs": [
        {
          "output_type": "display_data",
          "data": {
            "text/plain": [
              "<Figure size 640x480 with 1 Axes>"
            ],
            "image/png": "[encoded data removed]"
          },
          "metadata": {}
        }
      ]
    },
    {
      "cell_type": "markdown",
      "source": [
        "## Fitting with Exact Solution"
      ],
      "metadata": {
        "id": "ekuAhhJKgka_"
      }
    },
    {
      "cell_type": "markdown",
      "source": [
        "Linear regression is the simplest machine learning algorithm. It is used to model the relationship between two variables: a dependent variable (y) and an independent variable (x). The goal is to find the best-fitting linear equation that describes the relationship between these variables. The \"best\" fit will be the line that minimizes the sum of squared residuals (the least-squares approach)"
      ],
      "metadata": {
        "id": "_1uR462cjv-0"
      }
    },
    {
      "cell_type": "markdown",
      "source": [
        "Given a loss functions defined as:\n",
        "\n",
        "$ \\mathcal{L} = \\mathbb{E}[(y - ax - b)^2]$\n",
        "\n",
        "The [optimal parameters](https://en.wikipedia.org/wiki/Simple_linear_regression) to minimize the loss are:\n",
        "\n",
        "$ a = \\dfrac{\\sigma_{x,y}}{\\sigma^2_x}$\n",
        "\n",
        "$ b = \\bar{y} - a \\bar{x}$"
      ],
      "metadata": {
        "id": "2KyDOQSxrWw5"
      }
    },
    {
      "cell_type": "code",
      "source": [
        "covariance = (x.dot(y) / (y.shape[0]) - x.mean() * y.mean())\n",
        "\n",
        "a =  covariance / x.var(correction = 0)                       # correction = 0 is used to divide by n and not n-1\n",
        "b = y.mean() - a * x.mean()\n",
        "\n",
        "a, b"
      ],
      "metadata": {
        "colab": {
          "base_uri": "https://localhost:8080/"
        },
        "id": "Wn8hU5ualSsj",
        "outputId": "28851753-740a-497e-bed3-2d91ed2aaf98"
      },
      "execution_count": 18,
      "outputs": [
        {
          "output_type": "execute_result",
          "data": {
            "text/plain": [
              "(tensor(0.8415), tensor(2.2395))"
            ]
          },
          "metadata": {},
          "execution_count": 18
        }
      ]
    },
    {
      "cell_type": "code",
      "source": [
        "plt.scatter(x,y)\n",
        "plt.plot(x, a*x + b, color = \"red\")\n",
        "\n",
        "plt.xlabel(\"x\")\n",
        "plt.ylabel(\"y\")\n",
        "\n",
        "plt.show()"
      ],
      "metadata": {
        "colab": {
          "base_uri": "https://localhost:8080/",
          "height": 449
        },
        "id": "48Kl3_P3mAVs",
        "outputId": "4d278579-3d96-4415-8efd-43af89e76e2e"
      },
      "execution_count": 19,
      "outputs": [
        {
          "output_type": "display_data",
          "data": {
            "text/plain": [
              "<Figure size 640x480 with 1 Axes>"
            ],
            "image/png": "[encoded data removed]"
          },
          "metadata": {}
        }
      ]
    },
    {
      "cell_type": "code",
      "source": [
        "best_mse = ((a*x + b - y)**2).mean()"
      ],
      "metadata": {
        "id": "kO3b_FPIlWMg"
      },
      "execution_count": 20,
      "outputs": []
    },
    {
      "cell_type": "code",
      "source": [
        "best_mse"
      ],
      "metadata": {
        "colab": {
          "base_uri": "https://localhost:8080/"
        },
        "id": "BIEXYndQlhr4",
        "outputId": "62456610-3b3c-4c12-e913-f57731cdea67"
      },
      "execution_count": 21,
      "outputs": [
        {
          "output_type": "execute_result",
          "data": {
            "text/plain": [
              "tensor(0.0121)"
            ]
          },
          "metadata": {},
          "execution_count": 21
        }
      ]
    },
    {
      "cell_type": "code",
      "source": [
        "x.requires_grad = False"
      ],
      "metadata": {
        "id": "FdyX8acAe0UD"
      },
      "execution_count": 22,
      "outputs": []
    },
    {
      "cell_type": "markdown",
      "source": [
        "## Fitting with Gradient Descent"
      ],
      "metadata": {
        "id": "9VAnTlaCg5yN"
      }
    },
    {
      "cell_type": "markdown",
      "source": [
        "We will now use backpropagation to estimate $a$ and $b$"
      ],
      "metadata": {
        "id": "x5bWcUk3trwR"
      }
    },
    {
      "cell_type": "markdown",
      "source": [
        "$ \\dot a = - \\mu \\dfrac{\\partial \\mathcal{L}}{\\partial a}$\n",
        "\n",
        "$ \\dot b = - \\mu \\dfrac{\\partial \\mathcal{L}}{\\partial b}$"
      ],
      "metadata": {
        "id": "2td83e_auL3d"
      }
    },
    {
      "cell_type": "code",
      "source": [
        "params = torch.zeros(2, requires_grad = True)\n",
        "params"
      ],
      "metadata": {
        "colab": {
          "base_uri": "https://localhost:8080/"
        },
        "id": "xAo-h8sInLkB",
        "outputId": "c206a25d-d3a3-4228-9783-068e897fa7dd"
      },
      "execution_count": 23,
      "outputs": [
        {
          "output_type": "execute_result",
          "data": {
            "text/plain": [
              "tensor([0., 0.], requires_grad=True)"
            ]
          },
          "metadata": {},
          "execution_count": 23
        }
      ]
    },
    {
      "cell_type": "code",
      "source": [
        "print(params.grad)"
      ],
      "metadata": {
        "colab": {
          "base_uri": "https://localhost:8080/"
        },
        "id": "yOFuINsdaZcr",
        "outputId": "04753f01-fdf9-4b16-a813-d306b8146f20"
      },
      "execution_count": 24,
      "outputs": [
        {
          "output_type": "stream",
          "name": "stdout",
          "text": [
            "None\n"
          ]
        }
      ]
    },
    {
      "cell_type": "code",
      "source": [
        "def model(x, params):\n",
        "  a, b = params                               # unpacks the array of parameters\n",
        "  return x * a + b"
      ],
      "metadata": {
        "id": "Msvan8bWm9kz"
      },
      "execution_count": 25,
      "outputs": []
    },
    {
      "cell_type": "code",
      "source": [
        "def mse(y, y_pred):\n",
        "  return ((y - y_pred)**2).mean()"
      ],
      "metadata": {
        "id": "tRSqbQ92m0cv"
      },
      "execution_count": 26,
      "outputs": []
    },
    {
      "cell_type": "markdown",
      "source": [
        "Pytorch tensor store information on the chain of operations that generated them. This allows them to automatically generate the chain of derivatives with respect to all the inputs with the parameter `requires_grad` set to `True`. Below there is a quick schematic on how autograd works in our example"
      ],
      "metadata": {
        "id": "zVskF9YXwCB-"
      }
    },
    {
      "cell_type": "markdown",
      "source": [
        " <img src=\"https://drive.google.com/uc?export=view&id=1bEytAk6-tG0znyAlLMfsST4zysywBmQO\" width=\"750\" />"
      ],
      "metadata": {
        "id": "uGtLPQ0rg7W4"
      }
    },
    {
      "cell_type": "markdown",
      "source": [
        "We can now write a learning algorithm"
      ],
      "metadata": {
        "id": "lz1BUwO8woQ3"
      }
    },
    {
      "cell_type": "code",
      "source": [
        "learning_rate = .01\n",
        "losses = []                                      # array of losses\n",
        "As = []                                          # array of all the parameters a\n",
        "bs = []                                          # array of all the parameters b\n",
        "\n",
        "for epoch in range(100):\n",
        "\n",
        "  if params.grad is not None:\n",
        "    params.grad.zero_()                          # gradient accumulates after each time .backward() is called, so we have to set it to 0 at each epoch\n",
        "\n",
        "  y_predicted = model(x, params)\n",
        "  loss = mse(y_predicted, y)\n",
        "  loss.backward()                                # we compute the derivative of the loss with respect to the parameters\n",
        "\n",
        "  As.append(float(params[0]))                    # we store in an array the values of a, b, and loss for each epoch\n",
        "  bs.append(float(params[1]))\n",
        "  losses.append(float(loss))\n",
        "\n",
        "  with torch.no_grad():                          # we don't want to accumulate the gradient in this step\n",
        "    params -= learning_rate * params.grad        # gradient step"
      ],
      "metadata": {
        "id": "4N2EbRghnl2a"
      },
      "execution_count": 27,
      "outputs": []
    },
    {
      "cell_type": "code",
      "source": [
        "print(\"a, b =\", params, \"\\nLoss: \", losses[-1])"
      ],
      "metadata": {
        "colab": {
          "base_uri": "https://localhost:8080/"
        },
        "id": "FGnOMMRppaOO",
        "outputId": "875a4ff4-0541-444d-f131-077d87af18a1"
      },
      "execution_count": 28,
      "outputs": [
        {
          "output_type": "stream",
          "name": "stdout",
          "text": [
            "a, b = tensor([1.5560, 1.1289], requires_grad=True) \n",
            "Loss:  0.0785905122756958\n"
          ]
        }
      ]
    },
    {
      "cell_type": "markdown",
      "source": [
        "We now plot the evolution of the loss throughout training"
      ],
      "metadata": {
        "id": "M27r8AhRHIek"
      }
    },
    {
      "cell_type": "code",
      "source": [
        "plt.plot(losses)\n",
        "\n",
        "plt.xlabel(\"Epochs\")\n",
        "plt.ylabel(\"MSELoss\")\n",
        "\n",
        "plt.show()"
      ],
      "metadata": {
        "colab": {
          "base_uri": "https://localhost:8080/",
          "height": 449
        },
        "id": "0gmcFM-yo9Kw",
        "outputId": "f2a13a59-6147-4e5a-9b2c-9087896fcabb"
      },
      "execution_count": 29,
      "outputs": [
        {
          "output_type": "display_data",
          "data": {
            "text/plain": [
              "<Figure size 640x480 with 1 Axes>"
            ],
            "image/png": "[encoded data removed]"
          },
          "metadata": {}
        }
      ]
    },
    {
      "cell_type": "markdown",
      "source": [
        "As we can see, the model is close the optimal solution:"
      ],
      "metadata": {
        "id": "LtDzVKyoHOo5"
      }
    },
    {
      "cell_type": "code",
      "source": [
        "y_predicted = model(x, params).detach()      # we detach the values of a and b from their gradient\n",
        "\n",
        "plt.scatter(x, y)\n",
        "plt.plot(x, y_predicted, color = \"red\")\n",
        "\n",
        "plt.xlabel(\"x\")\n",
        "plt.ylabel(\"y\")\n",
        "\n",
        "plt.show()\n"
      ],
      "metadata": {
        "colab": {
          "base_uri": "https://localhost:8080/",
          "height": 449
        },
        "id": "v9000gu_pelR",
        "outputId": "0a94dcad-e26b-4c0b-ce69-3e328b7e2b32"
      },
      "execution_count": 30,
      "outputs": [
        {
          "output_type": "display_data",
          "data": {
            "text/plain": [
              "<Figure size 640x480 with 1 Axes>"
            ],
            "image/png": "[encoded data removed]"
          },
          "metadata": {}
        }
      ]
    },
    {
      "cell_type": "markdown",
      "source": [
        "We can also see the evolution of the parameters in the a-b plane"
      ],
      "metadata": {
        "id": "jMKv3oByHXfV"
      }
    },
    {
      "cell_type": "code",
      "source": [
        "plt.scatter(As, bs, c = range(len(As)))     # c is a colormap, mapping each epoch to a different color (it's only a visual touch, not that important right now)\n",
        "\n",
        "plt.xlabel(\"a\")\n",
        "plt.ylabel(\"b\")\n",
        "plt.colorbar()                              # this plots the bar on the right of the plot\n",
        "\n",
        "plt.show()"
      ],
      "metadata": {
        "colab": {
          "base_uri": "https://localhost:8080/",
          "height": 449
        },
        "id": "Hy-kEOAMq1oE",
        "outputId": "a0f0a51c-1749-4096-e916-940b6db0c686"
      },
      "execution_count": 31,
      "outputs": [
        {
          "output_type": "display_data",
          "data": {
            "text/plain": [
              "<Figure size 640x480 with 2 Axes>"
            ],
            "image/png": "[encoded data removed]"
          },
          "metadata": {}
        }
      ]
    },
    {
      "cell_type": "markdown",
      "source": [
        "**Exercise 3:** try fitting a different function to the same dataset"
      ],
      "metadata": {
        "id": "5ZjefMbHkIvA"
      }
    },
    {
      "cell_type": "code",
      "source": [
        "def model_trigonometric(x, params):\n",
        "  a, b, c = params                               # unpacks the array of parameters\n",
        "  return torch.sin(x) * a + torch.cos(x) * b + c"
      ],
      "metadata": {
        "id": "Q28mtBT8YtO0"
      },
      "execution_count": 32,
      "outputs": []
    },
    {
      "cell_type": "code",
      "source": [
        "params = torch.zeros(3, requires_grad = True)\n",
        "\n",
        "learning_rate = .01\n",
        "losses = []                                      # array of losses\n",
        "As = []                                          # array of all the parameters a\n",
        "bs = []                                          # array of all the parameters b\n",
        "\n",
        "for epoch in range(1000):\n",
        "\n",
        "  if params.grad is not None:\n",
        "    params.grad.zero_()                          # gradient accumulates after each time .backward() is called, so we have to set it to 0 at each epoch\n",
        "\n",
        "  y_predicted = model_trigonometric(x, params)\n",
        "  loss = mse(y_predicted, y)\n",
        "  loss.backward()                                # we compute the derivative of the loss with respect to the parameters\n",
        "\n",
        "  As.append(float(params[0]))                    # we store in an array the values of a, b, and loss for each epoch\n",
        "  bs.append(float(params[1]))\n",
        "  losses.append(float(loss))\n",
        "\n",
        "  with torch.no_grad():                          # we don't want to accumulate the gradient in this step\n",
        "    params -= learning_rate * params.grad        # gradient step"
      ],
      "metadata": {
        "id": "RLzoBU3eZIJk"
      },
      "execution_count": 33,
      "outputs": []
    },
    {
      "cell_type": "code",
      "source": [
        "plt.plot(losses)\n",
        "\n",
        "plt.xlabel(\"Epochs\")\n",
        "plt.ylabel(\"MSELoss\")\n",
        "\n",
        "plt.show()"
      ],
      "metadata": {
        "colab": {
          "base_uri": "https://localhost:8080/",
          "height": 449
        },
        "id": "-mcVEm6IYcyK",
        "outputId": "a8aec37f-1b4c-4f1f-acac-f5920488fa3a"
      },
      "execution_count": 34,
      "outputs": [
        {
          "output_type": "display_data",
          "data": {
            "text/plain": [
              "<Figure size 640x480 with 1 Axes>"
            ],
            "image/png": "[encoded data removed]"
          },
          "metadata": {}
        }
      ]
    },
    {
      "cell_type": "code",
      "source": [
        "y_predicted = model_trigonometric(x, params).detach()      # we detach the values of a and b from their gradient\n",
        "\n",
        "plt.scatter(x, y)\n",
        "plt.plot(x, y_predicted, color = \"red\")\n",
        "\n",
        "plt.xlabel(\"x\")\n",
        "plt.ylabel(\"y\")\n",
        "\n",
        "plt.show()\n"
      ],
      "metadata": {
        "colab": {
          "base_uri": "https://localhost:8080/",
          "height": 449
        },
        "id": "r0LKhpzvYfDv",
        "outputId": "74f91790-7a16-4a0a-fbde-b1219e4d8b7d"
      },
      "execution_count": 35,
      "outputs": [
        {
          "output_type": "display_data",
          "data": {
            "text/plain": [
              "<Figure size 640x480 with 1 Axes>"
            ],
            "image/png": "[encoded data removed]"
          },
          "metadata": {}
        }
      ]
    },
    {
      "cell_type": "markdown",
      "source": [
        "# Optimizing with Torch"
      ],
      "metadata": {
        "id": "xa05MfPAGo-a"
      }
    },
    {
      "cell_type": "markdown",
      "source": [
        "PyTorch provides various optimization algorithms as part of the `torch.optim` module. This means you don't have to write the weight update, PyTorch will do it for you. Common optimizers include Stochastic Gradient Descent (SGD), Adam, RMSprop, and more."
      ],
      "metadata": {
        "id": "aipDzta6xgRe"
      }
    },
    {
      "cell_type": "code",
      "source": [
        "params = torch.tensor([0.0, 0.0], requires_grad=True)\n",
        "learning_rate = 0.01\n",
        "\n",
        "optimizer = torch.optim.SGD([params], lr=learning_rate)     # we initialize our optimizer,\n",
        "                                                            # and we pass the parameters we want to optimize as a list of Torch tensors\n",
        "\n",
        "                                                            # in this case sgd we will be full batched (so not very stochastic)\n",
        "                                                            # we will see how to divide the dataset in batches next lesson\n",
        "\n",
        "losses = []\n",
        "EPOCHS = 4000\n",
        "\n",
        "for epoch in range(EPOCHS):\n",
        "\n",
        "  loss = mse(model(x, params), y)\n",
        "  losses.append(float(loss))\n",
        "\n",
        "  optimizer.zero_grad()   # setting gradients to zero\n",
        "  loss.backward()         # computes the gradients\n",
        "  optimizer.step()        # sgd step"
      ],
      "metadata": {
        "id": "o2dNCjmYtgwP"
      },
      "execution_count": 36,
      "outputs": []
    },
    {
      "cell_type": "code",
      "source": [
        "params"
      ],
      "metadata": {
        "colab": {
          "base_uri": "https://localhost:8080/"
        },
        "id": "6-b4Q_8Amgzm",
        "outputId": "d0ac7f0f-77a4-4039-8f5c-5fdcd834f6c4"
      },
      "execution_count": 37,
      "outputs": [
        {
          "output_type": "execute_result",
          "data": {
            "text/plain": [
              "tensor([0.8782, 2.1826], requires_grad=True)"
            ]
          },
          "metadata": {},
          "execution_count": 37
        }
      ]
    },
    {
      "cell_type": "code",
      "source": [
        "plt.plot(losses)\n",
        "plt.xlabel(\"Epochs\")\n",
        "plt.ylabel(\"MSELoss\")\n",
        "\n",
        "plt.hlines(y=float(best_mse), xmin = 0, xmax = len(losses) + 1, color = \"red\", linestyles = \"-.\")\n",
        "\n",
        "plt.yscale(\"log\")"
      ],
      "metadata": {
        "colab": {
          "base_uri": "https://localhost:8080/",
          "height": 449
        },
        "id": "qhGJ-_rcuXnw",
        "outputId": "47527c2c-6aef-4ba0-b1a5-cb08fbac9eb8"
      },
      "execution_count": 38,
      "outputs": [
        {
          "output_type": "display_data",
          "data": {
            "text/plain": [
              "<Figure size 640x480 with 1 Axes>"
            ],
            "image/png": "[encoded data removed]"
          },
          "metadata": {}
        }
      ]
    },
    {
      "cell_type": "markdown",
      "source": [
        "**Exercise 4:** try playing around with learning rates? Does it always converge to a solution?"
      ],
      "metadata": {
        "id": "hRQjxFP_Rlso"
      }
    },
    {
      "cell_type": "markdown",
      "source": [
        "No :("
      ],
      "metadata": {
        "id": "b0M7z6NjiiFp"
      }
    },
    {
      "cell_type": "code",
      "source": [
        "params = torch.tensor([0.0, 0.0], requires_grad=True)\n",
        "learning_rate = 0.304\n",
        "\n",
        "optimizer = torch.optim.SGD([params], lr=learning_rate)     # we initialize our optimizer,\n",
        "                                                            # and we pass the parameters we want to optimize as a list of Torch tensors\n",
        "\n",
        "                                                            # in this case sgd we will be full batched (so not very stochastic)\n",
        "                                                            # we will see how to divide the dataset in batches next lesson\n",
        "\n",
        "losses = []\n",
        "EPOCHS = 4000\n",
        "\n",
        "for epoch in range(EPOCHS):\n",
        "\n",
        "  loss = mse(model(x, params), y)\n",
        "  losses.append(float(loss))\n",
        "\n",
        "  optimizer.zero_grad()   # setting gradients to zero\n",
        "  loss.backward()         # computes the gradients\n",
        "  optimizer.step()        # sgd step"
      ],
      "metadata": {
        "id": "guUcY9k6D2Th"
      },
      "execution_count": 39,
      "outputs": []
    },
    {
      "cell_type": "code",
      "source": [
        "params"
      ],
      "metadata": {
        "colab": {
          "base_uri": "https://localhost:8080/"
        },
        "outputId": "14034636-4f53-4ffb-c037-87a35952e81c",
        "id": "1dWf30c-D2UC"
      },
      "execution_count": 40,
      "outputs": [
        {
          "output_type": "execute_result",
          "data": {
            "text/plain": [
              "tensor([-3.9379e+19, -2.5423e+19], requires_grad=True)"
            ]
          },
          "metadata": {},
          "execution_count": 40
        }
      ]
    },
    {
      "cell_type": "code",
      "source": [
        "plt.plot(losses)\n",
        "\n",
        "plt.xlabel(\"Epochs\")\n",
        "plt.ylabel(\"MSELoss\")\n",
        "\n",
        "plt.hlines(y=float(best_mse), xmin = 0, xmax = len(losses) + 1, color = \"red\", linestyles = \"-.\")\n",
        "\n",
        "plt.yscale(\"log\")"
      ],
      "metadata": {
        "colab": {
          "base_uri": "https://localhost:8080/",
          "height": 449
        },
        "outputId": "5ca8b705-cd21-45ba-af61-c0683058cac1",
        "id": "xI9eikjxD2UE"
      },
      "execution_count": 41,
      "outputs": [
        {
          "output_type": "display_data",
          "data": {
            "text/plain": [
              "<Figure size 640x480 with 1 Axes>"
            ],
            "image/png": "[encoded data removed]"
          },
          "metadata": {}
        }
      ]
    },
    {
      "cell_type": "markdown",
      "source": [
        "# A Real Dataset"
      ],
      "metadata": {
        "id": "jsjW9YJBlGUp"
      }
    },
    {
      "cell_type": "markdown",
      "source": [
        "**Exercise 5:** try to implement a linear regression with this dataset (you can use gradient-based methods or the analytical solution)"
      ],
      "metadata": {
        "id": "d_f9b5HuSYuy"
      }
    },
    {
      "cell_type": "code",
      "source": [
        "from sklearn.datasets import load_diabetes\n",
        "diabetes = load_diabetes()"
      ],
      "metadata": {
        "id": "eZLi2EP4lHee"
      },
      "execution_count": 42,
      "outputs": []
    },
    {
      "cell_type": "code",
      "source": [
        "# we import the diabetes dataset\n",
        "\n",
        "X = torch.tensor(diabetes.data, dtype = torch.float)\n",
        "y = torch.tensor(diabetes.target, dtype = torch.float)\n",
        "\n",
        "y = y / y.max()"
      ],
      "metadata": {
        "id": "TWlDjZd2SUbO"
      },
      "execution_count": 43,
      "outputs": []
    },
    {
      "cell_type": "code",
      "source": [
        "# HINT: what parametrs do you need for a linear regression?\n",
        "\n",
        "def linear_regression(x, w, b):\n",
        "\n",
        "  return X @ w + b"
      ],
      "metadata": {
        "id": "x2V_Jc08pyGu"
      },
      "execution_count": 44,
      "outputs": []
    },
    {
      "cell_type": "code",
      "source": [
        "w = torch.zeros(X.shape[1], dtype = torch.float, requires_grad = True)\n",
        "b = torch.zeros(1, dtype = torch.float, requires_grad = True)\n",
        "\n",
        "learning_rate = 1e-2\n",
        "\n",
        "EPOCHS = 100\n",
        "\n",
        "optimizer =  torch.optim.SGD([w, b], lr=learning_rate)\n",
        "\n",
        "losses = []\n",
        "\n",
        "for epoch in range(EPOCHS):\n",
        "\n",
        "  loss = mse(linear_regression(x, w, b), y)\n",
        "  losses.append(float(loss))\n",
        "\n",
        "  optimizer.zero_grad()   # setting gradients to zero\n",
        "  loss.backward()         # computes the gradients\n",
        "  optimizer.step()        # sgd step\n"
      ],
      "metadata": {
        "id": "Oq2216segxE-"
      },
      "execution_count": 45,
      "outputs": []
    },
    {
      "cell_type": "code",
      "source": [
        "plt.plot(losses)\n",
        "\n",
        "plt.xlabel(\"Epochs\")\n",
        "plt.ylabel(\"MSELoss\")\n",
        "\n",
        "plt.yscale(\"log\")"
      ],
      "metadata": {
        "colab": {
          "base_uri": "https://localhost:8080/",
          "height": 449
        },
        "id": "sJy2-BDll_U9",
        "outputId": "ab4436bb-2ff6-4a4c-ab88-c948f58e5981"
      },
      "execution_count": 46,
      "outputs": [
        {
          "output_type": "display_data",
          "data": {
            "text/plain": [
              "<Figure size 640x480 with 1 Axes>"
            ],
            "image/png": "[encoded data removed]"
          },
          "metadata": {}
        }
      ]
    },
    {
      "cell_type": "markdown",
      "source": [
        "# A Neural Network from (almost) scratch"
      ],
      "metadata": {
        "id": "xVq9nv65pNS4"
      }
    },
    {
      "cell_type": "markdown",
      "source": [
        "**Exercise 6 (optional):** try to implement a one hidden layer fully-connected neural network (without using torch.nn modules)"
      ],
      "metadata": {
        "id": "rqN_I_iEoBa2"
      }
    },
    {
      "cell_type": "code",
      "source": [
        "# we can define functions to use as activations\n",
        "\n",
        "def sigmoid(x):\n",
        "\n",
        "  return 1. / (1 + torch.exp(-x))"
      ],
      "metadata": {
        "id": "4hbOiXuphoDT"
      },
      "execution_count": 47,
      "outputs": []
    },
    {
      "cell_type": "code",
      "source": [
        "# we encapsulate all parameters and methods in a class\n",
        "\n",
        "\n",
        "class NeuralNetwork():\n",
        "\n",
        "  def __init__(self, input_size, hidden_size):\n",
        "\n",
        "    self.input_size = input_size\n",
        "    self.hidden_size = hidden_size\n",
        "\n",
        "    #we now need to initialize all the parameters of our network\n",
        "\n",
        "    self.w1 = torch.randn(size=(input_size, hidden_size), requires_grad = True)\n",
        "    self.bias1 = torch.zeros(hidden_size, requires_grad = True)\n",
        "    self.w2 = torch.randn(size=(hidden_size, 1), requires_grad = True)\n",
        "    self.bias2 = torch.zeros(1, requires_grad = True)\n",
        "\n",
        "  def parameters(self):\n",
        "\n",
        "    #this method is used to pass all the model parameters to the optimizer\n",
        "\n",
        "    return [self.w1, self.bias1, self.w2, self.bias2]\n",
        "\n",
        "  def __call__(self, x):\n",
        "\n",
        "    #this method is called when predicting some samples\n",
        "\n",
        "    h = x @ self.w1 + self.bias1\n",
        "    h = sigmoid(h)\n",
        "\n",
        "    return h @ self.w2 + self.bias2"
      ],
      "metadata": {
        "id": "VFYyQzgiSjVq"
      },
      "execution_count": 48,
      "outputs": []
    },
    {
      "cell_type": "code",
      "source": [
        "n_net = NeuralNetwork(input_size = X.shape[1], hidden_size = 3)\n",
        "\n",
        "n_net(X[:10])"
      ],
      "metadata": {
        "colab": {
          "base_uri": "https://localhost:8080/"
        },
        "id": "Dieo9L8sozDZ",
        "outputId": "39e5b14e-11fc-460a-c051-8ae4b79fa33f"
      },
      "execution_count": 49,
      "outputs": [
        {
          "output_type": "execute_result",
          "data": {
            "text/plain": [
              "tensor([[0.5329],\n",
              "        [0.5283],\n",
              "        [0.5498],\n",
              "        [0.5133],\n",
              "        [0.5146],\n",
              "        [0.4708],\n",
              "        [0.5152],\n",
              "        [0.5888],\n",
              "        [0.5663],\n",
              "        [0.5032]], grad_fn=<AddBackward0>)"
            ]
          },
          "metadata": {},
          "execution_count": 49
        }
      ]
    },
    {
      "cell_type": "code",
      "source": [
        "learning_rate = 1e-2\n",
        "\n",
        "EPOCHS = 100\n",
        "\n",
        "optimizer = torch.optim.Adam(n_net.parameters(), lr=learning_rate)\n",
        "\n",
        "losses = []\n",
        "\n",
        "for epoch in range(EPOCHS):\n",
        "\n",
        "  loss = mse(n_net(X), y)\n",
        "  losses.append(float(loss))\n",
        "\n",
        "  optimizer.zero_grad()   # setting gradients to zero\n",
        "  loss.backward()         # computes the gradients\n",
        "  optimizer.step()        # sgd step"
      ],
      "metadata": {
        "id": "to9Q0kkbgS2c"
      },
      "execution_count": 50,
      "outputs": []
    },
    {
      "cell_type": "code",
      "source": [
        "plt.plot(losses)\n",
        "plt.xlabel(\"Epochs\")\n",
        "plt.ylabel(\"MSELoss\")\n",
        "\n",
        "plt.yscale(\"log\")"
      ],
      "metadata": {
        "colab": {
          "base_uri": "https://localhost:8080/",
          "height": 449
        },
        "id": "05jb2I0ZqDY-",
        "outputId": "3fd4a7d1-6f8a-40ff-ae87-9d771cc134b1"
      },
      "execution_count": 51,
      "outputs": [
        {
          "output_type": "display_data",
          "data": {
            "text/plain": [
              "<Figure size 640x480 with 1 Axes>"
            ],
            "image/png": "[encoded data removed]"
          },
          "metadata": {}
        }
      ]
    },
    {
      "cell_type": "markdown",
      "source": [
        "*© 2024. This work is openly licensed via [CC BY-NC-SA 4.0 DEED](https://creativecommons.org/licenses/by-nc-sa/4.0/)*"
      ],
      "metadata": {
        "id": "DaRVaa8o9Dim"
      }
    },
    {
      "cell_type": "markdown",
      "source": [
        "*Comics used in the notebooks are from [xkcd.com](https://xkcd.com), and are licensed under the Creative Commons Attribution-NonCommercial 2.5 license.*\n",
        "\n",
        "*Details and usage notes can be found at [xkcd.com/license.html](https://xkcd.com/license.html).*"
      ],
      "metadata": {
        "id": "XXNqPzEDjytw"
      }
    }
  ]
}